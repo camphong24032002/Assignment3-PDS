{
  "cells": [
    {
      "cell_type": "code",
      "execution_count": 1,
      "metadata": {
        "id": "iRrLPWJsbT59"
      },
      "outputs": [],
      "source": [
        "import matplotlib.pyplot as plt\n",
        "import seaborn as sns \n",
        "import pandas as pd\n",
        "import numpy as np\n",
        "import seaborn as sns\n",
        "\n",
        "from sklearn.model_selection import train_test_split, GridSearchCV, KFold\n",
        "from sklearn.preprocessing import OneHotEncoder, StandardScaler, MinMaxScaler, LabelEncoder\n",
        "from sklearn.impute import SimpleImputer\n",
        "from sklearn.base import BaseEstimator, TransformerMixin\n",
        "from sklearn.pipeline import Pipeline, make_pipeline\n",
        "from sklearn.compose import ColumnTransformer, make_column_transformer\n",
        "from sklearn.neural_network import MLPClassifier\n",
        "from sklearn.neighbors import LocalOutlierFactor\n",
        "from sklearn.tree import DecisionTreeClassifier\n",
        "from sklearn.tree import export_text\n",
        "from sklearn import set_config\n",
        "from sklearn.metrics import accuracy_score\n",
        "from sklearn.feature_selection import f_regression, f_classif, mutual_info_classif, chi2, SelectKBest\n",
        "set_config(display='diagram')"
      ]
    },
    {
      "cell_type": "markdown",
      "metadata": {
        "id": "JADIe9qjOJzE"
      },
      "source": [
        "## **Read data from UCI dataset**"
      ]
    },
    {
      "cell_type": "code",
      "execution_count": 2,
      "metadata": {
        "colab": {
          "base_uri": "https://localhost:8080/",
          "height": 270
        },
        "id": "uWL0_Q6IbzOh",
        "outputId": "95637c11-68f8-4577-c8d8-e2ecca270792"
      },
      "outputs": [
        {
          "data": {
            "text/html": [
              "<div>\n",
              "<style scoped>\n",
              "    .dataframe tbody tr th:only-of-type {\n",
              "        vertical-align: middle;\n",
              "    }\n",
              "\n",
              "    .dataframe tbody tr th {\n",
              "        vertical-align: top;\n",
              "    }\n",
              "\n",
              "    .dataframe thead th {\n",
              "        text-align: right;\n",
              "    }\n",
              "</style>\n",
              "<table border=\"1\" class=\"dataframe\">\n",
              "  <thead>\n",
              "    <tr style=\"text-align: right;\">\n",
              "      <th></th>\n",
              "      <th>Administrative</th>\n",
              "      <th>Administrative_Duration</th>\n",
              "      <th>Informational</th>\n",
              "      <th>Informational_Duration</th>\n",
              "      <th>ProductRelated</th>\n",
              "      <th>ProductRelated_Duration</th>\n",
              "      <th>BounceRates</th>\n",
              "      <th>ExitRates</th>\n",
              "      <th>PageValues</th>\n",
              "      <th>SpecialDay</th>\n",
              "      <th>Month</th>\n",
              "      <th>OperatingSystems</th>\n",
              "      <th>Browser</th>\n",
              "      <th>Region</th>\n",
              "      <th>TrafficType</th>\n",
              "      <th>VisitorType</th>\n",
              "      <th>Weekend</th>\n",
              "      <th>Revenue</th>\n",
              "    </tr>\n",
              "  </thead>\n",
              "  <tbody>\n",
              "    <tr>\n",
              "      <th>0</th>\n",
              "      <td>0</td>\n",
              "      <td>0.0</td>\n",
              "      <td>0</td>\n",
              "      <td>0.0</td>\n",
              "      <td>1</td>\n",
              "      <td>0.000000</td>\n",
              "      <td>0.20</td>\n",
              "      <td>0.20</td>\n",
              "      <td>0.0</td>\n",
              "      <td>0.0</td>\n",
              "      <td>Feb</td>\n",
              "      <td>1</td>\n",
              "      <td>1</td>\n",
              "      <td>1</td>\n",
              "      <td>1</td>\n",
              "      <td>Returning_Visitor</td>\n",
              "      <td>False</td>\n",
              "      <td>False</td>\n",
              "    </tr>\n",
              "    <tr>\n",
              "      <th>1</th>\n",
              "      <td>0</td>\n",
              "      <td>0.0</td>\n",
              "      <td>0</td>\n",
              "      <td>0.0</td>\n",
              "      <td>2</td>\n",
              "      <td>64.000000</td>\n",
              "      <td>0.00</td>\n",
              "      <td>0.10</td>\n",
              "      <td>0.0</td>\n",
              "      <td>0.0</td>\n",
              "      <td>Feb</td>\n",
              "      <td>2</td>\n",
              "      <td>2</td>\n",
              "      <td>1</td>\n",
              "      <td>2</td>\n",
              "      <td>Returning_Visitor</td>\n",
              "      <td>False</td>\n",
              "      <td>False</td>\n",
              "    </tr>\n",
              "    <tr>\n",
              "      <th>2</th>\n",
              "      <td>0</td>\n",
              "      <td>0.0</td>\n",
              "      <td>0</td>\n",
              "      <td>0.0</td>\n",
              "      <td>1</td>\n",
              "      <td>0.000000</td>\n",
              "      <td>0.20</td>\n",
              "      <td>0.20</td>\n",
              "      <td>0.0</td>\n",
              "      <td>0.0</td>\n",
              "      <td>Feb</td>\n",
              "      <td>4</td>\n",
              "      <td>1</td>\n",
              "      <td>9</td>\n",
              "      <td>3</td>\n",
              "      <td>Returning_Visitor</td>\n",
              "      <td>False</td>\n",
              "      <td>False</td>\n",
              "    </tr>\n",
              "    <tr>\n",
              "      <th>3</th>\n",
              "      <td>0</td>\n",
              "      <td>0.0</td>\n",
              "      <td>0</td>\n",
              "      <td>0.0</td>\n",
              "      <td>2</td>\n",
              "      <td>2.666667</td>\n",
              "      <td>0.05</td>\n",
              "      <td>0.14</td>\n",
              "      <td>0.0</td>\n",
              "      <td>0.0</td>\n",
              "      <td>Feb</td>\n",
              "      <td>3</td>\n",
              "      <td>2</td>\n",
              "      <td>2</td>\n",
              "      <td>4</td>\n",
              "      <td>Returning_Visitor</td>\n",
              "      <td>False</td>\n",
              "      <td>False</td>\n",
              "    </tr>\n",
              "    <tr>\n",
              "      <th>4</th>\n",
              "      <td>0</td>\n",
              "      <td>0.0</td>\n",
              "      <td>0</td>\n",
              "      <td>0.0</td>\n",
              "      <td>10</td>\n",
              "      <td>627.500000</td>\n",
              "      <td>0.02</td>\n",
              "      <td>0.05</td>\n",
              "      <td>0.0</td>\n",
              "      <td>0.0</td>\n",
              "      <td>Feb</td>\n",
              "      <td>3</td>\n",
              "      <td>3</td>\n",
              "      <td>1</td>\n",
              "      <td>4</td>\n",
              "      <td>Returning_Visitor</td>\n",
              "      <td>True</td>\n",
              "      <td>False</td>\n",
              "    </tr>\n",
              "  </tbody>\n",
              "</table>\n",
              "</div>"
            ],
            "text/plain": [
              "   Administrative  Administrative_Duration  Informational  \\\n",
              "0               0                      0.0              0   \n",
              "1               0                      0.0              0   \n",
              "2               0                      0.0              0   \n",
              "3               0                      0.0              0   \n",
              "4               0                      0.0              0   \n",
              "\n",
              "   Informational_Duration  ProductRelated  ProductRelated_Duration  \\\n",
              "0                     0.0               1                 0.000000   \n",
              "1                     0.0               2                64.000000   \n",
              "2                     0.0               1                 0.000000   \n",
              "3                     0.0               2                 2.666667   \n",
              "4                     0.0              10               627.500000   \n",
              "\n",
              "   BounceRates  ExitRates  PageValues  SpecialDay Month  OperatingSystems  \\\n",
              "0         0.20       0.20         0.0         0.0   Feb                 1   \n",
              "1         0.00       0.10         0.0         0.0   Feb                 2   \n",
              "2         0.20       0.20         0.0         0.0   Feb                 4   \n",
              "3         0.05       0.14         0.0         0.0   Feb                 3   \n",
              "4         0.02       0.05         0.0         0.0   Feb                 3   \n",
              "\n",
              "   Browser  Region  TrafficType        VisitorType  Weekend  Revenue  \n",
              "0        1       1            1  Returning_Visitor    False    False  \n",
              "1        2       1            2  Returning_Visitor    False    False  \n",
              "2        1       9            3  Returning_Visitor    False    False  \n",
              "3        2       2            4  Returning_Visitor    False    False  \n",
              "4        3       1            4  Returning_Visitor     True    False  "
            ]
          },
          "execution_count": 2,
          "metadata": {},
          "output_type": "execute_result"
        }
      ],
      "source": [
        "df = pd.read_csv('https://archive.ics.uci.edu/ml/machine-learning-databases/00468/online_shoppers_intention.csv', sep=',')\n",
        "df.head()"
      ]
    },
    {
      "cell_type": "code",
      "execution_count": 3,
      "metadata": {
        "colab": {
          "base_uri": "https://localhost:8080/"
        },
        "id": "ltKkOXAvgya3",
        "outputId": "3af465aa-6607-4214-b09f-5306a88ee1bf"
      },
      "outputs": [
        {
          "data": {
            "text/plain": [
              "Administrative               int64\n",
              "Administrative_Duration    float64\n",
              "Informational                int64\n",
              "Informational_Duration     float64\n",
              "ProductRelated               int64\n",
              "ProductRelated_Duration    float64\n",
              "BounceRates                float64\n",
              "ExitRates                  float64\n",
              "PageValues                 float64\n",
              "SpecialDay                 float64\n",
              "Month                       object\n",
              "OperatingSystems             int64\n",
              "Browser                      int64\n",
              "Region                       int64\n",
              "TrafficType                  int64\n",
              "VisitorType                 object\n",
              "Weekend                       bool\n",
              "Revenue                       bool\n",
              "dtype: object"
            ]
          },
          "execution_count": 3,
          "metadata": {},
          "output_type": "execute_result"
        }
      ],
      "source": [
        "df.dtypes"
      ]
    },
    {
      "cell_type": "markdown",
      "metadata": {
        "id": "sULhr6j_Q6Gd"
      },
      "source": [
        "After reviewing, we have made decision on the feature of `Revenue` as our targets to research in this campain."
      ]
    },
    {
      "cell_type": "code",
      "execution_count": 4,
      "metadata": {
        "colab": {
          "base_uri": "https://localhost:8080/"
        },
        "id": "BWp7-pSJhyad",
        "outputId": "cc9a27d7-d3b9-47b1-a289-fd0335872f32"
      },
      "outputs": [
        {
          "data": {
            "text/plain": [
              "False    10422\n",
              "True      1908\n",
              "Name: Revenue, dtype: int64"
            ]
          },
          "execution_count": 4,
          "metadata": {},
          "output_type": "execute_result"
        }
      ],
      "source": [
        "df['Revenue'].value_counts()"
      ]
    },
    {
      "attachments": {},
      "cell_type": "markdown",
      "metadata": {
        "id": "EVov5y_IRMEb"
      },
      "source": [
        "Below, we would refer to split the data set into train set and test set with ratio of (75%, 25%) of data set. Moreover, from the train set, we continue spliting a part of it for validation set with ratio of (75%, 25%) of train set."
      ]
    },
    {
      "cell_type": "code",
      "execution_count": 5,
      "metadata": {
        "id": "_I6aBKXbO2QO"
      },
      "outputs": [],
      "source": [
        "df, test_df = train_test_split(df, test_size=0.25, random_state=0)\n",
        "train_df, val_df = train_test_split(df, test_size=0.25, random_state=0)"
      ]
    },
    {
      "cell_type": "code",
      "execution_count": 6,
      "metadata": {
        "colab": {
          "base_uri": "https://localhost:8080/"
        },
        "id": "NyiuG5tFO3Tx",
        "outputId": "5012cc69-47a5-4075-97af-d3cd63e5f8f5"
      },
      "outputs": [
        {
          "name": "stdout",
          "output_type": "stream",
          "text": [
            "Train set shape: (6935, 18)\n",
            "Validate set shape: (2312, 18)\n",
            "Test set shape: (3083, 18)\n"
          ]
        }
      ],
      "source": [
        "print(f\"Train set shape: {train_df.shape}\")\n",
        "print(f\"Validate set shape: {val_df.shape}\")\n",
        "print(f\"Test set shape: {test_df.shape}\")"
      ]
    },
    {
      "cell_type": "markdown",
      "metadata": {
        "id": "_xvrbaGvQcVw"
      },
      "source": [
        "We just `randome_state` the `train_test_split` to make the training process more efficient in general."
      ]
    },
    {
      "cell_type": "code",
      "execution_count": 7,
      "metadata": {
        "colab": {
          "base_uri": "https://localhost:8080/"
        },
        "id": "9pFv-coSQ0XL",
        "outputId": "18d039eb-755c-442d-8a33-13f40ec85207"
      },
      "outputs": [
        {
          "data": {
            "text/plain": [
              "Int64Index([3271, 10384, 5126, 6650, 11485], dtype='int64')"
            ]
          },
          "execution_count": 7,
          "metadata": {},
          "output_type": "execute_result"
        }
      ],
      "source": [
        "train_df.head().index"
      ]
    },
    {
      "cell_type": "code",
      "execution_count": 8,
      "metadata": {
        "colab": {
          "base_uri": "https://localhost:8080/",
          "height": 270
        },
        "id": "5_qRSDHTXpmd",
        "outputId": "de2eac1f-70a4-42d5-9679-814ac2d079e3"
      },
      "outputs": [
        {
          "data": {
            "text/html": [
              "<div>\n",
              "<style scoped>\n",
              "    .dataframe tbody tr th:only-of-type {\n",
              "        vertical-align: middle;\n",
              "    }\n",
              "\n",
              "    .dataframe tbody tr th {\n",
              "        vertical-align: top;\n",
              "    }\n",
              "\n",
              "    .dataframe thead th {\n",
              "        text-align: right;\n",
              "    }\n",
              "</style>\n",
              "<table border=\"1\" class=\"dataframe\">\n",
              "  <thead>\n",
              "    <tr style=\"text-align: right;\">\n",
              "      <th></th>\n",
              "      <th>Administrative</th>\n",
              "      <th>Administrative_Duration</th>\n",
              "      <th>Informational</th>\n",
              "      <th>Informational_Duration</th>\n",
              "      <th>ProductRelated</th>\n",
              "      <th>ProductRelated_Duration</th>\n",
              "      <th>BounceRates</th>\n",
              "      <th>ExitRates</th>\n",
              "      <th>PageValues</th>\n",
              "      <th>SpecialDay</th>\n",
              "      <th>Month</th>\n",
              "      <th>OperatingSystems</th>\n",
              "      <th>Browser</th>\n",
              "      <th>Region</th>\n",
              "      <th>TrafficType</th>\n",
              "      <th>VisitorType</th>\n",
              "      <th>Weekend</th>\n",
              "      <th>Revenue</th>\n",
              "    </tr>\n",
              "  </thead>\n",
              "  <tbody>\n",
              "    <tr>\n",
              "      <th>3271</th>\n",
              "      <td>7</td>\n",
              "      <td>89.900000</td>\n",
              "      <td>3</td>\n",
              "      <td>84.0</td>\n",
              "      <td>58</td>\n",
              "      <td>2787.250000</td>\n",
              "      <td>0.000000</td>\n",
              "      <td>0.007716</td>\n",
              "      <td>98.042626</td>\n",
              "      <td>0.0</td>\n",
              "      <td>May</td>\n",
              "      <td>2</td>\n",
              "      <td>2</td>\n",
              "      <td>1</td>\n",
              "      <td>2</td>\n",
              "      <td>Returning_Visitor</td>\n",
              "      <td>False</td>\n",
              "      <td>False</td>\n",
              "    </tr>\n",
              "    <tr>\n",
              "      <th>10384</th>\n",
              "      <td>9</td>\n",
              "      <td>137.322222</td>\n",
              "      <td>1</td>\n",
              "      <td>418.5</td>\n",
              "      <td>41</td>\n",
              "      <td>1933.244444</td>\n",
              "      <td>0.006079</td>\n",
              "      <td>0.021222</td>\n",
              "      <td>0.000000</td>\n",
              "      <td>0.0</td>\n",
              "      <td>Dec</td>\n",
              "      <td>2</td>\n",
              "      <td>2</td>\n",
              "      <td>1</td>\n",
              "      <td>2</td>\n",
              "      <td>Returning_Visitor</td>\n",
              "      <td>False</td>\n",
              "      <td>False</td>\n",
              "    </tr>\n",
              "    <tr>\n",
              "      <th>5126</th>\n",
              "      <td>0</td>\n",
              "      <td>0.000000</td>\n",
              "      <td>0</td>\n",
              "      <td>0.0</td>\n",
              "      <td>43</td>\n",
              "      <td>703.833333</td>\n",
              "      <td>0.000000</td>\n",
              "      <td>0.006977</td>\n",
              "      <td>0.000000</td>\n",
              "      <td>0.0</td>\n",
              "      <td>May</td>\n",
              "      <td>2</td>\n",
              "      <td>4</td>\n",
              "      <td>1</td>\n",
              "      <td>2</td>\n",
              "      <td>Returning_Visitor</td>\n",
              "      <td>False</td>\n",
              "      <td>False</td>\n",
              "    </tr>\n",
              "    <tr>\n",
              "      <th>6650</th>\n",
              "      <td>1</td>\n",
              "      <td>20.200000</td>\n",
              "      <td>0</td>\n",
              "      <td>0.0</td>\n",
              "      <td>77</td>\n",
              "      <td>3107.173333</td>\n",
              "      <td>0.002597</td>\n",
              "      <td>0.017042</td>\n",
              "      <td>18.748602</td>\n",
              "      <td>0.0</td>\n",
              "      <td>Sep</td>\n",
              "      <td>2</td>\n",
              "      <td>2</td>\n",
              "      <td>7</td>\n",
              "      <td>1</td>\n",
              "      <td>Returning_Visitor</td>\n",
              "      <td>False</td>\n",
              "      <td>True</td>\n",
              "    </tr>\n",
              "    <tr>\n",
              "      <th>11485</th>\n",
              "      <td>0</td>\n",
              "      <td>0.000000</td>\n",
              "      <td>0</td>\n",
              "      <td>0.0</td>\n",
              "      <td>30</td>\n",
              "      <td>1285.166667</td>\n",
              "      <td>0.002759</td>\n",
              "      <td>0.022660</td>\n",
              "      <td>0.000000</td>\n",
              "      <td>0.0</td>\n",
              "      <td>Nov</td>\n",
              "      <td>3</td>\n",
              "      <td>3</td>\n",
              "      <td>1</td>\n",
              "      <td>8</td>\n",
              "      <td>Returning_Visitor</td>\n",
              "      <td>True</td>\n",
              "      <td>False</td>\n",
              "    </tr>\n",
              "  </tbody>\n",
              "</table>\n",
              "</div>"
            ],
            "text/plain": [
              "       Administrative  Administrative_Duration  Informational  \\\n",
              "3271                7                89.900000              3   \n",
              "10384               9               137.322222              1   \n",
              "5126                0                 0.000000              0   \n",
              "6650                1                20.200000              0   \n",
              "11485               0                 0.000000              0   \n",
              "\n",
              "       Informational_Duration  ProductRelated  ProductRelated_Duration  \\\n",
              "3271                     84.0              58              2787.250000   \n",
              "10384                   418.5              41              1933.244444   \n",
              "5126                      0.0              43               703.833333   \n",
              "6650                      0.0              77              3107.173333   \n",
              "11485                     0.0              30              1285.166667   \n",
              "\n",
              "       BounceRates  ExitRates  PageValues  SpecialDay Month  OperatingSystems  \\\n",
              "3271      0.000000   0.007716   98.042626         0.0   May                 2   \n",
              "10384     0.006079   0.021222    0.000000         0.0   Dec                 2   \n",
              "5126      0.000000   0.006977    0.000000         0.0   May                 2   \n",
              "6650      0.002597   0.017042   18.748602         0.0   Sep                 2   \n",
              "11485     0.002759   0.022660    0.000000         0.0   Nov                 3   \n",
              "\n",
              "       Browser  Region  TrafficType        VisitorType  Weekend  Revenue  \n",
              "3271         2       1            2  Returning_Visitor    False    False  \n",
              "10384        2       1            2  Returning_Visitor    False    False  \n",
              "5126         4       1            2  Returning_Visitor    False    False  \n",
              "6650         2       7            1  Returning_Visitor    False     True  \n",
              "11485        3       1            8  Returning_Visitor     True    False  "
            ]
          },
          "execution_count": 8,
          "metadata": {},
          "output_type": "execute_result"
        }
      ],
      "source": [
        "train_df.head()"
      ]
    },
    {
      "cell_type": "code",
      "execution_count": 9,
      "metadata": {},
      "outputs": [],
      "source": [
        "cate_cols = train_df.columns[-8:]\n",
        "nume_cols = train_df.columns.drop(cate_cols)"
      ]
    },
    {
      "attachments": {},
      "cell_type": "markdown",
      "metadata": {},
      "source": [
        "### Identify outliers"
      ]
    },
    {
      "cell_type": "code",
      "execution_count": 10,
      "metadata": {},
      "outputs": [
        {
          "data": {
            "text/html": [
              "<div>\n",
              "<style scoped>\n",
              "    .dataframe tbody tr th:only-of-type {\n",
              "        vertical-align: middle;\n",
              "    }\n",
              "\n",
              "    .dataframe tbody tr th {\n",
              "        vertical-align: top;\n",
              "    }\n",
              "\n",
              "    .dataframe thead th {\n",
              "        text-align: right;\n",
              "    }\n",
              "</style>\n",
              "<table border=\"1\" class=\"dataframe\">\n",
              "  <thead>\n",
              "    <tr style=\"text-align: right;\">\n",
              "      <th></th>\n",
              "      <th>Administrative</th>\n",
              "      <th>Administrative_Duration</th>\n",
              "      <th>Informational</th>\n",
              "      <th>Informational_Duration</th>\n",
              "      <th>ProductRelated</th>\n",
              "      <th>ProductRelated_Duration</th>\n",
              "      <th>BounceRates</th>\n",
              "      <th>ExitRates</th>\n",
              "      <th>PageValues</th>\n",
              "      <th>SpecialDay</th>\n",
              "      <th>OperatingSystems</th>\n",
              "      <th>Browser</th>\n",
              "      <th>Region</th>\n",
              "      <th>TrafficType</th>\n",
              "    </tr>\n",
              "  </thead>\n",
              "  <tbody>\n",
              "    <tr>\n",
              "      <th>count</th>\n",
              "      <td>9247.000000</td>\n",
              "      <td>9247.000000</td>\n",
              "      <td>9247.000000</td>\n",
              "      <td>9247.000000</td>\n",
              "      <td>9247.000000</td>\n",
              "      <td>9247.000000</td>\n",
              "      <td>9247.000000</td>\n",
              "      <td>9247.000000</td>\n",
              "      <td>9247.000000</td>\n",
              "      <td>9247.000000</td>\n",
              "      <td>9247.000000</td>\n",
              "      <td>9247.000000</td>\n",
              "      <td>9247.000000</td>\n",
              "      <td>9247.000000</td>\n",
              "    </tr>\n",
              "    <tr>\n",
              "      <th>mean</th>\n",
              "      <td>2.317725</td>\n",
              "      <td>82.191815</td>\n",
              "      <td>0.499513</td>\n",
              "      <td>33.715256</td>\n",
              "      <td>31.792149</td>\n",
              "      <td>1194.550816</td>\n",
              "      <td>0.022387</td>\n",
              "      <td>0.043220</td>\n",
              "      <td>5.783374</td>\n",
              "      <td>0.061815</td>\n",
              "      <td>2.127501</td>\n",
              "      <td>2.362388</td>\n",
              "      <td>3.164161</td>\n",
              "      <td>4.094950</td>\n",
              "    </tr>\n",
              "    <tr>\n",
              "      <th>std</th>\n",
              "      <td>3.310203</td>\n",
              "      <td>182.657364</td>\n",
              "      <td>1.275052</td>\n",
              "      <td>140.574715</td>\n",
              "      <td>44.871329</td>\n",
              "      <td>1961.423881</td>\n",
              "      <td>0.048841</td>\n",
              "      <td>0.048798</td>\n",
              "      <td>18.258968</td>\n",
              "      <td>0.199509</td>\n",
              "      <td>0.922164</td>\n",
              "      <td>1.718090</td>\n",
              "      <td>2.411012</td>\n",
              "      <td>4.051937</td>\n",
              "    </tr>\n",
              "    <tr>\n",
              "      <th>min</th>\n",
              "      <td>0.000000</td>\n",
              "      <td>0.000000</td>\n",
              "      <td>0.000000</td>\n",
              "      <td>0.000000</td>\n",
              "      <td>0.000000</td>\n",
              "      <td>0.000000</td>\n",
              "      <td>0.000000</td>\n",
              "      <td>0.000000</td>\n",
              "      <td>0.000000</td>\n",
              "      <td>0.000000</td>\n",
              "      <td>1.000000</td>\n",
              "      <td>1.000000</td>\n",
              "      <td>1.000000</td>\n",
              "      <td>1.000000</td>\n",
              "    </tr>\n",
              "    <tr>\n",
              "      <th>25%</th>\n",
              "      <td>0.000000</td>\n",
              "      <td>0.000000</td>\n",
              "      <td>0.000000</td>\n",
              "      <td>0.000000</td>\n",
              "      <td>7.000000</td>\n",
              "      <td>180.500000</td>\n",
              "      <td>0.000000</td>\n",
              "      <td>0.014286</td>\n",
              "      <td>0.000000</td>\n",
              "      <td>0.000000</td>\n",
              "      <td>2.000000</td>\n",
              "      <td>2.000000</td>\n",
              "      <td>1.000000</td>\n",
              "      <td>2.000000</td>\n",
              "    </tr>\n",
              "    <tr>\n",
              "      <th>50%</th>\n",
              "      <td>1.000000</td>\n",
              "      <td>8.000000</td>\n",
              "      <td>0.000000</td>\n",
              "      <td>0.000000</td>\n",
              "      <td>18.000000</td>\n",
              "      <td>588.366667</td>\n",
              "      <td>0.002985</td>\n",
              "      <td>0.025421</td>\n",
              "      <td>0.000000</td>\n",
              "      <td>0.000000</td>\n",
              "      <td>2.000000</td>\n",
              "      <td>2.000000</td>\n",
              "      <td>3.000000</td>\n",
              "      <td>2.000000</td>\n",
              "    </tr>\n",
              "    <tr>\n",
              "      <th>75%</th>\n",
              "      <td>4.000000</td>\n",
              "      <td>94.000000</td>\n",
              "      <td>0.000000</td>\n",
              "      <td>0.000000</td>\n",
              "      <td>38.000000</td>\n",
              "      <td>1473.495833</td>\n",
              "      <td>0.017058</td>\n",
              "      <td>0.050000</td>\n",
              "      <td>0.000000</td>\n",
              "      <td>0.000000</td>\n",
              "      <td>3.000000</td>\n",
              "      <td>2.000000</td>\n",
              "      <td>4.000000</td>\n",
              "      <td>4.000000</td>\n",
              "    </tr>\n",
              "    <tr>\n",
              "      <th>max</th>\n",
              "      <td>27.000000</td>\n",
              "      <td>3398.750000</td>\n",
              "      <td>24.000000</td>\n",
              "      <td>2549.375000</td>\n",
              "      <td>705.000000</td>\n",
              "      <td>63973.522230</td>\n",
              "      <td>0.200000</td>\n",
              "      <td>0.200000</td>\n",
              "      <td>360.953384</td>\n",
              "      <td>1.000000</td>\n",
              "      <td>8.000000</td>\n",
              "      <td>13.000000</td>\n",
              "      <td>9.000000</td>\n",
              "      <td>20.000000</td>\n",
              "    </tr>\n",
              "  </tbody>\n",
              "</table>\n",
              "</div>"
            ],
            "text/plain": [
              "       Administrative  Administrative_Duration  Informational  \\\n",
              "count     9247.000000              9247.000000    9247.000000   \n",
              "mean         2.317725                82.191815       0.499513   \n",
              "std          3.310203               182.657364       1.275052   \n",
              "min          0.000000                 0.000000       0.000000   \n",
              "25%          0.000000                 0.000000       0.000000   \n",
              "50%          1.000000                 8.000000       0.000000   \n",
              "75%          4.000000                94.000000       0.000000   \n",
              "max         27.000000              3398.750000      24.000000   \n",
              "\n",
              "       Informational_Duration  ProductRelated  ProductRelated_Duration  \\\n",
              "count             9247.000000     9247.000000              9247.000000   \n",
              "mean                33.715256       31.792149              1194.550816   \n",
              "std                140.574715       44.871329              1961.423881   \n",
              "min                  0.000000        0.000000                 0.000000   \n",
              "25%                  0.000000        7.000000               180.500000   \n",
              "50%                  0.000000       18.000000               588.366667   \n",
              "75%                  0.000000       38.000000              1473.495833   \n",
              "max               2549.375000      705.000000             63973.522230   \n",
              "\n",
              "       BounceRates    ExitRates   PageValues   SpecialDay  OperatingSystems  \\\n",
              "count  9247.000000  9247.000000  9247.000000  9247.000000       9247.000000   \n",
              "mean      0.022387     0.043220     5.783374     0.061815          2.127501   \n",
              "std       0.048841     0.048798    18.258968     0.199509          0.922164   \n",
              "min       0.000000     0.000000     0.000000     0.000000          1.000000   \n",
              "25%       0.000000     0.014286     0.000000     0.000000          2.000000   \n",
              "50%       0.002985     0.025421     0.000000     0.000000          2.000000   \n",
              "75%       0.017058     0.050000     0.000000     0.000000          3.000000   \n",
              "max       0.200000     0.200000   360.953384     1.000000          8.000000   \n",
              "\n",
              "           Browser       Region  TrafficType  \n",
              "count  9247.000000  9247.000000  9247.000000  \n",
              "mean      2.362388     3.164161     4.094950  \n",
              "std       1.718090     2.411012     4.051937  \n",
              "min       1.000000     1.000000     1.000000  \n",
              "25%       2.000000     1.000000     2.000000  \n",
              "50%       2.000000     3.000000     2.000000  \n",
              "75%       2.000000     4.000000     4.000000  \n",
              "max      13.000000     9.000000    20.000000  "
            ]
          },
          "execution_count": 10,
          "metadata": {},
          "output_type": "execute_result"
        }
      ],
      "source": [
        "df.describe()"
      ]
    },
    {
      "attachments": {},
      "cell_type": "markdown",
      "metadata": {},
      "source": [
        "* Interquartile Range Method"
      ]
    },
    {
      "cell_type": "code",
      "execution_count": 11,
      "metadata": {},
      "outputs": [
        {
          "name": "stdout",
          "output_type": "stream",
          "text": [
            "Percentage of outliers: 56.41%\n"
          ]
        }
      ],
      "source": [
        "Q1 = train_df[nume_cols].quantile(0.25)\n",
        "Q3 = train_df[nume_cols].quantile(0.75)\n",
        "IQR = Q3 - Q1\n",
        "\n",
        "outlier_iqr_df = train_df[~((train_df[nume_cols] < (Q1 - 1.5 * IQR)) | (train_df[nume_cols] > (Q3 + 1.5 * IQR))).any(axis=1)]\n",
        "print(f'Percentage of outliers: {round((1-outlier_iqr_df.shape[0]/train_df.shape[0])*100, 2)}%')"
      ]
    },
    {
      "attachments": {},
      "cell_type": "markdown",
      "metadata": {},
      "source": [
        "This method made us surprised that the outliers claim too high percentage so we need to visualize them"
      ]
    },
    {
      "cell_type": "code",
      "execution_count": 12,
      "metadata": {},
      "outputs": [
        {
          "data": {
            "image/png": "[encoded data removed]",
            "text/plain": [
              "<Figure size 1440x720 with 10 Axes>"
            ]
          },
          "metadata": {
            "needs_background": "light"
          },
          "output_type": "display_data"
        }
      ],
      "source": [
        "fig, axes = plt.subplots(2, 5, figsize=(20, 10))\n",
        "for index in range(len(nume_cols)):\n",
        "    row, col = index // 5, index % 5\n",
        "    train_df.boxplot(nume_cols[index], ax = axes[row, col], fontsize=10) \n",
        "plt.show()"
      ]
    },
    {
      "attachments": {},
      "cell_type": "markdown",
      "metadata": {},
      "source": [
        "Look at the graph, we can see that each numerical column contains too many outliers that we can not remove them because it can affect the result"
      ]
    },
    {
      "cell_type": "code",
      "execution_count": 13,
      "metadata": {},
      "outputs": [
        {
          "name": "stdout",
          "output_type": "stream",
          "text": [
            "Percentage of outliers: 18.59%\n"
          ]
        }
      ],
      "source": [
        "data_mean, data_std = np.mean(train_df[nume_cols], axis=0), np.std(train_df[nume_cols])\n",
        "cut_off = data_std * 3\n",
        "lower, upper = data_mean - cut_off, data_mean + cut_off\n",
        "outlier_std_df = train_df[~((train_df[nume_cols] < lower) | (train_df[nume_cols] > upper)).any(axis=1)]\n",
        "print(f'Percentage of outliers: {round((1-outlier_std_df.shape[0]/train_df.shape[0])*100, 2)}%')"
      ]
    },
    {
      "attachments": {},
      "cell_type": "markdown",
      "metadata": {},
      "source": [
        "The percentage of outliers is so high that we wonder whether the values are outliers. We intend to use another method so as to handle."
      ]
    },
    {
      "cell_type": "code",
      "execution_count": 14,
      "metadata": {},
      "outputs": [
        {
          "name": "stdout",
          "output_type": "stream",
          "text": [
            "Percentage of outliers: 9.52%\n"
          ]
        }
      ],
      "source": [
        "lof = LocalOutlierFactor()\n",
        "yhat = lof.fit_predict(train_df[nume_cols])\n",
        "mask = yhat != -1\n",
        "outlier_aod_df = train_df.iloc[mask]\n",
        "print(f'Percentage of outliers: {round((1-outlier_aod_df.shape[0]/train_df.shape[0])*100, 2)}%')"
      ]
    },
    {
      "attachments": {},
      "cell_type": "markdown",
      "metadata": {},
      "source": [
        "<b>We can see that there are too many outliers existed in the dataset. We wonder whether they have their own meaning so we decide to ignore them.</b>"
      ]
    },
    {
      "attachments": {},
      "cell_type": "markdown",
      "metadata": {},
      "source": [
        "### d) Check duplicates"
      ]
    },
    {
      "cell_type": "code",
      "execution_count": 15,
      "metadata": {},
      "outputs": [
        {
          "name": "stdout",
          "output_type": "stream",
          "text": [
            "There are 48 duplicate(s) in the train set and it claims 0.69%\n"
          ]
        }
      ],
      "source": [
        "duplicates = train_df.shape[0] - train_df.drop_duplicates().shape[0]\n",
        "print(f'There are {duplicates} duplicate(s) in the train set and it claims {round(duplicates*100/train_df.shape[0],2)}%')"
      ]
    },
    {
      "attachments": {},
      "cell_type": "markdown",
      "metadata": {},
      "source": [
        "The dataset contains some duplicates so we decide to remove them"
      ]
    },
    {
      "cell_type": "code",
      "execution_count": 16,
      "metadata": {},
      "outputs": [],
      "source": [
        "train_df.drop_duplicates(inplace=True)"
      ]
    },
    {
      "attachments": {},
      "cell_type": "markdown",
      "metadata": {},
      "source": [
        "### e) Check category columns"
      ]
    },
    {
      "cell_type": "code",
      "execution_count": 17,
      "metadata": {},
      "outputs": [
        {
          "name": "stdout",
          "output_type": "stream",
          "text": [
            "Month: ['May' 'Dec' 'Sep' 'Nov' 'Mar' 'June' 'Jul' 'Oct' 'Aug' 'Feb']\n",
            "OperatingSystems: [2 3 1 4 8 6 5 7]\n",
            "Browser: [ 2  4  3  1  6  5 10 13  8  7 12 11  9]\n",
            "Region: [1 7 6 8 4 3 9 2 5]\n",
            "TrafficType: [ 2  1  8  4  6  3 13 20  5 11  7 10 15  9 14 19 12 18 16]\n",
            "VisitorType: ['Returning_Visitor' 'New_Visitor' 'Other']\n",
            "Weekend: [False  True]\n",
            "Revenue: [False  True]\n"
          ]
        }
      ],
      "source": [
        "for col in cate_cols:\n",
        "    print(f'{col}: {train_df[col].unique()}')"
      ]
    },
    {
      "attachments": {},
      "cell_type": "markdown",
      "metadata": {},
      "source": [
        "After checking by hand, we see that the data is quite correct so we do not need to repair.\n",
        "In order to handle conveniently, we will encode which columns are not number to number later "
      ]
    },
    {
      "attachments": {},
      "cell_type": "markdown",
      "metadata": {},
      "source": [
        "# Task 2: Feature Engineering"
      ]
    },
    {
      "attachments": {},
      "cell_type": "markdown",
      "metadata": {},
      "source": [
        "To find the correlation of each features, we should encode the object values to number in order to handle"
      ]
    },
    {
      "cell_type": "code",
      "execution_count": 18,
      "metadata": {},
      "outputs": [
        {
          "data": {
            "text/html": [
              "<div>\n",
              "<style scoped>\n",
              "    .dataframe tbody tr th:only-of-type {\n",
              "        vertical-align: middle;\n",
              "    }\n",
              "\n",
              "    .dataframe tbody tr th {\n",
              "        vertical-align: top;\n",
              "    }\n",
              "\n",
              "    .dataframe thead th {\n",
              "        text-align: right;\n",
              "    }\n",
              "</style>\n",
              "<table border=\"1\" class=\"dataframe\">\n",
              "  <thead>\n",
              "    <tr style=\"text-align: right;\">\n",
              "      <th></th>\n",
              "      <th>Administrative</th>\n",
              "      <th>Administrative_Duration</th>\n",
              "      <th>Informational</th>\n",
              "      <th>Informational_Duration</th>\n",
              "      <th>ProductRelated</th>\n",
              "      <th>ProductRelated_Duration</th>\n",
              "      <th>BounceRates</th>\n",
              "      <th>ExitRates</th>\n",
              "      <th>PageValues</th>\n",
              "      <th>SpecialDay</th>\n",
              "      <th>Month</th>\n",
              "      <th>OperatingSystems</th>\n",
              "      <th>Browser</th>\n",
              "      <th>Region</th>\n",
              "      <th>TrafficType</th>\n",
              "      <th>VisitorType</th>\n",
              "      <th>Weekend</th>\n",
              "      <th>Revenue</th>\n",
              "    </tr>\n",
              "  </thead>\n",
              "  <tbody>\n",
              "    <tr>\n",
              "      <th>3271</th>\n",
              "      <td>7</td>\n",
              "      <td>89.900000</td>\n",
              "      <td>3</td>\n",
              "      <td>84.0</td>\n",
              "      <td>58</td>\n",
              "      <td>2787.250000</td>\n",
              "      <td>0.000000</td>\n",
              "      <td>0.007716</td>\n",
              "      <td>98.042626</td>\n",
              "      <td>0.0</td>\n",
              "      <td>6</td>\n",
              "      <td>2</td>\n",
              "      <td>2</td>\n",
              "      <td>1</td>\n",
              "      <td>2</td>\n",
              "      <td>2</td>\n",
              "      <td>0</td>\n",
              "      <td>0</td>\n",
              "    </tr>\n",
              "    <tr>\n",
              "      <th>10384</th>\n",
              "      <td>9</td>\n",
              "      <td>137.322222</td>\n",
              "      <td>1</td>\n",
              "      <td>418.5</td>\n",
              "      <td>41</td>\n",
              "      <td>1933.244444</td>\n",
              "      <td>0.006079</td>\n",
              "      <td>0.021222</td>\n",
              "      <td>0.000000</td>\n",
              "      <td>0.0</td>\n",
              "      <td>1</td>\n",
              "      <td>2</td>\n",
              "      <td>2</td>\n",
              "      <td>1</td>\n",
              "      <td>2</td>\n",
              "      <td>2</td>\n",
              "      <td>0</td>\n",
              "      <td>0</td>\n",
              "    </tr>\n",
              "    <tr>\n",
              "      <th>5126</th>\n",
              "      <td>0</td>\n",
              "      <td>0.000000</td>\n",
              "      <td>0</td>\n",
              "      <td>0.0</td>\n",
              "      <td>43</td>\n",
              "      <td>703.833333</td>\n",
              "      <td>0.000000</td>\n",
              "      <td>0.006977</td>\n",
              "      <td>0.000000</td>\n",
              "      <td>0.0</td>\n",
              "      <td>6</td>\n",
              "      <td>2</td>\n",
              "      <td>4</td>\n",
              "      <td>1</td>\n",
              "      <td>2</td>\n",
              "      <td>2</td>\n",
              "      <td>0</td>\n",
              "      <td>0</td>\n",
              "    </tr>\n",
              "    <tr>\n",
              "      <th>6650</th>\n",
              "      <td>1</td>\n",
              "      <td>20.200000</td>\n",
              "      <td>0</td>\n",
              "      <td>0.0</td>\n",
              "      <td>77</td>\n",
              "      <td>3107.173333</td>\n",
              "      <td>0.002597</td>\n",
              "      <td>0.017042</td>\n",
              "      <td>18.748602</td>\n",
              "      <td>0.0</td>\n",
              "      <td>9</td>\n",
              "      <td>2</td>\n",
              "      <td>2</td>\n",
              "      <td>7</td>\n",
              "      <td>1</td>\n",
              "      <td>2</td>\n",
              "      <td>0</td>\n",
              "      <td>1</td>\n",
              "    </tr>\n",
              "    <tr>\n",
              "      <th>11485</th>\n",
              "      <td>0</td>\n",
              "      <td>0.000000</td>\n",
              "      <td>0</td>\n",
              "      <td>0.0</td>\n",
              "      <td>30</td>\n",
              "      <td>1285.166667</td>\n",
              "      <td>0.002759</td>\n",
              "      <td>0.022660</td>\n",
              "      <td>0.000000</td>\n",
              "      <td>0.0</td>\n",
              "      <td>7</td>\n",
              "      <td>3</td>\n",
              "      <td>3</td>\n",
              "      <td>1</td>\n",
              "      <td>8</td>\n",
              "      <td>2</td>\n",
              "      <td>1</td>\n",
              "      <td>0</td>\n",
              "    </tr>\n",
              "  </tbody>\n",
              "</table>\n",
              "</div>"
            ],
            "text/plain": [
              "       Administrative  Administrative_Duration  Informational  \\\n",
              "3271                7                89.900000              3   \n",
              "10384               9               137.322222              1   \n",
              "5126                0                 0.000000              0   \n",
              "6650                1                20.200000              0   \n",
              "11485               0                 0.000000              0   \n",
              "\n",
              "       Informational_Duration  ProductRelated  ProductRelated_Duration  \\\n",
              "3271                     84.0              58              2787.250000   \n",
              "10384                   418.5              41              1933.244444   \n",
              "5126                      0.0              43               703.833333   \n",
              "6650                      0.0              77              3107.173333   \n",
              "11485                     0.0              30              1285.166667   \n",
              "\n",
              "       BounceRates  ExitRates  PageValues  SpecialDay  Month  \\\n",
              "3271      0.000000   0.007716   98.042626         0.0      6   \n",
              "10384     0.006079   0.021222    0.000000         0.0      1   \n",
              "5126      0.000000   0.006977    0.000000         0.0      6   \n",
              "6650      0.002597   0.017042   18.748602         0.0      9   \n",
              "11485     0.002759   0.022660    0.000000         0.0      7   \n",
              "\n",
              "       OperatingSystems  Browser  Region  TrafficType  VisitorType  Weekend  \\\n",
              "3271                  2        2       1            2            2        0   \n",
              "10384                 2        2       1            2            2        0   \n",
              "5126                  2        4       1            2            2        0   \n",
              "6650                  2        2       7            1            2        0   \n",
              "11485                 3        3       1            8            2        1   \n",
              "\n",
              "       Revenue  \n",
              "3271         0  \n",
              "10384        0  \n",
              "5126         0  \n",
              "6650         1  \n",
              "11485        0  "
            ]
          },
          "execution_count": 18,
          "metadata": {},
          "output_type": "execute_result"
        }
      ],
      "source": [
        "encode_df = train_df.copy()\n",
        "LE = LabelEncoder()\n",
        "obj_cols = train_df.select_dtypes(['bool', 'object'])\n",
        "for col in obj_cols:\n",
        "    encode_df[col] = LE.fit_transform(encode_df[col])\n",
        "encode_df.head()"
      ]
    },
    {
      "cell_type": "code",
      "execution_count": 19,
      "metadata": {},
      "outputs": [
        {
          "data": {
            "text/plain": [
              "(6887, 18)"
            ]
          },
          "execution_count": 19,
          "metadata": {},
          "output_type": "execute_result"
        }
      ],
      "source": [
        "encode_df.shape"
      ]
    },
    {
      "cell_type": "code",
      "execution_count": 20,
      "metadata": {},
      "outputs": [
        {
          "name": "stdout",
          "output_type": "stream",
          "text": [
            "                    Feature          Score\n",
            "5   ProductRelated_Duration  471437.755664\n",
            "8                PageValues   95348.280205\n",
            "1   Administrative_Duration   30451.873728\n",
            "3    Informational_Duration   15668.826600\n",
            "4            ProductRelated   10431.320555\n",
            "0            Administrative     635.007361\n",
            "2             Informational     189.924354\n",
            "10                    Month      42.441125\n",
            "9                SpecialDay      32.747646\n",
            "15              VisitorType      26.170121\n"
          ]
        }
      ],
      "source": [
        "best_features = SelectKBest(score_func=chi2, k=7)\n",
        "X = encode_df.drop(['Revenue'], axis=1)\n",
        "y = encode_df['Revenue']\n",
        "fit = best_features.fit(X, y)\n",
        "scores_df = pd.DataFrame(fit.scores_)\n",
        "columns_df = pd.DataFrame(X.columns)\n",
        "featureScores = pd.concat([columns_df, scores_df],axis=1)\n",
        "featureScores.columns = ['Feature', 'Score']\n",
        "print(featureScores.nlargest(10, 'Score'))"
      ]
    },
    {
      "attachments": {},
      "cell_type": "markdown",
      "metadata": {},
      "source": [
        "<p>We assume that top 7 most correlative with Revenue column will be appropriate for the model.</p>"
      ]
    },
    {
      "attachments": {},
      "cell_type": "markdown",
      "metadata": {},
      "source": [
        "# Data Modelling"
      ]
    },
    {
      "cell_type": "code",
      "execution_count": 21,
      "metadata": {},
      "outputs": [],
      "source": [
        "train_X_df = train_df.drop(['Revenue'], axis=1)\n",
        "train_y_sr = train_df['Revenue']\n",
        "val_X_df = val_df.drop(['Revenue'], axis=1)\n",
        "val_y_sr = val_df['Revenue']\n",
        "test_X_df = test_df.drop(['Revenue'], axis=1)\n",
        "test_y_sr = test_df['Revenue']\n",
        "cate_cols = cate_cols.drop(['Revenue'])"
      ]
    },
    {
      "cell_type": "code",
      "execution_count": 22,
      "metadata": {},
      "outputs": [],
      "source": [
        "class ColAdderDropper(BaseEstimator, TransformerMixin):\n",
        "    def __init__(self, columns_list=[], num_top_values_list=[], default=-1):\n",
        "        self.num_top_values_list = num_top_values_list\n",
        "        self.columns_list = columns_list\n",
        "        self.default = default\n",
        "\n",
        "    def getLogicNumberTopValue(self, X_df, column):\n",
        "        counts = X_df[column].value_counts()\n",
        "        return sum([1 for value in list(counts.values) if value>(1*max(list(counts.values))/100)])\n",
        "\n",
        "    def reprocessing_data(self, X_df):\n",
        "        self.columns_list = [column for column in self.columns_list if len(X_df[column].value_counts())>=5]\n",
        "        if len(self.num_top_values_list)==0:\n",
        "            self.num_top_values_list = [self.getLogicNumberTopValue(X_df, column) for column in self.columns_list]\n",
        "\n",
        "    def fit(self, X_df, y=None):\n",
        "        self.reprocessing_data(X_df)\n",
        "        self.top_values_list = []\n",
        "\n",
        "        for column, num_top_values in zip(self.columns_list, self.num_top_values_list):\n",
        "            self.counts_ = X_df[column].value_counts()\n",
        "            ids = list(self.counts_.index)\n",
        "            self.top_values_list.append(ids[:max(1, min(num_top_values, len(ids)))])\n",
        "        return self\n",
        "    \n",
        "    def transform(self, X_df, y=None):\n",
        "        out_df = X_df.copy()\n",
        "        for top_value, column in zip(self.top_values_list, self.columns_list):\n",
        "            out_df.loc[~out_df[column].isin(top_value), column] = self.default\n",
        "            out_df = out_df.sort_index(axis=1)\n",
        "        return out_df"
      ]
    },
    {
      "attachments": {},
      "cell_type": "markdown",
      "metadata": {},
      "source": [
        "<p>Some category columns have too many categories that will affect the model. So, we choose which columns that have more than 5 categories to process</p>"
      ]
    },
    {
      "cell_type": "code",
      "execution_count": 23,
      "metadata": {},
      "outputs": [
        {
          "data": {
            "text/html": [
              "<div>\n",
              "<style scoped>\n",
              "    .dataframe tbody tr th:only-of-type {\n",
              "        vertical-align: middle;\n",
              "    }\n",
              "\n",
              "    .dataframe tbody tr th {\n",
              "        vertical-align: top;\n",
              "    }\n",
              "\n",
              "    .dataframe thead th {\n",
              "        text-align: right;\n",
              "    }\n",
              "</style>\n",
              "<table border=\"1\" class=\"dataframe\">\n",
              "  <thead>\n",
              "    <tr style=\"text-align: right;\">\n",
              "      <th></th>\n",
              "      <th>Administrative</th>\n",
              "      <th>Administrative_Duration</th>\n",
              "      <th>BounceRates</th>\n",
              "      <th>Browser</th>\n",
              "      <th>ExitRates</th>\n",
              "      <th>Informational</th>\n",
              "      <th>Informational_Duration</th>\n",
              "      <th>Month</th>\n",
              "      <th>OperatingSystems</th>\n",
              "      <th>PageValues</th>\n",
              "      <th>ProductRelated</th>\n",
              "      <th>ProductRelated_Duration</th>\n",
              "      <th>Region</th>\n",
              "      <th>SpecialDay</th>\n",
              "      <th>TrafficType</th>\n",
              "      <th>VisitorType</th>\n",
              "      <th>Weekend</th>\n",
              "    </tr>\n",
              "  </thead>\n",
              "  <tbody>\n",
              "    <tr>\n",
              "      <th>3271</th>\n",
              "      <td>7</td>\n",
              "      <td>89.900000</td>\n",
              "      <td>0.000000</td>\n",
              "      <td>2</td>\n",
              "      <td>0.007716</td>\n",
              "      <td>3</td>\n",
              "      <td>84.0</td>\n",
              "      <td>May</td>\n",
              "      <td>2</td>\n",
              "      <td>98.042626</td>\n",
              "      <td>58</td>\n",
              "      <td>2787.250000</td>\n",
              "      <td>1</td>\n",
              "      <td>0.0</td>\n",
              "      <td>2</td>\n",
              "      <td>Returning_Visitor</td>\n",
              "      <td>False</td>\n",
              "    </tr>\n",
              "    <tr>\n",
              "      <th>10384</th>\n",
              "      <td>9</td>\n",
              "      <td>137.322222</td>\n",
              "      <td>0.006079</td>\n",
              "      <td>2</td>\n",
              "      <td>0.021222</td>\n",
              "      <td>1</td>\n",
              "      <td>418.5</td>\n",
              "      <td>Dec</td>\n",
              "      <td>2</td>\n",
              "      <td>0.000000</td>\n",
              "      <td>41</td>\n",
              "      <td>1933.244444</td>\n",
              "      <td>1</td>\n",
              "      <td>0.0</td>\n",
              "      <td>2</td>\n",
              "      <td>Returning_Visitor</td>\n",
              "      <td>False</td>\n",
              "    </tr>\n",
              "    <tr>\n",
              "      <th>5126</th>\n",
              "      <td>0</td>\n",
              "      <td>0.000000</td>\n",
              "      <td>0.000000</td>\n",
              "      <td>4</td>\n",
              "      <td>0.006977</td>\n",
              "      <td>0</td>\n",
              "      <td>0.0</td>\n",
              "      <td>May</td>\n",
              "      <td>2</td>\n",
              "      <td>0.000000</td>\n",
              "      <td>43</td>\n",
              "      <td>703.833333</td>\n",
              "      <td>1</td>\n",
              "      <td>0.0</td>\n",
              "      <td>2</td>\n",
              "      <td>Returning_Visitor</td>\n",
              "      <td>False</td>\n",
              "    </tr>\n",
              "    <tr>\n",
              "      <th>6650</th>\n",
              "      <td>1</td>\n",
              "      <td>20.200000</td>\n",
              "      <td>0.002597</td>\n",
              "      <td>2</td>\n",
              "      <td>0.017042</td>\n",
              "      <td>0</td>\n",
              "      <td>0.0</td>\n",
              "      <td>Sep</td>\n",
              "      <td>2</td>\n",
              "      <td>18.748602</td>\n",
              "      <td>77</td>\n",
              "      <td>3107.173333</td>\n",
              "      <td>7</td>\n",
              "      <td>0.0</td>\n",
              "      <td>1</td>\n",
              "      <td>Returning_Visitor</td>\n",
              "      <td>False</td>\n",
              "    </tr>\n",
              "    <tr>\n",
              "      <th>11485</th>\n",
              "      <td>0</td>\n",
              "      <td>0.000000</td>\n",
              "      <td>0.002759</td>\n",
              "      <td>3</td>\n",
              "      <td>0.022660</td>\n",
              "      <td>0</td>\n",
              "      <td>0.0</td>\n",
              "      <td>Nov</td>\n",
              "      <td>3</td>\n",
              "      <td>0.000000</td>\n",
              "      <td>30</td>\n",
              "      <td>1285.166667</td>\n",
              "      <td>1</td>\n",
              "      <td>0.0</td>\n",
              "      <td>8</td>\n",
              "      <td>Returning_Visitor</td>\n",
              "      <td>True</td>\n",
              "    </tr>\n",
              "  </tbody>\n",
              "</table>\n",
              "</div>"
            ],
            "text/plain": [
              "       Administrative  Administrative_Duration  BounceRates  Browser  \\\n",
              "3271                7                89.900000     0.000000        2   \n",
              "10384               9               137.322222     0.006079        2   \n",
              "5126                0                 0.000000     0.000000        4   \n",
              "6650                1                20.200000     0.002597        2   \n",
              "11485               0                 0.000000     0.002759        3   \n",
              "\n",
              "       ExitRates  Informational  Informational_Duration Month  \\\n",
              "3271    0.007716              3                    84.0   May   \n",
              "10384   0.021222              1                   418.5   Dec   \n",
              "5126    0.006977              0                     0.0   May   \n",
              "6650    0.017042              0                     0.0   Sep   \n",
              "11485   0.022660              0                     0.0   Nov   \n",
              "\n",
              "       OperatingSystems  PageValues  ProductRelated  ProductRelated_Duration  \\\n",
              "3271                  2   98.042626              58              2787.250000   \n",
              "10384                 2    0.000000              41              1933.244444   \n",
              "5126                  2    0.000000              43               703.833333   \n",
              "6650                  2   18.748602              77              3107.173333   \n",
              "11485                 3    0.000000              30              1285.166667   \n",
              "\n",
              "       Region  SpecialDay  TrafficType        VisitorType  Weekend  \n",
              "3271        1         0.0            2  Returning_Visitor    False  \n",
              "10384       1         0.0            2  Returning_Visitor    False  \n",
              "5126        1         0.0            2  Returning_Visitor    False  \n",
              "6650        7         0.0            1  Returning_Visitor    False  \n",
              "11485       1         0.0            8  Returning_Visitor     True  "
            ]
          },
          "execution_count": 23,
          "metadata": {},
          "output_type": "execute_result"
        }
      ],
      "source": [
        "col_adderdropper = ColAdderDropper(columns_list=cate_cols)\n",
        "col_adderdropper.fit(train_X_df)\n",
        "new_train_X_df = col_adderdropper.transform(train_X_df)\n",
        "new_train_X_df.head()"
      ]
    },
    {
      "attachments": {},
      "cell_type": "markdown",
      "metadata": {},
      "source": [
        "<h3>Preprocessing Pipeline</h3>"
      ]
    },
    {
      "attachments": {},
      "cell_type": "markdown",
      "metadata": {},
      "source": [
        "- `Preprocessing`: in here, input data would be treated by seperating into numeric and categorical data. After spliting, both of them would be fill up **Missing Values** with the MEAN for the numeric and MOST_FREQUENCY for categorical. In addition, categorical would be encoding by `OneHotEncoder`."
      ]
    },
    {
      "cell_type": "code",
      "execution_count": 24,
      "metadata": {},
      "outputs": [
        {
          "data": {
            "text/html": [
              "<style>#sk-container-id-1 {color: black;background-color: white;}#sk-container-id-1 pre{padding: 0;}#sk-container-id-1 div.sk-toggleable {background-color: white;}#sk-container-id-1 label.sk-toggleable__label {cursor: pointer;display: block;width: 100%;margin-bottom: 0;padding: 0.3em;box-sizing: border-box;text-align: center;}#sk-container-id-1 label.sk-toggleable__label-arrow:before {content: \"▸\";float: left;margin-right: 0.25em;color: #696969;}#sk-container-id-1 label.sk-toggleable__label-arrow:hover:before {color: black;}#sk-container-id-1 div.sk-estimator:hover label.sk-toggleable__label-arrow:before {color: black;}#sk-container-id-1 div.sk-toggleable__content {max-height: 0;max-width: 0;overflow: hidden;text-align: left;background-color: #f0f8ff;}#sk-container-id-1 div.sk-toggleable__content pre {margin: 0.2em;color: black;border-radius: 0.25em;background-color: #f0f8ff;}#sk-container-id-1 input.sk-toggleable__control:checked~div.sk-toggleable__content {max-height: 200px;max-width: 100%;overflow: auto;}#sk-container-id-1 input.sk-toggleable__control:checked~label.sk-toggleable__label-arrow:before {content: \"▾\";}#sk-container-id-1 div.sk-estimator input.sk-toggleable__control:checked~label.sk-toggleable__label {background-color: #d4ebff;}#sk-container-id-1 div.sk-label input.sk-toggleable__control:checked~label.sk-toggleable__label {background-color: #d4ebff;}#sk-container-id-1 input.sk-hidden--visually {border: 0;clip: rect(1px 1px 1px 1px);clip: rect(1px, 1px, 1px, 1px);height: 1px;margin: -1px;overflow: hidden;padding: 0;position: absolute;width: 1px;}#sk-container-id-1 div.sk-estimator {font-family: monospace;background-color: #f0f8ff;border: 1px dotted black;border-radius: 0.25em;box-sizing: border-box;margin-bottom: 0.5em;}#sk-container-id-1 div.sk-estimator:hover {background-color: #d4ebff;}#sk-container-id-1 div.sk-parallel-item::after {content: \"\";width: 100%;border-bottom: 1px solid gray;flex-grow: 1;}#sk-container-id-1 div.sk-label:hover label.sk-toggleable__label {background-color: #d4ebff;}#sk-container-id-1 div.sk-serial::before {content: \"\";position: absolute;border-left: 1px solid gray;box-sizing: border-box;top: 0;bottom: 0;left: 50%;z-index: 0;}#sk-container-id-1 div.sk-serial {display: flex;flex-direction: column;align-items: center;background-color: white;padding-right: 0.2em;padding-left: 0.2em;position: relative;}#sk-container-id-1 div.sk-item {position: relative;z-index: 1;}#sk-container-id-1 div.sk-parallel {display: flex;align-items: stretch;justify-content: center;background-color: white;position: relative;}#sk-container-id-1 div.sk-item::before, #sk-container-id-1 div.sk-parallel-item::before {content: \"\";position: absolute;border-left: 1px solid gray;box-sizing: border-box;top: 0;bottom: 0;left: 50%;z-index: -1;}#sk-container-id-1 div.sk-parallel-item {display: flex;flex-direction: column;z-index: 1;position: relative;background-color: white;}#sk-container-id-1 div.sk-parallel-item:first-child::after {align-self: flex-end;width: 50%;}#sk-container-id-1 div.sk-parallel-item:last-child::after {align-self: flex-start;width: 50%;}#sk-container-id-1 div.sk-parallel-item:only-child::after {width: 0;}#sk-container-id-1 div.sk-dashed-wrapped {border: 1px dashed gray;margin: 0 0.4em 0.5em 0.4em;box-sizing: border-box;padding-bottom: 0.4em;background-color: white;}#sk-container-id-1 div.sk-label label {font-family: monospace;font-weight: bold;display: inline-block;line-height: 1.2em;}#sk-container-id-1 div.sk-label-container {text-align: center;}#sk-container-id-1 div.sk-container {/* jupyter's `normalize.less` sets `[hidden] { display: none; }` but bootstrap.min.css set `[hidden] { display: none !important; }` so we also need the `!important` here to be able to override the default hidden behavior on the sphinx rendered scikit-learn.org. See: https://github.com/scikit-learn/scikit-learn/issues/21755 */display: inline-block !important;position: relative;}#sk-container-id-1 div.sk-text-repr-fallback {display: none;}</style><div id=\"sk-container-id-1\" class=\"sk-top-container\"><div class=\"sk-text-repr-fallback\"><pre>Pipeline(steps=[(&#x27;coladderdropper&#x27;,\n",
              "                 ColAdderDropper(columns_list=[&#x27;Month&#x27;, &#x27;OperatingSystems&#x27;,\n",
              "                                               &#x27;Browser&#x27;, &#x27;Region&#x27;,\n",
              "                                               &#x27;TrafficType&#x27;],\n",
              "                                 num_top_values_list=[10, 5, 8, 9, 11])),\n",
              "                (&#x27;columntransformer&#x27;,\n",
              "                 ColumnTransformer(transformers=[(&#x27;simpleimputer&#x27;,\n",
              "                                                  SimpleImputer(),\n",
              "                                                  Index([&#x27;Administrative&#x27;, &#x27;Administrative_Duration&#x27;, &#x27;Informational&#x27;,\n",
              "       &#x27;Informational_Duration&#x27;, &#x27;ProductRel...\n",
              "       &#x27;BounceRates&#x27;, &#x27;ExitRates&#x27;, &#x27;PageValues&#x27;, &#x27;SpecialDay&#x27;],\n",
              "      dtype=&#x27;object&#x27;)),\n",
              "                                                 (&#x27;pipeline&#x27;,\n",
              "                                                  Pipeline(steps=[(&#x27;simpleimputer&#x27;,\n",
              "                                                                   SimpleImputer(strategy=&#x27;most_frequent&#x27;)),\n",
              "                                                                  (&#x27;onehotencoder&#x27;,\n",
              "                                                                   OneHotEncoder(handle_unknown=&#x27;ignore&#x27;))]),\n",
              "                                                  Index([&#x27;Month&#x27;, &#x27;OperatingSystems&#x27;, &#x27;Browser&#x27;, &#x27;Region&#x27;, &#x27;TrafficType&#x27;,\n",
              "       &#x27;VisitorType&#x27;, &#x27;Weekend&#x27;],\n",
              "      dtype=&#x27;object&#x27;))])),\n",
              "                (&#x27;standardscaler&#x27;, StandardScaler(with_mean=False))])</pre><b>In a Jupyter environment, please rerun this cell to show the HTML representation or trust the notebook. <br />On GitHub, the HTML representation is unable to render, please try loading this page with nbviewer.org.</b></div><div class=\"sk-container\" hidden><div class=\"sk-item sk-dashed-wrapped\"><div class=\"sk-label-container\"><div class=\"sk-label sk-toggleable\"><input class=\"sk-toggleable__control sk-hidden--visually\" id=\"sk-estimator-id-1\" type=\"checkbox\" ><label for=\"sk-estimator-id-1\" class=\"sk-toggleable__label sk-toggleable__label-arrow\">Pipeline</label><div class=\"sk-toggleable__content\"><pre>Pipeline(steps=[(&#x27;coladderdropper&#x27;,\n",
              "                 ColAdderDropper(columns_list=[&#x27;Month&#x27;, &#x27;OperatingSystems&#x27;,\n",
              "                                               &#x27;Browser&#x27;, &#x27;Region&#x27;,\n",
              "                                               &#x27;TrafficType&#x27;],\n",
              "                                 num_top_values_list=[10, 5, 8, 9, 11])),\n",
              "                (&#x27;columntransformer&#x27;,\n",
              "                 ColumnTransformer(transformers=[(&#x27;simpleimputer&#x27;,\n",
              "                                                  SimpleImputer(),\n",
              "                                                  Index([&#x27;Administrative&#x27;, &#x27;Administrative_Duration&#x27;, &#x27;Informational&#x27;,\n",
              "       &#x27;Informational_Duration&#x27;, &#x27;ProductRel...\n",
              "       &#x27;BounceRates&#x27;, &#x27;ExitRates&#x27;, &#x27;PageValues&#x27;, &#x27;SpecialDay&#x27;],\n",
              "      dtype=&#x27;object&#x27;)),\n",
              "                                                 (&#x27;pipeline&#x27;,\n",
              "                                                  Pipeline(steps=[(&#x27;simpleimputer&#x27;,\n",
              "                                                                   SimpleImputer(strategy=&#x27;most_frequent&#x27;)),\n",
              "                                                                  (&#x27;onehotencoder&#x27;,\n",
              "                                                                   OneHotEncoder(handle_unknown=&#x27;ignore&#x27;))]),\n",
              "                                                  Index([&#x27;Month&#x27;, &#x27;OperatingSystems&#x27;, &#x27;Browser&#x27;, &#x27;Region&#x27;, &#x27;TrafficType&#x27;,\n",
              "       &#x27;VisitorType&#x27;, &#x27;Weekend&#x27;],\n",
              "      dtype=&#x27;object&#x27;))])),\n",
              "                (&#x27;standardscaler&#x27;, StandardScaler(with_mean=False))])</pre></div></div></div><div class=\"sk-serial\"><div class=\"sk-item\"><div class=\"sk-estimator sk-toggleable\"><input class=\"sk-toggleable__control sk-hidden--visually\" id=\"sk-estimator-id-2\" type=\"checkbox\" ><label for=\"sk-estimator-id-2\" class=\"sk-toggleable__label sk-toggleable__label-arrow\">ColAdderDropper</label><div class=\"sk-toggleable__content\"><pre>ColAdderDropper(columns_list=[&#x27;Month&#x27;, &#x27;OperatingSystems&#x27;, &#x27;Browser&#x27;, &#x27;Region&#x27;,\n",
              "                              &#x27;TrafficType&#x27;],\n",
              "                num_top_values_list=[10, 5, 8, 9, 11])</pre></div></div></div><div class=\"sk-item sk-dashed-wrapped\"><div class=\"sk-label-container\"><div class=\"sk-label sk-toggleable\"><input class=\"sk-toggleable__control sk-hidden--visually\" id=\"sk-estimator-id-3\" type=\"checkbox\" ><label for=\"sk-estimator-id-3\" class=\"sk-toggleable__label sk-toggleable__label-arrow\">columntransformer: ColumnTransformer</label><div class=\"sk-toggleable__content\"><pre>ColumnTransformer(transformers=[(&#x27;simpleimputer&#x27;, SimpleImputer(),\n",
              "                                 Index([&#x27;Administrative&#x27;, &#x27;Administrative_Duration&#x27;, &#x27;Informational&#x27;,\n",
              "       &#x27;Informational_Duration&#x27;, &#x27;ProductRelated&#x27;, &#x27;ProductRelated_Duration&#x27;,\n",
              "       &#x27;BounceRates&#x27;, &#x27;ExitRates&#x27;, &#x27;PageValues&#x27;, &#x27;SpecialDay&#x27;],\n",
              "      dtype=&#x27;object&#x27;)),\n",
              "                                (&#x27;pipeline&#x27;,\n",
              "                                 Pipeline(steps=[(&#x27;simpleimputer&#x27;,\n",
              "                                                  SimpleImputer(strategy=&#x27;most_frequent&#x27;)),\n",
              "                                                 (&#x27;onehotencoder&#x27;,\n",
              "                                                  OneHotEncoder(handle_unknown=&#x27;ignore&#x27;))]),\n",
              "                                 Index([&#x27;Month&#x27;, &#x27;OperatingSystems&#x27;, &#x27;Browser&#x27;, &#x27;Region&#x27;, &#x27;TrafficType&#x27;,\n",
              "       &#x27;VisitorType&#x27;, &#x27;Weekend&#x27;],\n",
              "      dtype=&#x27;object&#x27;))])</pre></div></div></div><div class=\"sk-parallel\"><div class=\"sk-parallel-item\"><div class=\"sk-item\"><div class=\"sk-label-container\"><div class=\"sk-label sk-toggleable\"><input class=\"sk-toggleable__control sk-hidden--visually\" id=\"sk-estimator-id-4\" type=\"checkbox\" ><label for=\"sk-estimator-id-4\" class=\"sk-toggleable__label sk-toggleable__label-arrow\">simpleimputer</label><div class=\"sk-toggleable__content\"><pre>Index([&#x27;Administrative&#x27;, &#x27;Administrative_Duration&#x27;, &#x27;Informational&#x27;,\n",
              "       &#x27;Informational_Duration&#x27;, &#x27;ProductRelated&#x27;, &#x27;ProductRelated_Duration&#x27;,\n",
              "       &#x27;BounceRates&#x27;, &#x27;ExitRates&#x27;, &#x27;PageValues&#x27;, &#x27;SpecialDay&#x27;],\n",
              "      dtype=&#x27;object&#x27;)</pre></div></div></div><div class=\"sk-serial\"><div class=\"sk-item\"><div class=\"sk-estimator sk-toggleable\"><input class=\"sk-toggleable__control sk-hidden--visually\" id=\"sk-estimator-id-5\" type=\"checkbox\" ><label for=\"sk-estimator-id-5\" class=\"sk-toggleable__label sk-toggleable__label-arrow\">SimpleImputer</label><div class=\"sk-toggleable__content\"><pre>SimpleImputer()</pre></div></div></div></div></div></div><div class=\"sk-parallel-item\"><div class=\"sk-item\"><div class=\"sk-label-container\"><div class=\"sk-label sk-toggleable\"><input class=\"sk-toggleable__control sk-hidden--visually\" id=\"sk-estimator-id-6\" type=\"checkbox\" ><label for=\"sk-estimator-id-6\" class=\"sk-toggleable__label sk-toggleable__label-arrow\">pipeline</label><div class=\"sk-toggleable__content\"><pre>Index([&#x27;Month&#x27;, &#x27;OperatingSystems&#x27;, &#x27;Browser&#x27;, &#x27;Region&#x27;, &#x27;TrafficType&#x27;,\n",
              "       &#x27;VisitorType&#x27;, &#x27;Weekend&#x27;],\n",
              "      dtype=&#x27;object&#x27;)</pre></div></div></div><div class=\"sk-serial\"><div class=\"sk-item\"><div class=\"sk-serial\"><div class=\"sk-item\"><div class=\"sk-estimator sk-toggleable\"><input class=\"sk-toggleable__control sk-hidden--visually\" id=\"sk-estimator-id-7\" type=\"checkbox\" ><label for=\"sk-estimator-id-7\" class=\"sk-toggleable__label sk-toggleable__label-arrow\">SimpleImputer</label><div class=\"sk-toggleable__content\"><pre>SimpleImputer(strategy=&#x27;most_frequent&#x27;)</pre></div></div></div><div class=\"sk-item\"><div class=\"sk-estimator sk-toggleable\"><input class=\"sk-toggleable__control sk-hidden--visually\" id=\"sk-estimator-id-8\" type=\"checkbox\" ><label for=\"sk-estimator-id-8\" class=\"sk-toggleable__label sk-toggleable__label-arrow\">OneHotEncoder</label><div class=\"sk-toggleable__content\"><pre>OneHotEncoder(handle_unknown=&#x27;ignore&#x27;)</pre></div></div></div></div></div></div></div></div></div></div><div class=\"sk-item\"><div class=\"sk-estimator sk-toggleable\"><input class=\"sk-toggleable__control sk-hidden--visually\" id=\"sk-estimator-id-9\" type=\"checkbox\" ><label for=\"sk-estimator-id-9\" class=\"sk-toggleable__label sk-toggleable__label-arrow\">StandardScaler</label><div class=\"sk-toggleable__content\"><pre>StandardScaler(with_mean=False)</pre></div></div></div></div></div></div></div>"
            ],
            "text/plain": [
              "Pipeline(steps=[('coladderdropper',\n",
              "                 ColAdderDropper(columns_list=['Month', 'OperatingSystems',\n",
              "                                               'Browser', 'Region',\n",
              "                                               'TrafficType'],\n",
              "                                 num_top_values_list=[10, 5, 8, 9, 11])),\n",
              "                ('columntransformer',\n",
              "                 ColumnTransformer(transformers=[('simpleimputer',\n",
              "                                                  SimpleImputer(),\n",
              "                                                  Index(['Administrative', 'Administrative_Duration', 'Informational',\n",
              "       'Informational_Duration', 'ProductRel...\n",
              "       'BounceRates', 'ExitRates', 'PageValues', 'SpecialDay'],\n",
              "      dtype='object')),\n",
              "                                                 ('pipeline',\n",
              "                                                  Pipeline(steps=[('simpleimputer',\n",
              "                                                                   SimpleImputer(strategy='most_frequent')),\n",
              "                                                                  ('onehotencoder',\n",
              "                                                                   OneHotEncoder(handle_unknown='ignore'))]),\n",
              "                                                  Index(['Month', 'OperatingSystems', 'Browser', 'Region', 'TrafficType',\n",
              "       'VisitorType', 'Weekend'],\n",
              "      dtype='object'))])),\n",
              "                ('standardscaler', StandardScaler(with_mean=False))])"
            ]
          },
          "execution_count": 24,
          "metadata": {},
          "output_type": "execute_result"
        }
      ],
      "source": [
        "numerics_trans = SimpleImputer()\n",
        "categorical_trans=make_pipeline(\n",
        "    SimpleImputer(missing_values=np.nan, strategy='most_frequent'),\n",
        "    OneHotEncoder(handle_unknown='ignore')\n",
        ")\n",
        "\n",
        "column_trans = make_column_transformer(\n",
        "    (numerics_trans, nume_cols),\n",
        "    (categorical_trans, cate_cols)\n",
        ")\n",
        "\n",
        "preprocess_pipeline = make_pipeline(col_adderdropper, column_trans, StandardScaler(with_mean=False))\n",
        "preprocess_train_X = preprocess_pipeline.fit_transform(train_X_df)\n",
        "preprocess_pipeline"
      ]
    },
    {
      "attachments": {},
      "cell_type": "markdown",
      "metadata": {},
      "source": [
        "<h3>1st Model: Classification using Neural Network</h3>"
      ]
    },
    {
      "attachments": {},
      "cell_type": "markdown",
      "metadata": {},
      "source": [
        "Problem: With the given features, detecting the crucial ones then build up modeling for the classification of these features into Revenue-Rewards"
      ]
    },
    {
      "attachments": {},
      "cell_type": "markdown",
      "metadata": {},
      "source": [
        "Pipline architecture: Along including Preprocessing Pipeline, there are 2 more:\n",
        "- `Selecting Best Features`: in this step, data would filtered in order to reduce the dimension of data by using `Chi2-Algorithms`. The number of features kept would be defined by manually or by grid search later.\n",
        "- `MLP Classifier`: using Neural Network method, this step would start to learning through the preprocessed data and spride out the ACCURACY of this model after training."
      ]
    },
    {
      "cell_type": "code",
      "execution_count": 25,
      "metadata": {},
      "outputs": [
        {
          "data": {
            "text/html": [
              "<style>#sk-container-id-2 {color: black;background-color: white;}#sk-container-id-2 pre{padding: 0;}#sk-container-id-2 div.sk-toggleable {background-color: white;}#sk-container-id-2 label.sk-toggleable__label {cursor: pointer;display: block;width: 100%;margin-bottom: 0;padding: 0.3em;box-sizing: border-box;text-align: center;}#sk-container-id-2 label.sk-toggleable__label-arrow:before {content: \"▸\";float: left;margin-right: 0.25em;color: #696969;}#sk-container-id-2 label.sk-toggleable__label-arrow:hover:before {color: black;}#sk-container-id-2 div.sk-estimator:hover label.sk-toggleable__label-arrow:before {color: black;}#sk-container-id-2 div.sk-toggleable__content {max-height: 0;max-width: 0;overflow: hidden;text-align: left;background-color: #f0f8ff;}#sk-container-id-2 div.sk-toggleable__content pre {margin: 0.2em;color: black;border-radius: 0.25em;background-color: #f0f8ff;}#sk-container-id-2 input.sk-toggleable__control:checked~div.sk-toggleable__content {max-height: 200px;max-width: 100%;overflow: auto;}#sk-container-id-2 input.sk-toggleable__control:checked~label.sk-toggleable__label-arrow:before {content: \"▾\";}#sk-container-id-2 div.sk-estimator input.sk-toggleable__control:checked~label.sk-toggleable__label {background-color: #d4ebff;}#sk-container-id-2 div.sk-label input.sk-toggleable__control:checked~label.sk-toggleable__label {background-color: #d4ebff;}#sk-container-id-2 input.sk-hidden--visually {border: 0;clip: rect(1px 1px 1px 1px);clip: rect(1px, 1px, 1px, 1px);height: 1px;margin: -1px;overflow: hidden;padding: 0;position: absolute;width: 1px;}#sk-container-id-2 div.sk-estimator {font-family: monospace;background-color: #f0f8ff;border: 1px dotted black;border-radius: 0.25em;box-sizing: border-box;margin-bottom: 0.5em;}#sk-container-id-2 div.sk-estimator:hover {background-color: #d4ebff;}#sk-container-id-2 div.sk-parallel-item::after {content: \"\";width: 100%;border-bottom: 1px solid gray;flex-grow: 1;}#sk-container-id-2 div.sk-label:hover label.sk-toggleable__label {background-color: #d4ebff;}#sk-container-id-2 div.sk-serial::before {content: \"\";position: absolute;border-left: 1px solid gray;box-sizing: border-box;top: 0;bottom: 0;left: 50%;z-index: 0;}#sk-container-id-2 div.sk-serial {display: flex;flex-direction: column;align-items: center;background-color: white;padding-right: 0.2em;padding-left: 0.2em;position: relative;}#sk-container-id-2 div.sk-item {position: relative;z-index: 1;}#sk-container-id-2 div.sk-parallel {display: flex;align-items: stretch;justify-content: center;background-color: white;position: relative;}#sk-container-id-2 div.sk-item::before, #sk-container-id-2 div.sk-parallel-item::before {content: \"\";position: absolute;border-left: 1px solid gray;box-sizing: border-box;top: 0;bottom: 0;left: 50%;z-index: -1;}#sk-container-id-2 div.sk-parallel-item {display: flex;flex-direction: column;z-index: 1;position: relative;background-color: white;}#sk-container-id-2 div.sk-parallel-item:first-child::after {align-self: flex-end;width: 50%;}#sk-container-id-2 div.sk-parallel-item:last-child::after {align-self: flex-start;width: 50%;}#sk-container-id-2 div.sk-parallel-item:only-child::after {width: 0;}#sk-container-id-2 div.sk-dashed-wrapped {border: 1px dashed gray;margin: 0 0.4em 0.5em 0.4em;box-sizing: border-box;padding-bottom: 0.4em;background-color: white;}#sk-container-id-2 div.sk-label label {font-family: monospace;font-weight: bold;display: inline-block;line-height: 1.2em;}#sk-container-id-2 div.sk-label-container {text-align: center;}#sk-container-id-2 div.sk-container {/* jupyter's `normalize.less` sets `[hidden] { display: none; }` but bootstrap.min.css set `[hidden] { display: none !important; }` so we also need the `!important` here to be able to override the default hidden behavior on the sphinx rendered scikit-learn.org. See: https://github.com/scikit-learn/scikit-learn/issues/21755 */display: inline-block !important;position: relative;}#sk-container-id-2 div.sk-text-repr-fallback {display: none;}</style><div id=\"sk-container-id-2\" class=\"sk-top-container\"><div class=\"sk-text-repr-fallback\"><pre>Pipeline(steps=[(&#x27;preprocess&#x27;,\n",
              "                 Pipeline(steps=[(&#x27;coladderdropper&#x27;,\n",
              "                                  ColAdderDropper(columns_list=[&#x27;Month&#x27;,\n",
              "                                                                &#x27;OperatingSystems&#x27;,\n",
              "                                                                &#x27;Browser&#x27;,\n",
              "                                                                &#x27;Region&#x27;,\n",
              "                                                                &#x27;TrafficType&#x27;],\n",
              "                                                  num_top_values_list=[10, 5, 8,\n",
              "                                                                       9,\n",
              "                                                                       11])),\n",
              "                                 (&#x27;columntransformer&#x27;,\n",
              "                                  ColumnTransformer(transformers=[(&#x27;simpleimputer&#x27;,\n",
              "                                                                   SimpleImputer(),\n",
              "                                                                   Index([&#x27;Administrative&#x27;, &#x27;Administrative_Duration&#x27;, &#x27;Informational&#x27;,\n",
              "       &#x27;Infor...\n",
              "                                                                   Index([&#x27;Month&#x27;, &#x27;OperatingSystems&#x27;, &#x27;Browser&#x27;, &#x27;Region&#x27;, &#x27;TrafficType&#x27;,\n",
              "       &#x27;VisitorType&#x27;, &#x27;Weekend&#x27;],\n",
              "      dtype=&#x27;object&#x27;))])),\n",
              "                                 (&#x27;standardscaler&#x27;,\n",
              "                                  StandardScaler(with_mean=False))])),\n",
              "                (&#x27;selectkbest&#x27;,\n",
              "                 SelectKBest(score_func=&lt;function chi2 at 0x000002F9A20F27A0&gt;)),\n",
              "                (&#x27;mlpclassifier&#x27;,\n",
              "                 MLPClassifier(alpha=100, hidden_layer_sizes=50,\n",
              "                               learning_rate_init=0.05, max_iter=1000,\n",
              "                               random_state=0))])</pre><b>In a Jupyter environment, please rerun this cell to show the HTML representation or trust the notebook. <br />On GitHub, the HTML representation is unable to render, please try loading this page with nbviewer.org.</b></div><div class=\"sk-container\" hidden><div class=\"sk-item sk-dashed-wrapped\"><div class=\"sk-label-container\"><div class=\"sk-label sk-toggleable\"><input class=\"sk-toggleable__control sk-hidden--visually\" id=\"sk-estimator-id-10\" type=\"checkbox\" ><label for=\"sk-estimator-id-10\" class=\"sk-toggleable__label sk-toggleable__label-arrow\">Pipeline</label><div class=\"sk-toggleable__content\"><pre>Pipeline(steps=[(&#x27;preprocess&#x27;,\n",
              "                 Pipeline(steps=[(&#x27;coladderdropper&#x27;,\n",
              "                                  ColAdderDropper(columns_list=[&#x27;Month&#x27;,\n",
              "                                                                &#x27;OperatingSystems&#x27;,\n",
              "                                                                &#x27;Browser&#x27;,\n",
              "                                                                &#x27;Region&#x27;,\n",
              "                                                                &#x27;TrafficType&#x27;],\n",
              "                                                  num_top_values_list=[10, 5, 8,\n",
              "                                                                       9,\n",
              "                                                                       11])),\n",
              "                                 (&#x27;columntransformer&#x27;,\n",
              "                                  ColumnTransformer(transformers=[(&#x27;simpleimputer&#x27;,\n",
              "                                                                   SimpleImputer(),\n",
              "                                                                   Index([&#x27;Administrative&#x27;, &#x27;Administrative_Duration&#x27;, &#x27;Informational&#x27;,\n",
              "       &#x27;Infor...\n",
              "                                                                   Index([&#x27;Month&#x27;, &#x27;OperatingSystems&#x27;, &#x27;Browser&#x27;, &#x27;Region&#x27;, &#x27;TrafficType&#x27;,\n",
              "       &#x27;VisitorType&#x27;, &#x27;Weekend&#x27;],\n",
              "      dtype=&#x27;object&#x27;))])),\n",
              "                                 (&#x27;standardscaler&#x27;,\n",
              "                                  StandardScaler(with_mean=False))])),\n",
              "                (&#x27;selectkbest&#x27;,\n",
              "                 SelectKBest(score_func=&lt;function chi2 at 0x000002F9A20F27A0&gt;)),\n",
              "                (&#x27;mlpclassifier&#x27;,\n",
              "                 MLPClassifier(alpha=100, hidden_layer_sizes=50,\n",
              "                               learning_rate_init=0.05, max_iter=1000,\n",
              "                               random_state=0))])</pre></div></div></div><div class=\"sk-serial\"><div class=\"sk-item\"><div class=\"sk-label-container\"><div class=\"sk-label sk-toggleable\"><input class=\"sk-toggleable__control sk-hidden--visually\" id=\"sk-estimator-id-11\" type=\"checkbox\" ><label for=\"sk-estimator-id-11\" class=\"sk-toggleable__label sk-toggleable__label-arrow\">preprocess: Pipeline</label><div class=\"sk-toggleable__content\"><pre>Pipeline(steps=[(&#x27;coladderdropper&#x27;,\n",
              "                 ColAdderDropper(columns_list=[&#x27;Month&#x27;, &#x27;OperatingSystems&#x27;,\n",
              "                                               &#x27;Browser&#x27;, &#x27;Region&#x27;,\n",
              "                                               &#x27;TrafficType&#x27;],\n",
              "                                 num_top_values_list=[10, 5, 8, 9, 11])),\n",
              "                (&#x27;columntransformer&#x27;,\n",
              "                 ColumnTransformer(transformers=[(&#x27;simpleimputer&#x27;,\n",
              "                                                  SimpleImputer(),\n",
              "                                                  Index([&#x27;Administrative&#x27;, &#x27;Administrative_Duration&#x27;, &#x27;Informational&#x27;,\n",
              "       &#x27;Informational_Duration&#x27;, &#x27;ProductRel...\n",
              "       &#x27;BounceRates&#x27;, &#x27;ExitRates&#x27;, &#x27;PageValues&#x27;, &#x27;SpecialDay&#x27;],\n",
              "      dtype=&#x27;object&#x27;)),\n",
              "                                                 (&#x27;pipeline&#x27;,\n",
              "                                                  Pipeline(steps=[(&#x27;simpleimputer&#x27;,\n",
              "                                                                   SimpleImputer(strategy=&#x27;most_frequent&#x27;)),\n",
              "                                                                  (&#x27;onehotencoder&#x27;,\n",
              "                                                                   OneHotEncoder(handle_unknown=&#x27;ignore&#x27;))]),\n",
              "                                                  Index([&#x27;Month&#x27;, &#x27;OperatingSystems&#x27;, &#x27;Browser&#x27;, &#x27;Region&#x27;, &#x27;TrafficType&#x27;,\n",
              "       &#x27;VisitorType&#x27;, &#x27;Weekend&#x27;],\n",
              "      dtype=&#x27;object&#x27;))])),\n",
              "                (&#x27;standardscaler&#x27;, StandardScaler(with_mean=False))])</pre></div></div></div><div class=\"sk-serial\"><div class=\"sk-item\"><div class=\"sk-estimator sk-toggleable\"><input class=\"sk-toggleable__control sk-hidden--visually\" id=\"sk-estimator-id-12\" type=\"checkbox\" ><label for=\"sk-estimator-id-12\" class=\"sk-toggleable__label sk-toggleable__label-arrow\">ColAdderDropper</label><div class=\"sk-toggleable__content\"><pre>ColAdderDropper(columns_list=[&#x27;Month&#x27;, &#x27;OperatingSystems&#x27;, &#x27;Browser&#x27;, &#x27;Region&#x27;,\n",
              "                              &#x27;TrafficType&#x27;],\n",
              "                num_top_values_list=[10, 5, 8, 9, 11])</pre></div></div></div><div class=\"sk-item sk-dashed-wrapped\"><div class=\"sk-label-container\"><div class=\"sk-label sk-toggleable\"><input class=\"sk-toggleable__control sk-hidden--visually\" id=\"sk-estimator-id-13\" type=\"checkbox\" ><label for=\"sk-estimator-id-13\" class=\"sk-toggleable__label sk-toggleable__label-arrow\">columntransformer: ColumnTransformer</label><div class=\"sk-toggleable__content\"><pre>ColumnTransformer(transformers=[(&#x27;simpleimputer&#x27;, SimpleImputer(),\n",
              "                                 Index([&#x27;Administrative&#x27;, &#x27;Administrative_Duration&#x27;, &#x27;Informational&#x27;,\n",
              "       &#x27;Informational_Duration&#x27;, &#x27;ProductRelated&#x27;, &#x27;ProductRelated_Duration&#x27;,\n",
              "       &#x27;BounceRates&#x27;, &#x27;ExitRates&#x27;, &#x27;PageValues&#x27;, &#x27;SpecialDay&#x27;],\n",
              "      dtype=&#x27;object&#x27;)),\n",
              "                                (&#x27;pipeline&#x27;,\n",
              "                                 Pipeline(steps=[(&#x27;simpleimputer&#x27;,\n",
              "                                                  SimpleImputer(strategy=&#x27;most_frequent&#x27;)),\n",
              "                                                 (&#x27;onehotencoder&#x27;,\n",
              "                                                  OneHotEncoder(handle_unknown=&#x27;ignore&#x27;))]),\n",
              "                                 Index([&#x27;Month&#x27;, &#x27;OperatingSystems&#x27;, &#x27;Browser&#x27;, &#x27;Region&#x27;, &#x27;TrafficType&#x27;,\n",
              "       &#x27;VisitorType&#x27;, &#x27;Weekend&#x27;],\n",
              "      dtype=&#x27;object&#x27;))])</pre></div></div></div><div class=\"sk-parallel\"><div class=\"sk-parallel-item\"><div class=\"sk-item\"><div class=\"sk-label-container\"><div class=\"sk-label sk-toggleable\"><input class=\"sk-toggleable__control sk-hidden--visually\" id=\"sk-estimator-id-14\" type=\"checkbox\" ><label for=\"sk-estimator-id-14\" class=\"sk-toggleable__label sk-toggleable__label-arrow\">simpleimputer</label><div class=\"sk-toggleable__content\"><pre>Index([&#x27;Administrative&#x27;, &#x27;Administrative_Duration&#x27;, &#x27;Informational&#x27;,\n",
              "       &#x27;Informational_Duration&#x27;, &#x27;ProductRelated&#x27;, &#x27;ProductRelated_Duration&#x27;,\n",
              "       &#x27;BounceRates&#x27;, &#x27;ExitRates&#x27;, &#x27;PageValues&#x27;, &#x27;SpecialDay&#x27;],\n",
              "      dtype=&#x27;object&#x27;)</pre></div></div></div><div class=\"sk-serial\"><div class=\"sk-item\"><div class=\"sk-estimator sk-toggleable\"><input class=\"sk-toggleable__control sk-hidden--visually\" id=\"sk-estimator-id-15\" type=\"checkbox\" ><label for=\"sk-estimator-id-15\" class=\"sk-toggleable__label sk-toggleable__label-arrow\">SimpleImputer</label><div class=\"sk-toggleable__content\"><pre>SimpleImputer()</pre></div></div></div></div></div></div><div class=\"sk-parallel-item\"><div class=\"sk-item\"><div class=\"sk-label-container\"><div class=\"sk-label sk-toggleable\"><input class=\"sk-toggleable__control sk-hidden--visually\" id=\"sk-estimator-id-16\" type=\"checkbox\" ><label for=\"sk-estimator-id-16\" class=\"sk-toggleable__label sk-toggleable__label-arrow\">pipeline</label><div class=\"sk-toggleable__content\"><pre>Index([&#x27;Month&#x27;, &#x27;OperatingSystems&#x27;, &#x27;Browser&#x27;, &#x27;Region&#x27;, &#x27;TrafficType&#x27;,\n",
              "       &#x27;VisitorType&#x27;, &#x27;Weekend&#x27;],\n",
              "      dtype=&#x27;object&#x27;)</pre></div></div></div><div class=\"sk-serial\"><div class=\"sk-item\"><div class=\"sk-serial\"><div class=\"sk-item\"><div class=\"sk-estimator sk-toggleable\"><input class=\"sk-toggleable__control sk-hidden--visually\" id=\"sk-estimator-id-17\" type=\"checkbox\" ><label for=\"sk-estimator-id-17\" class=\"sk-toggleable__label sk-toggleable__label-arrow\">SimpleImputer</label><div class=\"sk-toggleable__content\"><pre>SimpleImputer(strategy=&#x27;most_frequent&#x27;)</pre></div></div></div><div class=\"sk-item\"><div class=\"sk-estimator sk-toggleable\"><input class=\"sk-toggleable__control sk-hidden--visually\" id=\"sk-estimator-id-18\" type=\"checkbox\" ><label for=\"sk-estimator-id-18\" class=\"sk-toggleable__label sk-toggleable__label-arrow\">OneHotEncoder</label><div class=\"sk-toggleable__content\"><pre>OneHotEncoder(handle_unknown=&#x27;ignore&#x27;)</pre></div></div></div></div></div></div></div></div></div></div><div class=\"sk-item\"><div class=\"sk-estimator sk-toggleable\"><input class=\"sk-toggleable__control sk-hidden--visually\" id=\"sk-estimator-id-19\" type=\"checkbox\" ><label for=\"sk-estimator-id-19\" class=\"sk-toggleable__label sk-toggleable__label-arrow\">StandardScaler</label><div class=\"sk-toggleable__content\"><pre>StandardScaler(with_mean=False)</pre></div></div></div></div></div><div class=\"sk-item\"><div class=\"sk-estimator sk-toggleable\"><input class=\"sk-toggleable__control sk-hidden--visually\" id=\"sk-estimator-id-20\" type=\"checkbox\" ><label for=\"sk-estimator-id-20\" class=\"sk-toggleable__label sk-toggleable__label-arrow\">SelectKBest</label><div class=\"sk-toggleable__content\"><pre>SelectKBest(score_func=&lt;function chi2 at 0x000002F9A20F27A0&gt;)</pre></div></div></div><div class=\"sk-item\"><div class=\"sk-estimator sk-toggleable\"><input class=\"sk-toggleable__control sk-hidden--visually\" id=\"sk-estimator-id-21\" type=\"checkbox\" ><label for=\"sk-estimator-id-21\" class=\"sk-toggleable__label sk-toggleable__label-arrow\">MLPClassifier</label><div class=\"sk-toggleable__content\"><pre>MLPClassifier(alpha=100, hidden_layer_sizes=50, learning_rate_init=0.05,\n",
              "              max_iter=1000, random_state=0)</pre></div></div></div></div></div></div></div>"
            ],
            "text/plain": [
              "Pipeline(steps=[('preprocess',\n",
              "                 Pipeline(steps=[('coladderdropper',\n",
              "                                  ColAdderDropper(columns_list=['Month',\n",
              "                                                                'OperatingSystems',\n",
              "                                                                'Browser',\n",
              "                                                                'Region',\n",
              "                                                                'TrafficType'],\n",
              "                                                  num_top_values_list=[10, 5, 8,\n",
              "                                                                       9,\n",
              "                                                                       11])),\n",
              "                                 ('columntransformer',\n",
              "                                  ColumnTransformer(transformers=[('simpleimputer',\n",
              "                                                                   SimpleImputer(),\n",
              "                                                                   Index(['Administrative', 'Administrative_Duration', 'Informational',\n",
              "       'Infor...\n",
              "                                                                   Index(['Month', 'OperatingSystems', 'Browser', 'Region', 'TrafficType',\n",
              "       'VisitorType', 'Weekend'],\n",
              "      dtype='object'))])),\n",
              "                                 ('standardscaler',\n",
              "                                  StandardScaler(with_mean=False))])),\n",
              "                ('selectkbest',\n",
              "                 SelectKBest(score_func=<function chi2 at 0x000002F9A20F27A0>)),\n",
              "                ('mlpclassifier',\n",
              "                 MLPClassifier(alpha=100, hidden_layer_sizes=50,\n",
              "                               learning_rate_init=0.05, max_iter=1000,\n",
              "                               random_state=0))])"
            ]
          },
          "execution_count": 25,
          "metadata": {},
          "output_type": "execute_result"
        }
      ],
      "source": [
        "full_pipeline = Pipeline(steps=[\n",
        "    ('preprocess', preprocess_pipeline),\n",
        "    ('selectkbest', SelectKBest(chi2, k=10)),\n",
        "    ('mlpclassifier', MLPClassifier(hidden_layer_sizes=(50), activation='relu', solver='adam', random_state=0, learning_rate_init=0.05, alpha=100, max_iter=1000))\n",
        "])\n",
        "full_pipeline"
      ]
    },
    {
      "cell_type": "code",
      "execution_count": 26,
      "metadata": {},
      "outputs": [
        {
          "name": "stdout",
          "output_type": "stream",
          "text": [
            "With the above model pipeline we get the accuracy of train: 84.275 and validate: 86.981\n"
          ]
        }
      ],
      "source": [
        "full_pipeline.fit(train_X_df, train_y_sr)\n",
        "train_acc = full_pipeline.score(train_X_df, train_y_sr)*100\n",
        "val_acc = full_pipeline.score(val_X_df, val_y_sr)*100\n",
        "print(f'With the above model pipeline we get the accuracy of train: {train_acc.round(3)} and validate: {val_acc.round(3)}')"
      ]
    },
    {
      "attachments": {},
      "cell_type": "markdown",
      "metadata": {},
      "source": [
        "Due to the defined paramaters of Neural Network, in which include `hidden_layer_sizes=(50), activation='relu', solver='adam', random_state=0, learning_rate_init=0.05, alpha=100, max_iter=1000`, we got the final accuracy was: **84.523%**"
      ]
    },
    {
      "attachments": {},
      "cell_type": "markdown",
      "metadata": {},
      "source": [
        "After training the model we got the accuracy is 84.5%, this score still be pretty unacceptable so in next we tend to innovate our current model by using grid search method"
      ]
    },
    {
      "cell_type": "code",
      "execution_count": 27,
      "metadata": {},
      "outputs": [
        {
          "data": {
            "text/html": [
              "<style>#sk-container-id-3 {color: black;background-color: white;}#sk-container-id-3 pre{padding: 0;}#sk-container-id-3 div.sk-toggleable {background-color: white;}#sk-container-id-3 label.sk-toggleable__label {cursor: pointer;display: block;width: 100%;margin-bottom: 0;padding: 0.3em;box-sizing: border-box;text-align: center;}#sk-container-id-3 label.sk-toggleable__label-arrow:before {content: \"▸\";float: left;margin-right: 0.25em;color: #696969;}#sk-container-id-3 label.sk-toggleable__label-arrow:hover:before {color: black;}#sk-container-id-3 div.sk-estimator:hover label.sk-toggleable__label-arrow:before {color: black;}#sk-container-id-3 div.sk-toggleable__content {max-height: 0;max-width: 0;overflow: hidden;text-align: left;background-color: #f0f8ff;}#sk-container-id-3 div.sk-toggleable__content pre {margin: 0.2em;color: black;border-radius: 0.25em;background-color: #f0f8ff;}#sk-container-id-3 input.sk-toggleable__control:checked~div.sk-toggleable__content {max-height: 200px;max-width: 100%;overflow: auto;}#sk-container-id-3 input.sk-toggleable__control:checked~label.sk-toggleable__label-arrow:before {content: \"▾\";}#sk-container-id-3 div.sk-estimator input.sk-toggleable__control:checked~label.sk-toggleable__label {background-color: #d4ebff;}#sk-container-id-3 div.sk-label input.sk-toggleable__control:checked~label.sk-toggleable__label {background-color: #d4ebff;}#sk-container-id-3 input.sk-hidden--visually {border: 0;clip: rect(1px 1px 1px 1px);clip: rect(1px, 1px, 1px, 1px);height: 1px;margin: -1px;overflow: hidden;padding: 0;position: absolute;width: 1px;}#sk-container-id-3 div.sk-estimator {font-family: monospace;background-color: #f0f8ff;border: 1px dotted black;border-radius: 0.25em;box-sizing: border-box;margin-bottom: 0.5em;}#sk-container-id-3 div.sk-estimator:hover {background-color: #d4ebff;}#sk-container-id-3 div.sk-parallel-item::after {content: \"\";width: 100%;border-bottom: 1px solid gray;flex-grow: 1;}#sk-container-id-3 div.sk-label:hover label.sk-toggleable__label {background-color: #d4ebff;}#sk-container-id-3 div.sk-serial::before {content: \"\";position: absolute;border-left: 1px solid gray;box-sizing: border-box;top: 0;bottom: 0;left: 50%;z-index: 0;}#sk-container-id-3 div.sk-serial {display: flex;flex-direction: column;align-items: center;background-color: white;padding-right: 0.2em;padding-left: 0.2em;position: relative;}#sk-container-id-3 div.sk-item {position: relative;z-index: 1;}#sk-container-id-3 div.sk-parallel {display: flex;align-items: stretch;justify-content: center;background-color: white;position: relative;}#sk-container-id-3 div.sk-item::before, #sk-container-id-3 div.sk-parallel-item::before {content: \"\";position: absolute;border-left: 1px solid gray;box-sizing: border-box;top: 0;bottom: 0;left: 50%;z-index: -1;}#sk-container-id-3 div.sk-parallel-item {display: flex;flex-direction: column;z-index: 1;position: relative;background-color: white;}#sk-container-id-3 div.sk-parallel-item:first-child::after {align-self: flex-end;width: 50%;}#sk-container-id-3 div.sk-parallel-item:last-child::after {align-self: flex-start;width: 50%;}#sk-container-id-3 div.sk-parallel-item:only-child::after {width: 0;}#sk-container-id-3 div.sk-dashed-wrapped {border: 1px dashed gray;margin: 0 0.4em 0.5em 0.4em;box-sizing: border-box;padding-bottom: 0.4em;background-color: white;}#sk-container-id-3 div.sk-label label {font-family: monospace;font-weight: bold;display: inline-block;line-height: 1.2em;}#sk-container-id-3 div.sk-label-container {text-align: center;}#sk-container-id-3 div.sk-container {/* jupyter's `normalize.less` sets `[hidden] { display: none; }` but bootstrap.min.css set `[hidden] { display: none !important; }` so we also need the `!important` here to be able to override the default hidden behavior on the sphinx rendered scikit-learn.org. See: https://github.com/scikit-learn/scikit-learn/issues/21755 */display: inline-block !important;position: relative;}#sk-container-id-3 div.sk-text-repr-fallback {display: none;}</style><div id=\"sk-container-id-3\" class=\"sk-top-container\"><div class=\"sk-text-repr-fallback\"><pre>GridSearchCV(estimator=Pipeline(steps=[(&#x27;preprocess&#x27;,\n",
              "                                        Pipeline(steps=[(&#x27;coladderdropper&#x27;,\n",
              "                                                         ColAdderDropper(columns_list=[&#x27;Month&#x27;,\n",
              "                                                                                       &#x27;OperatingSystems&#x27;,\n",
              "                                                                                       &#x27;Browser&#x27;,\n",
              "                                                                                       &#x27;Region&#x27;,\n",
              "                                                                                       &#x27;TrafficType&#x27;],\n",
              "                                                                         num_top_values_list=[10,\n",
              "                                                                                              5,\n",
              "                                                                                              8,\n",
              "                                                                                              9,\n",
              "                                                                                              11])),\n",
              "                                                        (&#x27;columntransformer&#x27;,\n",
              "                                                         ColumnTransformer(transformers=[(&#x27;simpleimputer&#x27;,\n",
              "                                                                                          SimpleImputer(),\n",
              "                                                                                          Index([&#x27;Administrative&#x27;, &#x27;Administrative_Duration&#x27;...\n",
              "      dtype=&#x27;object&#x27;))])),\n",
              "                                                        (&#x27;standardscaler&#x27;,\n",
              "                                                         StandardScaler(with_mean=False))])),\n",
              "                                       (&#x27;selectkbest&#x27;,\n",
              "                                        SelectKBest(score_func=&lt;function chi2 at 0x000002F9A20F27A0&gt;)),\n",
              "                                       (&#x27;mlpclassifier&#x27;,\n",
              "                                        MLPClassifier(hidden_layer_sizes=50,\n",
              "                                                      learning_rate_init=0.05,\n",
              "                                                      max_iter=1000,\n",
              "                                                      random_state=0))]),\n",
              "             param_grid={&#x27;mlpclassifier__activation&#x27;: [&#x27;logistic&#x27;, &#x27;relu&#x27;,\n",
              "                                                       &#x27;tanh&#x27;],\n",
              "                         &#x27;selectkbest__k&#x27;: [3, 5, 7, 9, 11, 14, &#x27;all&#x27;]})</pre><b>In a Jupyter environment, please rerun this cell to show the HTML representation or trust the notebook. <br />On GitHub, the HTML representation is unable to render, please try loading this page with nbviewer.org.</b></div><div class=\"sk-container\" hidden><div class=\"sk-item sk-dashed-wrapped\"><div class=\"sk-label-container\"><div class=\"sk-label sk-toggleable\"><input class=\"sk-toggleable__control sk-hidden--visually\" id=\"sk-estimator-id-22\" type=\"checkbox\" ><label for=\"sk-estimator-id-22\" class=\"sk-toggleable__label sk-toggleable__label-arrow\">GridSearchCV</label><div class=\"sk-toggleable__content\"><pre>GridSearchCV(estimator=Pipeline(steps=[(&#x27;preprocess&#x27;,\n",
              "                                        Pipeline(steps=[(&#x27;coladderdropper&#x27;,\n",
              "                                                         ColAdderDropper(columns_list=[&#x27;Month&#x27;,\n",
              "                                                                                       &#x27;OperatingSystems&#x27;,\n",
              "                                                                                       &#x27;Browser&#x27;,\n",
              "                                                                                       &#x27;Region&#x27;,\n",
              "                                                                                       &#x27;TrafficType&#x27;],\n",
              "                                                                         num_top_values_list=[10,\n",
              "                                                                                              5,\n",
              "                                                                                              8,\n",
              "                                                                                              9,\n",
              "                                                                                              11])),\n",
              "                                                        (&#x27;columntransformer&#x27;,\n",
              "                                                         ColumnTransformer(transformers=[(&#x27;simpleimputer&#x27;,\n",
              "                                                                                          SimpleImputer(),\n",
              "                                                                                          Index([&#x27;Administrative&#x27;, &#x27;Administrative_Duration&#x27;...\n",
              "      dtype=&#x27;object&#x27;))])),\n",
              "                                                        (&#x27;standardscaler&#x27;,\n",
              "                                                         StandardScaler(with_mean=False))])),\n",
              "                                       (&#x27;selectkbest&#x27;,\n",
              "                                        SelectKBest(score_func=&lt;function chi2 at 0x000002F9A20F27A0&gt;)),\n",
              "                                       (&#x27;mlpclassifier&#x27;,\n",
              "                                        MLPClassifier(hidden_layer_sizes=50,\n",
              "                                                      learning_rate_init=0.05,\n",
              "                                                      max_iter=1000,\n",
              "                                                      random_state=0))]),\n",
              "             param_grid={&#x27;mlpclassifier__activation&#x27;: [&#x27;logistic&#x27;, &#x27;relu&#x27;,\n",
              "                                                       &#x27;tanh&#x27;],\n",
              "                         &#x27;selectkbest__k&#x27;: [3, 5, 7, 9, 11, 14, &#x27;all&#x27;]})</pre></div></div></div><div class=\"sk-parallel\"><div class=\"sk-parallel-item\"><div class=\"sk-item\"><div class=\"sk-label-container\"><div class=\"sk-label sk-toggleable\"><input class=\"sk-toggleable__control sk-hidden--visually\" id=\"sk-estimator-id-23\" type=\"checkbox\" ><label for=\"sk-estimator-id-23\" class=\"sk-toggleable__label sk-toggleable__label-arrow\">estimator: Pipeline</label><div class=\"sk-toggleable__content\"><pre>Pipeline(steps=[(&#x27;preprocess&#x27;,\n",
              "                 Pipeline(steps=[(&#x27;coladderdropper&#x27;,\n",
              "                                  ColAdderDropper(columns_list=[&#x27;Month&#x27;,\n",
              "                                                                &#x27;OperatingSystems&#x27;,\n",
              "                                                                &#x27;Browser&#x27;,\n",
              "                                                                &#x27;Region&#x27;,\n",
              "                                                                &#x27;TrafficType&#x27;],\n",
              "                                                  num_top_values_list=[10, 5, 8,\n",
              "                                                                       9,\n",
              "                                                                       11])),\n",
              "                                 (&#x27;columntransformer&#x27;,\n",
              "                                  ColumnTransformer(transformers=[(&#x27;simpleimputer&#x27;,\n",
              "                                                                   SimpleImputer(),\n",
              "                                                                   Index([&#x27;Administrative&#x27;, &#x27;Administrative_Duration&#x27;, &#x27;Informational&#x27;,\n",
              "       &#x27;Infor...\n",
              "                                                                   Index([&#x27;Month&#x27;, &#x27;OperatingSystems&#x27;, &#x27;Browser&#x27;, &#x27;Region&#x27;, &#x27;TrafficType&#x27;,\n",
              "       &#x27;VisitorType&#x27;, &#x27;Weekend&#x27;],\n",
              "      dtype=&#x27;object&#x27;))])),\n",
              "                                 (&#x27;standardscaler&#x27;,\n",
              "                                  StandardScaler(with_mean=False))])),\n",
              "                (&#x27;selectkbest&#x27;,\n",
              "                 SelectKBest(score_func=&lt;function chi2 at 0x000002F9A20F27A0&gt;)),\n",
              "                (&#x27;mlpclassifier&#x27;,\n",
              "                 MLPClassifier(hidden_layer_sizes=50, learning_rate_init=0.05,\n",
              "                               max_iter=1000, random_state=0))])</pre></div></div></div><div class=\"sk-serial\"><div class=\"sk-item\"><div class=\"sk-serial\"><div class=\"sk-item\"><div class=\"sk-label-container\"><div class=\"sk-label sk-toggleable\"><input class=\"sk-toggleable__control sk-hidden--visually\" id=\"sk-estimator-id-24\" type=\"checkbox\" ><label for=\"sk-estimator-id-24\" class=\"sk-toggleable__label sk-toggleable__label-arrow\">preprocess: Pipeline</label><div class=\"sk-toggleable__content\"><pre>Pipeline(steps=[(&#x27;coladderdropper&#x27;,\n",
              "                 ColAdderDropper(columns_list=[&#x27;Month&#x27;, &#x27;OperatingSystems&#x27;,\n",
              "                                               &#x27;Browser&#x27;, &#x27;Region&#x27;,\n",
              "                                               &#x27;TrafficType&#x27;],\n",
              "                                 num_top_values_list=[10, 5, 8, 9, 11])),\n",
              "                (&#x27;columntransformer&#x27;,\n",
              "                 ColumnTransformer(transformers=[(&#x27;simpleimputer&#x27;,\n",
              "                                                  SimpleImputer(),\n",
              "                                                  Index([&#x27;Administrative&#x27;, &#x27;Administrative_Duration&#x27;, &#x27;Informational&#x27;,\n",
              "       &#x27;Informational_Duration&#x27;, &#x27;ProductRel...\n",
              "       &#x27;BounceRates&#x27;, &#x27;ExitRates&#x27;, &#x27;PageValues&#x27;, &#x27;SpecialDay&#x27;],\n",
              "      dtype=&#x27;object&#x27;)),\n",
              "                                                 (&#x27;pipeline&#x27;,\n",
              "                                                  Pipeline(steps=[(&#x27;simpleimputer&#x27;,\n",
              "                                                                   SimpleImputer(strategy=&#x27;most_frequent&#x27;)),\n",
              "                                                                  (&#x27;onehotencoder&#x27;,\n",
              "                                                                   OneHotEncoder(handle_unknown=&#x27;ignore&#x27;))]),\n",
              "                                                  Index([&#x27;Month&#x27;, &#x27;OperatingSystems&#x27;, &#x27;Browser&#x27;, &#x27;Region&#x27;, &#x27;TrafficType&#x27;,\n",
              "       &#x27;VisitorType&#x27;, &#x27;Weekend&#x27;],\n",
              "      dtype=&#x27;object&#x27;))])),\n",
              "                (&#x27;standardscaler&#x27;, StandardScaler(with_mean=False))])</pre></div></div></div><div class=\"sk-serial\"><div class=\"sk-item\"><div class=\"sk-estimator sk-toggleable\"><input class=\"sk-toggleable__control sk-hidden--visually\" id=\"sk-estimator-id-25\" type=\"checkbox\" ><label for=\"sk-estimator-id-25\" class=\"sk-toggleable__label sk-toggleable__label-arrow\">ColAdderDropper</label><div class=\"sk-toggleable__content\"><pre>ColAdderDropper(columns_list=[&#x27;Month&#x27;, &#x27;OperatingSystems&#x27;, &#x27;Browser&#x27;, &#x27;Region&#x27;,\n",
              "                              &#x27;TrafficType&#x27;],\n",
              "                num_top_values_list=[10, 5, 8, 9, 11])</pre></div></div></div><div class=\"sk-item sk-dashed-wrapped\"><div class=\"sk-label-container\"><div class=\"sk-label sk-toggleable\"><input class=\"sk-toggleable__control sk-hidden--visually\" id=\"sk-estimator-id-26\" type=\"checkbox\" ><label for=\"sk-estimator-id-26\" class=\"sk-toggleable__label sk-toggleable__label-arrow\">columntransformer: ColumnTransformer</label><div class=\"sk-toggleable__content\"><pre>ColumnTransformer(transformers=[(&#x27;simpleimputer&#x27;, SimpleImputer(),\n",
              "                                 Index([&#x27;Administrative&#x27;, &#x27;Administrative_Duration&#x27;, &#x27;Informational&#x27;,\n",
              "       &#x27;Informational_Duration&#x27;, &#x27;ProductRelated&#x27;, &#x27;ProductRelated_Duration&#x27;,\n",
              "       &#x27;BounceRates&#x27;, &#x27;ExitRates&#x27;, &#x27;PageValues&#x27;, &#x27;SpecialDay&#x27;],\n",
              "      dtype=&#x27;object&#x27;)),\n",
              "                                (&#x27;pipeline&#x27;,\n",
              "                                 Pipeline(steps=[(&#x27;simpleimputer&#x27;,\n",
              "                                                  SimpleImputer(strategy=&#x27;most_frequent&#x27;)),\n",
              "                                                 (&#x27;onehotencoder&#x27;,\n",
              "                                                  OneHotEncoder(handle_unknown=&#x27;ignore&#x27;))]),\n",
              "                                 Index([&#x27;Month&#x27;, &#x27;OperatingSystems&#x27;, &#x27;Browser&#x27;, &#x27;Region&#x27;, &#x27;TrafficType&#x27;,\n",
              "       &#x27;VisitorType&#x27;, &#x27;Weekend&#x27;],\n",
              "      dtype=&#x27;object&#x27;))])</pre></div></div></div><div class=\"sk-parallel\"><div class=\"sk-parallel-item\"><div class=\"sk-item\"><div class=\"sk-label-container\"><div class=\"sk-label sk-toggleable\"><input class=\"sk-toggleable__control sk-hidden--visually\" id=\"sk-estimator-id-27\" type=\"checkbox\" ><label for=\"sk-estimator-id-27\" class=\"sk-toggleable__label sk-toggleable__label-arrow\">simpleimputer</label><div class=\"sk-toggleable__content\"><pre>Index([&#x27;Administrative&#x27;, &#x27;Administrative_Duration&#x27;, &#x27;Informational&#x27;,\n",
              "       &#x27;Informational_Duration&#x27;, &#x27;ProductRelated&#x27;, &#x27;ProductRelated_Duration&#x27;,\n",
              "       &#x27;BounceRates&#x27;, &#x27;ExitRates&#x27;, &#x27;PageValues&#x27;, &#x27;SpecialDay&#x27;],\n",
              "      dtype=&#x27;object&#x27;)</pre></div></div></div><div class=\"sk-serial\"><div class=\"sk-item\"><div class=\"sk-estimator sk-toggleable\"><input class=\"sk-toggleable__control sk-hidden--visually\" id=\"sk-estimator-id-28\" type=\"checkbox\" ><label for=\"sk-estimator-id-28\" class=\"sk-toggleable__label sk-toggleable__label-arrow\">SimpleImputer</label><div class=\"sk-toggleable__content\"><pre>SimpleImputer()</pre></div></div></div></div></div></div><div class=\"sk-parallel-item\"><div class=\"sk-item\"><div class=\"sk-label-container\"><div class=\"sk-label sk-toggleable\"><input class=\"sk-toggleable__control sk-hidden--visually\" id=\"sk-estimator-id-29\" type=\"checkbox\" ><label for=\"sk-estimator-id-29\" class=\"sk-toggleable__label sk-toggleable__label-arrow\">pipeline</label><div class=\"sk-toggleable__content\"><pre>Index([&#x27;Month&#x27;, &#x27;OperatingSystems&#x27;, &#x27;Browser&#x27;, &#x27;Region&#x27;, &#x27;TrafficType&#x27;,\n",
              "       &#x27;VisitorType&#x27;, &#x27;Weekend&#x27;],\n",
              "      dtype=&#x27;object&#x27;)</pre></div></div></div><div class=\"sk-serial\"><div class=\"sk-item\"><div class=\"sk-serial\"><div class=\"sk-item\"><div class=\"sk-estimator sk-toggleable\"><input class=\"sk-toggleable__control sk-hidden--visually\" id=\"sk-estimator-id-30\" type=\"checkbox\" ><label for=\"sk-estimator-id-30\" class=\"sk-toggleable__label sk-toggleable__label-arrow\">SimpleImputer</label><div class=\"sk-toggleable__content\"><pre>SimpleImputer(strategy=&#x27;most_frequent&#x27;)</pre></div></div></div><div class=\"sk-item\"><div class=\"sk-estimator sk-toggleable\"><input class=\"sk-toggleable__control sk-hidden--visually\" id=\"sk-estimator-id-31\" type=\"checkbox\" ><label for=\"sk-estimator-id-31\" class=\"sk-toggleable__label sk-toggleable__label-arrow\">OneHotEncoder</label><div class=\"sk-toggleable__content\"><pre>OneHotEncoder(handle_unknown=&#x27;ignore&#x27;)</pre></div></div></div></div></div></div></div></div></div></div><div class=\"sk-item\"><div class=\"sk-estimator sk-toggleable\"><input class=\"sk-toggleable__control sk-hidden--visually\" id=\"sk-estimator-id-32\" type=\"checkbox\" ><label for=\"sk-estimator-id-32\" class=\"sk-toggleable__label sk-toggleable__label-arrow\">StandardScaler</label><div class=\"sk-toggleable__content\"><pre>StandardScaler(with_mean=False)</pre></div></div></div></div></div><div class=\"sk-item\"><div class=\"sk-estimator sk-toggleable\"><input class=\"sk-toggleable__control sk-hidden--visually\" id=\"sk-estimator-id-33\" type=\"checkbox\" ><label for=\"sk-estimator-id-33\" class=\"sk-toggleable__label sk-toggleable__label-arrow\">SelectKBest</label><div class=\"sk-toggleable__content\"><pre>SelectKBest(score_func=&lt;function chi2 at 0x000002F9A20F27A0&gt;)</pre></div></div></div><div class=\"sk-item\"><div class=\"sk-estimator sk-toggleable\"><input class=\"sk-toggleable__control sk-hidden--visually\" id=\"sk-estimator-id-34\" type=\"checkbox\" ><label for=\"sk-estimator-id-34\" class=\"sk-toggleable__label sk-toggleable__label-arrow\">MLPClassifier</label><div class=\"sk-toggleable__content\"><pre>MLPClassifier(hidden_layer_sizes=50, learning_rate_init=0.05, max_iter=1000,\n",
              "              random_state=0)</pre></div></div></div></div></div></div></div></div></div></div></div></div>"
            ],
            "text/plain": [
              "GridSearchCV(estimator=Pipeline(steps=[('preprocess',\n",
              "                                        Pipeline(steps=[('coladderdropper',\n",
              "                                                         ColAdderDropper(columns_list=['Month',\n",
              "                                                                                       'OperatingSystems',\n",
              "                                                                                       'Browser',\n",
              "                                                                                       'Region',\n",
              "                                                                                       'TrafficType'],\n",
              "                                                                         num_top_values_list=[10,\n",
              "                                                                                              5,\n",
              "                                                                                              8,\n",
              "                                                                                              9,\n",
              "                                                                                              11])),\n",
              "                                                        ('columntransformer',\n",
              "                                                         ColumnTransformer(transformers=[('simpleimputer',\n",
              "                                                                                          SimpleImputer(),\n",
              "                                                                                          Index(['Administrative', 'Administrative_Duration'...\n",
              "      dtype='object'))])),\n",
              "                                                        ('standardscaler',\n",
              "                                                         StandardScaler(with_mean=False))])),\n",
              "                                       ('selectkbest',\n",
              "                                        SelectKBest(score_func=<function chi2 at 0x000002F9A20F27A0>)),\n",
              "                                       ('mlpclassifier',\n",
              "                                        MLPClassifier(hidden_layer_sizes=50,\n",
              "                                                      learning_rate_init=0.05,\n",
              "                                                      max_iter=1000,\n",
              "                                                      random_state=0))]),\n",
              "             param_grid={'mlpclassifier__activation': ['logistic', 'relu',\n",
              "                                                       'tanh'],\n",
              "                         'selectkbest__k': [3, 5, 7, 9, 11, 14, 'all']})"
            ]
          },
          "execution_count": 27,
          "metadata": {},
          "output_type": "execute_result"
        }
      ],
      "source": [
        "optimize_pipeline = Pipeline(steps=[\n",
        "    ('preprocess', preprocess_pipeline),\n",
        "    ('selectkbest', SelectKBest(chi2)),\n",
        "    ('mlpclassifier', MLPClassifier(hidden_layer_sizes=(50), solver='adam', activation='relu', random_state=0, learning_rate_init=0.05, max_iter=1000))\n",
        "])\n",
        "\n",
        "param_grid_mlp = {'mlpclassifier__activation': ['logistic', 'relu', 'tanh'],\n",
        "            'selectkbest__k': [3, 5, 7, 9, 11, 14, 'all']}\n",
        "\n",
        "grid_search_mlp = GridSearchCV(optimize_pipeline, param_grid_mlp)\n",
        "grid_search_mlp.fit(train_X_df, train_y_sr)"
      ]
    },
    {
      "cell_type": "code",
      "execution_count": 28,
      "metadata": {},
      "outputs": [
        {
          "data": {
            "image/png": "[encoded data removed]",
            "text/plain": [
              "<Figure size 720x360 with 2 Axes>"
            ]
          },
          "metadata": {
            "needs_background": "light"
          },
          "output_type": "display_data"
        }
      ],
      "source": [
        "def plot_grid_search(grid_search, grid_params, attribute='mean_test_score', title='None'):\n",
        "    scores = np.array(grid_search.cv_results_[attribute]).reshape(len(grid_params[list(grid_params.keys())[0]]), len(grid_params[list(grid_params.keys())[1]]))\n",
        "    for score, param in zip(scores, grid_params[list(grid_params.keys())[0]]):\n",
        "        plt.plot(grid_params[list(grid_params.keys())[1]], score, '-o', label=param)\n",
        "    plt.legend(loc='lower left')\n",
        "    plt.xlabel(list(grid_params.keys())[1])\n",
        "    plt.ylabel('Accuracy')\n",
        "    plt.title(title)\n",
        "\n",
        "plt.figure(figsize=(10, 5))\n",
        "plt.subplot(1, 2, 1)  \n",
        "plot_grid_search(grid_search_mlp, param_grid_mlp, title='Accuracies of training set')\n",
        "plt.subplot(1, 2, 2)\n",
        "plot_grid_search(grid_search_mlp, param_grid_mlp, attribute='split2_test_score', title='Accuracies of validation set')"
      ]
    },
    {
      "attachments": {},
      "cell_type": "markdown",
      "metadata": {},
      "source": [
        "After using grid search for innovating model, we defined that the best activation was RELU and the number of features should be kept was 7 features. In which the accuracy was converging at **90.9%**"
      ]
    },
    {
      "cell_type": "code",
      "execution_count": 29,
      "metadata": {},
      "outputs": [
        {
          "name": "stdout",
          "output_type": "stream",
          "text": [
            "With the grid searching, we found a better validate accuracy for the model with 91.176%\n",
            "In conclusion, along with paramas of {'mlpclassifier__activation': 'relu', 'selectkbest__k': 5} we get the final test score in model be 0.894% in practical\n"
          ]
        }
      ],
      "source": [
        "val_acc = grid_search_mlp.score(val_X_df, val_y_sr)*100\n",
        "final_score = accuracy_score(grid_search_mlp.predict(test_X_df), test_y_sr, normalize=True)\n",
        "print(f'With the grid searching, we found a better validate accuracy for the model with {val_acc.round(3)}%')\n",
        "print(f'In conclusion, along with paramas of {grid_search_mlp.best_params_} we get the final test score in model be {final_score.round(3)}% in practical')"
      ]
    },
    {
      "attachments": {},
      "cell_type": "markdown",
      "metadata": {},
      "source": [
        "<h3>2nd Model: Classification using decision tree</h3>"
      ]
    },
    {
      "attachments": {},
      "cell_type": "markdown",
      "metadata": {},
      "source": [
        "Pipline architecture: Along including Preprocessing Pipeline, there are 2 more:\n",
        "- `Selecting Best Features`: in this step, data would filtered in order to reduce the dimension of data by using `Chi2-Algorithms`. The number of features kept would be defined by manually or by grid search later.\n",
        "- `DecisionTreeClassifier`: using Decision Tree method for classifying data into TRUE and FALSE in the Revenue."
      ]
    },
    {
      "cell_type": "code",
      "execution_count": 30,
      "metadata": {},
      "outputs": [
        {
          "data": {
            "text/html": [
              "<style>#sk-container-id-4 {color: black;background-color: white;}#sk-container-id-4 pre{padding: 0;}#sk-container-id-4 div.sk-toggleable {background-color: white;}#sk-container-id-4 label.sk-toggleable__label {cursor: pointer;display: block;width: 100%;margin-bottom: 0;padding: 0.3em;box-sizing: border-box;text-align: center;}#sk-container-id-4 label.sk-toggleable__label-arrow:before {content: \"▸\";float: left;margin-right: 0.25em;color: #696969;}#sk-container-id-4 label.sk-toggleable__label-arrow:hover:before {color: black;}#sk-container-id-4 div.sk-estimator:hover label.sk-toggleable__label-arrow:before {color: black;}#sk-container-id-4 div.sk-toggleable__content {max-height: 0;max-width: 0;overflow: hidden;text-align: left;background-color: #f0f8ff;}#sk-container-id-4 div.sk-toggleable__content pre {margin: 0.2em;color: black;border-radius: 0.25em;background-color: #f0f8ff;}#sk-container-id-4 input.sk-toggleable__control:checked~div.sk-toggleable__content {max-height: 200px;max-width: 100%;overflow: auto;}#sk-container-id-4 input.sk-toggleable__control:checked~label.sk-toggleable__label-arrow:before {content: \"▾\";}#sk-container-id-4 div.sk-estimator input.sk-toggleable__control:checked~label.sk-toggleable__label {background-color: #d4ebff;}#sk-container-id-4 div.sk-label input.sk-toggleable__control:checked~label.sk-toggleable__label {background-color: #d4ebff;}#sk-container-id-4 input.sk-hidden--visually {border: 0;clip: rect(1px 1px 1px 1px);clip: rect(1px, 1px, 1px, 1px);height: 1px;margin: -1px;overflow: hidden;padding: 0;position: absolute;width: 1px;}#sk-container-id-4 div.sk-estimator {font-family: monospace;background-color: #f0f8ff;border: 1px dotted black;border-radius: 0.25em;box-sizing: border-box;margin-bottom: 0.5em;}#sk-container-id-4 div.sk-estimator:hover {background-color: #d4ebff;}#sk-container-id-4 div.sk-parallel-item::after {content: \"\";width: 100%;border-bottom: 1px solid gray;flex-grow: 1;}#sk-container-id-4 div.sk-label:hover label.sk-toggleable__label {background-color: #d4ebff;}#sk-container-id-4 div.sk-serial::before {content: \"\";position: absolute;border-left: 1px solid gray;box-sizing: border-box;top: 0;bottom: 0;left: 50%;z-index: 0;}#sk-container-id-4 div.sk-serial {display: flex;flex-direction: column;align-items: center;background-color: white;padding-right: 0.2em;padding-left: 0.2em;position: relative;}#sk-container-id-4 div.sk-item {position: relative;z-index: 1;}#sk-container-id-4 div.sk-parallel {display: flex;align-items: stretch;justify-content: center;background-color: white;position: relative;}#sk-container-id-4 div.sk-item::before, #sk-container-id-4 div.sk-parallel-item::before {content: \"\";position: absolute;border-left: 1px solid gray;box-sizing: border-box;top: 0;bottom: 0;left: 50%;z-index: -1;}#sk-container-id-4 div.sk-parallel-item {display: flex;flex-direction: column;z-index: 1;position: relative;background-color: white;}#sk-container-id-4 div.sk-parallel-item:first-child::after {align-self: flex-end;width: 50%;}#sk-container-id-4 div.sk-parallel-item:last-child::after {align-self: flex-start;width: 50%;}#sk-container-id-4 div.sk-parallel-item:only-child::after {width: 0;}#sk-container-id-4 div.sk-dashed-wrapped {border: 1px dashed gray;margin: 0 0.4em 0.5em 0.4em;box-sizing: border-box;padding-bottom: 0.4em;background-color: white;}#sk-container-id-4 div.sk-label label {font-family: monospace;font-weight: bold;display: inline-block;line-height: 1.2em;}#sk-container-id-4 div.sk-label-container {text-align: center;}#sk-container-id-4 div.sk-container {/* jupyter's `normalize.less` sets `[hidden] { display: none; }` but bootstrap.min.css set `[hidden] { display: none !important; }` so we also need the `!important` here to be able to override the default hidden behavior on the sphinx rendered scikit-learn.org. See: https://github.com/scikit-learn/scikit-learn/issues/21755 */display: inline-block !important;position: relative;}#sk-container-id-4 div.sk-text-repr-fallback {display: none;}</style><div id=\"sk-container-id-4\" class=\"sk-top-container\"><div class=\"sk-text-repr-fallback\"><pre>Pipeline(steps=[(&#x27;preprocess&#x27;,\n",
              "                 Pipeline(steps=[(&#x27;coladderdropper&#x27;,\n",
              "                                  ColAdderDropper(columns_list=[&#x27;Month&#x27;,\n",
              "                                                                &#x27;OperatingSystems&#x27;,\n",
              "                                                                &#x27;Browser&#x27;,\n",
              "                                                                &#x27;Region&#x27;,\n",
              "                                                                &#x27;TrafficType&#x27;],\n",
              "                                                  num_top_values_list=[10, 5, 8,\n",
              "                                                                       9,\n",
              "                                                                       11])),\n",
              "                                 (&#x27;columntransformer&#x27;,\n",
              "                                  ColumnTransformer(transformers=[(&#x27;simpleimputer&#x27;,\n",
              "                                                                   SimpleImputer(),\n",
              "                                                                   Index([&#x27;Administrative&#x27;, &#x27;Administrative_Duration&#x27;, &#x27;Informational&#x27;,\n",
              "       &#x27;Infor...\n",
              "                                                                                    OneHotEncoder(handle_unknown=&#x27;ignore&#x27;))]),\n",
              "                                                                   Index([&#x27;Month&#x27;, &#x27;OperatingSystems&#x27;, &#x27;Browser&#x27;, &#x27;Region&#x27;, &#x27;TrafficType&#x27;,\n",
              "       &#x27;VisitorType&#x27;, &#x27;Weekend&#x27;],\n",
              "      dtype=&#x27;object&#x27;))])),\n",
              "                                 (&#x27;standardscaler&#x27;,\n",
              "                                  StandardScaler(with_mean=False))])),\n",
              "                (&#x27;selectkbest&#x27;,\n",
              "                 SelectKBest(k=7,\n",
              "                             score_func=&lt;function chi2 at 0x000002F9A20F27A0&gt;)),\n",
              "                (&#x27;decisiontree&#x27;,\n",
              "                 DecisionTreeClassifier(max_depth=10, random_state=0))])</pre><b>In a Jupyter environment, please rerun this cell to show the HTML representation or trust the notebook. <br />On GitHub, the HTML representation is unable to render, please try loading this page with nbviewer.org.</b></div><div class=\"sk-container\" hidden><div class=\"sk-item sk-dashed-wrapped\"><div class=\"sk-label-container\"><div class=\"sk-label sk-toggleable\"><input class=\"sk-toggleable__control sk-hidden--visually\" id=\"sk-estimator-id-35\" type=\"checkbox\" ><label for=\"sk-estimator-id-35\" class=\"sk-toggleable__label sk-toggleable__label-arrow\">Pipeline</label><div class=\"sk-toggleable__content\"><pre>Pipeline(steps=[(&#x27;preprocess&#x27;,\n",
              "                 Pipeline(steps=[(&#x27;coladderdropper&#x27;,\n",
              "                                  ColAdderDropper(columns_list=[&#x27;Month&#x27;,\n",
              "                                                                &#x27;OperatingSystems&#x27;,\n",
              "                                                                &#x27;Browser&#x27;,\n",
              "                                                                &#x27;Region&#x27;,\n",
              "                                                                &#x27;TrafficType&#x27;],\n",
              "                                                  num_top_values_list=[10, 5, 8,\n",
              "                                                                       9,\n",
              "                                                                       11])),\n",
              "                                 (&#x27;columntransformer&#x27;,\n",
              "                                  ColumnTransformer(transformers=[(&#x27;simpleimputer&#x27;,\n",
              "                                                                   SimpleImputer(),\n",
              "                                                                   Index([&#x27;Administrative&#x27;, &#x27;Administrative_Duration&#x27;, &#x27;Informational&#x27;,\n",
              "       &#x27;Infor...\n",
              "                                                                                    OneHotEncoder(handle_unknown=&#x27;ignore&#x27;))]),\n",
              "                                                                   Index([&#x27;Month&#x27;, &#x27;OperatingSystems&#x27;, &#x27;Browser&#x27;, &#x27;Region&#x27;, &#x27;TrafficType&#x27;,\n",
              "       &#x27;VisitorType&#x27;, &#x27;Weekend&#x27;],\n",
              "      dtype=&#x27;object&#x27;))])),\n",
              "                                 (&#x27;standardscaler&#x27;,\n",
              "                                  StandardScaler(with_mean=False))])),\n",
              "                (&#x27;selectkbest&#x27;,\n",
              "                 SelectKBest(k=7,\n",
              "                             score_func=&lt;function chi2 at 0x000002F9A20F27A0&gt;)),\n",
              "                (&#x27;decisiontree&#x27;,\n",
              "                 DecisionTreeClassifier(max_depth=10, random_state=0))])</pre></div></div></div><div class=\"sk-serial\"><div class=\"sk-item\"><div class=\"sk-label-container\"><div class=\"sk-label sk-toggleable\"><input class=\"sk-toggleable__control sk-hidden--visually\" id=\"sk-estimator-id-36\" type=\"checkbox\" ><label for=\"sk-estimator-id-36\" class=\"sk-toggleable__label sk-toggleable__label-arrow\">preprocess: Pipeline</label><div class=\"sk-toggleable__content\"><pre>Pipeline(steps=[(&#x27;coladderdropper&#x27;,\n",
              "                 ColAdderDropper(columns_list=[&#x27;Month&#x27;, &#x27;OperatingSystems&#x27;,\n",
              "                                               &#x27;Browser&#x27;, &#x27;Region&#x27;,\n",
              "                                               &#x27;TrafficType&#x27;],\n",
              "                                 num_top_values_list=[10, 5, 8, 9, 11])),\n",
              "                (&#x27;columntransformer&#x27;,\n",
              "                 ColumnTransformer(transformers=[(&#x27;simpleimputer&#x27;,\n",
              "                                                  SimpleImputer(),\n",
              "                                                  Index([&#x27;Administrative&#x27;, &#x27;Administrative_Duration&#x27;, &#x27;Informational&#x27;,\n",
              "       &#x27;Informational_Duration&#x27;, &#x27;ProductRel...\n",
              "       &#x27;BounceRates&#x27;, &#x27;ExitRates&#x27;, &#x27;PageValues&#x27;, &#x27;SpecialDay&#x27;],\n",
              "      dtype=&#x27;object&#x27;)),\n",
              "                                                 (&#x27;pipeline&#x27;,\n",
              "                                                  Pipeline(steps=[(&#x27;simpleimputer&#x27;,\n",
              "                                                                   SimpleImputer(strategy=&#x27;most_frequent&#x27;)),\n",
              "                                                                  (&#x27;onehotencoder&#x27;,\n",
              "                                                                   OneHotEncoder(handle_unknown=&#x27;ignore&#x27;))]),\n",
              "                                                  Index([&#x27;Month&#x27;, &#x27;OperatingSystems&#x27;, &#x27;Browser&#x27;, &#x27;Region&#x27;, &#x27;TrafficType&#x27;,\n",
              "       &#x27;VisitorType&#x27;, &#x27;Weekend&#x27;],\n",
              "      dtype=&#x27;object&#x27;))])),\n",
              "                (&#x27;standardscaler&#x27;, StandardScaler(with_mean=False))])</pre></div></div></div><div class=\"sk-serial\"><div class=\"sk-item\"><div class=\"sk-estimator sk-toggleable\"><input class=\"sk-toggleable__control sk-hidden--visually\" id=\"sk-estimator-id-37\" type=\"checkbox\" ><label for=\"sk-estimator-id-37\" class=\"sk-toggleable__label sk-toggleable__label-arrow\">ColAdderDropper</label><div class=\"sk-toggleable__content\"><pre>ColAdderDropper(columns_list=[&#x27;Month&#x27;, &#x27;OperatingSystems&#x27;, &#x27;Browser&#x27;, &#x27;Region&#x27;,\n",
              "                              &#x27;TrafficType&#x27;],\n",
              "                num_top_values_list=[10, 5, 8, 9, 11])</pre></div></div></div><div class=\"sk-item sk-dashed-wrapped\"><div class=\"sk-label-container\"><div class=\"sk-label sk-toggleable\"><input class=\"sk-toggleable__control sk-hidden--visually\" id=\"sk-estimator-id-38\" type=\"checkbox\" ><label for=\"sk-estimator-id-38\" class=\"sk-toggleable__label sk-toggleable__label-arrow\">columntransformer: ColumnTransformer</label><div class=\"sk-toggleable__content\"><pre>ColumnTransformer(transformers=[(&#x27;simpleimputer&#x27;, SimpleImputer(),\n",
              "                                 Index([&#x27;Administrative&#x27;, &#x27;Administrative_Duration&#x27;, &#x27;Informational&#x27;,\n",
              "       &#x27;Informational_Duration&#x27;, &#x27;ProductRelated&#x27;, &#x27;ProductRelated_Duration&#x27;,\n",
              "       &#x27;BounceRates&#x27;, &#x27;ExitRates&#x27;, &#x27;PageValues&#x27;, &#x27;SpecialDay&#x27;],\n",
              "      dtype=&#x27;object&#x27;)),\n",
              "                                (&#x27;pipeline&#x27;,\n",
              "                                 Pipeline(steps=[(&#x27;simpleimputer&#x27;,\n",
              "                                                  SimpleImputer(strategy=&#x27;most_frequent&#x27;)),\n",
              "                                                 (&#x27;onehotencoder&#x27;,\n",
              "                                                  OneHotEncoder(handle_unknown=&#x27;ignore&#x27;))]),\n",
              "                                 Index([&#x27;Month&#x27;, &#x27;OperatingSystems&#x27;, &#x27;Browser&#x27;, &#x27;Region&#x27;, &#x27;TrafficType&#x27;,\n",
              "       &#x27;VisitorType&#x27;, &#x27;Weekend&#x27;],\n",
              "      dtype=&#x27;object&#x27;))])</pre></div></div></div><div class=\"sk-parallel\"><div class=\"sk-parallel-item\"><div class=\"sk-item\"><div class=\"sk-label-container\"><div class=\"sk-label sk-toggleable\"><input class=\"sk-toggleable__control sk-hidden--visually\" id=\"sk-estimator-id-39\" type=\"checkbox\" ><label for=\"sk-estimator-id-39\" class=\"sk-toggleable__label sk-toggleable__label-arrow\">simpleimputer</label><div class=\"sk-toggleable__content\"><pre>Index([&#x27;Administrative&#x27;, &#x27;Administrative_Duration&#x27;, &#x27;Informational&#x27;,\n",
              "       &#x27;Informational_Duration&#x27;, &#x27;ProductRelated&#x27;, &#x27;ProductRelated_Duration&#x27;,\n",
              "       &#x27;BounceRates&#x27;, &#x27;ExitRates&#x27;, &#x27;PageValues&#x27;, &#x27;SpecialDay&#x27;],\n",
              "      dtype=&#x27;object&#x27;)</pre></div></div></div><div class=\"sk-serial\"><div class=\"sk-item\"><div class=\"sk-estimator sk-toggleable\"><input class=\"sk-toggleable__control sk-hidden--visually\" id=\"sk-estimator-id-40\" type=\"checkbox\" ><label for=\"sk-estimator-id-40\" class=\"sk-toggleable__label sk-toggleable__label-arrow\">SimpleImputer</label><div class=\"sk-toggleable__content\"><pre>SimpleImputer()</pre></div></div></div></div></div></div><div class=\"sk-parallel-item\"><div class=\"sk-item\"><div class=\"sk-label-container\"><div class=\"sk-label sk-toggleable\"><input class=\"sk-toggleable__control sk-hidden--visually\" id=\"sk-estimator-id-41\" type=\"checkbox\" ><label for=\"sk-estimator-id-41\" class=\"sk-toggleable__label sk-toggleable__label-arrow\">pipeline</label><div class=\"sk-toggleable__content\"><pre>Index([&#x27;Month&#x27;, &#x27;OperatingSystems&#x27;, &#x27;Browser&#x27;, &#x27;Region&#x27;, &#x27;TrafficType&#x27;,\n",
              "       &#x27;VisitorType&#x27;, &#x27;Weekend&#x27;],\n",
              "      dtype=&#x27;object&#x27;)</pre></div></div></div><div class=\"sk-serial\"><div class=\"sk-item\"><div class=\"sk-serial\"><div class=\"sk-item\"><div class=\"sk-estimator sk-toggleable\"><input class=\"sk-toggleable__control sk-hidden--visually\" id=\"sk-estimator-id-42\" type=\"checkbox\" ><label for=\"sk-estimator-id-42\" class=\"sk-toggleable__label sk-toggleable__label-arrow\">SimpleImputer</label><div class=\"sk-toggleable__content\"><pre>SimpleImputer(strategy=&#x27;most_frequent&#x27;)</pre></div></div></div><div class=\"sk-item\"><div class=\"sk-estimator sk-toggleable\"><input class=\"sk-toggleable__control sk-hidden--visually\" id=\"sk-estimator-id-43\" type=\"checkbox\" ><label for=\"sk-estimator-id-43\" class=\"sk-toggleable__label sk-toggleable__label-arrow\">OneHotEncoder</label><div class=\"sk-toggleable__content\"><pre>OneHotEncoder(handle_unknown=&#x27;ignore&#x27;)</pre></div></div></div></div></div></div></div></div></div></div><div class=\"sk-item\"><div class=\"sk-estimator sk-toggleable\"><input class=\"sk-toggleable__control sk-hidden--visually\" id=\"sk-estimator-id-44\" type=\"checkbox\" ><label for=\"sk-estimator-id-44\" class=\"sk-toggleable__label sk-toggleable__label-arrow\">StandardScaler</label><div class=\"sk-toggleable__content\"><pre>StandardScaler(with_mean=False)</pre></div></div></div></div></div><div class=\"sk-item\"><div class=\"sk-estimator sk-toggleable\"><input class=\"sk-toggleable__control sk-hidden--visually\" id=\"sk-estimator-id-45\" type=\"checkbox\" ><label for=\"sk-estimator-id-45\" class=\"sk-toggleable__label sk-toggleable__label-arrow\">SelectKBest</label><div class=\"sk-toggleable__content\"><pre>SelectKBest(k=7, score_func=&lt;function chi2 at 0x000002F9A20F27A0&gt;)</pre></div></div></div><div class=\"sk-item\"><div class=\"sk-estimator sk-toggleable\"><input class=\"sk-toggleable__control sk-hidden--visually\" id=\"sk-estimator-id-46\" type=\"checkbox\" ><label for=\"sk-estimator-id-46\" class=\"sk-toggleable__label sk-toggleable__label-arrow\">DecisionTreeClassifier</label><div class=\"sk-toggleable__content\"><pre>DecisionTreeClassifier(max_depth=10, random_state=0)</pre></div></div></div></div></div></div></div>"
            ],
            "text/plain": [
              "Pipeline(steps=[('preprocess',\n",
              "                 Pipeline(steps=[('coladderdropper',\n",
              "                                  ColAdderDropper(columns_list=['Month',\n",
              "                                                                'OperatingSystems',\n",
              "                                                                'Browser',\n",
              "                                                                'Region',\n",
              "                                                                'TrafficType'],\n",
              "                                                  num_top_values_list=[10, 5, 8,\n",
              "                                                                       9,\n",
              "                                                                       11])),\n",
              "                                 ('columntransformer',\n",
              "                                  ColumnTransformer(transformers=[('simpleimputer',\n",
              "                                                                   SimpleImputer(),\n",
              "                                                                   Index(['Administrative', 'Administrative_Duration', 'Informational',\n",
              "       'Infor...\n",
              "                                                                                    OneHotEncoder(handle_unknown='ignore'))]),\n",
              "                                                                   Index(['Month', 'OperatingSystems', 'Browser', 'Region', 'TrafficType',\n",
              "       'VisitorType', 'Weekend'],\n",
              "      dtype='object'))])),\n",
              "                                 ('standardscaler',\n",
              "                                  StandardScaler(with_mean=False))])),\n",
              "                ('selectkbest',\n",
              "                 SelectKBest(k=7,\n",
              "                             score_func=<function chi2 at 0x000002F9A20F27A0>)),\n",
              "                ('decisiontree',\n",
              "                 DecisionTreeClassifier(max_depth=10, random_state=0))])"
            ]
          },
          "execution_count": 30,
          "metadata": {},
          "output_type": "execute_result"
        }
      ],
      "source": [
        "tree_pipeline = Pipeline(steps=[\n",
        "    ('preprocess', preprocess_pipeline),\n",
        "    ('selectkbest', SelectKBest(chi2, k=7)),\n",
        "    ('decisiontree', DecisionTreeClassifier(random_state=0, max_depth=10))\n",
        "])\n",
        "tree_pipeline"
      ]
    },
    {
      "cell_type": "code",
      "execution_count": 31,
      "metadata": {},
      "outputs": [
        {
          "data": {
            "text/plain": [
              "89.27335640138409"
            ]
          },
          "execution_count": 31,
          "metadata": {},
          "output_type": "execute_result"
        }
      ],
      "source": [
        "tree_pipeline.fit(train_X_df, train_y_sr)\n",
        "tree_pipeline.score(val_X_df, val_y_sr)*100"
      ]
    },
    {
      "attachments": {},
      "cell_type": "markdown",
      "metadata": {},
      "source": [
        "From the defined parameters of decision model, which including `max_depth` is 10 and `number of k feautre kept` is 7, we receive ACCURACY is **89.2%**"
      ]
    },
    {
      "cell_type": "code",
      "execution_count": 35,
      "metadata": {},
      "outputs": [
        {
          "data": {
            "text/html": [
              "<style>#sk-container-id-6 {color: black;background-color: white;}#sk-container-id-6 pre{padding: 0;}#sk-container-id-6 div.sk-toggleable {background-color: white;}#sk-container-id-6 label.sk-toggleable__label {cursor: pointer;display: block;width: 100%;margin-bottom: 0;padding: 0.3em;box-sizing: border-box;text-align: center;}#sk-container-id-6 label.sk-toggleable__label-arrow:before {content: \"▸\";float: left;margin-right: 0.25em;color: #696969;}#sk-container-id-6 label.sk-toggleable__label-arrow:hover:before {color: black;}#sk-container-id-6 div.sk-estimator:hover label.sk-toggleable__label-arrow:before {color: black;}#sk-container-id-6 div.sk-toggleable__content {max-height: 0;max-width: 0;overflow: hidden;text-align: left;background-color: #f0f8ff;}#sk-container-id-6 div.sk-toggleable__content pre {margin: 0.2em;color: black;border-radius: 0.25em;background-color: #f0f8ff;}#sk-container-id-6 input.sk-toggleable__control:checked~div.sk-toggleable__content {max-height: 200px;max-width: 100%;overflow: auto;}#sk-container-id-6 input.sk-toggleable__control:checked~label.sk-toggleable__label-arrow:before {content: \"▾\";}#sk-container-id-6 div.sk-estimator input.sk-toggleable__control:checked~label.sk-toggleable__label {background-color: #d4ebff;}#sk-container-id-6 div.sk-label input.sk-toggleable__control:checked~label.sk-toggleable__label {background-color: #d4ebff;}#sk-container-id-6 input.sk-hidden--visually {border: 0;clip: rect(1px 1px 1px 1px);clip: rect(1px, 1px, 1px, 1px);height: 1px;margin: -1px;overflow: hidden;padding: 0;position: absolute;width: 1px;}#sk-container-id-6 div.sk-estimator {font-family: monospace;background-color: #f0f8ff;border: 1px dotted black;border-radius: 0.25em;box-sizing: border-box;margin-bottom: 0.5em;}#sk-container-id-6 div.sk-estimator:hover {background-color: #d4ebff;}#sk-container-id-6 div.sk-parallel-item::after {content: \"\";width: 100%;border-bottom: 1px solid gray;flex-grow: 1;}#sk-container-id-6 div.sk-label:hover label.sk-toggleable__label {background-color: #d4ebff;}#sk-container-id-6 div.sk-serial::before {content: \"\";position: absolute;border-left: 1px solid gray;box-sizing: border-box;top: 0;bottom: 0;left: 50%;z-index: 0;}#sk-container-id-6 div.sk-serial {display: flex;flex-direction: column;align-items: center;background-color: white;padding-right: 0.2em;padding-left: 0.2em;position: relative;}#sk-container-id-6 div.sk-item {position: relative;z-index: 1;}#sk-container-id-6 div.sk-parallel {display: flex;align-items: stretch;justify-content: center;background-color: white;position: relative;}#sk-container-id-6 div.sk-item::before, #sk-container-id-6 div.sk-parallel-item::before {content: \"\";position: absolute;border-left: 1px solid gray;box-sizing: border-box;top: 0;bottom: 0;left: 50%;z-index: -1;}#sk-container-id-6 div.sk-parallel-item {display: flex;flex-direction: column;z-index: 1;position: relative;background-color: white;}#sk-container-id-6 div.sk-parallel-item:first-child::after {align-self: flex-end;width: 50%;}#sk-container-id-6 div.sk-parallel-item:last-child::after {align-self: flex-start;width: 50%;}#sk-container-id-6 div.sk-parallel-item:only-child::after {width: 0;}#sk-container-id-6 div.sk-dashed-wrapped {border: 1px dashed gray;margin: 0 0.4em 0.5em 0.4em;box-sizing: border-box;padding-bottom: 0.4em;background-color: white;}#sk-container-id-6 div.sk-label label {font-family: monospace;font-weight: bold;display: inline-block;line-height: 1.2em;}#sk-container-id-6 div.sk-label-container {text-align: center;}#sk-container-id-6 div.sk-container {/* jupyter's `normalize.less` sets `[hidden] { display: none; }` but bootstrap.min.css set `[hidden] { display: none !important; }` so we also need the `!important` here to be able to override the default hidden behavior on the sphinx rendered scikit-learn.org. See: https://github.com/scikit-learn/scikit-learn/issues/21755 */display: inline-block !important;position: relative;}#sk-container-id-6 div.sk-text-repr-fallback {display: none;}</style><div id=\"sk-container-id-6\" class=\"sk-top-container\"><div class=\"sk-text-repr-fallback\"><pre>GridSearchCV(estimator=Pipeline(steps=[(&#x27;preprocess&#x27;,\n",
              "                                        Pipeline(steps=[(&#x27;coladderdropper&#x27;,\n",
              "                                                         ColAdderDropper(columns_list=[&#x27;Month&#x27;,\n",
              "                                                                                       &#x27;OperatingSystems&#x27;,\n",
              "                                                                                       &#x27;Browser&#x27;,\n",
              "                                                                                       &#x27;Region&#x27;,\n",
              "                                                                                       &#x27;TrafficType&#x27;],\n",
              "                                                                         num_top_values_list=[10,\n",
              "                                                                                              5,\n",
              "                                                                                              8,\n",
              "                                                                                              9,\n",
              "                                                                                              11])),\n",
              "                                                        (&#x27;columntransformer&#x27;,\n",
              "                                                         ColumnTransformer(transformers=[(&#x27;simpleimputer&#x27;,\n",
              "                                                                                          SimpleImputer(),\n",
              "                                                                                          Index([&#x27;Administrative&#x27;, &#x27;Administrative_Duration&#x27;...\n",
              "                                                                                          Index([&#x27;Month&#x27;, &#x27;OperatingSystems&#x27;, &#x27;Browser&#x27;, &#x27;Region&#x27;, &#x27;TrafficType&#x27;,\n",
              "       &#x27;VisitorType&#x27;, &#x27;Weekend&#x27;],\n",
              "      dtype=&#x27;object&#x27;))])),\n",
              "                                                        (&#x27;standardscaler&#x27;,\n",
              "                                                         StandardScaler(with_mean=False))])),\n",
              "                                       (&#x27;selectkbest&#x27;,\n",
              "                                        SelectKBest(k=7,\n",
              "                                                    score_func=&lt;function chi2 at 0x000002F9A20F27A0&gt;)),\n",
              "                                       (&#x27;decisiontree&#x27;,\n",
              "                                        DecisionTreeClassifier(max_depth=10,\n",
              "                                                               random_state=0))]),\n",
              "             param_grid={&#x27;decisiontree__max_depth&#x27;: [5, 8, 10, 12, 15],\n",
              "                         &#x27;selectkbest__k&#x27;: [3, 5, 7, 9, 13, 15]})</pre><b>In a Jupyter environment, please rerun this cell to show the HTML representation or trust the notebook. <br />On GitHub, the HTML representation is unable to render, please try loading this page with nbviewer.org.</b></div><div class=\"sk-container\" hidden><div class=\"sk-item sk-dashed-wrapped\"><div class=\"sk-label-container\"><div class=\"sk-label sk-toggleable\"><input class=\"sk-toggleable__control sk-hidden--visually\" id=\"sk-estimator-id-60\" type=\"checkbox\" ><label for=\"sk-estimator-id-60\" class=\"sk-toggleable__label sk-toggleable__label-arrow\">GridSearchCV</label><div class=\"sk-toggleable__content\"><pre>GridSearchCV(estimator=Pipeline(steps=[(&#x27;preprocess&#x27;,\n",
              "                                        Pipeline(steps=[(&#x27;coladderdropper&#x27;,\n",
              "                                                         ColAdderDropper(columns_list=[&#x27;Month&#x27;,\n",
              "                                                                                       &#x27;OperatingSystems&#x27;,\n",
              "                                                                                       &#x27;Browser&#x27;,\n",
              "                                                                                       &#x27;Region&#x27;,\n",
              "                                                                                       &#x27;TrafficType&#x27;],\n",
              "                                                                         num_top_values_list=[10,\n",
              "                                                                                              5,\n",
              "                                                                                              8,\n",
              "                                                                                              9,\n",
              "                                                                                              11])),\n",
              "                                                        (&#x27;columntransformer&#x27;,\n",
              "                                                         ColumnTransformer(transformers=[(&#x27;simpleimputer&#x27;,\n",
              "                                                                                          SimpleImputer(),\n",
              "                                                                                          Index([&#x27;Administrative&#x27;, &#x27;Administrative_Duration&#x27;...\n",
              "                                                                                          Index([&#x27;Month&#x27;, &#x27;OperatingSystems&#x27;, &#x27;Browser&#x27;, &#x27;Region&#x27;, &#x27;TrafficType&#x27;,\n",
              "       &#x27;VisitorType&#x27;, &#x27;Weekend&#x27;],\n",
              "      dtype=&#x27;object&#x27;))])),\n",
              "                                                        (&#x27;standardscaler&#x27;,\n",
              "                                                         StandardScaler(with_mean=False))])),\n",
              "                                       (&#x27;selectkbest&#x27;,\n",
              "                                        SelectKBest(k=7,\n",
              "                                                    score_func=&lt;function chi2 at 0x000002F9A20F27A0&gt;)),\n",
              "                                       (&#x27;decisiontree&#x27;,\n",
              "                                        DecisionTreeClassifier(max_depth=10,\n",
              "                                                               random_state=0))]),\n",
              "             param_grid={&#x27;decisiontree__max_depth&#x27;: [5, 8, 10, 12, 15],\n",
              "                         &#x27;selectkbest__k&#x27;: [3, 5, 7, 9, 13, 15]})</pre></div></div></div><div class=\"sk-parallel\"><div class=\"sk-parallel-item\"><div class=\"sk-item\"><div class=\"sk-label-container\"><div class=\"sk-label sk-toggleable\"><input class=\"sk-toggleable__control sk-hidden--visually\" id=\"sk-estimator-id-61\" type=\"checkbox\" ><label for=\"sk-estimator-id-61\" class=\"sk-toggleable__label sk-toggleable__label-arrow\">estimator: Pipeline</label><div class=\"sk-toggleable__content\"><pre>Pipeline(steps=[(&#x27;preprocess&#x27;,\n",
              "                 Pipeline(steps=[(&#x27;coladderdropper&#x27;,\n",
              "                                  ColAdderDropper(columns_list=[&#x27;Month&#x27;,\n",
              "                                                                &#x27;OperatingSystems&#x27;,\n",
              "                                                                &#x27;Browser&#x27;,\n",
              "                                                                &#x27;Region&#x27;,\n",
              "                                                                &#x27;TrafficType&#x27;],\n",
              "                                                  num_top_values_list=[10, 5, 8,\n",
              "                                                                       9,\n",
              "                                                                       11])),\n",
              "                                 (&#x27;columntransformer&#x27;,\n",
              "                                  ColumnTransformer(transformers=[(&#x27;simpleimputer&#x27;,\n",
              "                                                                   SimpleImputer(),\n",
              "                                                                   Index([&#x27;Administrative&#x27;, &#x27;Administrative_Duration&#x27;, &#x27;Informational&#x27;,\n",
              "       &#x27;Infor...\n",
              "                                                                                    OneHotEncoder(handle_unknown=&#x27;ignore&#x27;))]),\n",
              "                                                                   Index([&#x27;Month&#x27;, &#x27;OperatingSystems&#x27;, &#x27;Browser&#x27;, &#x27;Region&#x27;, &#x27;TrafficType&#x27;,\n",
              "       &#x27;VisitorType&#x27;, &#x27;Weekend&#x27;],\n",
              "      dtype=&#x27;object&#x27;))])),\n",
              "                                 (&#x27;standardscaler&#x27;,\n",
              "                                  StandardScaler(with_mean=False))])),\n",
              "                (&#x27;selectkbest&#x27;,\n",
              "                 SelectKBest(k=7,\n",
              "                             score_func=&lt;function chi2 at 0x000002F9A20F27A0&gt;)),\n",
              "                (&#x27;decisiontree&#x27;,\n",
              "                 DecisionTreeClassifier(max_depth=10, random_state=0))])</pre></div></div></div><div class=\"sk-serial\"><div class=\"sk-item\"><div class=\"sk-serial\"><div class=\"sk-item\"><div class=\"sk-label-container\"><div class=\"sk-label sk-toggleable\"><input class=\"sk-toggleable__control sk-hidden--visually\" id=\"sk-estimator-id-62\" type=\"checkbox\" ><label for=\"sk-estimator-id-62\" class=\"sk-toggleable__label sk-toggleable__label-arrow\">preprocess: Pipeline</label><div class=\"sk-toggleable__content\"><pre>Pipeline(steps=[(&#x27;coladderdropper&#x27;,\n",
              "                 ColAdderDropper(columns_list=[&#x27;Month&#x27;, &#x27;OperatingSystems&#x27;,\n",
              "                                               &#x27;Browser&#x27;, &#x27;Region&#x27;,\n",
              "                                               &#x27;TrafficType&#x27;],\n",
              "                                 num_top_values_list=[10, 5, 8, 9, 11])),\n",
              "                (&#x27;columntransformer&#x27;,\n",
              "                 ColumnTransformer(transformers=[(&#x27;simpleimputer&#x27;,\n",
              "                                                  SimpleImputer(),\n",
              "                                                  Index([&#x27;Administrative&#x27;, &#x27;Administrative_Duration&#x27;, &#x27;Informational&#x27;,\n",
              "       &#x27;Informational_Duration&#x27;, &#x27;ProductRel...\n",
              "       &#x27;BounceRates&#x27;, &#x27;ExitRates&#x27;, &#x27;PageValues&#x27;, &#x27;SpecialDay&#x27;],\n",
              "      dtype=&#x27;object&#x27;)),\n",
              "                                                 (&#x27;pipeline&#x27;,\n",
              "                                                  Pipeline(steps=[(&#x27;simpleimputer&#x27;,\n",
              "                                                                   SimpleImputer(strategy=&#x27;most_frequent&#x27;)),\n",
              "                                                                  (&#x27;onehotencoder&#x27;,\n",
              "                                                                   OneHotEncoder(handle_unknown=&#x27;ignore&#x27;))]),\n",
              "                                                  Index([&#x27;Month&#x27;, &#x27;OperatingSystems&#x27;, &#x27;Browser&#x27;, &#x27;Region&#x27;, &#x27;TrafficType&#x27;,\n",
              "       &#x27;VisitorType&#x27;, &#x27;Weekend&#x27;],\n",
              "      dtype=&#x27;object&#x27;))])),\n",
              "                (&#x27;standardscaler&#x27;, StandardScaler(with_mean=False))])</pre></div></div></div><div class=\"sk-serial\"><div class=\"sk-item\"><div class=\"sk-estimator sk-toggleable\"><input class=\"sk-toggleable__control sk-hidden--visually\" id=\"sk-estimator-id-63\" type=\"checkbox\" ><label for=\"sk-estimator-id-63\" class=\"sk-toggleable__label sk-toggleable__label-arrow\">ColAdderDropper</label><div class=\"sk-toggleable__content\"><pre>ColAdderDropper(columns_list=[&#x27;Month&#x27;, &#x27;OperatingSystems&#x27;, &#x27;Browser&#x27;, &#x27;Region&#x27;,\n",
              "                              &#x27;TrafficType&#x27;],\n",
              "                num_top_values_list=[10, 5, 8, 9, 11])</pre></div></div></div><div class=\"sk-item sk-dashed-wrapped\"><div class=\"sk-label-container\"><div class=\"sk-label sk-toggleable\"><input class=\"sk-toggleable__control sk-hidden--visually\" id=\"sk-estimator-id-64\" type=\"checkbox\" ><label for=\"sk-estimator-id-64\" class=\"sk-toggleable__label sk-toggleable__label-arrow\">columntransformer: ColumnTransformer</label><div class=\"sk-toggleable__content\"><pre>ColumnTransformer(transformers=[(&#x27;simpleimputer&#x27;, SimpleImputer(),\n",
              "                                 Index([&#x27;Administrative&#x27;, &#x27;Administrative_Duration&#x27;, &#x27;Informational&#x27;,\n",
              "       &#x27;Informational_Duration&#x27;, &#x27;ProductRelated&#x27;, &#x27;ProductRelated_Duration&#x27;,\n",
              "       &#x27;BounceRates&#x27;, &#x27;ExitRates&#x27;, &#x27;PageValues&#x27;, &#x27;SpecialDay&#x27;],\n",
              "      dtype=&#x27;object&#x27;)),\n",
              "                                (&#x27;pipeline&#x27;,\n",
              "                                 Pipeline(steps=[(&#x27;simpleimputer&#x27;,\n",
              "                                                  SimpleImputer(strategy=&#x27;most_frequent&#x27;)),\n",
              "                                                 (&#x27;onehotencoder&#x27;,\n",
              "                                                  OneHotEncoder(handle_unknown=&#x27;ignore&#x27;))]),\n",
              "                                 Index([&#x27;Month&#x27;, &#x27;OperatingSystems&#x27;, &#x27;Browser&#x27;, &#x27;Region&#x27;, &#x27;TrafficType&#x27;,\n",
              "       &#x27;VisitorType&#x27;, &#x27;Weekend&#x27;],\n",
              "      dtype=&#x27;object&#x27;))])</pre></div></div></div><div class=\"sk-parallel\"><div class=\"sk-parallel-item\"><div class=\"sk-item\"><div class=\"sk-label-container\"><div class=\"sk-label sk-toggleable\"><input class=\"sk-toggleable__control sk-hidden--visually\" id=\"sk-estimator-id-65\" type=\"checkbox\" ><label for=\"sk-estimator-id-65\" class=\"sk-toggleable__label sk-toggleable__label-arrow\">simpleimputer</label><div class=\"sk-toggleable__content\"><pre>Index([&#x27;Administrative&#x27;, &#x27;Administrative_Duration&#x27;, &#x27;Informational&#x27;,\n",
              "       &#x27;Informational_Duration&#x27;, &#x27;ProductRelated&#x27;, &#x27;ProductRelated_Duration&#x27;,\n",
              "       &#x27;BounceRates&#x27;, &#x27;ExitRates&#x27;, &#x27;PageValues&#x27;, &#x27;SpecialDay&#x27;],\n",
              "      dtype=&#x27;object&#x27;)</pre></div></div></div><div class=\"sk-serial\"><div class=\"sk-item\"><div class=\"sk-estimator sk-toggleable\"><input class=\"sk-toggleable__control sk-hidden--visually\" id=\"sk-estimator-id-66\" type=\"checkbox\" ><label for=\"sk-estimator-id-66\" class=\"sk-toggleable__label sk-toggleable__label-arrow\">SimpleImputer</label><div class=\"sk-toggleable__content\"><pre>SimpleImputer()</pre></div></div></div></div></div></div><div class=\"sk-parallel-item\"><div class=\"sk-item\"><div class=\"sk-label-container\"><div class=\"sk-label sk-toggleable\"><input class=\"sk-toggleable__control sk-hidden--visually\" id=\"sk-estimator-id-67\" type=\"checkbox\" ><label for=\"sk-estimator-id-67\" class=\"sk-toggleable__label sk-toggleable__label-arrow\">pipeline</label><div class=\"sk-toggleable__content\"><pre>Index([&#x27;Month&#x27;, &#x27;OperatingSystems&#x27;, &#x27;Browser&#x27;, &#x27;Region&#x27;, &#x27;TrafficType&#x27;,\n",
              "       &#x27;VisitorType&#x27;, &#x27;Weekend&#x27;],\n",
              "      dtype=&#x27;object&#x27;)</pre></div></div></div><div class=\"sk-serial\"><div class=\"sk-item\"><div class=\"sk-serial\"><div class=\"sk-item\"><div class=\"sk-estimator sk-toggleable\"><input class=\"sk-toggleable__control sk-hidden--visually\" id=\"sk-estimator-id-68\" type=\"checkbox\" ><label for=\"sk-estimator-id-68\" class=\"sk-toggleable__label sk-toggleable__label-arrow\">SimpleImputer</label><div class=\"sk-toggleable__content\"><pre>SimpleImputer(strategy=&#x27;most_frequent&#x27;)</pre></div></div></div><div class=\"sk-item\"><div class=\"sk-estimator sk-toggleable\"><input class=\"sk-toggleable__control sk-hidden--visually\" id=\"sk-estimator-id-69\" type=\"checkbox\" ><label for=\"sk-estimator-id-69\" class=\"sk-toggleable__label sk-toggleable__label-arrow\">OneHotEncoder</label><div class=\"sk-toggleable__content\"><pre>OneHotEncoder(handle_unknown=&#x27;ignore&#x27;)</pre></div></div></div></div></div></div></div></div></div></div><div class=\"sk-item\"><div class=\"sk-estimator sk-toggleable\"><input class=\"sk-toggleable__control sk-hidden--visually\" id=\"sk-estimator-id-70\" type=\"checkbox\" ><label for=\"sk-estimator-id-70\" class=\"sk-toggleable__label sk-toggleable__label-arrow\">StandardScaler</label><div class=\"sk-toggleable__content\"><pre>StandardScaler(with_mean=False)</pre></div></div></div></div></div><div class=\"sk-item\"><div class=\"sk-estimator sk-toggleable\"><input class=\"sk-toggleable__control sk-hidden--visually\" id=\"sk-estimator-id-71\" type=\"checkbox\" ><label for=\"sk-estimator-id-71\" class=\"sk-toggleable__label sk-toggleable__label-arrow\">SelectKBest</label><div class=\"sk-toggleable__content\"><pre>SelectKBest(k=7, score_func=&lt;function chi2 at 0x000002F9A20F27A0&gt;)</pre></div></div></div><div class=\"sk-item\"><div class=\"sk-estimator sk-toggleable\"><input class=\"sk-toggleable__control sk-hidden--visually\" id=\"sk-estimator-id-72\" type=\"checkbox\" ><label for=\"sk-estimator-id-72\" class=\"sk-toggleable__label sk-toggleable__label-arrow\">DecisionTreeClassifier</label><div class=\"sk-toggleable__content\"><pre>DecisionTreeClassifier(max_depth=10, random_state=0)</pre></div></div></div></div></div></div></div></div></div></div></div></div>"
            ],
            "text/plain": [
              "GridSearchCV(estimator=Pipeline(steps=[('preprocess',\n",
              "                                        Pipeline(steps=[('coladderdropper',\n",
              "                                                         ColAdderDropper(columns_list=['Month',\n",
              "                                                                                       'OperatingSystems',\n",
              "                                                                                       'Browser',\n",
              "                                                                                       'Region',\n",
              "                                                                                       'TrafficType'],\n",
              "                                                                         num_top_values_list=[10,\n",
              "                                                                                              5,\n",
              "                                                                                              8,\n",
              "                                                                                              9,\n",
              "                                                                                              11])),\n",
              "                                                        ('columntransformer',\n",
              "                                                         ColumnTransformer(transformers=[('simpleimputer',\n",
              "                                                                                          SimpleImputer(),\n",
              "                                                                                          Index(['Administrative', 'Administrative_Duration'...\n",
              "                                                                                          Index(['Month', 'OperatingSystems', 'Browser', 'Region', 'TrafficType',\n",
              "       'VisitorType', 'Weekend'],\n",
              "      dtype='object'))])),\n",
              "                                                        ('standardscaler',\n",
              "                                                         StandardScaler(with_mean=False))])),\n",
              "                                       ('selectkbest',\n",
              "                                        SelectKBest(k=7,\n",
              "                                                    score_func=<function chi2 at 0x000002F9A20F27A0>)),\n",
              "                                       ('decisiontree',\n",
              "                                        DecisionTreeClassifier(max_depth=10,\n",
              "                                                               random_state=0))]),\n",
              "             param_grid={'decisiontree__max_depth': [5, 8, 10, 12, 15],\n",
              "                         'selectkbest__k': [3, 5, 7, 9, 13, 15]})"
            ]
          },
          "execution_count": 35,
          "metadata": {},
          "output_type": "execute_result"
        }
      ],
      "source": [
        "optimize_pipeline = Pipeline(steps=[\n",
        "    ('preprocess', preprocess_pipeline),\n",
        "    ('selectkbest', SelectKBest(chi2)),\n",
        "    ('decisiontree', DecisionTreeClassifier(random_state=0))\n",
        "])\n",
        "\n",
        "param_grid_tree = {'selectkbest__k': [3, 5, 7, 9, 13, 15],\n",
        "                'decisiontree__max_depth': [5, 8, 10, 12, 15]}\n",
        "\n",
        "grid_search_tree = GridSearchCV(tree_pipeline, param_grid_tree)\n",
        "grid_search_tree.fit(train_X_df, train_y_sr)"
      ]
    },
    {
      "cell_type": "code",
      "execution_count": 39,
      "metadata": {},
      "outputs": [
        {
          "data": {
            "text/plain": [
              "91.82525951557093"
            ]
          },
          "execution_count": 39,
          "metadata": {},
          "output_type": "execute_result"
        }
      ],
      "source": [
        "grid_search_tree.score(val_X_df, val_y_sr)*100"
      ]
    },
    {
      "attachments": {},
      "cell_type": "markdown",
      "metadata": {},
      "source": [
        "After grid searching in the fields of `number k features kept` and `max depth`, we figure out the new better ACCURACY was ~ **92%**"
      ]
    },
    {
      "cell_type": "code",
      "execution_count": 33,
      "metadata": {},
      "outputs": [
        {
          "data": {
            "image/png": "[encoded data removed]",
            "text/plain": [
              "<Figure size 720x360 with 2 Axes>"
            ]
          },
          "metadata": {
            "needs_background": "light"
          },
          "output_type": "display_data"
        }
      ],
      "source": [
        "def plot_grid_search_heatmap(grid_search, grid_params, attribute='mean_test_score', title='None'):\n",
        "    scores = np.array(grid_search.cv_results_[attribute]*100).reshape(5,6)\n",
        "    df_heatmap = pd.DataFrame(scores, columns=grid_params[list(grid_params.keys())[0]], index=param_grid_tree[list(param_grid_tree.keys())[1]])\n",
        "    sns.heatmap(df_heatmap, square=True, annot=True, cbar=False, fmt='.2f', cmap='Reds')\n",
        "    plt.title(title)\n",
        "    plt.xlabel(list(grid_params.keys())[0])\n",
        "    plt.ylabel(list(grid_params.keys())[1])\n",
        "\n",
        "plt.figure(figsize=(10, 5))\n",
        "plt.subplot(1, 2, 1) \n",
        "plot_grid_search_heatmap(grid_search_tree, param_grid_tree, title='Accuracies of training set')\n",
        "plt.subplot(1, 2, 2)\n",
        "plot_grid_search_heatmap(grid_search_tree, param_grid_tree, attribute='split0_test_score', title='Accuracies of validation set')"
      ]
    },
    {
      "cell_type": "code",
      "execution_count": 40,
      "metadata": {},
      "outputs": [
        {
          "data": {
            "text/plain": [
              "89.16639636717483"
            ]
          },
          "execution_count": 40,
          "metadata": {},
          "output_type": "execute_result"
        }
      ],
      "source": [
        "accuracy_score(grid_search_tree.predict(test_X_df), test_y_sr)*100"
      ]
    }
  ],
  "metadata": {
    "colab": {
      "provenance": []
    },
    "kernelspec": {
      "display_name": "Python 3",
      "language": "python",
      "name": "python3"
    },
    "language_info": {
      "codemirror_mode": {
        "name": "ipython",
        "version": 3
      },
      "file_extension": ".py",
      "mimetype": "text/x-python",
      "name": "python",
      "nbconvert_exporter": "python",
      "pygments_lexer": "ipython3",
      "version": "3.10.2"
    },
    "vscode": {
      "interpreter": {
        "hash": "92ea70cb9331c87a6e87e6ba829f55a3cff66e051583a0c31932cac77bd3dc7a"
      }
    }
  },
  "nbformat": 4,
  "nbformat_minor": 0
}
