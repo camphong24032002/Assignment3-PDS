{
 "cells": [
  {
   "attachments": {},
   "cell_type": "markdown",
   "metadata": {},
   "source": [
    "# Task 0: Choosing you project topic"
   ]
  },
  {
   "attachments": {},
   "cell_type": "markdown",
   "metadata": {},
   "source": [
    "We select the problem type 1: Focusing on Data Modelling and the dataset we choose is Online Shoppers Purchasing Intention Dataset Data Set."
   ]
  },
  {
   "attachments": {},
   "cell_type": "markdown",
   "metadata": {},
   "source": [
    "# Task 1: Retrieving and Preparing the Data"
   ]
  },
  {
   "attachments": {},
   "cell_type": "markdown",
   "metadata": {},
   "source": [
    "<h4><b>Import library</b></h4>"
   ]
  },
  {
   "cell_type": "code",
   "execution_count": 2,
   "metadata": {},
   "outputs": [],
   "source": [
    "import matplotlib.pyplot as plt\n",
    "import seaborn as sns \n",
    "import pandas as pd\n",
    "import numpy as np\n",
    "\n",
    "from sklearn.model_selection import train_test_split, KFold\n",
    "from sklearn.preprocessing import OneHotEncoder, StandardScaler, LabelEncoder\n",
    "from sklearn.impute import SimpleImputer\n",
    "from sklearn.base import BaseEstimator, TransformerMixin\n",
    "from sklearn.pipeline import Pipeline, make_pipeline\n",
    "from sklearn.compose import ColumnTransformer, make_column_transformer\n",
    "from sklearn.neural_network import MLPClassifier\n",
    "from sklearn import set_config\n",
    "from sklearn.neighbors import LocalOutlierFactor\n",
    "from sklearn.feature_selection import f_regression, f_classif, mutual_info_classif, chi2, SelectKBest\n",
    "set_config(display='diagram')"
   ]
  },
  {
   "attachments": {},
   "cell_type": "markdown",
   "metadata": {},
   "source": [
    "<h4><b>Load data</b></h4>"
   ]
  },
  {
   "cell_type": "code",
   "execution_count": 3,
   "metadata": {},
   "outputs": [
    {
     "data": {
      "text/html": [
       "<div>\n",
       "<style scoped>\n",
       "    .dataframe tbody tr th:only-of-type {\n",
       "        vertical-align: middle;\n",
       "    }\n",
       "\n",
       "    .dataframe tbody tr th {\n",
       "        vertical-align: top;\n",
       "    }\n",
       "\n",
       "    .dataframe thead th {\n",
       "        text-align: right;\n",
       "    }\n",
       "</style>\n",
       "<table border=\"1\" class=\"dataframe\">\n",
       "  <thead>\n",
       "    <tr style=\"text-align: right;\">\n",
       "      <th></th>\n",
       "      <th>Administrative</th>\n",
       "      <th>Administrative_Duration</th>\n",
       "      <th>Informational</th>\n",
       "      <th>Informational_Duration</th>\n",
       "      <th>ProductRelated</th>\n",
       "      <th>ProductRelated_Duration</th>\n",
       "      <th>BounceRates</th>\n",
       "      <th>ExitRates</th>\n",
       "      <th>PageValues</th>\n",
       "      <th>SpecialDay</th>\n",
       "      <th>Month</th>\n",
       "      <th>OperatingSystems</th>\n",
       "      <th>Browser</th>\n",
       "      <th>Region</th>\n",
       "      <th>TrafficType</th>\n",
       "      <th>VisitorType</th>\n",
       "      <th>Weekend</th>\n",
       "      <th>Revenue</th>\n",
       "    </tr>\n",
       "  </thead>\n",
       "  <tbody>\n",
       "    <tr>\n",
       "      <th>0</th>\n",
       "      <td>0</td>\n",
       "      <td>0.0</td>\n",
       "      <td>0</td>\n",
       "      <td>0.0</td>\n",
       "      <td>1</td>\n",
       "      <td>0.000000</td>\n",
       "      <td>0.20</td>\n",
       "      <td>0.20</td>\n",
       "      <td>0.0</td>\n",
       "      <td>0.0</td>\n",
       "      <td>Feb</td>\n",
       "      <td>1</td>\n",
       "      <td>1</td>\n",
       "      <td>1</td>\n",
       "      <td>1</td>\n",
       "      <td>Returning_Visitor</td>\n",
       "      <td>False</td>\n",
       "      <td>False</td>\n",
       "    </tr>\n",
       "    <tr>\n",
       "      <th>1</th>\n",
       "      <td>0</td>\n",
       "      <td>0.0</td>\n",
       "      <td>0</td>\n",
       "      <td>0.0</td>\n",
       "      <td>2</td>\n",
       "      <td>64.000000</td>\n",
       "      <td>0.00</td>\n",
       "      <td>0.10</td>\n",
       "      <td>0.0</td>\n",
       "      <td>0.0</td>\n",
       "      <td>Feb</td>\n",
       "      <td>2</td>\n",
       "      <td>2</td>\n",
       "      <td>1</td>\n",
       "      <td>2</td>\n",
       "      <td>Returning_Visitor</td>\n",
       "      <td>False</td>\n",
       "      <td>False</td>\n",
       "    </tr>\n",
       "    <tr>\n",
       "      <th>2</th>\n",
       "      <td>0</td>\n",
       "      <td>0.0</td>\n",
       "      <td>0</td>\n",
       "      <td>0.0</td>\n",
       "      <td>1</td>\n",
       "      <td>0.000000</td>\n",
       "      <td>0.20</td>\n",
       "      <td>0.20</td>\n",
       "      <td>0.0</td>\n",
       "      <td>0.0</td>\n",
       "      <td>Feb</td>\n",
       "      <td>4</td>\n",
       "      <td>1</td>\n",
       "      <td>9</td>\n",
       "      <td>3</td>\n",
       "      <td>Returning_Visitor</td>\n",
       "      <td>False</td>\n",
       "      <td>False</td>\n",
       "    </tr>\n",
       "    <tr>\n",
       "      <th>3</th>\n",
       "      <td>0</td>\n",
       "      <td>0.0</td>\n",
       "      <td>0</td>\n",
       "      <td>0.0</td>\n",
       "      <td>2</td>\n",
       "      <td>2.666667</td>\n",
       "      <td>0.05</td>\n",
       "      <td>0.14</td>\n",
       "      <td>0.0</td>\n",
       "      <td>0.0</td>\n",
       "      <td>Feb</td>\n",
       "      <td>3</td>\n",
       "      <td>2</td>\n",
       "      <td>2</td>\n",
       "      <td>4</td>\n",
       "      <td>Returning_Visitor</td>\n",
       "      <td>False</td>\n",
       "      <td>False</td>\n",
       "    </tr>\n",
       "    <tr>\n",
       "      <th>4</th>\n",
       "      <td>0</td>\n",
       "      <td>0.0</td>\n",
       "      <td>0</td>\n",
       "      <td>0.0</td>\n",
       "      <td>10</td>\n",
       "      <td>627.500000</td>\n",
       "      <td>0.02</td>\n",
       "      <td>0.05</td>\n",
       "      <td>0.0</td>\n",
       "      <td>0.0</td>\n",
       "      <td>Feb</td>\n",
       "      <td>3</td>\n",
       "      <td>3</td>\n",
       "      <td>1</td>\n",
       "      <td>4</td>\n",
       "      <td>Returning_Visitor</td>\n",
       "      <td>True</td>\n",
       "      <td>False</td>\n",
       "    </tr>\n",
       "  </tbody>\n",
       "</table>\n",
       "</div>"
      ],
      "text/plain": [
       "   Administrative  Administrative_Duration  Informational  \\\n",
       "0               0                      0.0              0   \n",
       "1               0                      0.0              0   \n",
       "2               0                      0.0              0   \n",
       "3               0                      0.0              0   \n",
       "4               0                      0.0              0   \n",
       "\n",
       "   Informational_Duration  ProductRelated  ProductRelated_Duration  \\\n",
       "0                     0.0               1                 0.000000   \n",
       "1                     0.0               2                64.000000   \n",
       "2                     0.0               1                 0.000000   \n",
       "3                     0.0               2                 2.666667   \n",
       "4                     0.0              10               627.500000   \n",
       "\n",
       "   BounceRates  ExitRates  PageValues  SpecialDay Month  OperatingSystems  \\\n",
       "0         0.20       0.20         0.0         0.0   Feb                 1   \n",
       "1         0.00       0.10         0.0         0.0   Feb                 2   \n",
       "2         0.20       0.20         0.0         0.0   Feb                 4   \n",
       "3         0.05       0.14         0.0         0.0   Feb                 3   \n",
       "4         0.02       0.05         0.0         0.0   Feb                 3   \n",
       "\n",
       "   Browser  Region  TrafficType        VisitorType  Weekend  Revenue  \n",
       "0        1       1            1  Returning_Visitor    False    False  \n",
       "1        2       1            2  Returning_Visitor    False    False  \n",
       "2        1       9            3  Returning_Visitor    False    False  \n",
       "3        2       2            4  Returning_Visitor    False    False  \n",
       "4        3       1            4  Returning_Visitor     True    False  "
      ]
     },
     "execution_count": 3,
     "metadata": {},
     "output_type": "execute_result"
    }
   ],
   "source": [
    "data = pd.read_csv('https://archive.ics.uci.edu/ml/machine-learning-databases/00468/online_shoppers_intention.csv', sep=',')\n",
    "data.head()"
   ]
  },
  {
   "attachments": {},
   "cell_type": "markdown",
   "metadata": {},
   "source": [
    "<h4><b>Data description</b></h4>"
   ]
  },
  {
   "attachments": {},
   "cell_type": "markdown",
   "metadata": {},
   "source": [
    "<p>The dataset consists of 10 numerical and 8 categorical attributes.</p>\n",
    "<p>The 'Revenue' attribute can be used as the class label.</p>\n",
    "<p>We refer to split the data set into train set and test set with ratio 70%-30%. Test set will be kept to calculate the accuracy of the model</p>"
   ]
  },
  {
   "cell_type": "code",
   "execution_count": 4,
   "metadata": {},
   "outputs": [],
   "source": [
    "df, test_df = train_test_split(data, test_size=0.3, random_state=0)\n",
    "train_df, val_df = train_test_split(df, test_size=0.75, random_state=0)"
   ]
  },
  {
   "attachments": {},
   "cell_type": "markdown",
   "metadata": {},
   "source": [
    "### a) Check data types"
   ]
  },
  {
   "cell_type": "code",
   "execution_count": 5,
   "metadata": {},
   "outputs": [
    {
     "data": {
      "text/plain": [
       "Administrative               int64\n",
       "Administrative_Duration    float64\n",
       "Informational                int64\n",
       "Informational_Duration     float64\n",
       "ProductRelated               int64\n",
       "ProductRelated_Duration    float64\n",
       "BounceRates                float64\n",
       "ExitRates                  float64\n",
       "PageValues                 float64\n",
       "SpecialDay                 float64\n",
       "Month                       object\n",
       "OperatingSystems             int64\n",
       "Browser                      int64\n",
       "Region                       int64\n",
       "TrafficType                  int64\n",
       "VisitorType                 object\n",
       "Weekend                       bool\n",
       "Revenue                       bool\n",
       "dtype: object"
      ]
     },
     "execution_count": 5,
     "metadata": {},
     "output_type": "execute_result"
    }
   ],
   "source": [
    "train_df.dtypes"
   ]
  },
  {
   "attachments": {},
   "cell_type": "markdown",
   "metadata": {},
   "source": [
    "The data types are the same as description of the dataset"
   ]
  },
  {
   "attachments": {},
   "cell_type": "markdown",
   "metadata": {},
   "source": [
    "### b) Deal with missing values\n",
    "We check the data type of each column and whether the column has missing value"
   ]
  },
  {
   "cell_type": "code",
   "execution_count": 6,
   "metadata": {},
   "outputs": [
    {
     "data": {
      "text/plain": [
       "Administrative             0\n",
       "Administrative_Duration    0\n",
       "Informational              0\n",
       "Informational_Duration     0\n",
       "ProductRelated             0\n",
       "ProductRelated_Duration    0\n",
       "BounceRates                0\n",
       "ExitRates                  0\n",
       "PageValues                 0\n",
       "SpecialDay                 0\n",
       "Month                      0\n",
       "OperatingSystems           0\n",
       "Browser                    0\n",
       "Region                     0\n",
       "TrafficType                0\n",
       "VisitorType                0\n",
       "Weekend                    0\n",
       "Revenue                    0\n",
       "dtype: int64"
      ]
     },
     "execution_count": 6,
     "metadata": {},
     "output_type": "execute_result"
    }
   ],
   "source": [
    "train_df.isnull().sum()"
   ]
  },
  {
   "attachments": {},
   "cell_type": "markdown",
   "metadata": {},
   "source": [
    "<p>Well, there is no missing values to process</p>\n",
    "<p>Next, We will select the numeric columns and category columns to handle specific types easily</p>"
   ]
  },
  {
   "cell_type": "code",
   "execution_count": 7,
   "metadata": {},
   "outputs": [],
   "source": [
    "cate_cols = train_df.columns[-8:]\n",
    "nume_cols = train_df.columns.drop(cate_cols)"
   ]
  },
  {
   "attachments": {},
   "cell_type": "markdown",
   "metadata": {},
   "source": [
    "### c) Identify outliers\n",
    "In this step, we will deal with outliers on numerical columns\n"
   ]
  },
  {
   "cell_type": "code",
   "execution_count": 8,
   "metadata": {},
   "outputs": [
    {
     "data": {
      "text/html": [
       "<div>\n",
       "<style scoped>\n",
       "    .dataframe tbody tr th:only-of-type {\n",
       "        vertical-align: middle;\n",
       "    }\n",
       "\n",
       "    .dataframe tbody tr th {\n",
       "        vertical-align: top;\n",
       "    }\n",
       "\n",
       "    .dataframe thead th {\n",
       "        text-align: right;\n",
       "    }\n",
       "</style>\n",
       "<table border=\"1\" class=\"dataframe\">\n",
       "  <thead>\n",
       "    <tr style=\"text-align: right;\">\n",
       "      <th></th>\n",
       "      <th>Administrative</th>\n",
       "      <th>Administrative_Duration</th>\n",
       "      <th>Informational</th>\n",
       "      <th>Informational_Duration</th>\n",
       "      <th>ProductRelated</th>\n",
       "      <th>ProductRelated_Duration</th>\n",
       "      <th>BounceRates</th>\n",
       "      <th>ExitRates</th>\n",
       "      <th>PageValues</th>\n",
       "      <th>SpecialDay</th>\n",
       "      <th>OperatingSystems</th>\n",
       "      <th>Browser</th>\n",
       "      <th>Region</th>\n",
       "      <th>TrafficType</th>\n",
       "    </tr>\n",
       "  </thead>\n",
       "  <tbody>\n",
       "    <tr>\n",
       "      <th>count</th>\n",
       "      <td>2157.000000</td>\n",
       "      <td>2157.000000</td>\n",
       "      <td>2157.000000</td>\n",
       "      <td>2157.000000</td>\n",
       "      <td>2157.000000</td>\n",
       "      <td>2157.000000</td>\n",
       "      <td>2157.000000</td>\n",
       "      <td>2157.000000</td>\n",
       "      <td>2157.000000</td>\n",
       "      <td>2157.000000</td>\n",
       "      <td>2157.000000</td>\n",
       "      <td>2157.000000</td>\n",
       "      <td>2157.000000</td>\n",
       "      <td>2157.000000</td>\n",
       "    </tr>\n",
       "    <tr>\n",
       "      <th>mean</th>\n",
       "      <td>2.307835</td>\n",
       "      <td>78.836597</td>\n",
       "      <td>0.490960</td>\n",
       "      <td>33.608935</td>\n",
       "      <td>31.952712</td>\n",
       "      <td>1211.965153</td>\n",
       "      <td>0.022796</td>\n",
       "      <td>0.043019</td>\n",
       "      <td>5.514256</td>\n",
       "      <td>0.063051</td>\n",
       "      <td>2.108020</td>\n",
       "      <td>2.379230</td>\n",
       "      <td>3.181734</td>\n",
       "      <td>4.057024</td>\n",
       "    </tr>\n",
       "    <tr>\n",
       "      <th>std</th>\n",
       "      <td>3.345143</td>\n",
       "      <td>165.281312</td>\n",
       "      <td>1.305596</td>\n",
       "      <td>136.743142</td>\n",
       "      <td>46.484079</td>\n",
       "      <td>2045.336501</td>\n",
       "      <td>0.048836</td>\n",
       "      <td>0.048826</td>\n",
       "      <td>17.969545</td>\n",
       "      <td>0.198025</td>\n",
       "      <td>0.910624</td>\n",
       "      <td>1.760443</td>\n",
       "      <td>2.466920</td>\n",
       "      <td>3.980588</td>\n",
       "    </tr>\n",
       "    <tr>\n",
       "      <th>min</th>\n",
       "      <td>0.000000</td>\n",
       "      <td>0.000000</td>\n",
       "      <td>0.000000</td>\n",
       "      <td>0.000000</td>\n",
       "      <td>0.000000</td>\n",
       "      <td>0.000000</td>\n",
       "      <td>0.000000</td>\n",
       "      <td>0.000000</td>\n",
       "      <td>0.000000</td>\n",
       "      <td>0.000000</td>\n",
       "      <td>1.000000</td>\n",
       "      <td>1.000000</td>\n",
       "      <td>1.000000</td>\n",
       "      <td>1.000000</td>\n",
       "    </tr>\n",
       "    <tr>\n",
       "      <th>25%</th>\n",
       "      <td>0.000000</td>\n",
       "      <td>0.000000</td>\n",
       "      <td>0.000000</td>\n",
       "      <td>0.000000</td>\n",
       "      <td>7.000000</td>\n",
       "      <td>173.500000</td>\n",
       "      <td>0.000000</td>\n",
       "      <td>0.013618</td>\n",
       "      <td>0.000000</td>\n",
       "      <td>0.000000</td>\n",
       "      <td>2.000000</td>\n",
       "      <td>2.000000</td>\n",
       "      <td>1.000000</td>\n",
       "      <td>2.000000</td>\n",
       "    </tr>\n",
       "    <tr>\n",
       "      <th>50%</th>\n",
       "      <td>1.000000</td>\n",
       "      <td>9.000000</td>\n",
       "      <td>0.000000</td>\n",
       "      <td>0.000000</td>\n",
       "      <td>18.000000</td>\n",
       "      <td>600.750000</td>\n",
       "      <td>0.002985</td>\n",
       "      <td>0.026316</td>\n",
       "      <td>0.000000</td>\n",
       "      <td>0.000000</td>\n",
       "      <td>2.000000</td>\n",
       "      <td>2.000000</td>\n",
       "      <td>3.000000</td>\n",
       "      <td>2.000000</td>\n",
       "    </tr>\n",
       "    <tr>\n",
       "      <th>75%</th>\n",
       "      <td>4.000000</td>\n",
       "      <td>95.170000</td>\n",
       "      <td>0.000000</td>\n",
       "      <td>0.000000</td>\n",
       "      <td>37.000000</td>\n",
       "      <td>1436.500000</td>\n",
       "      <td>0.018182</td>\n",
       "      <td>0.048235</td>\n",
       "      <td>0.000000</td>\n",
       "      <td>0.000000</td>\n",
       "      <td>2.000000</td>\n",
       "      <td>2.000000</td>\n",
       "      <td>4.000000</td>\n",
       "      <td>4.000000</td>\n",
       "    </tr>\n",
       "    <tr>\n",
       "      <th>max</th>\n",
       "      <td>24.000000</td>\n",
       "      <td>2629.253968</td>\n",
       "      <td>24.000000</td>\n",
       "      <td>2050.433333</td>\n",
       "      <td>705.000000</td>\n",
       "      <td>43171.233380</td>\n",
       "      <td>0.200000</td>\n",
       "      <td>0.200000</td>\n",
       "      <td>261.491286</td>\n",
       "      <td>1.000000</td>\n",
       "      <td>8.000000</td>\n",
       "      <td>13.000000</td>\n",
       "      <td>9.000000</td>\n",
       "      <td>20.000000</td>\n",
       "    </tr>\n",
       "  </tbody>\n",
       "</table>\n",
       "</div>"
      ],
      "text/plain": [
       "       Administrative  Administrative_Duration  Informational  \\\n",
       "count     2157.000000              2157.000000    2157.000000   \n",
       "mean         2.307835                78.836597       0.490960   \n",
       "std          3.345143               165.281312       1.305596   \n",
       "min          0.000000                 0.000000       0.000000   \n",
       "25%          0.000000                 0.000000       0.000000   \n",
       "50%          1.000000                 9.000000       0.000000   \n",
       "75%          4.000000                95.170000       0.000000   \n",
       "max         24.000000              2629.253968      24.000000   \n",
       "\n",
       "       Informational_Duration  ProductRelated  ProductRelated_Duration  \\\n",
       "count             2157.000000     2157.000000              2157.000000   \n",
       "mean                33.608935       31.952712              1211.965153   \n",
       "std                136.743142       46.484079              2045.336501   \n",
       "min                  0.000000        0.000000                 0.000000   \n",
       "25%                  0.000000        7.000000               173.500000   \n",
       "50%                  0.000000       18.000000               600.750000   \n",
       "75%                  0.000000       37.000000              1436.500000   \n",
       "max               2050.433333      705.000000             43171.233380   \n",
       "\n",
       "       BounceRates    ExitRates   PageValues   SpecialDay  OperatingSystems  \\\n",
       "count  2157.000000  2157.000000  2157.000000  2157.000000       2157.000000   \n",
       "mean      0.022796     0.043019     5.514256     0.063051          2.108020   \n",
       "std       0.048836     0.048826    17.969545     0.198025          0.910624   \n",
       "min       0.000000     0.000000     0.000000     0.000000          1.000000   \n",
       "25%       0.000000     0.013618     0.000000     0.000000          2.000000   \n",
       "50%       0.002985     0.026316     0.000000     0.000000          2.000000   \n",
       "75%       0.018182     0.048235     0.000000     0.000000          2.000000   \n",
       "max       0.200000     0.200000   261.491286     1.000000          8.000000   \n",
       "\n",
       "           Browser       Region  TrafficType  \n",
       "count  2157.000000  2157.000000  2157.000000  \n",
       "mean      2.379230     3.181734     4.057024  \n",
       "std       1.760443     2.466920     3.980588  \n",
       "min       1.000000     1.000000     1.000000  \n",
       "25%       2.000000     1.000000     2.000000  \n",
       "50%       2.000000     3.000000     2.000000  \n",
       "75%       2.000000     4.000000     4.000000  \n",
       "max      13.000000     9.000000    20.000000  "
      ]
     },
     "execution_count": 8,
     "metadata": {},
     "output_type": "execute_result"
    }
   ],
   "source": [
    "train_df.describe()"
   ]
  },
  {
   "attachments": {},
   "cell_type": "markdown",
   "metadata": {},
   "source": [
    "* Interquartile Range Method"
   ]
  },
  {
   "cell_type": "code",
   "execution_count": 9,
   "metadata": {},
   "outputs": [
    {
     "name": "stdout",
     "output_type": "stream",
     "text": [
      "Percentage of outliers: 56.1%\n"
     ]
    }
   ],
   "source": [
    "Q1 = train_df[nume_cols].quantile(0.25)\n",
    "Q3 = train_df[nume_cols].quantile(0.75)\n",
    "IQR = Q3 - Q1\n",
    "\n",
    "outlier_iqr_df = train_df[~((train_df[nume_cols] < (Q1 - 1.5 * IQR)) | (train_df[nume_cols] > (Q3 + 1.5 * IQR))).any(axis=1)]\n",
    "print(f'Percentage of outliers: {round((1-outlier_iqr_df.shape[0]/train_df.shape[0])*100, 2)}%')"
   ]
  },
  {
   "attachments": {},
   "cell_type": "markdown",
   "metadata": {},
   "source": [
    "This method made us surprised that the outliers claim too high percentage so we need to visualize them"
   ]
  },
  {
   "cell_type": "code",
   "execution_count": 10,
   "metadata": {},
   "outputs": [
    {
     "data": {
      "image/png": "[encoded data removed]",
      "text/plain": [
       "<Figure size 2000x1000 with 10 Axes>"
      ]
     },
     "metadata": {},
     "output_type": "display_data"
    }
   ],
   "source": [
    "fig, axes = plt.subplots(2, 5, figsize=(20, 10))\n",
    "for index in range(len(nume_cols)):\n",
    "    row, col = index // 5, index % 5\n",
    "    train_df.boxplot(nume_cols[index], ax = axes[row, col], fontsize=10) \n",
    "plt.show()"
   ]
  },
  {
   "attachments": {},
   "cell_type": "markdown",
   "metadata": {},
   "source": [
    "Look at the graph, we can see that each numerical column contains too many outliers that we can not remove them because it can affect the result"
   ]
  },
  {
   "attachments": {},
   "cell_type": "markdown",
   "metadata": {},
   "source": [
    "* Standard deviation method"
   ]
  },
  {
   "cell_type": "code",
   "execution_count": 11,
   "metadata": {},
   "outputs": [
    {
     "name": "stdout",
     "output_type": "stream",
     "text": [
      "Percentage of outliers: 18.45%\n"
     ]
    }
   ],
   "source": [
    "data_mean, data_std = np.mean(train_df[nume_cols]), np.std(train_df[nume_cols])\n",
    "cut_off = data_std * 3\n",
    "lower, upper = data_mean - cut_off, data_mean + cut_off\n",
    "outlier_std_df = train_df[~((train_df[nume_cols] < lower) | (train_df[nume_cols] > upper)).any(axis=1)]\n",
    "print(f'Percentage of outliers: {round((1-outlier_std_df.shape[0]/train_df.shape[0])*100, 2)}%')"
   ]
  },
  {
   "attachments": {},
   "cell_type": "markdown",
   "metadata": {},
   "source": [
    "The percentage of outliers is so high that we wonder whether the values are outliers. We intend to use another method so as to handle."
   ]
  },
  {
   "attachments": {},
   "cell_type": "markdown",
   "metadata": {},
   "source": [
    "* Automatic Outlier Detection"
   ]
  },
  {
   "cell_type": "code",
   "execution_count": 12,
   "metadata": {},
   "outputs": [
    {
     "name": "stdout",
     "output_type": "stream",
     "text": [
      "Percentage of outliers: 12.93%\n"
     ]
    }
   ],
   "source": [
    "lof = LocalOutlierFactor()\n",
    "yhat = lof.fit_predict(train_df[nume_cols])\n",
    "mask = yhat != -1\n",
    "outlier_aod_df = train_df.iloc[mask]\n",
    "print(f'Percentage of outliers: {round((1-outlier_aod_df.shape[0]/train_df.shape[0])*100, 2)}%')"
   ]
  },
  {
   "attachments": {},
   "cell_type": "markdown",
   "metadata": {},
   "source": [
    "<b>We can see that there are too many outliers existed in the dataset. We wonder whether they have their own meaning so we decide to ignore them.</b>"
   ]
  },
  {
   "attachments": {},
   "cell_type": "markdown",
   "metadata": {},
   "source": [
    "### d) Check duplicates"
   ]
  },
  {
   "cell_type": "code",
   "execution_count": 13,
   "metadata": {},
   "outputs": [
    {
     "name": "stdout",
     "output_type": "stream",
     "text": [
      "There are 5 duplicate(s) in the train set and it claims 0.23%\n"
     ]
    }
   ],
   "source": [
    "duplicates = train_df.shape[0] - train_df.drop_duplicates().shape[0]\n",
    "print(f'There are {duplicates} duplicate(s) in the train set and it claims {round(duplicates*100/train_df.shape[0],2)}%')"
   ]
  },
  {
   "attachments": {},
   "cell_type": "markdown",
   "metadata": {},
   "source": [
    "The dataset contains some duplicates so we decide to remove them"
   ]
  },
  {
   "cell_type": "code",
   "execution_count": 14,
   "metadata": {},
   "outputs": [],
   "source": [
    "train_df.drop_duplicates(inplace=True)"
   ]
  },
  {
   "attachments": {},
   "cell_type": "markdown",
   "metadata": {},
   "source": [
    "### e) Check category columns"
   ]
  },
  {
   "cell_type": "code",
   "execution_count": 15,
   "metadata": {},
   "outputs": [
    {
     "name": "stdout",
     "output_type": "stream",
     "text": [
      "Month: ['Nov' 'May' 'Oct' 'Sep' 'Dec' 'Mar' 'Aug' 'June' 'Feb' 'Jul']\n",
      "OperatingSystems: [2 1 3 8 4 7 6 5]\n",
      "Browser: [ 2  1  4  7 10  6 13  5  8 12  3 11]\n",
      "Region: [1 9 7 3 2 8 4 5 6]\n",
      "TrafficType: [13  2  6  3  1  4 20 11  8  9  5  7 18 10 15 14 16 19]\n",
      "VisitorType: ['Returning_Visitor' 'New_Visitor' 'Other']\n",
      "Weekend: [False  True]\n",
      "Revenue: [False  True]\n"
     ]
    }
   ],
   "source": [
    "for col in cate_cols:\n",
    "    print(f'{col}: {train_df[col].unique()}')"
   ]
  },
  {
   "attachments": {},
   "cell_type": "markdown",
   "metadata": {},
   "source": [
    "After checking by hand, we see that the data is quite correct so we do not need to repair.\n",
    "In order to handle conveniently, we will encode which columns are not number to number later "
   ]
  },
  {
   "attachments": {},
   "cell_type": "markdown",
   "metadata": {},
   "source": [
    "# Task 2: Feature Engineering"
   ]
  },
  {
   "attachments": {},
   "cell_type": "markdown",
   "metadata": {},
   "source": [
    "To find the correlation of each features, we should encode the object values to number in order to handle"
   ]
  },
  {
   "cell_type": "code",
   "execution_count": 16,
   "metadata": {},
   "outputs": [
    {
     "data": {
      "text/html": [
       "<div>\n",
       "<style scoped>\n",
       "    .dataframe tbody tr th:only-of-type {\n",
       "        vertical-align: middle;\n",
       "    }\n",
       "\n",
       "    .dataframe tbody tr th {\n",
       "        vertical-align: top;\n",
       "    }\n",
       "\n",
       "    .dataframe thead th {\n",
       "        text-align: right;\n",
       "    }\n",
       "</style>\n",
       "<table border=\"1\" class=\"dataframe\">\n",
       "  <thead>\n",
       "    <tr style=\"text-align: right;\">\n",
       "      <th></th>\n",
       "      <th>Administrative</th>\n",
       "      <th>Administrative_Duration</th>\n",
       "      <th>Informational</th>\n",
       "      <th>Informational_Duration</th>\n",
       "      <th>ProductRelated</th>\n",
       "      <th>ProductRelated_Duration</th>\n",
       "      <th>BounceRates</th>\n",
       "      <th>ExitRates</th>\n",
       "      <th>PageValues</th>\n",
       "      <th>SpecialDay</th>\n",
       "      <th>Month</th>\n",
       "      <th>OperatingSystems</th>\n",
       "      <th>Browser</th>\n",
       "      <th>Region</th>\n",
       "      <th>TrafficType</th>\n",
       "      <th>VisitorType</th>\n",
       "      <th>Weekend</th>\n",
       "      <th>Revenue</th>\n",
       "    </tr>\n",
       "  </thead>\n",
       "  <tbody>\n",
       "    <tr>\n",
       "      <th>11154</th>\n",
       "      <td>0</td>\n",
       "      <td>0.000000</td>\n",
       "      <td>0</td>\n",
       "      <td>0.000000</td>\n",
       "      <td>2</td>\n",
       "      <td>0.000000</td>\n",
       "      <td>0.100000</td>\n",
       "      <td>0.150000</td>\n",
       "      <td>0.000000</td>\n",
       "      <td>0.0</td>\n",
       "      <td>7</td>\n",
       "      <td>2</td>\n",
       "      <td>2</td>\n",
       "      <td>1</td>\n",
       "      <td>13</td>\n",
       "      <td>2</td>\n",
       "      <td>0</td>\n",
       "      <td>0</td>\n",
       "    </tr>\n",
       "    <tr>\n",
       "      <th>3444</th>\n",
       "      <td>0</td>\n",
       "      <td>0.000000</td>\n",
       "      <td>0</td>\n",
       "      <td>0.000000</td>\n",
       "      <td>6</td>\n",
       "      <td>916.250000</td>\n",
       "      <td>0.000000</td>\n",
       "      <td>0.006667</td>\n",
       "      <td>0.000000</td>\n",
       "      <td>0.0</td>\n",
       "      <td>6</td>\n",
       "      <td>2</td>\n",
       "      <td>2</td>\n",
       "      <td>9</td>\n",
       "      <td>2</td>\n",
       "      <td>2</td>\n",
       "      <td>0</td>\n",
       "      <td>0</td>\n",
       "    </tr>\n",
       "    <tr>\n",
       "      <th>3453</th>\n",
       "      <td>4</td>\n",
       "      <td>32.100000</td>\n",
       "      <td>1</td>\n",
       "      <td>75.000000</td>\n",
       "      <td>88</td>\n",
       "      <td>3827.753571</td>\n",
       "      <td>0.000000</td>\n",
       "      <td>0.007270</td>\n",
       "      <td>0.255191</td>\n",
       "      <td>0.0</td>\n",
       "      <td>6</td>\n",
       "      <td>2</td>\n",
       "      <td>2</td>\n",
       "      <td>7</td>\n",
       "      <td>6</td>\n",
       "      <td>2</td>\n",
       "      <td>0</td>\n",
       "      <td>0</td>\n",
       "    </tr>\n",
       "    <tr>\n",
       "      <th>7981</th>\n",
       "      <td>2</td>\n",
       "      <td>17.133333</td>\n",
       "      <td>0</td>\n",
       "      <td>0.000000</td>\n",
       "      <td>20</td>\n",
       "      <td>1078.200000</td>\n",
       "      <td>0.020000</td>\n",
       "      <td>0.051167</td>\n",
       "      <td>0.000000</td>\n",
       "      <td>0.0</td>\n",
       "      <td>8</td>\n",
       "      <td>1</td>\n",
       "      <td>1</td>\n",
       "      <td>1</td>\n",
       "      <td>3</td>\n",
       "      <td>2</td>\n",
       "      <td>0</td>\n",
       "      <td>0</td>\n",
       "    </tr>\n",
       "    <tr>\n",
       "      <th>11890</th>\n",
       "      <td>6</td>\n",
       "      <td>161.833333</td>\n",
       "      <td>5</td>\n",
       "      <td>858.570833</td>\n",
       "      <td>84</td>\n",
       "      <td>2701.337954</td>\n",
       "      <td>0.010771</td>\n",
       "      <td>0.016382</td>\n",
       "      <td>7.477388</td>\n",
       "      <td>0.0</td>\n",
       "      <td>7</td>\n",
       "      <td>1</td>\n",
       "      <td>2</td>\n",
       "      <td>1</td>\n",
       "      <td>1</td>\n",
       "      <td>2</td>\n",
       "      <td>0</td>\n",
       "      <td>1</td>\n",
       "    </tr>\n",
       "  </tbody>\n",
       "</table>\n",
       "</div>"
      ],
      "text/plain": [
       "       Administrative  Administrative_Duration  Informational  \\\n",
       "11154               0                 0.000000              0   \n",
       "3444                0                 0.000000              0   \n",
       "3453                4                32.100000              1   \n",
       "7981                2                17.133333              0   \n",
       "11890               6               161.833333              5   \n",
       "\n",
       "       Informational_Duration  ProductRelated  ProductRelated_Duration  \\\n",
       "11154                0.000000               2                 0.000000   \n",
       "3444                 0.000000               6               916.250000   \n",
       "3453                75.000000              88              3827.753571   \n",
       "7981                 0.000000              20              1078.200000   \n",
       "11890              858.570833              84              2701.337954   \n",
       "\n",
       "       BounceRates  ExitRates  PageValues  SpecialDay  Month  \\\n",
       "11154     0.100000   0.150000    0.000000         0.0      7   \n",
       "3444      0.000000   0.006667    0.000000         0.0      6   \n",
       "3453      0.000000   0.007270    0.255191         0.0      6   \n",
       "7981      0.020000   0.051167    0.000000         0.0      8   \n",
       "11890     0.010771   0.016382    7.477388         0.0      7   \n",
       "\n",
       "       OperatingSystems  Browser  Region  TrafficType  VisitorType  Weekend  \\\n",
       "11154                 2        2       1           13            2        0   \n",
       "3444                  2        2       9            2            2        0   \n",
       "3453                  2        2       7            6            2        0   \n",
       "7981                  1        1       1            3            2        0   \n",
       "11890                 1        2       1            1            2        0   \n",
       "\n",
       "       Revenue  \n",
       "11154        0  \n",
       "3444         0  \n",
       "3453         0  \n",
       "7981         0  \n",
       "11890        1  "
      ]
     },
     "execution_count": 16,
     "metadata": {},
     "output_type": "execute_result"
    }
   ],
   "source": [
    "encode_df = train_df.copy()\n",
    "LE = LabelEncoder()\n",
    "obj_cols = train_df.select_dtypes(['bool', 'object'])\n",
    "for col in obj_cols:\n",
    "    encode_df[col] = LE.fit_transform(encode_df[col])\n",
    "encode_df.head()"
   ]
  },
  {
   "attachments": {},
   "cell_type": "markdown",
   "metadata": {},
   "source": [
    "After encoding, we use selectKBest method to find the correlation between each features and revenue column. This method selects f_classif function to calculate the score"
   ]
  },
  {
   "cell_type": "code",
   "execution_count": 17,
   "metadata": {},
   "outputs": [
    {
     "name": "stdout",
     "output_type": "stream",
     "text": [
      "                    Feature          Score\n",
      "5   ProductRelated_Duration  161719.697731\n",
      "8                PageValues   29368.384595\n",
      "3    Informational_Duration    7495.931952\n",
      "1   Administrative_Duration    3078.288069\n",
      "4            ProductRelated    3016.365711\n",
      "0            Administrative     136.756842\n",
      "2             Informational      46.399290\n",
      "9                SpecialDay       9.781710\n",
      "15              VisitorType       6.911266\n",
      "10                    Month       6.584860\n"
     ]
    }
   ],
   "source": [
    "best_features = SelectKBest(score_func=chi2, k=7)\n",
    "X = encode_df.drop(['Revenue'], axis=1)\n",
    "y = encode_df['Revenue']\n",
    "fit = best_features.fit(X, y)\n",
    "scores_df = pd.DataFrame(fit.scores_)\n",
    "columns_df = pd.DataFrame(X.columns)\n",
    "featureScores = pd.concat([columns_df, scores_df],axis=1)\n",
    "featureScores.columns = ['Feature', 'Score']\n",
    "print(featureScores.nlargest(10, 'Score'))"
   ]
  },
  {
   "attachments": {},
   "cell_type": "markdown",
   "metadata": {},
   "source": [
    "<p>We select top 7 columns that most correlative with Revenue column.</p>"
   ]
  },
  {
   "attachments": {},
   "cell_type": "markdown",
   "metadata": {},
   "source": [
    "# Data Modelling"
   ]
  },
  {
   "attachments": {},
   "cell_type": "markdown",
   "metadata": {},
   "source": [
    "### Setup"
   ]
  },
  {
   "attachments": {},
   "cell_type": "markdown",
   "metadata": {},
   "source": [
    "<p>In order to handle easier and cleaner, we prefer to create a pipeline for each model</p>\n",
    "<p>Firstly, we create the Encode class to switch the object and bool value to numerical value</p>"
   ]
  },
  {
   "cell_type": "code",
   "execution_count": 55,
   "metadata": {},
   "outputs": [],
   "source": [
    "class Encode():\n",
    "    def __init__(self, method=LabelEncoder()):\n",
    "        self.method = method\n",
    "    def fit(self, X, y=None):\n",
    "        self.columns = X.select_dtypes(['bool', 'object']).columns.values\n",
    "        return self\n",
    "    def transform(self, X, y=None):\n",
    "        for col in self.columns:\n",
    "            X[col] = self.method.fit_transform(X[col])\n",
    "        return X"
   ]
  },
  {
   "cell_type": "code",
   "execution_count": 69,
   "metadata": {},
   "outputs": [
    {
     "data": {
      "text/plain": [
       "array([[-0.56801239, -0.30732793, -0.2461412 , ..., -0.60263772,\n",
       "        -0.39242111, -0.37662851],\n",
       "       [-0.23871416, -0.30732793, -0.2461412 , ...,  0.12849357,\n",
       "        -0.69124993, -0.37662851],\n",
       "       [-0.46514887, -0.30732793, -0.2461412 , ..., -0.25857594,\n",
       "         0.20523652, -0.37662851],\n",
       "       ...,\n",
       "       [-0.41041864,  0.62268586, -0.2461412 , ..., -0.40910297,\n",
       "        -0.69124993, -0.37662851],\n",
       "       [ 0.45882385, -0.08621957, -0.1365406 , ...,  0.55857079,\n",
       "         0.80289416,  0.38872045],\n",
       "       [-0.10316782, -0.30732793, -0.2461412 , ..., -0.23707208,\n",
       "        -0.39242111, -0.37662851]])"
      ]
     },
     "execution_count": 69,
     "metadata": {},
     "output_type": "execute_result"
    }
   ],
   "source": [
    "cate_cols = cate_cols[:-1]\n",
    "X = train_df.drop(['Revenue'], axis=1)\n",
    "y = train_df['Revenue']\n",
    "val_X = val_df.drop(['Revenue'], axis=1)\n",
    "\n",
    "nume_trans = SimpleImputer()\n",
    "cate_trans = SimpleImputer(strategy='most_frequent')\n",
    "cols_trans = make_column_transformer(\n",
    "    (nume_trans, nume_cols),\n",
    "    (cate_trans, cate_cols)\n",
    ")\n",
    "preprocess_pipeline = Pipeline([\n",
    "    ('encode', Encode()),\n",
    "    ('col_reducer', ColReducer(columns_list=cate_cols)),\n",
    "    ('select_features', SelectFeature(score_func=chi2, k=7)),\n",
    "    ('scaler', StandardScaler())\n",
    "])\n",
    "preprocess_pipeline.fit_transform(X, y)\n",
    "preprocess_pipeline.transform(val_X)"
   ]
  },
  {
   "attachments": {},
   "cell_type": "markdown",
   "metadata": {},
   "source": [
    "<p>Some category columns have too many categories that will affect the model. So, we choose which columns that have more than 5 categories to reduce and replace which value is less than 1% of the most frequent value</p>"
   ]
  },
  {
   "cell_type": "code",
   "execution_count": 62,
   "metadata": {},
   "outputs": [],
   "source": [
    "class ColReducer(BaseEstimator, TransformerMixin):\n",
    "    def __init__(self, columns_list=[], num_top_values_list=[], percentage=1, categories=5, default=-1):\n",
    "        self.num_top_values_list = num_top_values_list\n",
    "        self.columns_list = columns_list\n",
    "        self.percentage = percentage\n",
    "        self.categories = categories\n",
    "        self.default = default\n",
    "\n",
    "    def getLogicNumberTopValue(self, X_df, column):\n",
    "        counts = X_df[column].value_counts()\n",
    "        return sum([1 for value in list(counts.values) if value>(self.percentage*max(list(counts.values))/100)])\n",
    "\n",
    "    def reprocessing_data(self, X_df):\n",
    "        self.columns_list = [column for column in self.columns_list if len(X_df[column].value_counts())>=self.categories]\n",
    "        if len(self.num_top_values_list)==0:\n",
    "            self.num_top_values_list = [self.getLogicNumberTopValue(X_df, column) for column in self.columns_list]\n",
    "\n",
    "    def fit(self, X_df, y=None):\n",
    "        self.reprocessing_data(X_df)\n",
    "        self.top_values_list = []\n",
    "        for column, num_top_values in zip(self.columns_list, self.num_top_values_list):\n",
    "            counts_ = X_df[column].value_counts()\n",
    "            ids = list(counts_.index)\n",
    "            self.top_values_list.append(ids[:max(1, min(num_top_values, len(ids)))])\n",
    "        return self\n",
    "    \n",
    "    def transform(self, X_df, y=None):\n",
    "        df = X_df.copy()\n",
    "        for top_value, column in zip(self.top_values_list, self.columns_list):\n",
    "            df.loc[~df[column].isin(top_value), column] = self.default\n",
    "        return df"
   ]
  },
  {
   "cell_type": "code",
   "execution_count": 27,
   "metadata": {},
   "outputs": [
    {
     "data": {
      "text/html": [
       "<div>\n",
       "<style scoped>\n",
       "    .dataframe tbody tr th:only-of-type {\n",
       "        vertical-align: middle;\n",
       "    }\n",
       "\n",
       "    .dataframe tbody tr th {\n",
       "        vertical-align: top;\n",
       "    }\n",
       "\n",
       "    .dataframe thead th {\n",
       "        text-align: right;\n",
       "    }\n",
       "</style>\n",
       "<table border=\"1\" class=\"dataframe\">\n",
       "  <thead>\n",
       "    <tr style=\"text-align: right;\">\n",
       "      <th></th>\n",
       "      <th>Administrative</th>\n",
       "      <th>Administrative_Duration</th>\n",
       "      <th>Informational</th>\n",
       "      <th>Informational_Duration</th>\n",
       "      <th>ProductRelated</th>\n",
       "      <th>ProductRelated_Duration</th>\n",
       "      <th>BounceRates</th>\n",
       "      <th>ExitRates</th>\n",
       "      <th>PageValues</th>\n",
       "      <th>SpecialDay</th>\n",
       "      <th>Month</th>\n",
       "      <th>OperatingSystems</th>\n",
       "      <th>Browser</th>\n",
       "      <th>Region</th>\n",
       "      <th>TrafficType</th>\n",
       "      <th>VisitorType</th>\n",
       "      <th>Weekend</th>\n",
       "      <th>Revenue</th>\n",
       "    </tr>\n",
       "  </thead>\n",
       "  <tbody>\n",
       "    <tr>\n",
       "      <th>11154</th>\n",
       "      <td>0</td>\n",
       "      <td>0.000000</td>\n",
       "      <td>0</td>\n",
       "      <td>0.000000</td>\n",
       "      <td>2</td>\n",
       "      <td>0.000000</td>\n",
       "      <td>0.100000</td>\n",
       "      <td>0.150000</td>\n",
       "      <td>0.000000</td>\n",
       "      <td>0.0</td>\n",
       "      <td>Nov</td>\n",
       "      <td>2</td>\n",
       "      <td>2</td>\n",
       "      <td>1</td>\n",
       "      <td>13</td>\n",
       "      <td>Returning_Visitor</td>\n",
       "      <td>False</td>\n",
       "      <td>False</td>\n",
       "    </tr>\n",
       "    <tr>\n",
       "      <th>3444</th>\n",
       "      <td>0</td>\n",
       "      <td>0.000000</td>\n",
       "      <td>0</td>\n",
       "      <td>0.000000</td>\n",
       "      <td>6</td>\n",
       "      <td>916.250000</td>\n",
       "      <td>0.000000</td>\n",
       "      <td>0.006667</td>\n",
       "      <td>0.000000</td>\n",
       "      <td>0.0</td>\n",
       "      <td>May</td>\n",
       "      <td>2</td>\n",
       "      <td>2</td>\n",
       "      <td>9</td>\n",
       "      <td>2</td>\n",
       "      <td>Returning_Visitor</td>\n",
       "      <td>False</td>\n",
       "      <td>False</td>\n",
       "    </tr>\n",
       "    <tr>\n",
       "      <th>3453</th>\n",
       "      <td>4</td>\n",
       "      <td>32.100000</td>\n",
       "      <td>1</td>\n",
       "      <td>75.000000</td>\n",
       "      <td>88</td>\n",
       "      <td>3827.753571</td>\n",
       "      <td>0.000000</td>\n",
       "      <td>0.007270</td>\n",
       "      <td>0.255191</td>\n",
       "      <td>0.0</td>\n",
       "      <td>May</td>\n",
       "      <td>2</td>\n",
       "      <td>2</td>\n",
       "      <td>7</td>\n",
       "      <td>6</td>\n",
       "      <td>Returning_Visitor</td>\n",
       "      <td>False</td>\n",
       "      <td>False</td>\n",
       "    </tr>\n",
       "    <tr>\n",
       "      <th>7981</th>\n",
       "      <td>2</td>\n",
       "      <td>17.133333</td>\n",
       "      <td>0</td>\n",
       "      <td>0.000000</td>\n",
       "      <td>20</td>\n",
       "      <td>1078.200000</td>\n",
       "      <td>0.020000</td>\n",
       "      <td>0.051167</td>\n",
       "      <td>0.000000</td>\n",
       "      <td>0.0</td>\n",
       "      <td>Oct</td>\n",
       "      <td>1</td>\n",
       "      <td>1</td>\n",
       "      <td>1</td>\n",
       "      <td>3</td>\n",
       "      <td>Returning_Visitor</td>\n",
       "      <td>False</td>\n",
       "      <td>False</td>\n",
       "    </tr>\n",
       "    <tr>\n",
       "      <th>11890</th>\n",
       "      <td>6</td>\n",
       "      <td>161.833333</td>\n",
       "      <td>5</td>\n",
       "      <td>858.570833</td>\n",
       "      <td>84</td>\n",
       "      <td>2701.337954</td>\n",
       "      <td>0.010771</td>\n",
       "      <td>0.016382</td>\n",
       "      <td>7.477388</td>\n",
       "      <td>0.0</td>\n",
       "      <td>Nov</td>\n",
       "      <td>1</td>\n",
       "      <td>2</td>\n",
       "      <td>1</td>\n",
       "      <td>1</td>\n",
       "      <td>Returning_Visitor</td>\n",
       "      <td>False</td>\n",
       "      <td>True</td>\n",
       "    </tr>\n",
       "  </tbody>\n",
       "</table>\n",
       "</div>"
      ],
      "text/plain": [
       "       Administrative  Administrative_Duration  Informational  \\\n",
       "11154               0                 0.000000              0   \n",
       "3444                0                 0.000000              0   \n",
       "3453                4                32.100000              1   \n",
       "7981                2                17.133333              0   \n",
       "11890               6               161.833333              5   \n",
       "\n",
       "       Informational_Duration  ProductRelated  ProductRelated_Duration  \\\n",
       "11154                0.000000               2                 0.000000   \n",
       "3444                 0.000000               6               916.250000   \n",
       "3453                75.000000              88              3827.753571   \n",
       "7981                 0.000000              20              1078.200000   \n",
       "11890              858.570833              84              2701.337954   \n",
       "\n",
       "       BounceRates  ExitRates  PageValues  SpecialDay Month  OperatingSystems  \\\n",
       "11154     0.100000   0.150000    0.000000         0.0   Nov                 2   \n",
       "3444      0.000000   0.006667    0.000000         0.0   May                 2   \n",
       "3453      0.000000   0.007270    0.255191         0.0   May                 2   \n",
       "7981      0.020000   0.051167    0.000000         0.0   Oct                 1   \n",
       "11890     0.010771   0.016382    7.477388         0.0   Nov                 1   \n",
       "\n",
       "       Browser  Region  TrafficType        VisitorType  Weekend  Revenue  \n",
       "11154        2       1           13  Returning_Visitor    False    False  \n",
       "3444         2       9            2  Returning_Visitor    False    False  \n",
       "3453         2       7            6  Returning_Visitor    False    False  \n",
       "7981         1       1            3  Returning_Visitor    False    False  \n",
       "11890        2       1            1  Returning_Visitor    False     True  "
      ]
     },
     "execution_count": 27,
     "metadata": {},
     "output_type": "execute_result"
    }
   ],
   "source": [
    "col_reducer = ColReducer(columns_list=cate_cols)\n",
    "col_reducer.fit(train_df)\n",
    "new_train_X_df = col_reducer.transform(train_df)\n",
    "new_train_X_df.head()"
   ]
  },
  {
   "attachments": {},
   "cell_type": "markdown",
   "metadata": {},
   "source": [
    "We create the SelectFeature class to choose the selected columns above"
   ]
  },
  {
   "cell_type": "code",
   "execution_count": 29,
   "metadata": {},
   "outputs": [],
   "source": [
    "class SelectFeature():\n",
    "    def __init__(self, score_func=chi2, k=7):\n",
    "        self.score_func = score_func\n",
    "        self.k = k\n",
    "    def fit(self, X, y):\n",
    "        best_features = SelectKBest(score_func=self.score_func, k=self.k)\n",
    "        fit = best_features.fit(X, y)\n",
    "        scores_df = pd.DataFrame(fit.scores_)\n",
    "        columns_df = pd.DataFrame(X.columns)\n",
    "        feature_scores_df = pd.concat([columns_df, scores_df], axis=1)\n",
    "        feature_scores_df.columns = ['Feature', 'Score']\n",
    "        self.features = feature_scores_df.nlargest(self.k, 'Score')['Feature'].values\n",
    "        return self\n",
    "    def transform(self, X, y=None):\n",
    "        return X[self.features]"
   ]
  },
  {
   "attachments": {},
   "cell_type": "markdown",
   "metadata": {},
   "source": [
    "<p>Next, we use OneHotEncoder to encode the categorical columns</p>\n",
    "<p>Note: OneHotEncoder require scikit-learn 1.2 to use function get_feature_names_out()</p>"
   ]
  },
  {
   "cell_type": "code",
   "execution_count": 30,
   "metadata": {},
   "outputs": [],
   "source": [
    "# class OneHotEncoding:\n",
    "#     def __init__(self, columns, handle_unknown_type='ignore', isSparse=False):\n",
    "#         self.model = OneHotEncoder(handle_unknown=handle_unknown_type, sparse=isSparse)\n",
    "#         self.columns = columns\n",
    "        \n",
    "#     def fit_transform(self, df, visualize=False):\n",
    "#         for col in self.columns:\n",
    "#             self.matrix = self.model.fit_transform(df[[col]])  # get a matrix of new features and values\n",
    "#             names = self.model.get_feature_names_out()  # get names for these features\n",
    "#             df_oh = pd.DataFrame(data=self.matrix, columns=names, index=df.index)\n",
    "#             if visualize: display(df_oh.plot.hist())\n",
    "#             df = pd.concat([df, df_oh], axis=1)\n",
    "#             df.drop(col, axis=1, inplace=True)\n",
    "#         return df\n",
    "\n",
    "#     def retransform_with_values(self, columns, values):\n",
    "#         dic = {}\n",
    "#         for col, value in zip(columns, values):\n",
    "#             split_col = col.rsplit('_')\n",
    "#             if split_col[0] not in dic:\n",
    "#                 dic[split_col[0]] = (value, 1)\n",
    "#             else:\n",
    "#                 dic[split_col[0]] = (dic[split_col[0]][0]+value, dic[split_col[0]][1]+1)\n",
    "#         key = list(dic.keys())\n",
    "#         return key, [dic[k][0]/dic[k][1] for k in key]\n"
   ]
  },
  {
   "cell_type": "code",
   "execution_count": 31,
   "metadata": {},
   "outputs": [],
   "source": [
    "# cate_df = df.drop([nume_cols, 'Revenue'], axis=1)\n",
    "# onehotencoder = OneHotEncoding(cate_df.select_dtypes(\"object\").columns, handle_unknown_type='ignore', isSparse=False)\n",
    "# cate_ohc_df = onehotencoder.fit_transform(cate_df)\n",
    "# cate_ohc_df"
   ]
  },
  {
   "attachments": {},
   "cell_type": "markdown",
   "metadata": {},
   "source": [
    "Next, we will create the preprocess_pipeline to transform the validation set [2]"
   ]
  },
  {
   "cell_type": "code",
   "execution_count": 37,
   "metadata": {},
   "outputs": [
    {
     "ename": "AttributeError",
     "evalue": "'numpy.ndarray' object has no attribute 'select_dtypes'",
     "output_type": "error",
     "traceback": [
      "\u001b[1;31m---------------------------------------------------------------------------\u001b[0m",
      "\u001b[1;31mAttributeError\u001b[0m                            Traceback (most recent call last)",
      "Cell \u001b[1;32mIn [37], line 18\u001b[0m\n\u001b[0;32m      8\u001b[0m cols_trans \u001b[39m=\u001b[39m make_column_transformer(\n\u001b[0;32m      9\u001b[0m     (nume_trans, nume_cols),\n\u001b[0;32m     10\u001b[0m     (cate_trans, cate_cols)\n\u001b[0;32m     11\u001b[0m )\n\u001b[0;32m     12\u001b[0m preprocess_pipeline \u001b[39m=\u001b[39m Pipeline([\n\u001b[0;32m     13\u001b[0m     (\u001b[39m'\u001b[39m\u001b[39mfill_missing\u001b[39m\u001b[39m'\u001b[39m, cols_trans),\n\u001b[0;32m     14\u001b[0m     (\u001b[39m'\u001b[39m\u001b[39mencode\u001b[39m\u001b[39m'\u001b[39m, Encode()),\n\u001b[0;32m     15\u001b[0m     (\u001b[39m'\u001b[39m\u001b[39mcol_reducer\u001b[39m\u001b[39m'\u001b[39m, ColReducer(columns_list\u001b[39m=\u001b[39mcate_cols)),\n\u001b[0;32m     16\u001b[0m     (\u001b[39m'\u001b[39m\u001b[39mselect_features\u001b[39m\u001b[39m'\u001b[39m, SelectFeature(score_func\u001b[39m=\u001b[39mchi2, k\u001b[39m=\u001b[39m\u001b[39m7\u001b[39m))\n\u001b[0;32m     17\u001b[0m ])\n\u001b[1;32m---> 18\u001b[0m preprocess_pipeline\u001b[39m.\u001b[39;49mfit_transform(X, y)\n",
      "File \u001b[1;32mc:\\Users\\Pc\\miniconda3\\envs\\min_ds-env\\lib\\site-packages\\sklearn\\pipeline.py:438\u001b[0m, in \u001b[0;36mPipeline.fit_transform\u001b[1;34m(self, X, y, **fit_params)\u001b[0m\n\u001b[0;32m    411\u001b[0m \u001b[39m\"\"\"Fit the model and transform with the final estimator.\u001b[39;00m\n\u001b[0;32m    412\u001b[0m \n\u001b[0;32m    413\u001b[0m \u001b[39mFits all the transformers one after the other and transform the\u001b[39;00m\n\u001b[1;32m   (...)\u001b[0m\n\u001b[0;32m    435\u001b[0m \u001b[39m    Transformed samples.\u001b[39;00m\n\u001b[0;32m    436\u001b[0m \u001b[39m\"\"\"\u001b[39;00m\n\u001b[0;32m    437\u001b[0m fit_params_steps \u001b[39m=\u001b[39m \u001b[39mself\u001b[39m\u001b[39m.\u001b[39m_check_fit_params(\u001b[39m*\u001b[39m\u001b[39m*\u001b[39mfit_params)\n\u001b[1;32m--> 438\u001b[0m Xt \u001b[39m=\u001b[39m \u001b[39mself\u001b[39;49m\u001b[39m.\u001b[39;49m_fit(X, y, \u001b[39m*\u001b[39;49m\u001b[39m*\u001b[39;49mfit_params_steps)\n\u001b[0;32m    440\u001b[0m last_step \u001b[39m=\u001b[39m \u001b[39mself\u001b[39m\u001b[39m.\u001b[39m_final_estimator\n\u001b[0;32m    441\u001b[0m \u001b[39mwith\u001b[39;00m _print_elapsed_time(\u001b[39m\"\u001b[39m\u001b[39mPipeline\u001b[39m\u001b[39m\"\u001b[39m, \u001b[39mself\u001b[39m\u001b[39m.\u001b[39m_log_message(\u001b[39mlen\u001b[39m(\u001b[39mself\u001b[39m\u001b[39m.\u001b[39msteps) \u001b[39m-\u001b[39m \u001b[39m1\u001b[39m)):\n",
      "File \u001b[1;32mc:\\Users\\Pc\\miniconda3\\envs\\min_ds-env\\lib\\site-packages\\sklearn\\pipeline.py:360\u001b[0m, in \u001b[0;36mPipeline._fit\u001b[1;34m(self, X, y, **fit_params_steps)\u001b[0m\n\u001b[0;32m    358\u001b[0m     cloned_transformer \u001b[39m=\u001b[39m clone(transformer)\n\u001b[0;32m    359\u001b[0m \u001b[39m# Fit or load from cache the current transformer\u001b[39;00m\n\u001b[1;32m--> 360\u001b[0m X, fitted_transformer \u001b[39m=\u001b[39m fit_transform_one_cached(\n\u001b[0;32m    361\u001b[0m     cloned_transformer,\n\u001b[0;32m    362\u001b[0m     X,\n\u001b[0;32m    363\u001b[0m     y,\n\u001b[0;32m    364\u001b[0m     \u001b[39mNone\u001b[39;49;00m,\n\u001b[0;32m    365\u001b[0m     message_clsname\u001b[39m=\u001b[39;49m\u001b[39m\"\u001b[39;49m\u001b[39mPipeline\u001b[39;49m\u001b[39m\"\u001b[39;49m,\n\u001b[0;32m    366\u001b[0m     message\u001b[39m=\u001b[39;49m\u001b[39mself\u001b[39;49m\u001b[39m.\u001b[39;49m_log_message(step_idx),\n\u001b[0;32m    367\u001b[0m     \u001b[39m*\u001b[39;49m\u001b[39m*\u001b[39;49mfit_params_steps[name],\n\u001b[0;32m    368\u001b[0m )\n\u001b[0;32m    369\u001b[0m \u001b[39m# Replace the transformer of the step with the fitted\u001b[39;00m\n\u001b[0;32m    370\u001b[0m \u001b[39m# transformer. This is necessary when loading the transformer\u001b[39;00m\n\u001b[0;32m    371\u001b[0m \u001b[39m# from the cache.\u001b[39;00m\n\u001b[0;32m    372\u001b[0m \u001b[39mself\u001b[39m\u001b[39m.\u001b[39msteps[step_idx] \u001b[39m=\u001b[39m (name, fitted_transformer)\n",
      "File \u001b[1;32mc:\\Users\\Pc\\miniconda3\\envs\\min_ds-env\\lib\\site-packages\\joblib\\memory.py:349\u001b[0m, in \u001b[0;36mNotMemorizedFunc.__call__\u001b[1;34m(self, *args, **kwargs)\u001b[0m\n\u001b[0;32m    348\u001b[0m \u001b[39mdef\u001b[39;00m \u001b[39m__call__\u001b[39m(\u001b[39mself\u001b[39m, \u001b[39m*\u001b[39margs, \u001b[39m*\u001b[39m\u001b[39m*\u001b[39mkwargs):\n\u001b[1;32m--> 349\u001b[0m     \u001b[39mreturn\u001b[39;00m \u001b[39mself\u001b[39;49m\u001b[39m.\u001b[39;49mfunc(\u001b[39m*\u001b[39;49margs, \u001b[39m*\u001b[39;49m\u001b[39m*\u001b[39;49mkwargs)\n",
      "File \u001b[1;32mc:\\Users\\Pc\\miniconda3\\envs\\min_ds-env\\lib\\site-packages\\sklearn\\pipeline.py:896\u001b[0m, in \u001b[0;36m_fit_transform_one\u001b[1;34m(transformer, X, y, weight, message_clsname, message, **fit_params)\u001b[0m\n\u001b[0;32m    894\u001b[0m         res \u001b[39m=\u001b[39m transformer\u001b[39m.\u001b[39mfit_transform(X, y, \u001b[39m*\u001b[39m\u001b[39m*\u001b[39mfit_params)\n\u001b[0;32m    895\u001b[0m     \u001b[39melse\u001b[39;00m:\n\u001b[1;32m--> 896\u001b[0m         res \u001b[39m=\u001b[39m transformer\u001b[39m.\u001b[39;49mfit(X, y, \u001b[39m*\u001b[39;49m\u001b[39m*\u001b[39;49mfit_params)\u001b[39m.\u001b[39mtransform(X)\n\u001b[0;32m    898\u001b[0m \u001b[39mif\u001b[39;00m weight \u001b[39mis\u001b[39;00m \u001b[39mNone\u001b[39;00m:\n\u001b[0;32m    899\u001b[0m     \u001b[39mreturn\u001b[39;00m res, transformer\n",
      "Cell \u001b[1;32mIn [35], line 5\u001b[0m, in \u001b[0;36mEncode.fit\u001b[1;34m(self, X, y)\u001b[0m\n\u001b[0;32m      4\u001b[0m \u001b[39mdef\u001b[39;00m \u001b[39mfit\u001b[39m(\u001b[39mself\u001b[39m, X, y\u001b[39m=\u001b[39m\u001b[39mNone\u001b[39;00m):\n\u001b[1;32m----> 5\u001b[0m     \u001b[39mself\u001b[39m\u001b[39m.\u001b[39mcolumns \u001b[39m=\u001b[39m X\u001b[39m.\u001b[39;49mselect_dtypes([\u001b[39m'\u001b[39m\u001b[39mbool\u001b[39m\u001b[39m'\u001b[39m, \u001b[39m'\u001b[39m\u001b[39mobject\u001b[39m\u001b[39m'\u001b[39m])\u001b[39m.\u001b[39mcolumns\u001b[39m.\u001b[39mvalues\n\u001b[0;32m      6\u001b[0m     \u001b[39mreturn\u001b[39;00m \u001b[39mself\u001b[39m\n",
      "\u001b[1;31mAttributeError\u001b[0m: 'numpy.ndarray' object has no attribute 'select_dtypes'"
     ]
    }
   ],
   "source": [
    "cate_cols = cate_cols[:-1]\n",
    "X = train_df.drop(['Revenue'], axis=1)\n",
    "y = train_df['Revenue']\n",
    "\n",
    "\n",
    "nume_trans = SimpleImputer()\n",
    "cate_trans = SimpleImputer(strategy='most_frequent')\n",
    "cols_trans = make_column_transformer(\n",
    "    (nume_trans, nume_cols),\n",
    "    (cate_trans, cate_cols)\n",
    ")\n",
    "preprocess_pipeline = Pipeline([\n",
    "    ('fill_missing', cols_trans),\n",
    "    ('encode', Encode()),\n",
    "    ('col_reducer', ColReducer(columns_list=cate_cols)),\n",
    "    ('select_features', SelectFeature(score_func=chi2, k=7))\n",
    "])\n",
    "preprocess_pipeline.fit_transform(X, y)"
   ]
  },
  {
   "attachments": {},
   "cell_type": "markdown",
   "metadata": {},
   "source": [
    "### Classification"
   ]
  },
  {
   "cell_type": "code",
   "execution_count": null,
   "metadata": {},
   "outputs": [],
   "source": [
    "train_accs = []\n",
    "val_accs = []\n",
    "alphas = [0,0.01,0.1, 1, 10, 100]\n",
    "k_s = [3, 5, 7, 9, 15, 17]\n",
    "best_val_acc = 0\n",
    "best_alpha = None\n",
    "best_k = None\n",
    "\n",
    "full_pipeline = make_pipeline(\n",
    "    preprocess_pipeline,\n",
    "    SelectKBest(chi2),\n",
    "    MLPClassifier(hidden_layer_sizes=(50), activation='relu', solver='adam', random_state=0, learning_rate_init=0.05, max_iter=100)\n",
    ")\n",
    "full_pipeline"
   ]
  },
  {
   "cell_type": "code",
   "execution_count": null,
   "metadata": {},
   "outputs": [],
   "source": [
    "# full_pipeline.set_params(selectkbest__k=15)\n",
    "# full_pipeline.fit(train_X_df, train_y_sr)\n",
    "# train_score, val_score = full_pipeline.score(train_X_df, train_y_sr)*100, full_pipeline.score(val_X_df, val_y_sr)*100\n",
    "for alpha in alphas:\n",
    "    for k in k_s:\n",
    "        full_pipeline.set_params(selectkbest__k=k, mlpclassifier__alpha=alpha)\n",
    "        full_pipeline.fit(train_X_df, train_y_sr)\n",
    "        train_score, val_score = full_pipeline.score(train_X_df, train_y_sr)*100, full_pipeline.score(val_X_df, val_y_sr)*100\n",
    "        train_accs.append(train_score)\n",
    "        val_accs.append(val_score)\n",
    "        if val_score>best_val_acc:\n",
    "            best_val_acc, best_alpha, best_k = val_score, alpha, k"
   ]
  },
  {
   "cell_type": "code",
   "execution_count": null,
   "metadata": {},
   "outputs": [],
   "source": [
    "# Visualizing the result\n",
    "train_accs_df = pd.DataFrame(data=np.array(train_accs).reshape(len(alphas), -1),\n",
    "                             index=alphas, columns=k_s)\n",
    "val_accs_df = pd.DataFrame(\n",
    "    data=np.array(val_accs).reshape(len(alphas), -1), \n",
    "    index=alphas, columns=k_s)\n",
    "min_err = min(min(train_accs), min(val_accs))\n",
    "max_err = max(max(train_accs), max(val_accs))\n",
    "plt.figure(figsize=(10, 5))\n",
    "plt.subplot(1, 2, 1)\n",
    "sns.heatmap(train_accs_df, vmin=min_err, vmax=max_err, square=True, \n",
    "            annot=True, cbar=False, fmt='.2f', cmap='Reds')\n",
    "plt.title('train accuracies'); plt.xlabel('value of k'); plt.ylabel('alpha')\n",
    "plt.subplot(1, 2, 2)\n",
    "sns.heatmap(val_accs_df, vmin=min_err, vmax=max_err, square=True, \n",
    "            annot=True, cbar=False, fmt='.2f', cmap='Reds')\n",
    "plt.title('validation accuracies'); plt.xlabel('value of k'); plt.ylabel('alpha');"
   ]
  },
  {
   "attachments": {},
   "cell_type": "markdown",
   "metadata": {},
   "source": [
    "# References"
   ]
  },
  {
   "attachments": {},
   "cell_type": "markdown",
   "metadata": {},
   "source": [
    "[1] https://machinelearningmastery.com/how-to-use-statistics-to-identify-outliers-in-data/ </p>\n",
    "[2] https://scikit-learn.org/stable/modules/compose.html#transforming-target-in-regression </p>"
   ]
  }
 ],
 "metadata": {
  "kernelspec": {
   "display_name": "min_ds-env",
   "language": "python",
   "name": "python3"
  },
  "language_info": {
   "codemirror_mode": {
    "name": "ipython",
    "version": 3
   },
   "file_extension": ".py",
   "mimetype": "text/x-python",
   "name": "python",
   "nbconvert_exporter": "python",
   "pygments_lexer": "ipython3",
   "version": "3.8.8"
  },
  "orig_nbformat": 4,
  "vscode": {
   "interpreter": {
    "hash": "c9de1f3974ec382bb12c30e8e61d5b31a3fa981eafd7ce74c77f0c35f0fc7298"
   }
  }
 },
 "nbformat": 4,
 "nbformat_minor": 2
}
