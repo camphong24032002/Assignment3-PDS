{
  "cells": [
    {
      "cell_type": "code",
      "execution_count": 69,
      "metadata": {
        "id": "iRrLPWJsbT59"
      },
      "outputs": [],
      "source": [
        "import matplotlib.pyplot as plt\n",
        "import seaborn as sns \n",
        "import pandas as pd\n",
        "import numpy as np\n",
        "import seaborn as sns\n",
        "\n",
        "from sklearn.model_selection import train_test_split, GridSearchCV, KFold\n",
        "from sklearn.preprocessing import OneHotEncoder, StandardScaler, MinMaxScaler, LabelEncoder, OrdinalEncoder, normalize\n",
        "from sklearn.impute import SimpleImputer\n",
        "from sklearn.base import BaseEstimator, TransformerMixin\n",
        "from sklearn.pipeline import Pipeline, make_pipeline\n",
        "from sklearn.compose import ColumnTransformer, make_column_transformer\n",
        "from sklearn.neural_network import MLPClassifier\n",
        "from sklearn.neighbors import LocalOutlierFactor\n",
        "from sklearn.tree import DecisionTreeClassifier\n",
        "from sklearn.cluster import KMeans, AgglomerativeClustering\n",
        "from sklearn.tree import export_text\n",
        "from sklearn import set_config\n",
        "from sklearn.metrics import accuracy_score, silhouette_score, f1_score, average_precision_score, recall_score\n",
        "from sklearn.feature_selection import f_regression, f_classif, mutual_info_classif, chi2, SelectKBest\n",
        "set_config(display='diagram')"
      ]
    },
    {
      "cell_type": "markdown",
      "metadata": {
        "id": "JADIe9qjOJzE"
      },
      "source": [
        "## **Read data from UCI dataset**"
      ]
    },
    {
      "cell_type": "code",
      "execution_count": 70,
      "metadata": {
        "colab": {
          "base_uri": "https://localhost:8080/",
          "height": 270
        },
        "id": "uWL0_Q6IbzOh",
        "outputId": "95637c11-68f8-4577-c8d8-e2ecca270792"
      },
      "outputs": [
        {
          "data": {
            "text/html": [
              "<div>\n",
              "<style scoped>\n",
              "    .dataframe tbody tr th:only-of-type {\n",
              "        vertical-align: middle;\n",
              "    }\n",
              "\n",
              "    .dataframe tbody tr th {\n",
              "        vertical-align: top;\n",
              "    }\n",
              "\n",
              "    .dataframe thead th {\n",
              "        text-align: right;\n",
              "    }\n",
              "</style>\n",
              "<table border=\"1\" class=\"dataframe\">\n",
              "  <thead>\n",
              "    <tr style=\"text-align: right;\">\n",
              "      <th></th>\n",
              "      <th>Administrative</th>\n",
              "      <th>Administrative_Duration</th>\n",
              "      <th>Informational</th>\n",
              "      <th>Informational_Duration</th>\n",
              "      <th>ProductRelated</th>\n",
              "      <th>ProductRelated_Duration</th>\n",
              "      <th>BounceRates</th>\n",
              "      <th>ExitRates</th>\n",
              "      <th>PageValues</th>\n",
              "      <th>SpecialDay</th>\n",
              "      <th>Month</th>\n",
              "      <th>OperatingSystems</th>\n",
              "      <th>Browser</th>\n",
              "      <th>Region</th>\n",
              "      <th>TrafficType</th>\n",
              "      <th>VisitorType</th>\n",
              "      <th>Weekend</th>\n",
              "      <th>Revenue</th>\n",
              "    </tr>\n",
              "  </thead>\n",
              "  <tbody>\n",
              "    <tr>\n",
              "      <th>0</th>\n",
              "      <td>0</td>\n",
              "      <td>0.0</td>\n",
              "      <td>0</td>\n",
              "      <td>0.0</td>\n",
              "      <td>1</td>\n",
              "      <td>0.000000</td>\n",
              "      <td>0.20</td>\n",
              "      <td>0.20</td>\n",
              "      <td>0.0</td>\n",
              "      <td>0.0</td>\n",
              "      <td>Feb</td>\n",
              "      <td>1</td>\n",
              "      <td>1</td>\n",
              "      <td>1</td>\n",
              "      <td>1</td>\n",
              "      <td>Returning_Visitor</td>\n",
              "      <td>False</td>\n",
              "      <td>False</td>\n",
              "    </tr>\n",
              "    <tr>\n",
              "      <th>1</th>\n",
              "      <td>0</td>\n",
              "      <td>0.0</td>\n",
              "      <td>0</td>\n",
              "      <td>0.0</td>\n",
              "      <td>2</td>\n",
              "      <td>64.000000</td>\n",
              "      <td>0.00</td>\n",
              "      <td>0.10</td>\n",
              "      <td>0.0</td>\n",
              "      <td>0.0</td>\n",
              "      <td>Feb</td>\n",
              "      <td>2</td>\n",
              "      <td>2</td>\n",
              "      <td>1</td>\n",
              "      <td>2</td>\n",
              "      <td>Returning_Visitor</td>\n",
              "      <td>False</td>\n",
              "      <td>False</td>\n",
              "    </tr>\n",
              "    <tr>\n",
              "      <th>2</th>\n",
              "      <td>0</td>\n",
              "      <td>0.0</td>\n",
              "      <td>0</td>\n",
              "      <td>0.0</td>\n",
              "      <td>1</td>\n",
              "      <td>0.000000</td>\n",
              "      <td>0.20</td>\n",
              "      <td>0.20</td>\n",
              "      <td>0.0</td>\n",
              "      <td>0.0</td>\n",
              "      <td>Feb</td>\n",
              "      <td>4</td>\n",
              "      <td>1</td>\n",
              "      <td>9</td>\n",
              "      <td>3</td>\n",
              "      <td>Returning_Visitor</td>\n",
              "      <td>False</td>\n",
              "      <td>False</td>\n",
              "    </tr>\n",
              "    <tr>\n",
              "      <th>3</th>\n",
              "      <td>0</td>\n",
              "      <td>0.0</td>\n",
              "      <td>0</td>\n",
              "      <td>0.0</td>\n",
              "      <td>2</td>\n",
              "      <td>2.666667</td>\n",
              "      <td>0.05</td>\n",
              "      <td>0.14</td>\n",
              "      <td>0.0</td>\n",
              "      <td>0.0</td>\n",
              "      <td>Feb</td>\n",
              "      <td>3</td>\n",
              "      <td>2</td>\n",
              "      <td>2</td>\n",
              "      <td>4</td>\n",
              "      <td>Returning_Visitor</td>\n",
              "      <td>False</td>\n",
              "      <td>False</td>\n",
              "    </tr>\n",
              "    <tr>\n",
              "      <th>4</th>\n",
              "      <td>0</td>\n",
              "      <td>0.0</td>\n",
              "      <td>0</td>\n",
              "      <td>0.0</td>\n",
              "      <td>10</td>\n",
              "      <td>627.500000</td>\n",
              "      <td>0.02</td>\n",
              "      <td>0.05</td>\n",
              "      <td>0.0</td>\n",
              "      <td>0.0</td>\n",
              "      <td>Feb</td>\n",
              "      <td>3</td>\n",
              "      <td>3</td>\n",
              "      <td>1</td>\n",
              "      <td>4</td>\n",
              "      <td>Returning_Visitor</td>\n",
              "      <td>True</td>\n",
              "      <td>False</td>\n",
              "    </tr>\n",
              "  </tbody>\n",
              "</table>\n",
              "</div>"
            ],
            "text/plain": [
              "   Administrative  Administrative_Duration  Informational  \\\n",
              "0               0                      0.0              0   \n",
              "1               0                      0.0              0   \n",
              "2               0                      0.0              0   \n",
              "3               0                      0.0              0   \n",
              "4               0                      0.0              0   \n",
              "\n",
              "   Informational_Duration  ProductRelated  ProductRelated_Duration  \\\n",
              "0                     0.0               1                 0.000000   \n",
              "1                     0.0               2                64.000000   \n",
              "2                     0.0               1                 0.000000   \n",
              "3                     0.0               2                 2.666667   \n",
              "4                     0.0              10               627.500000   \n",
              "\n",
              "   BounceRates  ExitRates  PageValues  SpecialDay Month  OperatingSystems  \\\n",
              "0         0.20       0.20         0.0         0.0   Feb                 1   \n",
              "1         0.00       0.10         0.0         0.0   Feb                 2   \n",
              "2         0.20       0.20         0.0         0.0   Feb                 4   \n",
              "3         0.05       0.14         0.0         0.0   Feb                 3   \n",
              "4         0.02       0.05         0.0         0.0   Feb                 3   \n",
              "\n",
              "   Browser  Region  TrafficType        VisitorType  Weekend  Revenue  \n",
              "0        1       1            1  Returning_Visitor    False    False  \n",
              "1        2       1            2  Returning_Visitor    False    False  \n",
              "2        1       9            3  Returning_Visitor    False    False  \n",
              "3        2       2            4  Returning_Visitor    False    False  \n",
              "4        3       1            4  Returning_Visitor     True    False  "
            ]
          },
          "execution_count": 70,
          "metadata": {},
          "output_type": "execute_result"
        }
      ],
      "source": [
        "df = pd.read_csv('https://archive.ics.uci.edu/ml/machine-learning-databases/00468/online_shoppers_intention.csv', sep=',')\n",
        "df.head()"
      ]
    },
    {
      "attachments": {},
      "cell_type": "markdown",
      "metadata": {},
      "source": [
        "<h4><b>Data description</b></h4>"
      ]
    },
    {
      "attachments": {},
      "cell_type": "markdown",
      "metadata": {
        "id": "sULhr6j_Q6Gd"
      },
      "source": [
        "<p>The dataset consists of 10 numerical and 8 categorical attributes.</p>\n",
        "<p>The 'Revenue' attribute can be used as the class label.</p>\n",
        "<p>We refer to split the data set into train set and test set with ratio 70%-30%. Test set will be kept to calculate the accuracy of the model</p>"
      ]
    },
    {
      "cell_type": "code",
      "execution_count": 71,
      "metadata": {
        "colab": {
          "base_uri": "https://localhost:8080/"
        },
        "id": "BWp7-pSJhyad",
        "outputId": "cc9a27d7-d3b9-47b1-a289-fd0335872f32"
      },
      "outputs": [
        {
          "data": {
            "text/plain": [
              "False    10422\n",
              "True      1908\n",
              "Name: Revenue, dtype: int64"
            ]
          },
          "execution_count": 71,
          "metadata": {},
          "output_type": "execute_result"
        }
      ],
      "source": [
        "df['Revenue'].value_counts()"
      ]
    },
    {
      "attachments": {},
      "cell_type": "markdown",
      "metadata": {
        "id": "EVov5y_IRMEb"
      },
      "source": [
        "Below, we would refer to split the data set into train set and test set with ratio of (75%, 25%) of data set. Moreover, from the train set, we continue spliting a part of it for validation set with ratio of (75%, 25%) of train set."
      ]
    },
    {
      "cell_type": "code",
      "execution_count": 72,
      "metadata": {
        "id": "_I6aBKXbO2QO"
      },
      "outputs": [],
      "source": [
        "df, test_df = train_test_split(df, test_size=0.25, random_state=0)\n",
        "train_df, val_df = train_test_split(df, test_size=0.25, random_state=0)"
      ]
    },
    {
      "cell_type": "code",
      "execution_count": 73,
      "metadata": {
        "colab": {
          "base_uri": "https://localhost:8080/"
        },
        "id": "NyiuG5tFO3Tx",
        "outputId": "5012cc69-47a5-4075-97af-d3cd63e5f8f5"
      },
      "outputs": [
        {
          "name": "stdout",
          "output_type": "stream",
          "text": [
            "Train set shape: (6935, 18)\n",
            "Validate set shape: (2312, 18)\n",
            "Test set shape: (3083, 18)\n"
          ]
        }
      ],
      "source": [
        "print(f\"Train set shape: {train_df.shape}\")\n",
        "print(f\"Validate set shape: {val_df.shape}\")\n",
        "print(f\"Test set shape: {test_df.shape}\")"
      ]
    },
    {
      "cell_type": "markdown",
      "metadata": {
        "id": "_xvrbaGvQcVw"
      },
      "source": [
        "We just `randome_state` the `train_test_split` to make the training process more efficient in general."
      ]
    },
    {
      "cell_type": "code",
      "execution_count": 74,
      "metadata": {
        "colab": {
          "base_uri": "https://localhost:8080/",
          "height": 270
        },
        "id": "5_qRSDHTXpmd",
        "outputId": "de2eac1f-70a4-42d5-9679-814ac2d079e3"
      },
      "outputs": [
        {
          "data": {
            "text/html": [
              "<div>\n",
              "<style scoped>\n",
              "    .dataframe tbody tr th:only-of-type {\n",
              "        vertical-align: middle;\n",
              "    }\n",
              "\n",
              "    .dataframe tbody tr th {\n",
              "        vertical-align: top;\n",
              "    }\n",
              "\n",
              "    .dataframe thead th {\n",
              "        text-align: right;\n",
              "    }\n",
              "</style>\n",
              "<table border=\"1\" class=\"dataframe\">\n",
              "  <thead>\n",
              "    <tr style=\"text-align: right;\">\n",
              "      <th></th>\n",
              "      <th>Administrative</th>\n",
              "      <th>Administrative_Duration</th>\n",
              "      <th>Informational</th>\n",
              "      <th>Informational_Duration</th>\n",
              "      <th>ProductRelated</th>\n",
              "      <th>ProductRelated_Duration</th>\n",
              "      <th>BounceRates</th>\n",
              "      <th>ExitRates</th>\n",
              "      <th>PageValues</th>\n",
              "      <th>SpecialDay</th>\n",
              "      <th>Month</th>\n",
              "      <th>OperatingSystems</th>\n",
              "      <th>Browser</th>\n",
              "      <th>Region</th>\n",
              "      <th>TrafficType</th>\n",
              "      <th>VisitorType</th>\n",
              "      <th>Weekend</th>\n",
              "      <th>Revenue</th>\n",
              "    </tr>\n",
              "  </thead>\n",
              "  <tbody>\n",
              "    <tr>\n",
              "      <th>3271</th>\n",
              "      <td>7</td>\n",
              "      <td>89.900000</td>\n",
              "      <td>3</td>\n",
              "      <td>84.0</td>\n",
              "      <td>58</td>\n",
              "      <td>2787.250000</td>\n",
              "      <td>0.000000</td>\n",
              "      <td>0.007716</td>\n",
              "      <td>98.042626</td>\n",
              "      <td>0.0</td>\n",
              "      <td>May</td>\n",
              "      <td>2</td>\n",
              "      <td>2</td>\n",
              "      <td>1</td>\n",
              "      <td>2</td>\n",
              "      <td>Returning_Visitor</td>\n",
              "      <td>False</td>\n",
              "      <td>False</td>\n",
              "    </tr>\n",
              "    <tr>\n",
              "      <th>10384</th>\n",
              "      <td>9</td>\n",
              "      <td>137.322222</td>\n",
              "      <td>1</td>\n",
              "      <td>418.5</td>\n",
              "      <td>41</td>\n",
              "      <td>1933.244444</td>\n",
              "      <td>0.006079</td>\n",
              "      <td>0.021222</td>\n",
              "      <td>0.000000</td>\n",
              "      <td>0.0</td>\n",
              "      <td>Dec</td>\n",
              "      <td>2</td>\n",
              "      <td>2</td>\n",
              "      <td>1</td>\n",
              "      <td>2</td>\n",
              "      <td>Returning_Visitor</td>\n",
              "      <td>False</td>\n",
              "      <td>False</td>\n",
              "    </tr>\n",
              "    <tr>\n",
              "      <th>5126</th>\n",
              "      <td>0</td>\n",
              "      <td>0.000000</td>\n",
              "      <td>0</td>\n",
              "      <td>0.0</td>\n",
              "      <td>43</td>\n",
              "      <td>703.833333</td>\n",
              "      <td>0.000000</td>\n",
              "      <td>0.006977</td>\n",
              "      <td>0.000000</td>\n",
              "      <td>0.0</td>\n",
              "      <td>May</td>\n",
              "      <td>2</td>\n",
              "      <td>4</td>\n",
              "      <td>1</td>\n",
              "      <td>2</td>\n",
              "      <td>Returning_Visitor</td>\n",
              "      <td>False</td>\n",
              "      <td>False</td>\n",
              "    </tr>\n",
              "    <tr>\n",
              "      <th>6650</th>\n",
              "      <td>1</td>\n",
              "      <td>20.200000</td>\n",
              "      <td>0</td>\n",
              "      <td>0.0</td>\n",
              "      <td>77</td>\n",
              "      <td>3107.173333</td>\n",
              "      <td>0.002597</td>\n",
              "      <td>0.017042</td>\n",
              "      <td>18.748602</td>\n",
              "      <td>0.0</td>\n",
              "      <td>Sep</td>\n",
              "      <td>2</td>\n",
              "      <td>2</td>\n",
              "      <td>7</td>\n",
              "      <td>1</td>\n",
              "      <td>Returning_Visitor</td>\n",
              "      <td>False</td>\n",
              "      <td>True</td>\n",
              "    </tr>\n",
              "    <tr>\n",
              "      <th>11485</th>\n",
              "      <td>0</td>\n",
              "      <td>0.000000</td>\n",
              "      <td>0</td>\n",
              "      <td>0.0</td>\n",
              "      <td>30</td>\n",
              "      <td>1285.166667</td>\n",
              "      <td>0.002759</td>\n",
              "      <td>0.022660</td>\n",
              "      <td>0.000000</td>\n",
              "      <td>0.0</td>\n",
              "      <td>Nov</td>\n",
              "      <td>3</td>\n",
              "      <td>3</td>\n",
              "      <td>1</td>\n",
              "      <td>8</td>\n",
              "      <td>Returning_Visitor</td>\n",
              "      <td>True</td>\n",
              "      <td>False</td>\n",
              "    </tr>\n",
              "  </tbody>\n",
              "</table>\n",
              "</div>"
            ],
            "text/plain": [
              "       Administrative  Administrative_Duration  Informational  \\\n",
              "3271                7                89.900000              3   \n",
              "10384               9               137.322222              1   \n",
              "5126                0                 0.000000              0   \n",
              "6650                1                20.200000              0   \n",
              "11485               0                 0.000000              0   \n",
              "\n",
              "       Informational_Duration  ProductRelated  ProductRelated_Duration  \\\n",
              "3271                     84.0              58              2787.250000   \n",
              "10384                   418.5              41              1933.244444   \n",
              "5126                      0.0              43               703.833333   \n",
              "6650                      0.0              77              3107.173333   \n",
              "11485                     0.0              30              1285.166667   \n",
              "\n",
              "       BounceRates  ExitRates  PageValues  SpecialDay Month  OperatingSystems  \\\n",
              "3271      0.000000   0.007716   98.042626         0.0   May                 2   \n",
              "10384     0.006079   0.021222    0.000000         0.0   Dec                 2   \n",
              "5126      0.000000   0.006977    0.000000         0.0   May                 2   \n",
              "6650      0.002597   0.017042   18.748602         0.0   Sep                 2   \n",
              "11485     0.002759   0.022660    0.000000         0.0   Nov                 3   \n",
              "\n",
              "       Browser  Region  TrafficType        VisitorType  Weekend  Revenue  \n",
              "3271         2       1            2  Returning_Visitor    False    False  \n",
              "10384        2       1            2  Returning_Visitor    False    False  \n",
              "5126         4       1            2  Returning_Visitor    False    False  \n",
              "6650         2       7            1  Returning_Visitor    False     True  \n",
              "11485        3       1            8  Returning_Visitor     True    False  "
            ]
          },
          "execution_count": 74,
          "metadata": {},
          "output_type": "execute_result"
        }
      ],
      "source": [
        "train_df.head()"
      ]
    },
    {
      "cell_type": "code",
      "execution_count": 75,
      "metadata": {},
      "outputs": [],
      "source": [
        "cate_cols = train_df.columns[-8:]\n",
        "nume_cols = train_df.columns.drop(cate_cols)"
      ]
    },
    {
      "attachments": {},
      "cell_type": "markdown",
      "metadata": {},
      "source": [
        "### Check data types"
      ]
    },
    {
      "cell_type": "code",
      "execution_count": 76,
      "metadata": {},
      "outputs": [
        {
          "data": {
            "text/plain": [
              "Administrative               int64\n",
              "Administrative_Duration    float64\n",
              "Informational                int64\n",
              "Informational_Duration     float64\n",
              "ProductRelated               int64\n",
              "ProductRelated_Duration    float64\n",
              "BounceRates                float64\n",
              "ExitRates                  float64\n",
              "PageValues                 float64\n",
              "SpecialDay                 float64\n",
              "Month                       object\n",
              "OperatingSystems             int64\n",
              "Browser                      int64\n",
              "Region                       int64\n",
              "TrafficType                  int64\n",
              "VisitorType                 object\n",
              "Weekend                       bool\n",
              "Revenue                       bool\n",
              "dtype: object"
            ]
          },
          "execution_count": 76,
          "metadata": {},
          "output_type": "execute_result"
        }
      ],
      "source": [
        "train_df.dtypes"
      ]
    },
    {
      "attachments": {},
      "cell_type": "markdown",
      "metadata": {},
      "source": [
        "The data types are the same as the dataset description."
      ]
    },
    {
      "attachments": {},
      "cell_type": "markdown",
      "metadata": {},
      "source": [
        "### Deal with missing values\n",
        "We check the data type of each column and whether the column has missing value"
      ]
    },
    {
      "cell_type": "code",
      "execution_count": 77,
      "metadata": {},
      "outputs": [
        {
          "data": {
            "text/plain": [
              "Administrative             0\n",
              "Administrative_Duration    0\n",
              "Informational              0\n",
              "Informational_Duration     0\n",
              "ProductRelated             0\n",
              "ProductRelated_Duration    0\n",
              "BounceRates                0\n",
              "ExitRates                  0\n",
              "PageValues                 0\n",
              "SpecialDay                 0\n",
              "Month                      0\n",
              "OperatingSystems           0\n",
              "Browser                    0\n",
              "Region                     0\n",
              "TrafficType                0\n",
              "VisitorType                0\n",
              "Weekend                    0\n",
              "Revenue                    0\n",
              "dtype: int64"
            ]
          },
          "execution_count": 77,
          "metadata": {},
          "output_type": "execute_result"
        }
      ],
      "source": [
        "train_df.isnull().sum()"
      ]
    },
    {
      "attachments": {},
      "cell_type": "markdown",
      "metadata": {},
      "source": [
        "<p>Well, there is no missing values to process</p>\n",
        "<p>Next, we will choose the categorical and numerical columns to handle quickly.</p>"
      ]
    },
    {
      "attachments": {},
      "cell_type": "markdown",
      "metadata": {},
      "source": [
        "### Identify outliers"
      ]
    },
    {
      "attachments": {},
      "cell_type": "markdown",
      "metadata": {},
      "source": [
        "In this step, we will deal with outliers on numerical columns\n"
      ]
    },
    {
      "cell_type": "code",
      "execution_count": 78,
      "metadata": {},
      "outputs": [
        {
          "data": {
            "text/html": [
              "<div>\n",
              "<style scoped>\n",
              "    .dataframe tbody tr th:only-of-type {\n",
              "        vertical-align: middle;\n",
              "    }\n",
              "\n",
              "    .dataframe tbody tr th {\n",
              "        vertical-align: top;\n",
              "    }\n",
              "\n",
              "    .dataframe thead th {\n",
              "        text-align: right;\n",
              "    }\n",
              "</style>\n",
              "<table border=\"1\" class=\"dataframe\">\n",
              "  <thead>\n",
              "    <tr style=\"text-align: right;\">\n",
              "      <th></th>\n",
              "      <th>Administrative</th>\n",
              "      <th>Administrative_Duration</th>\n",
              "      <th>Informational</th>\n",
              "      <th>Informational_Duration</th>\n",
              "      <th>ProductRelated</th>\n",
              "      <th>ProductRelated_Duration</th>\n",
              "      <th>BounceRates</th>\n",
              "      <th>ExitRates</th>\n",
              "      <th>PageValues</th>\n",
              "      <th>SpecialDay</th>\n",
              "      <th>OperatingSystems</th>\n",
              "      <th>Browser</th>\n",
              "      <th>Region</th>\n",
              "      <th>TrafficType</th>\n",
              "    </tr>\n",
              "  </thead>\n",
              "  <tbody>\n",
              "    <tr>\n",
              "      <th>count</th>\n",
              "      <td>9247.000000</td>\n",
              "      <td>9247.000000</td>\n",
              "      <td>9247.000000</td>\n",
              "      <td>9247.000000</td>\n",
              "      <td>9247.000000</td>\n",
              "      <td>9247.000000</td>\n",
              "      <td>9247.000000</td>\n",
              "      <td>9247.000000</td>\n",
              "      <td>9247.000000</td>\n",
              "      <td>9247.000000</td>\n",
              "      <td>9247.000000</td>\n",
              "      <td>9247.000000</td>\n",
              "      <td>9247.000000</td>\n",
              "      <td>9247.000000</td>\n",
              "    </tr>\n",
              "    <tr>\n",
              "      <th>mean</th>\n",
              "      <td>2.317725</td>\n",
              "      <td>82.191815</td>\n",
              "      <td>0.499513</td>\n",
              "      <td>33.715256</td>\n",
              "      <td>31.792149</td>\n",
              "      <td>1194.550816</td>\n",
              "      <td>0.022387</td>\n",
              "      <td>0.043220</td>\n",
              "      <td>5.783374</td>\n",
              "      <td>0.061815</td>\n",
              "      <td>2.127501</td>\n",
              "      <td>2.362388</td>\n",
              "      <td>3.164161</td>\n",
              "      <td>4.094950</td>\n",
              "    </tr>\n",
              "    <tr>\n",
              "      <th>std</th>\n",
              "      <td>3.310203</td>\n",
              "      <td>182.657364</td>\n",
              "      <td>1.275052</td>\n",
              "      <td>140.574715</td>\n",
              "      <td>44.871329</td>\n",
              "      <td>1961.423881</td>\n",
              "      <td>0.048841</td>\n",
              "      <td>0.048798</td>\n",
              "      <td>18.258968</td>\n",
              "      <td>0.199509</td>\n",
              "      <td>0.922164</td>\n",
              "      <td>1.718090</td>\n",
              "      <td>2.411012</td>\n",
              "      <td>4.051937</td>\n",
              "    </tr>\n",
              "    <tr>\n",
              "      <th>min</th>\n",
              "      <td>0.000000</td>\n",
              "      <td>0.000000</td>\n",
              "      <td>0.000000</td>\n",
              "      <td>0.000000</td>\n",
              "      <td>0.000000</td>\n",
              "      <td>0.000000</td>\n",
              "      <td>0.000000</td>\n",
              "      <td>0.000000</td>\n",
              "      <td>0.000000</td>\n",
              "      <td>0.000000</td>\n",
              "      <td>1.000000</td>\n",
              "      <td>1.000000</td>\n",
              "      <td>1.000000</td>\n",
              "      <td>1.000000</td>\n",
              "    </tr>\n",
              "    <tr>\n",
              "      <th>25%</th>\n",
              "      <td>0.000000</td>\n",
              "      <td>0.000000</td>\n",
              "      <td>0.000000</td>\n",
              "      <td>0.000000</td>\n",
              "      <td>7.000000</td>\n",
              "      <td>180.500000</td>\n",
              "      <td>0.000000</td>\n",
              "      <td>0.014286</td>\n",
              "      <td>0.000000</td>\n",
              "      <td>0.000000</td>\n",
              "      <td>2.000000</td>\n",
              "      <td>2.000000</td>\n",
              "      <td>1.000000</td>\n",
              "      <td>2.000000</td>\n",
              "    </tr>\n",
              "    <tr>\n",
              "      <th>50%</th>\n",
              "      <td>1.000000</td>\n",
              "      <td>8.000000</td>\n",
              "      <td>0.000000</td>\n",
              "      <td>0.000000</td>\n",
              "      <td>18.000000</td>\n",
              "      <td>588.366667</td>\n",
              "      <td>0.002985</td>\n",
              "      <td>0.025421</td>\n",
              "      <td>0.000000</td>\n",
              "      <td>0.000000</td>\n",
              "      <td>2.000000</td>\n",
              "      <td>2.000000</td>\n",
              "      <td>3.000000</td>\n",
              "      <td>2.000000</td>\n",
              "    </tr>\n",
              "    <tr>\n",
              "      <th>75%</th>\n",
              "      <td>4.000000</td>\n",
              "      <td>94.000000</td>\n",
              "      <td>0.000000</td>\n",
              "      <td>0.000000</td>\n",
              "      <td>38.000000</td>\n",
              "      <td>1473.495833</td>\n",
              "      <td>0.017058</td>\n",
              "      <td>0.050000</td>\n",
              "      <td>0.000000</td>\n",
              "      <td>0.000000</td>\n",
              "      <td>3.000000</td>\n",
              "      <td>2.000000</td>\n",
              "      <td>4.000000</td>\n",
              "      <td>4.000000</td>\n",
              "    </tr>\n",
              "    <tr>\n",
              "      <th>max</th>\n",
              "      <td>27.000000</td>\n",
              "      <td>3398.750000</td>\n",
              "      <td>24.000000</td>\n",
              "      <td>2549.375000</td>\n",
              "      <td>705.000000</td>\n",
              "      <td>63973.522230</td>\n",
              "      <td>0.200000</td>\n",
              "      <td>0.200000</td>\n",
              "      <td>360.953384</td>\n",
              "      <td>1.000000</td>\n",
              "      <td>8.000000</td>\n",
              "      <td>13.000000</td>\n",
              "      <td>9.000000</td>\n",
              "      <td>20.000000</td>\n",
              "    </tr>\n",
              "  </tbody>\n",
              "</table>\n",
              "</div>"
            ],
            "text/plain": [
              "       Administrative  Administrative_Duration  Informational  \\\n",
              "count     9247.000000              9247.000000    9247.000000   \n",
              "mean         2.317725                82.191815       0.499513   \n",
              "std          3.310203               182.657364       1.275052   \n",
              "min          0.000000                 0.000000       0.000000   \n",
              "25%          0.000000                 0.000000       0.000000   \n",
              "50%          1.000000                 8.000000       0.000000   \n",
              "75%          4.000000                94.000000       0.000000   \n",
              "max         27.000000              3398.750000      24.000000   \n",
              "\n",
              "       Informational_Duration  ProductRelated  ProductRelated_Duration  \\\n",
              "count             9247.000000     9247.000000              9247.000000   \n",
              "mean                33.715256       31.792149              1194.550816   \n",
              "std                140.574715       44.871329              1961.423881   \n",
              "min                  0.000000        0.000000                 0.000000   \n",
              "25%                  0.000000        7.000000               180.500000   \n",
              "50%                  0.000000       18.000000               588.366667   \n",
              "75%                  0.000000       38.000000              1473.495833   \n",
              "max               2549.375000      705.000000             63973.522230   \n",
              "\n",
              "       BounceRates    ExitRates   PageValues   SpecialDay  OperatingSystems  \\\n",
              "count  9247.000000  9247.000000  9247.000000  9247.000000       9247.000000   \n",
              "mean      0.022387     0.043220     5.783374     0.061815          2.127501   \n",
              "std       0.048841     0.048798    18.258968     0.199509          0.922164   \n",
              "min       0.000000     0.000000     0.000000     0.000000          1.000000   \n",
              "25%       0.000000     0.014286     0.000000     0.000000          2.000000   \n",
              "50%       0.002985     0.025421     0.000000     0.000000          2.000000   \n",
              "75%       0.017058     0.050000     0.000000     0.000000          3.000000   \n",
              "max       0.200000     0.200000   360.953384     1.000000          8.000000   \n",
              "\n",
              "           Browser       Region  TrafficType  \n",
              "count  9247.000000  9247.000000  9247.000000  \n",
              "mean      2.362388     3.164161     4.094950  \n",
              "std       1.718090     2.411012     4.051937  \n",
              "min       1.000000     1.000000     1.000000  \n",
              "25%       2.000000     1.000000     2.000000  \n",
              "50%       2.000000     3.000000     2.000000  \n",
              "75%       2.000000     4.000000     4.000000  \n",
              "max      13.000000     9.000000    20.000000  "
            ]
          },
          "execution_count": 78,
          "metadata": {},
          "output_type": "execute_result"
        }
      ],
      "source": [
        "df.describe()"
      ]
    },
    {
      "attachments": {},
      "cell_type": "markdown",
      "metadata": {},
      "source": [
        "* Interquartile Range Method"
      ]
    },
    {
      "cell_type": "code",
      "execution_count": 79,
      "metadata": {},
      "outputs": [
        {
          "name": "stdout",
          "output_type": "stream",
          "text": [
            "Percentage of outliers: 56.41%\n"
          ]
        }
      ],
      "source": [
        "Q1 = train_df[nume_cols].quantile(0.25)\n",
        "Q3 = train_df[nume_cols].quantile(0.75)\n",
        "IQR = Q3 - Q1\n",
        "\n",
        "outlier_iqr_df = train_df[~((train_df[nume_cols] < (Q1 - 1.5 * IQR)) | (train_df[nume_cols] > (Q3 + 1.5 * IQR))).any(axis=1)]\n",
        "print(f'Percentage of outliers: {round((1-outlier_iqr_df.shape[0]/train_df.shape[0])*100, 2)}%')"
      ]
    },
    {
      "attachments": {},
      "cell_type": "markdown",
      "metadata": {},
      "source": [
        "This method made us surprised that the outliers claim too high percentage so we need to visualize them"
      ]
    },
    {
      "cell_type": "code",
      "execution_count": 80,
      "metadata": {},
      "outputs": [
        {
          "data": {
            "image/png": "[encoded data removed]",
            "text/plain": [
              "<Figure size 1440x720 with 10 Axes>"
            ]
          },
          "metadata": {
            "needs_background": "light"
          },
          "output_type": "display_data"
        }
      ],
      "source": [
        "fig, axes = plt.subplots(2, 5, figsize=(20, 10))\n",
        "for index in range(len(nume_cols)):\n",
        "    row, col = index // 5, index % 5\n",
        "    train_df.boxplot(nume_cols[index], ax = axes[row, col], fontsize=10) \n",
        "plt.show()"
      ]
    },
    {
      "attachments": {},
      "cell_type": "markdown",
      "metadata": {},
      "source": [
        "Looking at the graph, we can see that each numerical column has too many outliers that we can not remove because they will affect the result"
      ]
    },
    {
      "attachments": {},
      "cell_type": "markdown",
      "metadata": {},
      "source": [
        "* Standard deviation method"
      ]
    },
    {
      "cell_type": "code",
      "execution_count": 81,
      "metadata": {},
      "outputs": [
        {
          "name": "stdout",
          "output_type": "stream",
          "text": [
            "Percentage of outliers: 18.59%\n"
          ]
        }
      ],
      "source": [
        "data_mean, data_std = np.mean(train_df[nume_cols], axis=0), np.std(train_df[nume_cols])\n",
        "cut_off = data_std * 3\n",
        "lower, upper = data_mean - cut_off, data_mean + cut_off\n",
        "outlier_std_df = train_df[~((train_df[nume_cols] < lower) | (train_df[nume_cols] > upper)).any(axis=1)]\n",
        "print(f'Percentage of outliers: {round((1-outlier_std_df.shape[0]/train_df.shape[0])*100, 2)}%')"
      ]
    },
    {
      "attachments": {},
      "cell_type": "markdown",
      "metadata": {},
      "source": [
        "We wonder if the values are outliers because the percentage of the outliers is so high. We intend to use a different method to handle."
      ]
    },
    {
      "attachments": {},
      "cell_type": "markdown",
      "metadata": {},
      "source": [
        "* Automatic Outlier Detection"
      ]
    },
    {
      "cell_type": "code",
      "execution_count": 82,
      "metadata": {},
      "outputs": [
        {
          "name": "stdout",
          "output_type": "stream",
          "text": [
            "Percentage of outliers: 9.52%\n"
          ]
        }
      ],
      "source": [
        "lof = LocalOutlierFactor()\n",
        "yhat = lof.fit_predict(train_df[nume_cols])\n",
        "mask = yhat != -1\n",
        "outlier_aod_df = train_df.iloc[mask]\n",
        "print(f'Percentage of outliers: {round((1-outlier_aod_df.shape[0]/train_df.shape[0])*100, 2)}%')"
      ]
    },
    {
      "attachments": {},
      "cell_type": "markdown",
      "metadata": {},
      "source": [
        "<b>We can see that there are too many outliers existed in the dataset. We wonder whether they have their own meaning and decide to disregard them.</b>"
      ]
    },
    {
      "attachments": {},
      "cell_type": "markdown",
      "metadata": {},
      "source": [
        "### d) Check duplicates"
      ]
    },
    {
      "cell_type": "code",
      "execution_count": 83,
      "metadata": {},
      "outputs": [
        {
          "name": "stdout",
          "output_type": "stream",
          "text": [
            "There are 48 duplicate(s) in the train set and it claims 0.69%\n"
          ]
        }
      ],
      "source": [
        "duplicates = train_df.shape[0] - train_df.drop_duplicates().shape[0]\n",
        "print(f'There are {duplicates} duplicate(s) in the train set and it claims {round(duplicates*100/train_df.shape[0],2)}%')"
      ]
    },
    {
      "attachments": {},
      "cell_type": "markdown",
      "metadata": {},
      "source": [
        "The dataset contains some duplicates so we decide to remove them"
      ]
    },
    {
      "cell_type": "code",
      "execution_count": 84,
      "metadata": {},
      "outputs": [],
      "source": [
        "train_df.drop_duplicates(inplace=True)"
      ]
    },
    {
      "attachments": {},
      "cell_type": "markdown",
      "metadata": {},
      "source": [
        "### e) Check category columns"
      ]
    },
    {
      "cell_type": "code",
      "execution_count": 85,
      "metadata": {},
      "outputs": [
        {
          "name": "stdout",
          "output_type": "stream",
          "text": [
            "Month: ['May' 'Dec' 'Sep' 'Nov' 'Mar' 'June' 'Jul' 'Oct' 'Aug' 'Feb']\n",
            "OperatingSystems: [2 3 1 4 8 6 5 7]\n",
            "Browser: [ 2  4  3  1  6  5 10 13  8  7 12 11  9]\n",
            "Region: [1 7 6 8 4 3 9 2 5]\n",
            "TrafficType: [ 2  1  8  4  6  3 13 20  5 11  7 10 15  9 14 19 12 18 16]\n",
            "VisitorType: ['Returning_Visitor' 'New_Visitor' 'Other']\n",
            "Weekend: [False  True]\n",
            "Revenue: [False  True]\n"
          ]
        }
      ],
      "source": [
        "for col in cate_cols:\n",
        "    print(f'{col}: {train_df[col].unique()}')"
      ]
    },
    {
      "attachments": {},
      "cell_type": "markdown",
      "metadata": {},
      "source": [
        "We see that the data is correct after manually checking it, so we don't need to repair it.\n",
        "To make things easier, we'll encode which columns aren't number to number later."
      ]
    },
    {
      "attachments": {},
      "cell_type": "markdown",
      "metadata": {},
      "source": [
        "# Task 2: Feature Engineering"
      ]
    },
    {
      "attachments": {},
      "cell_type": "markdown",
      "metadata": {},
      "source": [
        "Firstly, we should encode the object values to number in order to handle conveniently."
      ]
    },
    {
      "cell_type": "code",
      "execution_count": 86,
      "metadata": {},
      "outputs": [
        {
          "data": {
            "text/html": [
              "<div>\n",
              "<style scoped>\n",
              "    .dataframe tbody tr th:only-of-type {\n",
              "        vertical-align: middle;\n",
              "    }\n",
              "\n",
              "    .dataframe tbody tr th {\n",
              "        vertical-align: top;\n",
              "    }\n",
              "\n",
              "    .dataframe thead th {\n",
              "        text-align: right;\n",
              "    }\n",
              "</style>\n",
              "<table border=\"1\" class=\"dataframe\">\n",
              "  <thead>\n",
              "    <tr style=\"text-align: right;\">\n",
              "      <th></th>\n",
              "      <th>Administrative</th>\n",
              "      <th>Administrative_Duration</th>\n",
              "      <th>Informational</th>\n",
              "      <th>Informational_Duration</th>\n",
              "      <th>ProductRelated</th>\n",
              "      <th>ProductRelated_Duration</th>\n",
              "      <th>BounceRates</th>\n",
              "      <th>ExitRates</th>\n",
              "      <th>PageValues</th>\n",
              "      <th>SpecialDay</th>\n",
              "      <th>Month</th>\n",
              "      <th>OperatingSystems</th>\n",
              "      <th>Browser</th>\n",
              "      <th>Region</th>\n",
              "      <th>TrafficType</th>\n",
              "      <th>VisitorType</th>\n",
              "      <th>Weekend</th>\n",
              "      <th>Revenue</th>\n",
              "    </tr>\n",
              "  </thead>\n",
              "  <tbody>\n",
              "    <tr>\n",
              "      <th>3271</th>\n",
              "      <td>7</td>\n",
              "      <td>89.900000</td>\n",
              "      <td>3</td>\n",
              "      <td>84.0</td>\n",
              "      <td>58</td>\n",
              "      <td>2787.250000</td>\n",
              "      <td>0.000000</td>\n",
              "      <td>0.007716</td>\n",
              "      <td>98.042626</td>\n",
              "      <td>0.0</td>\n",
              "      <td>6</td>\n",
              "      <td>2</td>\n",
              "      <td>2</td>\n",
              "      <td>1</td>\n",
              "      <td>2</td>\n",
              "      <td>2</td>\n",
              "      <td>0</td>\n",
              "      <td>0</td>\n",
              "    </tr>\n",
              "    <tr>\n",
              "      <th>10384</th>\n",
              "      <td>9</td>\n",
              "      <td>137.322222</td>\n",
              "      <td>1</td>\n",
              "      <td>418.5</td>\n",
              "      <td>41</td>\n",
              "      <td>1933.244444</td>\n",
              "      <td>0.006079</td>\n",
              "      <td>0.021222</td>\n",
              "      <td>0.000000</td>\n",
              "      <td>0.0</td>\n",
              "      <td>1</td>\n",
              "      <td>2</td>\n",
              "      <td>2</td>\n",
              "      <td>1</td>\n",
              "      <td>2</td>\n",
              "      <td>2</td>\n",
              "      <td>0</td>\n",
              "      <td>0</td>\n",
              "    </tr>\n",
              "    <tr>\n",
              "      <th>5126</th>\n",
              "      <td>0</td>\n",
              "      <td>0.000000</td>\n",
              "      <td>0</td>\n",
              "      <td>0.0</td>\n",
              "      <td>43</td>\n",
              "      <td>703.833333</td>\n",
              "      <td>0.000000</td>\n",
              "      <td>0.006977</td>\n",
              "      <td>0.000000</td>\n",
              "      <td>0.0</td>\n",
              "      <td>6</td>\n",
              "      <td>2</td>\n",
              "      <td>4</td>\n",
              "      <td>1</td>\n",
              "      <td>2</td>\n",
              "      <td>2</td>\n",
              "      <td>0</td>\n",
              "      <td>0</td>\n",
              "    </tr>\n",
              "    <tr>\n",
              "      <th>6650</th>\n",
              "      <td>1</td>\n",
              "      <td>20.200000</td>\n",
              "      <td>0</td>\n",
              "      <td>0.0</td>\n",
              "      <td>77</td>\n",
              "      <td>3107.173333</td>\n",
              "      <td>0.002597</td>\n",
              "      <td>0.017042</td>\n",
              "      <td>18.748602</td>\n",
              "      <td>0.0</td>\n",
              "      <td>9</td>\n",
              "      <td>2</td>\n",
              "      <td>2</td>\n",
              "      <td>7</td>\n",
              "      <td>1</td>\n",
              "      <td>2</td>\n",
              "      <td>0</td>\n",
              "      <td>1</td>\n",
              "    </tr>\n",
              "    <tr>\n",
              "      <th>11485</th>\n",
              "      <td>0</td>\n",
              "      <td>0.000000</td>\n",
              "      <td>0</td>\n",
              "      <td>0.0</td>\n",
              "      <td>30</td>\n",
              "      <td>1285.166667</td>\n",
              "      <td>0.002759</td>\n",
              "      <td>0.022660</td>\n",
              "      <td>0.000000</td>\n",
              "      <td>0.0</td>\n",
              "      <td>7</td>\n",
              "      <td>3</td>\n",
              "      <td>3</td>\n",
              "      <td>1</td>\n",
              "      <td>8</td>\n",
              "      <td>2</td>\n",
              "      <td>1</td>\n",
              "      <td>0</td>\n",
              "    </tr>\n",
              "  </tbody>\n",
              "</table>\n",
              "</div>"
            ],
            "text/plain": [
              "       Administrative  Administrative_Duration  Informational  \\\n",
              "3271                7                89.900000              3   \n",
              "10384               9               137.322222              1   \n",
              "5126                0                 0.000000              0   \n",
              "6650                1                20.200000              0   \n",
              "11485               0                 0.000000              0   \n",
              "\n",
              "       Informational_Duration  ProductRelated  ProductRelated_Duration  \\\n",
              "3271                     84.0              58              2787.250000   \n",
              "10384                   418.5              41              1933.244444   \n",
              "5126                      0.0              43               703.833333   \n",
              "6650                      0.0              77              3107.173333   \n",
              "11485                     0.0              30              1285.166667   \n",
              "\n",
              "       BounceRates  ExitRates  PageValues  SpecialDay  Month  \\\n",
              "3271      0.000000   0.007716   98.042626         0.0      6   \n",
              "10384     0.006079   0.021222    0.000000         0.0      1   \n",
              "5126      0.000000   0.006977    0.000000         0.0      6   \n",
              "6650      0.002597   0.017042   18.748602         0.0      9   \n",
              "11485     0.002759   0.022660    0.000000         0.0      7   \n",
              "\n",
              "       OperatingSystems  Browser  Region  TrafficType  VisitorType  Weekend  \\\n",
              "3271                  2        2       1            2            2        0   \n",
              "10384                 2        2       1            2            2        0   \n",
              "5126                  2        4       1            2            2        0   \n",
              "6650                  2        2       7            1            2        0   \n",
              "11485                 3        3       1            8            2        1   \n",
              "\n",
              "       Revenue  \n",
              "3271         0  \n",
              "10384        0  \n",
              "5126         0  \n",
              "6650         1  \n",
              "11485        0  "
            ]
          },
          "execution_count": 86,
          "metadata": {},
          "output_type": "execute_result"
        }
      ],
      "source": [
        "LE = LabelEncoder()\n",
        "obj_cols = train_df.select_dtypes(['bool', 'object'])\n",
        "for col in obj_cols:\n",
        "    train_df[col] = LE.fit_transform(train_df[col])\n",
        "train_df.head()"
      ]
    },
    {
      "cell_type": "code",
      "execution_count": 87,
      "metadata": {},
      "outputs": [
        {
          "name": "stdout",
          "output_type": "stream",
          "text": [
            "                    Feature          Score\n",
            "5   ProductRelated_Duration  471437.755664\n",
            "8                PageValues   95348.280205\n",
            "1   Administrative_Duration   30451.873728\n",
            "3    Informational_Duration   15668.826600\n",
            "4            ProductRelated   10431.320555\n",
            "0            Administrative     635.007361\n",
            "2             Informational     189.924354\n",
            "10                    Month      42.441125\n",
            "9                SpecialDay      32.747646\n",
            "15              VisitorType      26.170121\n"
          ]
        }
      ],
      "source": [
        "best_features = SelectKBest(score_func=chi2, k=7)\n",
        "X = train_df.drop(['Revenue'], axis=1)\n",
        "y = train_df['Revenue']\n",
        "fit = best_features.fit(X, y)\n",
        "scores_df = pd.DataFrame(fit.scores_)\n",
        "columns_df = pd.DataFrame(X.columns)\n",
        "featureScores = pd.concat([columns_df, scores_df],axis=1)\n",
        "featureScores.columns = ['Feature', 'Score']\n",
        "print(featureScores.nlargest(10, 'Score'))"
      ]
    },
    {
      "cell_type": "code",
      "execution_count": 88,
      "metadata": {},
      "outputs": [
        {
          "data": {
            "text/plain": [
              "Text(0.5, 0, 'Correlation Statistic Value')"
            ]
          },
          "execution_count": 88,
          "metadata": {},
          "output_type": "execute_result"
        },
        {
          "data": {
            "image/png": "[encoded data removed]",
            "text/plain": [
              "<Figure size 432x288 with 1 Axes>"
            ]
          },
          "metadata": {
            "needs_background": "light"
          },
          "output_type": "display_data"
        }
      ],
      "source": [
        "featureScores['Score'] = StandardScaler().fit_transform(np.array(featureScores['Score']).reshape(-1, 1))\n",
        "plt.barh(featureScores['Feature'], featureScores['Score'])\n",
        "plt.title('Number of correlation of features to Revenue')\n",
        "plt.xlabel('Correlation Statistic Value')"
      ]
    },
    {
      "attachments": {},
      "cell_type": "markdown",
      "metadata": {},
      "source": [
        "<p>We assume that top 7 most correlative with Revenue column will be appropriate for the model.</p>"
      ]
    },
    {
      "attachments": {},
      "cell_type": "markdown",
      "metadata": {},
      "source": [
        "Firstly, we need to find two features which are less correlation. We only search on numerical "
      ]
    },
    {
      "cell_type": "code",
      "execution_count": 89,
      "metadata": {},
      "outputs": [
        {
          "data": {
            "text/html": [
              "<div>\n",
              "<style scoped>\n",
              "    .dataframe tbody tr th:only-of-type {\n",
              "        vertical-align: middle;\n",
              "    }\n",
              "\n",
              "    .dataframe tbody tr th {\n",
              "        vertical-align: top;\n",
              "    }\n",
              "\n",
              "    .dataframe thead th {\n",
              "        text-align: right;\n",
              "    }\n",
              "</style>\n",
              "<table border=\"1\" class=\"dataframe\">\n",
              "  <thead>\n",
              "    <tr style=\"text-align: right;\">\n",
              "      <th></th>\n",
              "      <th>Administrative</th>\n",
              "      <th>Administrative_Duration</th>\n",
              "      <th>Informational</th>\n",
              "      <th>Informational_Duration</th>\n",
              "      <th>ProductRelated</th>\n",
              "      <th>ProductRelated_Duration</th>\n",
              "      <th>BounceRates</th>\n",
              "      <th>ExitRates</th>\n",
              "      <th>PageValues</th>\n",
              "      <th>SpecialDay</th>\n",
              "    </tr>\n",
              "  </thead>\n",
              "  <tbody>\n",
              "    <tr>\n",
              "      <th>Administrative</th>\n",
              "      <td>1.000000</td>\n",
              "      <td>0.618297</td>\n",
              "      <td>0.383344</td>\n",
              "      <td>0.253270</td>\n",
              "      <td>0.426623</td>\n",
              "      <td>0.360867</td>\n",
              "      <td>-0.213692</td>\n",
              "      <td>-0.309551</td>\n",
              "      <td>0.123077</td>\n",
              "      <td>-0.100156</td>\n",
              "    </tr>\n",
              "    <tr>\n",
              "      <th>Administrative_Duration</th>\n",
              "      <td>0.618297</td>\n",
              "      <td>1.000000</td>\n",
              "      <td>0.340175</td>\n",
              "      <td>0.283132</td>\n",
              "      <td>0.325513</td>\n",
              "      <td>0.408772</td>\n",
              "      <td>-0.138423</td>\n",
              "      <td>-0.203231</td>\n",
              "      <td>0.086628</td>\n",
              "      <td>-0.070356</td>\n",
              "    </tr>\n",
              "    <tr>\n",
              "      <th>Informational</th>\n",
              "      <td>0.383344</td>\n",
              "      <td>0.340175</td>\n",
              "      <td>1.000000</td>\n",
              "      <td>0.602319</td>\n",
              "      <td>0.376978</td>\n",
              "      <td>0.395278</td>\n",
              "      <td>-0.105722</td>\n",
              "      <td>-0.155023</td>\n",
              "      <td>0.053558</td>\n",
              "      <td>-0.044218</td>\n",
              "    </tr>\n",
              "    <tr>\n",
              "      <th>Informational_Duration</th>\n",
              "      <td>0.253270</td>\n",
              "      <td>0.283132</td>\n",
              "      <td>0.602319</td>\n",
              "      <td>1.000000</td>\n",
              "      <td>0.300517</td>\n",
              "      <td>0.385874</td>\n",
              "      <td>-0.066544</td>\n",
              "      <td>-0.100396</td>\n",
              "      <td>0.029563</td>\n",
              "      <td>-0.037096</td>\n",
              "    </tr>\n",
              "    <tr>\n",
              "      <th>ProductRelated</th>\n",
              "      <td>0.426623</td>\n",
              "      <td>0.325513</td>\n",
              "      <td>0.376978</td>\n",
              "      <td>0.300517</td>\n",
              "      <td>1.000000</td>\n",
              "      <td>0.854527</td>\n",
              "      <td>-0.191155</td>\n",
              "      <td>-0.282544</td>\n",
              "      <td>0.058368</td>\n",
              "      <td>-0.020274</td>\n",
              "    </tr>\n",
              "    <tr>\n",
              "      <th>ProductRelated_Duration</th>\n",
              "      <td>0.360867</td>\n",
              "      <td>0.408772</td>\n",
              "      <td>0.395278</td>\n",
              "      <td>0.385874</td>\n",
              "      <td>0.854527</td>\n",
              "      <td>1.000000</td>\n",
              "      <td>-0.165919</td>\n",
              "      <td>-0.232471</td>\n",
              "      <td>0.047679</td>\n",
              "      <td>-0.034107</td>\n",
              "    </tr>\n",
              "    <tr>\n",
              "      <th>BounceRates</th>\n",
              "      <td>-0.213692</td>\n",
              "      <td>-0.138423</td>\n",
              "      <td>-0.105722</td>\n",
              "      <td>-0.066544</td>\n",
              "      <td>-0.191155</td>\n",
              "      <td>-0.165919</td>\n",
              "      <td>1.000000</td>\n",
              "      <td>0.908017</td>\n",
              "      <td>-0.119907</td>\n",
              "      <td>0.079484</td>\n",
              "    </tr>\n",
              "    <tr>\n",
              "      <th>ExitRates</th>\n",
              "      <td>-0.309551</td>\n",
              "      <td>-0.203231</td>\n",
              "      <td>-0.155023</td>\n",
              "      <td>-0.100396</td>\n",
              "      <td>-0.282544</td>\n",
              "      <td>-0.232471</td>\n",
              "      <td>0.908017</td>\n",
              "      <td>1.000000</td>\n",
              "      <td>-0.179053</td>\n",
              "      <td>0.109408</td>\n",
              "    </tr>\n",
              "    <tr>\n",
              "      <th>PageValues</th>\n",
              "      <td>0.123077</td>\n",
              "      <td>0.086628</td>\n",
              "      <td>0.053558</td>\n",
              "      <td>0.029563</td>\n",
              "      <td>0.058368</td>\n",
              "      <td>0.047679</td>\n",
              "      <td>-0.119907</td>\n",
              "      <td>-0.179053</td>\n",
              "      <td>1.000000</td>\n",
              "      <td>-0.062680</td>\n",
              "    </tr>\n",
              "    <tr>\n",
              "      <th>SpecialDay</th>\n",
              "      <td>-0.100156</td>\n",
              "      <td>-0.070356</td>\n",
              "      <td>-0.044218</td>\n",
              "      <td>-0.037096</td>\n",
              "      <td>-0.020274</td>\n",
              "      <td>-0.034107</td>\n",
              "      <td>0.079484</td>\n",
              "      <td>0.109408</td>\n",
              "      <td>-0.062680</td>\n",
              "      <td>1.000000</td>\n",
              "    </tr>\n",
              "  </tbody>\n",
              "</table>\n",
              "</div>"
            ],
            "text/plain": [
              "                         Administrative  Administrative_Duration  \\\n",
              "Administrative                 1.000000                 0.618297   \n",
              "Administrative_Duration        0.618297                 1.000000   \n",
              "Informational                  0.383344                 0.340175   \n",
              "Informational_Duration         0.253270                 0.283132   \n",
              "ProductRelated                 0.426623                 0.325513   \n",
              "ProductRelated_Duration        0.360867                 0.408772   \n",
              "BounceRates                   -0.213692                -0.138423   \n",
              "ExitRates                     -0.309551                -0.203231   \n",
              "PageValues                     0.123077                 0.086628   \n",
              "SpecialDay                    -0.100156                -0.070356   \n",
              "\n",
              "                         Informational  Informational_Duration  \\\n",
              "Administrative                0.383344                0.253270   \n",
              "Administrative_Duration       0.340175                0.283132   \n",
              "Informational                 1.000000                0.602319   \n",
              "Informational_Duration        0.602319                1.000000   \n",
              "ProductRelated                0.376978                0.300517   \n",
              "ProductRelated_Duration       0.395278                0.385874   \n",
              "BounceRates                  -0.105722               -0.066544   \n",
              "ExitRates                    -0.155023               -0.100396   \n",
              "PageValues                    0.053558                0.029563   \n",
              "SpecialDay                   -0.044218               -0.037096   \n",
              "\n",
              "                         ProductRelated  ProductRelated_Duration  BounceRates  \\\n",
              "Administrative                 0.426623                 0.360867    -0.213692   \n",
              "Administrative_Duration        0.325513                 0.408772    -0.138423   \n",
              "Informational                  0.376978                 0.395278    -0.105722   \n",
              "Informational_Duration         0.300517                 0.385874    -0.066544   \n",
              "ProductRelated                 1.000000                 0.854527    -0.191155   \n",
              "ProductRelated_Duration        0.854527                 1.000000    -0.165919   \n",
              "BounceRates                   -0.191155                -0.165919     1.000000   \n",
              "ExitRates                     -0.282544                -0.232471     0.908017   \n",
              "PageValues                     0.058368                 0.047679    -0.119907   \n",
              "SpecialDay                    -0.020274                -0.034107     0.079484   \n",
              "\n",
              "                         ExitRates  PageValues  SpecialDay  \n",
              "Administrative           -0.309551    0.123077   -0.100156  \n",
              "Administrative_Duration  -0.203231    0.086628   -0.070356  \n",
              "Informational            -0.155023    0.053558   -0.044218  \n",
              "Informational_Duration   -0.100396    0.029563   -0.037096  \n",
              "ProductRelated           -0.282544    0.058368   -0.020274  \n",
              "ProductRelated_Duration  -0.232471    0.047679   -0.034107  \n",
              "BounceRates               0.908017   -0.119907    0.079484  \n",
              "ExitRates                 1.000000   -0.179053    0.109408  \n",
              "PageValues               -0.179053    1.000000   -0.062680  \n",
              "SpecialDay                0.109408   -0.062680    1.000000  "
            ]
          },
          "execution_count": 89,
          "metadata": {},
          "output_type": "execute_result"
        }
      ],
      "source": [
        "train_df[nume_cols].corr()"
      ]
    },
    {
      "attachments": {},
      "cell_type": "markdown",
      "metadata": {},
      "source": [
        "We assume that SpecialDay is ordinary data so we tend to avoid it and select `Informational_Duration` and `PageValues` columns for clustering. The silhouette score is used to evaluate the model."
      ]
    },
    {
      "cell_type": "code",
      "execution_count": 90,
      "metadata": {},
      "outputs": [],
      "source": [
        "clustering_features = ['Informational_Duration', 'PageValues']"
      ]
    },
    {
      "attachments": {},
      "cell_type": "markdown",
      "metadata": {},
      "source": [
        "Now from the data we start to split into X and y columns with the Revenue was the label class feature"
      ]
    },
    {
      "cell_type": "code",
      "execution_count": 91,
      "metadata": {},
      "outputs": [],
      "source": [
        "train_X_df = train_df.drop(['Revenue'], axis=1)\n",
        "train_y_sr = train_df['Revenue'].replace({True: 1, False: 0})\n",
        "val_X_df = val_df.drop(['Revenue'], axis=1)\n",
        "val_y_sr = val_df['Revenue'].replace({True: 1, False: 0})\n",
        "test_X_df = test_df.drop(['Revenue'], axis=1)\n",
        "test_y_sr = test_df['Revenue'].replace({True: 1, False: 0})\n",
        "cate_cols = cate_cols.drop(['Revenue'])"
      ]
    },
    {
      "cell_type": "code",
      "execution_count": 92,
      "metadata": {},
      "outputs": [],
      "source": [
        "class ColTransformer(BaseEstimator, TransformerMixin):\n",
        "    def __init__(self, columns_list=[], num_top_values_list=[], default=-1):\n",
        "        self.num_top_values_list = num_top_values_list\n",
        "        self.columns_list = columns_list\n",
        "        self.default = default\n",
        "\n",
        "    def getLogicNumberTopValue(self, X_df, column):\n",
        "        counts = X_df[column].value_counts()\n",
        "        return sum([1 for value in list(counts.values) if value>(1*max(list(counts.values))/100)])\n",
        "\n",
        "    def reprocessing_data(self, X_df):\n",
        "        try:\n",
        "            self.columns_list = [column for column in self.columns_list if len(X_df[column].value_counts())>=5]\n",
        "            if len(self.num_top_values_list)==0:\n",
        "                self.num_top_values_list = [self.getLogicNumberTopValue(X_df, column) for column in self.columns_list]\n",
        "        except: \n",
        "            return\n",
        "            \n",
        "    def fit(self, X_df, y=None):\n",
        "        self.reprocessing_data(X_df)\n",
        "        self.top_values_list = []\n",
        "\n",
        "        for column, num_top_values in zip(self.columns_list, self.num_top_values_list):\n",
        "            self.counts_ = X_df[column].value_counts()\n",
        "            ids = list(self.counts_.index)\n",
        "            self.top_values_list.append(ids[:max(1, min(num_top_values, len(ids)))])\n",
        "        return self\n",
        "    \n",
        "    def transform(self, X_df, y=None):\n",
        "        out_df = X_df.copy()\n",
        "        for top_value, column in zip(self.top_values_list, self.columns_list):\n",
        "            out_df.loc[~out_df[column].isin(top_value), column] = self.default\n",
        "            out_df = out_df.sort_index(axis=1)\n",
        "        return out_df"
      ]
    },
    {
      "cell_type": "code",
      "execution_count": 93,
      "metadata": {},
      "outputs": [
        {
          "data": {
            "text/html": [
              "<div>\n",
              "<style scoped>\n",
              "    .dataframe tbody tr th:only-of-type {\n",
              "        vertical-align: middle;\n",
              "    }\n",
              "\n",
              "    .dataframe tbody tr th {\n",
              "        vertical-align: top;\n",
              "    }\n",
              "\n",
              "    .dataframe thead th {\n",
              "        text-align: right;\n",
              "    }\n",
              "</style>\n",
              "<table border=\"1\" class=\"dataframe\">\n",
              "  <thead>\n",
              "    <tr style=\"text-align: right;\">\n",
              "      <th></th>\n",
              "      <th>Administrative</th>\n",
              "      <th>Administrative_Duration</th>\n",
              "      <th>BounceRates</th>\n",
              "      <th>Browser</th>\n",
              "      <th>ExitRates</th>\n",
              "      <th>Informational</th>\n",
              "      <th>Informational_Duration</th>\n",
              "      <th>Month</th>\n",
              "      <th>OperatingSystems</th>\n",
              "      <th>PageValues</th>\n",
              "      <th>ProductRelated</th>\n",
              "      <th>ProductRelated_Duration</th>\n",
              "      <th>Region</th>\n",
              "      <th>SpecialDay</th>\n",
              "      <th>TrafficType</th>\n",
              "      <th>VisitorType</th>\n",
              "      <th>Weekend</th>\n",
              "    </tr>\n",
              "  </thead>\n",
              "  <tbody>\n",
              "    <tr>\n",
              "      <th>3271</th>\n",
              "      <td>7</td>\n",
              "      <td>89.900000</td>\n",
              "      <td>0.000000</td>\n",
              "      <td>2</td>\n",
              "      <td>0.007716</td>\n",
              "      <td>3</td>\n",
              "      <td>84.0</td>\n",
              "      <td>6</td>\n",
              "      <td>2</td>\n",
              "      <td>98.042626</td>\n",
              "      <td>58</td>\n",
              "      <td>2787.250000</td>\n",
              "      <td>1</td>\n",
              "      <td>0.0</td>\n",
              "      <td>2</td>\n",
              "      <td>2</td>\n",
              "      <td>0</td>\n",
              "    </tr>\n",
              "    <tr>\n",
              "      <th>10384</th>\n",
              "      <td>9</td>\n",
              "      <td>137.322222</td>\n",
              "      <td>0.006079</td>\n",
              "      <td>2</td>\n",
              "      <td>0.021222</td>\n",
              "      <td>1</td>\n",
              "      <td>418.5</td>\n",
              "      <td>1</td>\n",
              "      <td>2</td>\n",
              "      <td>0.000000</td>\n",
              "      <td>41</td>\n",
              "      <td>1933.244444</td>\n",
              "      <td>1</td>\n",
              "      <td>0.0</td>\n",
              "      <td>2</td>\n",
              "      <td>2</td>\n",
              "      <td>0</td>\n",
              "    </tr>\n",
              "    <tr>\n",
              "      <th>5126</th>\n",
              "      <td>0</td>\n",
              "      <td>0.000000</td>\n",
              "      <td>0.000000</td>\n",
              "      <td>4</td>\n",
              "      <td>0.006977</td>\n",
              "      <td>0</td>\n",
              "      <td>0.0</td>\n",
              "      <td>6</td>\n",
              "      <td>2</td>\n",
              "      <td>0.000000</td>\n",
              "      <td>43</td>\n",
              "      <td>703.833333</td>\n",
              "      <td>1</td>\n",
              "      <td>0.0</td>\n",
              "      <td>2</td>\n",
              "      <td>2</td>\n",
              "      <td>0</td>\n",
              "    </tr>\n",
              "    <tr>\n",
              "      <th>6650</th>\n",
              "      <td>1</td>\n",
              "      <td>20.200000</td>\n",
              "      <td>0.002597</td>\n",
              "      <td>2</td>\n",
              "      <td>0.017042</td>\n",
              "      <td>0</td>\n",
              "      <td>0.0</td>\n",
              "      <td>9</td>\n",
              "      <td>2</td>\n",
              "      <td>18.748602</td>\n",
              "      <td>77</td>\n",
              "      <td>3107.173333</td>\n",
              "      <td>7</td>\n",
              "      <td>0.0</td>\n",
              "      <td>1</td>\n",
              "      <td>2</td>\n",
              "      <td>0</td>\n",
              "    </tr>\n",
              "    <tr>\n",
              "      <th>11485</th>\n",
              "      <td>0</td>\n",
              "      <td>0.000000</td>\n",
              "      <td>0.002759</td>\n",
              "      <td>3</td>\n",
              "      <td>0.022660</td>\n",
              "      <td>0</td>\n",
              "      <td>0.0</td>\n",
              "      <td>7</td>\n",
              "      <td>3</td>\n",
              "      <td>0.000000</td>\n",
              "      <td>30</td>\n",
              "      <td>1285.166667</td>\n",
              "      <td>1</td>\n",
              "      <td>0.0</td>\n",
              "      <td>8</td>\n",
              "      <td>2</td>\n",
              "      <td>1</td>\n",
              "    </tr>\n",
              "  </tbody>\n",
              "</table>\n",
              "</div>"
            ],
            "text/plain": [
              "       Administrative  Administrative_Duration  BounceRates  Browser  \\\n",
              "3271                7                89.900000     0.000000        2   \n",
              "10384               9               137.322222     0.006079        2   \n",
              "5126                0                 0.000000     0.000000        4   \n",
              "6650                1                20.200000     0.002597        2   \n",
              "11485               0                 0.000000     0.002759        3   \n",
              "\n",
              "       ExitRates  Informational  Informational_Duration  Month  \\\n",
              "3271    0.007716              3                    84.0      6   \n",
              "10384   0.021222              1                   418.5      1   \n",
              "5126    0.006977              0                     0.0      6   \n",
              "6650    0.017042              0                     0.0      9   \n",
              "11485   0.022660              0                     0.0      7   \n",
              "\n",
              "       OperatingSystems  PageValues  ProductRelated  ProductRelated_Duration  \\\n",
              "3271                  2   98.042626              58              2787.250000   \n",
              "10384                 2    0.000000              41              1933.244444   \n",
              "5126                  2    0.000000              43               703.833333   \n",
              "6650                  2   18.748602              77              3107.173333   \n",
              "11485                 3    0.000000              30              1285.166667   \n",
              "\n",
              "       Region  SpecialDay  TrafficType  VisitorType  Weekend  \n",
              "3271        1         0.0            2            2        0  \n",
              "10384       1         0.0            2            2        0  \n",
              "5126        1         0.0            2            2        0  \n",
              "6650        7         0.0            1            2        0  \n",
              "11485       1         0.0            8            2        1  "
            ]
          },
          "execution_count": 93,
          "metadata": {},
          "output_type": "execute_result"
        }
      ],
      "source": [
        "col_transformer = ColTransformer(columns_list=cate_cols, default=0)\n",
        "col_transformer.fit(train_X_df)\n",
        "new_train_X_df = col_transformer.transform(train_X_df)\n",
        "new_train_X_df.head()"
      ]
    },
    {
      "attachments": {},
      "cell_type": "markdown",
      "metadata": {},
      "source": [
        "<p>Some category columns have too many categories that will affect the model. So, we choose which columns that have more than 5 categories to process</p>"
      ]
    },
    {
      "attachments": {},
      "cell_type": "markdown",
      "metadata": {},
      "source": [
        "<h3>Preprocessing Pipeline</h3>"
      ]
    },
    {
      "attachments": {},
      "cell_type": "markdown",
      "metadata": {},
      "source": [
        "- `Pipeline`*[2]\n",
        "- `Preprocessing`: in here, input data would be treated by seperating into numeric and categorical data. After spliting, both of them would be fill up **Missing Values** with the MEAN for the numeric and MOST_FREQUENCY for categorical. In addition, categorical would be encoding by `OneHotEncoder`. Finally, `StandardScaler` will scale the value into normalizing range for modeling process*[3]."
      ]
    },
    {
      "cell_type": "code",
      "execution_count": 94,
      "metadata": {},
      "outputs": [
        {
          "data": {
            "text/html": [
              "<style>#sk-container-id-6 {color: black;background-color: white;}#sk-container-id-6 pre{padding: 0;}#sk-container-id-6 div.sk-toggleable {background-color: white;}#sk-container-id-6 label.sk-toggleable__label {cursor: pointer;display: block;width: 100%;margin-bottom: 0;padding: 0.3em;box-sizing: border-box;text-align: center;}#sk-container-id-6 label.sk-toggleable__label-arrow:before {content: \"▸\";float: left;margin-right: 0.25em;color: #696969;}#sk-container-id-6 label.sk-toggleable__label-arrow:hover:before {color: black;}#sk-container-id-6 div.sk-estimator:hover label.sk-toggleable__label-arrow:before {color: black;}#sk-container-id-6 div.sk-toggleable__content {max-height: 0;max-width: 0;overflow: hidden;text-align: left;background-color: #f0f8ff;}#sk-container-id-6 div.sk-toggleable__content pre {margin: 0.2em;color: black;border-radius: 0.25em;background-color: #f0f8ff;}#sk-container-id-6 input.sk-toggleable__control:checked~div.sk-toggleable__content {max-height: 200px;max-width: 100%;overflow: auto;}#sk-container-id-6 input.sk-toggleable__control:checked~label.sk-toggleable__label-arrow:before {content: \"▾\";}#sk-container-id-6 div.sk-estimator input.sk-toggleable__control:checked~label.sk-toggleable__label {background-color: #d4ebff;}#sk-container-id-6 div.sk-label input.sk-toggleable__control:checked~label.sk-toggleable__label {background-color: #d4ebff;}#sk-container-id-6 input.sk-hidden--visually {border: 0;clip: rect(1px 1px 1px 1px);clip: rect(1px, 1px, 1px, 1px);height: 1px;margin: -1px;overflow: hidden;padding: 0;position: absolute;width: 1px;}#sk-container-id-6 div.sk-estimator {font-family: monospace;background-color: #f0f8ff;border: 1px dotted black;border-radius: 0.25em;box-sizing: border-box;margin-bottom: 0.5em;}#sk-container-id-6 div.sk-estimator:hover {background-color: #d4ebff;}#sk-container-id-6 div.sk-parallel-item::after {content: \"\";width: 100%;border-bottom: 1px solid gray;flex-grow: 1;}#sk-container-id-6 div.sk-label:hover label.sk-toggleable__label {background-color: #d4ebff;}#sk-container-id-6 div.sk-serial::before {content: \"\";position: absolute;border-left: 1px solid gray;box-sizing: border-box;top: 0;bottom: 0;left: 50%;z-index: 0;}#sk-container-id-6 div.sk-serial {display: flex;flex-direction: column;align-items: center;background-color: white;padding-right: 0.2em;padding-left: 0.2em;position: relative;}#sk-container-id-6 div.sk-item {position: relative;z-index: 1;}#sk-container-id-6 div.sk-parallel {display: flex;align-items: stretch;justify-content: center;background-color: white;position: relative;}#sk-container-id-6 div.sk-item::before, #sk-container-id-6 div.sk-parallel-item::before {content: \"\";position: absolute;border-left: 1px solid gray;box-sizing: border-box;top: 0;bottom: 0;left: 50%;z-index: -1;}#sk-container-id-6 div.sk-parallel-item {display: flex;flex-direction: column;z-index: 1;position: relative;background-color: white;}#sk-container-id-6 div.sk-parallel-item:first-child::after {align-self: flex-end;width: 50%;}#sk-container-id-6 div.sk-parallel-item:last-child::after {align-self: flex-start;width: 50%;}#sk-container-id-6 div.sk-parallel-item:only-child::after {width: 0;}#sk-container-id-6 div.sk-dashed-wrapped {border: 1px dashed gray;margin: 0 0.4em 0.5em 0.4em;box-sizing: border-box;padding-bottom: 0.4em;background-color: white;}#sk-container-id-6 div.sk-label label {font-family: monospace;font-weight: bold;display: inline-block;line-height: 1.2em;}#sk-container-id-6 div.sk-label-container {text-align: center;}#sk-container-id-6 div.sk-container {/* jupyter's `normalize.less` sets `[hidden] { display: none; }` but bootstrap.min.css set `[hidden] { display: none !important; }` so we also need the `!important` here to be able to override the default hidden behavior on the sphinx rendered scikit-learn.org. See: https://github.com/scikit-learn/scikit-learn/issues/21755 */display: inline-block !important;position: relative;}#sk-container-id-6 div.sk-text-repr-fallback {display: none;}</style><div id=\"sk-container-id-6\" class=\"sk-top-container\"><div class=\"sk-text-repr-fallback\"><pre>Pipeline(steps=[(&#x27;coltransformer&#x27;,\n",
              "                 ColTransformer(columns_list=[&#x27;Month&#x27;, &#x27;OperatingSystems&#x27;,\n",
              "                                              &#x27;Browser&#x27;, &#x27;Region&#x27;,\n",
              "                                              &#x27;TrafficType&#x27;],\n",
              "                                default=0,\n",
              "                                num_top_values_list=[10, 5, 8, 9, 11])),\n",
              "                (&#x27;columntransformer&#x27;,\n",
              "                 ColumnTransformer(transformers=[(&#x27;pipeline-1&#x27;,\n",
              "                                                  Pipeline(steps=[(&#x27;simpleimputer&#x27;,\n",
              "                                                                   SimpleImputer())]),\n",
              "                                                  Index([&#x27;Administrative&#x27;, &#x27;Administrative_Duration&#x27;, &#x27;Informatio...\n",
              "       &#x27;BounceRates&#x27;, &#x27;ExitRates&#x27;, &#x27;PageValues&#x27;, &#x27;SpecialDay&#x27;],\n",
              "      dtype=&#x27;object&#x27;)),\n",
              "                                                 (&#x27;pipeline-2&#x27;,\n",
              "                                                  Pipeline(steps=[(&#x27;simpleimputer&#x27;,\n",
              "                                                                   SimpleImputer(strategy=&#x27;most_frequent&#x27;)),\n",
              "                                                                  (&#x27;onehotencoder&#x27;,\n",
              "                                                                   OneHotEncoder(handle_unknown=&#x27;ignore&#x27;))]),\n",
              "                                                  Index([&#x27;Month&#x27;, &#x27;OperatingSystems&#x27;, &#x27;Browser&#x27;, &#x27;Region&#x27;, &#x27;TrafficType&#x27;,\n",
              "       &#x27;VisitorType&#x27;, &#x27;Weekend&#x27;],\n",
              "      dtype=&#x27;object&#x27;))])),\n",
              "                (&#x27;standardscaler&#x27;, StandardScaler(with_mean=False))])</pre><b>In a Jupyter environment, please rerun this cell to show the HTML representation or trust the notebook. <br />On GitHub, the HTML representation is unable to render, please try loading this page with nbviewer.org.</b></div><div class=\"sk-container\" hidden><div class=\"sk-item sk-dashed-wrapped\"><div class=\"sk-label-container\"><div class=\"sk-label sk-toggleable\"><input class=\"sk-toggleable__control sk-hidden--visually\" id=\"sk-estimator-id-60\" type=\"checkbox\" ><label for=\"sk-estimator-id-60\" class=\"sk-toggleable__label sk-toggleable__label-arrow\">Pipeline</label><div class=\"sk-toggleable__content\"><pre>Pipeline(steps=[(&#x27;coltransformer&#x27;,\n",
              "                 ColTransformer(columns_list=[&#x27;Month&#x27;, &#x27;OperatingSystems&#x27;,\n",
              "                                              &#x27;Browser&#x27;, &#x27;Region&#x27;,\n",
              "                                              &#x27;TrafficType&#x27;],\n",
              "                                default=0,\n",
              "                                num_top_values_list=[10, 5, 8, 9, 11])),\n",
              "                (&#x27;columntransformer&#x27;,\n",
              "                 ColumnTransformer(transformers=[(&#x27;pipeline-1&#x27;,\n",
              "                                                  Pipeline(steps=[(&#x27;simpleimputer&#x27;,\n",
              "                                                                   SimpleImputer())]),\n",
              "                                                  Index([&#x27;Administrative&#x27;, &#x27;Administrative_Duration&#x27;, &#x27;Informatio...\n",
              "       &#x27;BounceRates&#x27;, &#x27;ExitRates&#x27;, &#x27;PageValues&#x27;, &#x27;SpecialDay&#x27;],\n",
              "      dtype=&#x27;object&#x27;)),\n",
              "                                                 (&#x27;pipeline-2&#x27;,\n",
              "                                                  Pipeline(steps=[(&#x27;simpleimputer&#x27;,\n",
              "                                                                   SimpleImputer(strategy=&#x27;most_frequent&#x27;)),\n",
              "                                                                  (&#x27;onehotencoder&#x27;,\n",
              "                                                                   OneHotEncoder(handle_unknown=&#x27;ignore&#x27;))]),\n",
              "                                                  Index([&#x27;Month&#x27;, &#x27;OperatingSystems&#x27;, &#x27;Browser&#x27;, &#x27;Region&#x27;, &#x27;TrafficType&#x27;,\n",
              "       &#x27;VisitorType&#x27;, &#x27;Weekend&#x27;],\n",
              "      dtype=&#x27;object&#x27;))])),\n",
              "                (&#x27;standardscaler&#x27;, StandardScaler(with_mean=False))])</pre></div></div></div><div class=\"sk-serial\"><div class=\"sk-item\"><div class=\"sk-estimator sk-toggleable\"><input class=\"sk-toggleable__control sk-hidden--visually\" id=\"sk-estimator-id-61\" type=\"checkbox\" ><label for=\"sk-estimator-id-61\" class=\"sk-toggleable__label sk-toggleable__label-arrow\">ColTransformer</label><div class=\"sk-toggleable__content\"><pre>ColTransformer(columns_list=[&#x27;Month&#x27;, &#x27;OperatingSystems&#x27;, &#x27;Browser&#x27;, &#x27;Region&#x27;,\n",
              "                             &#x27;TrafficType&#x27;],\n",
              "               default=0, num_top_values_list=[10, 5, 8, 9, 11])</pre></div></div></div><div class=\"sk-item sk-dashed-wrapped\"><div class=\"sk-label-container\"><div class=\"sk-label sk-toggleable\"><input class=\"sk-toggleable__control sk-hidden--visually\" id=\"sk-estimator-id-62\" type=\"checkbox\" ><label for=\"sk-estimator-id-62\" class=\"sk-toggleable__label sk-toggleable__label-arrow\">columntransformer: ColumnTransformer</label><div class=\"sk-toggleable__content\"><pre>ColumnTransformer(transformers=[(&#x27;pipeline-1&#x27;,\n",
              "                                 Pipeline(steps=[(&#x27;simpleimputer&#x27;,\n",
              "                                                  SimpleImputer())]),\n",
              "                                 Index([&#x27;Administrative&#x27;, &#x27;Administrative_Duration&#x27;, &#x27;Informational&#x27;,\n",
              "       &#x27;Informational_Duration&#x27;, &#x27;ProductRelated&#x27;, &#x27;ProductRelated_Duration&#x27;,\n",
              "       &#x27;BounceRates&#x27;, &#x27;ExitRates&#x27;, &#x27;PageValues&#x27;, &#x27;SpecialDay&#x27;],\n",
              "      dtype=&#x27;object&#x27;)),\n",
              "                                (&#x27;pipeline-2&#x27;,\n",
              "                                 Pipeline(steps=[(&#x27;simpleimputer&#x27;,\n",
              "                                                  SimpleImputer(strategy=&#x27;most_frequent&#x27;)),\n",
              "                                                 (&#x27;onehotencoder&#x27;,\n",
              "                                                  OneHotEncoder(handle_unknown=&#x27;ignore&#x27;))]),\n",
              "                                 Index([&#x27;Month&#x27;, &#x27;OperatingSystems&#x27;, &#x27;Browser&#x27;, &#x27;Region&#x27;, &#x27;TrafficType&#x27;,\n",
              "       &#x27;VisitorType&#x27;, &#x27;Weekend&#x27;],\n",
              "      dtype=&#x27;object&#x27;))])</pre></div></div></div><div class=\"sk-parallel\"><div class=\"sk-parallel-item\"><div class=\"sk-item\"><div class=\"sk-label-container\"><div class=\"sk-label sk-toggleable\"><input class=\"sk-toggleable__control sk-hidden--visually\" id=\"sk-estimator-id-63\" type=\"checkbox\" ><label for=\"sk-estimator-id-63\" class=\"sk-toggleable__label sk-toggleable__label-arrow\">pipeline-1</label><div class=\"sk-toggleable__content\"><pre>Index([&#x27;Administrative&#x27;, &#x27;Administrative_Duration&#x27;, &#x27;Informational&#x27;,\n",
              "       &#x27;Informational_Duration&#x27;, &#x27;ProductRelated&#x27;, &#x27;ProductRelated_Duration&#x27;,\n",
              "       &#x27;BounceRates&#x27;, &#x27;ExitRates&#x27;, &#x27;PageValues&#x27;, &#x27;SpecialDay&#x27;],\n",
              "      dtype=&#x27;object&#x27;)</pre></div></div></div><div class=\"sk-serial\"><div class=\"sk-item\"><div class=\"sk-serial\"><div class=\"sk-item\"><div class=\"sk-estimator sk-toggleable\"><input class=\"sk-toggleable__control sk-hidden--visually\" id=\"sk-estimator-id-64\" type=\"checkbox\" ><label for=\"sk-estimator-id-64\" class=\"sk-toggleable__label sk-toggleable__label-arrow\">SimpleImputer</label><div class=\"sk-toggleable__content\"><pre>SimpleImputer()</pre></div></div></div></div></div></div></div></div><div class=\"sk-parallel-item\"><div class=\"sk-item\"><div class=\"sk-label-container\"><div class=\"sk-label sk-toggleable\"><input class=\"sk-toggleable__control sk-hidden--visually\" id=\"sk-estimator-id-65\" type=\"checkbox\" ><label for=\"sk-estimator-id-65\" class=\"sk-toggleable__label sk-toggleable__label-arrow\">pipeline-2</label><div class=\"sk-toggleable__content\"><pre>Index([&#x27;Month&#x27;, &#x27;OperatingSystems&#x27;, &#x27;Browser&#x27;, &#x27;Region&#x27;, &#x27;TrafficType&#x27;,\n",
              "       &#x27;VisitorType&#x27;, &#x27;Weekend&#x27;],\n",
              "      dtype=&#x27;object&#x27;)</pre></div></div></div><div class=\"sk-serial\"><div class=\"sk-item\"><div class=\"sk-serial\"><div class=\"sk-item\"><div class=\"sk-estimator sk-toggleable\"><input class=\"sk-toggleable__control sk-hidden--visually\" id=\"sk-estimator-id-66\" type=\"checkbox\" ><label for=\"sk-estimator-id-66\" class=\"sk-toggleable__label sk-toggleable__label-arrow\">SimpleImputer</label><div class=\"sk-toggleable__content\"><pre>SimpleImputer(strategy=&#x27;most_frequent&#x27;)</pre></div></div></div><div class=\"sk-item\"><div class=\"sk-estimator sk-toggleable\"><input class=\"sk-toggleable__control sk-hidden--visually\" id=\"sk-estimator-id-67\" type=\"checkbox\" ><label for=\"sk-estimator-id-67\" class=\"sk-toggleable__label sk-toggleable__label-arrow\">OneHotEncoder</label><div class=\"sk-toggleable__content\"><pre>OneHotEncoder(handle_unknown=&#x27;ignore&#x27;)</pre></div></div></div></div></div></div></div></div></div></div><div class=\"sk-item\"><div class=\"sk-estimator sk-toggleable\"><input class=\"sk-toggleable__control sk-hidden--visually\" id=\"sk-estimator-id-68\" type=\"checkbox\" ><label for=\"sk-estimator-id-68\" class=\"sk-toggleable__label sk-toggleable__label-arrow\">StandardScaler</label><div class=\"sk-toggleable__content\"><pre>StandardScaler(with_mean=False)</pre></div></div></div></div></div></div></div>"
            ],
            "text/plain": [
              "Pipeline(steps=[('coltransformer',\n",
              "                 ColTransformer(columns_list=['Month', 'OperatingSystems',\n",
              "                                              'Browser', 'Region',\n",
              "                                              'TrafficType'],\n",
              "                                default=0,\n",
              "                                num_top_values_list=[10, 5, 8, 9, 11])),\n",
              "                ('columntransformer',\n",
              "                 ColumnTransformer(transformers=[('pipeline-1',\n",
              "                                                  Pipeline(steps=[('simpleimputer',\n",
              "                                                                   SimpleImputer())]),\n",
              "                                                  Index(['Administrative', 'Administrative_Duration', 'Informatio...\n",
              "       'BounceRates', 'ExitRates', 'PageValues', 'SpecialDay'],\n",
              "      dtype='object')),\n",
              "                                                 ('pipeline-2',\n",
              "                                                  Pipeline(steps=[('simpleimputer',\n",
              "                                                                   SimpleImputer(strategy='most_frequent')),\n",
              "                                                                  ('onehotencoder',\n",
              "                                                                   OneHotEncoder(handle_unknown='ignore'))]),\n",
              "                                                  Index(['Month', 'OperatingSystems', 'Browser', 'Region', 'TrafficType',\n",
              "       'VisitorType', 'Weekend'],\n",
              "      dtype='object'))])),\n",
              "                ('standardscaler', StandardScaler(with_mean=False))])"
            ]
          },
          "execution_count": 94,
          "metadata": {},
          "output_type": "execute_result"
        }
      ],
      "source": [
        "numerics_trans=make_pipeline(\n",
        "    SimpleImputer(missing_values=np.nan, strategy='mean')\n",
        ")\n",
        "categorical_trans=make_pipeline(\n",
        "    SimpleImputer(missing_values=np.nan, strategy='most_frequent'),\n",
        "    OneHotEncoder(handle_unknown='ignore')\n",
        ")\n",
        "\n",
        "column_trans = make_column_transformer(\n",
        "    (numerics_trans, nume_cols),\n",
        "    (categorical_trans, cate_cols)\n",
        ")\n",
        "\n",
        "preprocess_pipeline = make_pipeline(\n",
        "    col_transformer,\n",
        "    column_trans,\n",
        "    StandardScaler(with_mean=False)\n",
        ")\n",
        "preprocess_pipeline"
      ]
    },
    {
      "attachments": {},
      "cell_type": "markdown",
      "metadata": {},
      "source": [
        "# Task 3: Data Modeling"
      ]
    },
    {
      "attachments": {},
      "cell_type": "markdown",
      "metadata": {},
      "source": [
        "<h3>1st Model: Classification using Neural Network</h3>"
      ]
    },
    {
      "attachments": {},
      "cell_type": "markdown",
      "metadata": {},
      "source": [
        "Problem: With the given features, detecting the crucial ones then build up modeling for the classification of these features into Revenue-Rewards"
      ]
    },
    {
      "attachments": {},
      "cell_type": "markdown",
      "metadata": {},
      "source": [
        "**Select the appropriate model**: Along including Preprocessing Pipeline, there are 2 more:\n",
        "- `Selecting Best Features`: in this step, data would filtered in order to reduce the dimension of data by using `Chi2-Algorithms`. The number of features kept would be defined by manually or by grid search later.*[3][4]\n",
        "- `MLP Classifier`: using Neural Network method, this step would start to learning through the preprocessed data and spride out the ACCURACY of this model after training."
      ]
    },
    {
      "cell_type": "code",
      "execution_count": 95,
      "metadata": {},
      "outputs": [
        {
          "data": {
            "text/html": [
              "<style>#sk-container-id-7 {color: black;background-color: white;}#sk-container-id-7 pre{padding: 0;}#sk-container-id-7 div.sk-toggleable {background-color: white;}#sk-container-id-7 label.sk-toggleable__label {cursor: pointer;display: block;width: 100%;margin-bottom: 0;padding: 0.3em;box-sizing: border-box;text-align: center;}#sk-container-id-7 label.sk-toggleable__label-arrow:before {content: \"▸\";float: left;margin-right: 0.25em;color: #696969;}#sk-container-id-7 label.sk-toggleable__label-arrow:hover:before {color: black;}#sk-container-id-7 div.sk-estimator:hover label.sk-toggleable__label-arrow:before {color: black;}#sk-container-id-7 div.sk-toggleable__content {max-height: 0;max-width: 0;overflow: hidden;text-align: left;background-color: #f0f8ff;}#sk-container-id-7 div.sk-toggleable__content pre {margin: 0.2em;color: black;border-radius: 0.25em;background-color: #f0f8ff;}#sk-container-id-7 input.sk-toggleable__control:checked~div.sk-toggleable__content {max-height: 200px;max-width: 100%;overflow: auto;}#sk-container-id-7 input.sk-toggleable__control:checked~label.sk-toggleable__label-arrow:before {content: \"▾\";}#sk-container-id-7 div.sk-estimator input.sk-toggleable__control:checked~label.sk-toggleable__label {background-color: #d4ebff;}#sk-container-id-7 div.sk-label input.sk-toggleable__control:checked~label.sk-toggleable__label {background-color: #d4ebff;}#sk-container-id-7 input.sk-hidden--visually {border: 0;clip: rect(1px 1px 1px 1px);clip: rect(1px, 1px, 1px, 1px);height: 1px;margin: -1px;overflow: hidden;padding: 0;position: absolute;width: 1px;}#sk-container-id-7 div.sk-estimator {font-family: monospace;background-color: #f0f8ff;border: 1px dotted black;border-radius: 0.25em;box-sizing: border-box;margin-bottom: 0.5em;}#sk-container-id-7 div.sk-estimator:hover {background-color: #d4ebff;}#sk-container-id-7 div.sk-parallel-item::after {content: \"\";width: 100%;border-bottom: 1px solid gray;flex-grow: 1;}#sk-container-id-7 div.sk-label:hover label.sk-toggleable__label {background-color: #d4ebff;}#sk-container-id-7 div.sk-serial::before {content: \"\";position: absolute;border-left: 1px solid gray;box-sizing: border-box;top: 0;bottom: 0;left: 50%;z-index: 0;}#sk-container-id-7 div.sk-serial {display: flex;flex-direction: column;align-items: center;background-color: white;padding-right: 0.2em;padding-left: 0.2em;position: relative;}#sk-container-id-7 div.sk-item {position: relative;z-index: 1;}#sk-container-id-7 div.sk-parallel {display: flex;align-items: stretch;justify-content: center;background-color: white;position: relative;}#sk-container-id-7 div.sk-item::before, #sk-container-id-7 div.sk-parallel-item::before {content: \"\";position: absolute;border-left: 1px solid gray;box-sizing: border-box;top: 0;bottom: 0;left: 50%;z-index: -1;}#sk-container-id-7 div.sk-parallel-item {display: flex;flex-direction: column;z-index: 1;position: relative;background-color: white;}#sk-container-id-7 div.sk-parallel-item:first-child::after {align-self: flex-end;width: 50%;}#sk-container-id-7 div.sk-parallel-item:last-child::after {align-self: flex-start;width: 50%;}#sk-container-id-7 div.sk-parallel-item:only-child::after {width: 0;}#sk-container-id-7 div.sk-dashed-wrapped {border: 1px dashed gray;margin: 0 0.4em 0.5em 0.4em;box-sizing: border-box;padding-bottom: 0.4em;background-color: white;}#sk-container-id-7 div.sk-label label {font-family: monospace;font-weight: bold;display: inline-block;line-height: 1.2em;}#sk-container-id-7 div.sk-label-container {text-align: center;}#sk-container-id-7 div.sk-container {/* jupyter's `normalize.less` sets `[hidden] { display: none; }` but bootstrap.min.css set `[hidden] { display: none !important; }` so we also need the `!important` here to be able to override the default hidden behavior on the sphinx rendered scikit-learn.org. See: https://github.com/scikit-learn/scikit-learn/issues/21755 */display: inline-block !important;position: relative;}#sk-container-id-7 div.sk-text-repr-fallback {display: none;}</style><div id=\"sk-container-id-7\" class=\"sk-top-container\"><div class=\"sk-text-repr-fallback\"><pre>Pipeline(steps=[(&#x27;preprocess&#x27;,\n",
              "                 Pipeline(steps=[(&#x27;coltransformer&#x27;,\n",
              "                                  ColTransformer(columns_list=[&#x27;Month&#x27;,\n",
              "                                                               &#x27;OperatingSystems&#x27;,\n",
              "                                                               &#x27;Browser&#x27;,\n",
              "                                                               &#x27;Region&#x27;,\n",
              "                                                               &#x27;TrafficType&#x27;],\n",
              "                                                 default=0,\n",
              "                                                 num_top_values_list=[10, 5, 8,\n",
              "                                                                      9, 11])),\n",
              "                                 (&#x27;columntransformer&#x27;,\n",
              "                                  ColumnTransformer(transformers=[(&#x27;pipeline-1&#x27;,\n",
              "                                                                   Pipeline(steps=[(&#x27;simpleimputer&#x27;,\n",
              "                                                                                    SimpleImputer())]),\n",
              "                                                                   Index([&#x27;Administrative&#x27;, &#x27;Admini...\n",
              "                                                                   Index([&#x27;Month&#x27;, &#x27;OperatingSystems&#x27;, &#x27;Browser&#x27;, &#x27;Region&#x27;, &#x27;TrafficType&#x27;,\n",
              "       &#x27;VisitorType&#x27;, &#x27;Weekend&#x27;],\n",
              "      dtype=&#x27;object&#x27;))])),\n",
              "                                 (&#x27;standardscaler&#x27;,\n",
              "                                  StandardScaler(with_mean=False))])),\n",
              "                (&#x27;selectkbest&#x27;,\n",
              "                 SelectKBest(k=7,\n",
              "                             score_func=&lt;function chi2 at 0x000002C15E037910&gt;)),\n",
              "                (&#x27;mlpclassifier&#x27;,\n",
              "                 MLPClassifier(alpha=100, hidden_layer_sizes=50,\n",
              "                               learning_rate_init=0.05, max_iter=1000,\n",
              "                               random_state=0))])</pre><b>In a Jupyter environment, please rerun this cell to show the HTML representation or trust the notebook. <br />On GitHub, the HTML representation is unable to render, please try loading this page with nbviewer.org.</b></div><div class=\"sk-container\" hidden><div class=\"sk-item sk-dashed-wrapped\"><div class=\"sk-label-container\"><div class=\"sk-label sk-toggleable\"><input class=\"sk-toggleable__control sk-hidden--visually\" id=\"sk-estimator-id-69\" type=\"checkbox\" ><label for=\"sk-estimator-id-69\" class=\"sk-toggleable__label sk-toggleable__label-arrow\">Pipeline</label><div class=\"sk-toggleable__content\"><pre>Pipeline(steps=[(&#x27;preprocess&#x27;,\n",
              "                 Pipeline(steps=[(&#x27;coltransformer&#x27;,\n",
              "                                  ColTransformer(columns_list=[&#x27;Month&#x27;,\n",
              "                                                               &#x27;OperatingSystems&#x27;,\n",
              "                                                               &#x27;Browser&#x27;,\n",
              "                                                               &#x27;Region&#x27;,\n",
              "                                                               &#x27;TrafficType&#x27;],\n",
              "                                                 default=0,\n",
              "                                                 num_top_values_list=[10, 5, 8,\n",
              "                                                                      9, 11])),\n",
              "                                 (&#x27;columntransformer&#x27;,\n",
              "                                  ColumnTransformer(transformers=[(&#x27;pipeline-1&#x27;,\n",
              "                                                                   Pipeline(steps=[(&#x27;simpleimputer&#x27;,\n",
              "                                                                                    SimpleImputer())]),\n",
              "                                                                   Index([&#x27;Administrative&#x27;, &#x27;Admini...\n",
              "                                                                   Index([&#x27;Month&#x27;, &#x27;OperatingSystems&#x27;, &#x27;Browser&#x27;, &#x27;Region&#x27;, &#x27;TrafficType&#x27;,\n",
              "       &#x27;VisitorType&#x27;, &#x27;Weekend&#x27;],\n",
              "      dtype=&#x27;object&#x27;))])),\n",
              "                                 (&#x27;standardscaler&#x27;,\n",
              "                                  StandardScaler(with_mean=False))])),\n",
              "                (&#x27;selectkbest&#x27;,\n",
              "                 SelectKBest(k=7,\n",
              "                             score_func=&lt;function chi2 at 0x000002C15E037910&gt;)),\n",
              "                (&#x27;mlpclassifier&#x27;,\n",
              "                 MLPClassifier(alpha=100, hidden_layer_sizes=50,\n",
              "                               learning_rate_init=0.05, max_iter=1000,\n",
              "                               random_state=0))])</pre></div></div></div><div class=\"sk-serial\"><div class=\"sk-item\"><div class=\"sk-label-container\"><div class=\"sk-label sk-toggleable\"><input class=\"sk-toggleable__control sk-hidden--visually\" id=\"sk-estimator-id-70\" type=\"checkbox\" ><label for=\"sk-estimator-id-70\" class=\"sk-toggleable__label sk-toggleable__label-arrow\">preprocess: Pipeline</label><div class=\"sk-toggleable__content\"><pre>Pipeline(steps=[(&#x27;coltransformer&#x27;,\n",
              "                 ColTransformer(columns_list=[&#x27;Month&#x27;, &#x27;OperatingSystems&#x27;,\n",
              "                                              &#x27;Browser&#x27;, &#x27;Region&#x27;,\n",
              "                                              &#x27;TrafficType&#x27;],\n",
              "                                default=0,\n",
              "                                num_top_values_list=[10, 5, 8, 9, 11])),\n",
              "                (&#x27;columntransformer&#x27;,\n",
              "                 ColumnTransformer(transformers=[(&#x27;pipeline-1&#x27;,\n",
              "                                                  Pipeline(steps=[(&#x27;simpleimputer&#x27;,\n",
              "                                                                   SimpleImputer())]),\n",
              "                                                  Index([&#x27;Administrative&#x27;, &#x27;Administrative_Duration&#x27;, &#x27;Informatio...\n",
              "       &#x27;BounceRates&#x27;, &#x27;ExitRates&#x27;, &#x27;PageValues&#x27;, &#x27;SpecialDay&#x27;],\n",
              "      dtype=&#x27;object&#x27;)),\n",
              "                                                 (&#x27;pipeline-2&#x27;,\n",
              "                                                  Pipeline(steps=[(&#x27;simpleimputer&#x27;,\n",
              "                                                                   SimpleImputer(strategy=&#x27;most_frequent&#x27;)),\n",
              "                                                                  (&#x27;onehotencoder&#x27;,\n",
              "                                                                   OneHotEncoder(handle_unknown=&#x27;ignore&#x27;))]),\n",
              "                                                  Index([&#x27;Month&#x27;, &#x27;OperatingSystems&#x27;, &#x27;Browser&#x27;, &#x27;Region&#x27;, &#x27;TrafficType&#x27;,\n",
              "       &#x27;VisitorType&#x27;, &#x27;Weekend&#x27;],\n",
              "      dtype=&#x27;object&#x27;))])),\n",
              "                (&#x27;standardscaler&#x27;, StandardScaler(with_mean=False))])</pre></div></div></div><div class=\"sk-serial\"><div class=\"sk-item\"><div class=\"sk-estimator sk-toggleable\"><input class=\"sk-toggleable__control sk-hidden--visually\" id=\"sk-estimator-id-71\" type=\"checkbox\" ><label for=\"sk-estimator-id-71\" class=\"sk-toggleable__label sk-toggleable__label-arrow\">ColTransformer</label><div class=\"sk-toggleable__content\"><pre>ColTransformer(columns_list=[&#x27;Month&#x27;, &#x27;OperatingSystems&#x27;, &#x27;Browser&#x27;, &#x27;Region&#x27;,\n",
              "                             &#x27;TrafficType&#x27;],\n",
              "               default=0, num_top_values_list=[10, 5, 8, 9, 11])</pre></div></div></div><div class=\"sk-item sk-dashed-wrapped\"><div class=\"sk-label-container\"><div class=\"sk-label sk-toggleable\"><input class=\"sk-toggleable__control sk-hidden--visually\" id=\"sk-estimator-id-72\" type=\"checkbox\" ><label for=\"sk-estimator-id-72\" class=\"sk-toggleable__label sk-toggleable__label-arrow\">columntransformer: ColumnTransformer</label><div class=\"sk-toggleable__content\"><pre>ColumnTransformer(transformers=[(&#x27;pipeline-1&#x27;,\n",
              "                                 Pipeline(steps=[(&#x27;simpleimputer&#x27;,\n",
              "                                                  SimpleImputer())]),\n",
              "                                 Index([&#x27;Administrative&#x27;, &#x27;Administrative_Duration&#x27;, &#x27;Informational&#x27;,\n",
              "       &#x27;Informational_Duration&#x27;, &#x27;ProductRelated&#x27;, &#x27;ProductRelated_Duration&#x27;,\n",
              "       &#x27;BounceRates&#x27;, &#x27;ExitRates&#x27;, &#x27;PageValues&#x27;, &#x27;SpecialDay&#x27;],\n",
              "      dtype=&#x27;object&#x27;)),\n",
              "                                (&#x27;pipeline-2&#x27;,\n",
              "                                 Pipeline(steps=[(&#x27;simpleimputer&#x27;,\n",
              "                                                  SimpleImputer(strategy=&#x27;most_frequent&#x27;)),\n",
              "                                                 (&#x27;onehotencoder&#x27;,\n",
              "                                                  OneHotEncoder(handle_unknown=&#x27;ignore&#x27;))]),\n",
              "                                 Index([&#x27;Month&#x27;, &#x27;OperatingSystems&#x27;, &#x27;Browser&#x27;, &#x27;Region&#x27;, &#x27;TrafficType&#x27;,\n",
              "       &#x27;VisitorType&#x27;, &#x27;Weekend&#x27;],\n",
              "      dtype=&#x27;object&#x27;))])</pre></div></div></div><div class=\"sk-parallel\"><div class=\"sk-parallel-item\"><div class=\"sk-item\"><div class=\"sk-label-container\"><div class=\"sk-label sk-toggleable\"><input class=\"sk-toggleable__control sk-hidden--visually\" id=\"sk-estimator-id-73\" type=\"checkbox\" ><label for=\"sk-estimator-id-73\" class=\"sk-toggleable__label sk-toggleable__label-arrow\">pipeline-1</label><div class=\"sk-toggleable__content\"><pre>Index([&#x27;Administrative&#x27;, &#x27;Administrative_Duration&#x27;, &#x27;Informational&#x27;,\n",
              "       &#x27;Informational_Duration&#x27;, &#x27;ProductRelated&#x27;, &#x27;ProductRelated_Duration&#x27;,\n",
              "       &#x27;BounceRates&#x27;, &#x27;ExitRates&#x27;, &#x27;PageValues&#x27;, &#x27;SpecialDay&#x27;],\n",
              "      dtype=&#x27;object&#x27;)</pre></div></div></div><div class=\"sk-serial\"><div class=\"sk-item\"><div class=\"sk-serial\"><div class=\"sk-item\"><div class=\"sk-estimator sk-toggleable\"><input class=\"sk-toggleable__control sk-hidden--visually\" id=\"sk-estimator-id-74\" type=\"checkbox\" ><label for=\"sk-estimator-id-74\" class=\"sk-toggleable__label sk-toggleable__label-arrow\">SimpleImputer</label><div class=\"sk-toggleable__content\"><pre>SimpleImputer()</pre></div></div></div></div></div></div></div></div><div class=\"sk-parallel-item\"><div class=\"sk-item\"><div class=\"sk-label-container\"><div class=\"sk-label sk-toggleable\"><input class=\"sk-toggleable__control sk-hidden--visually\" id=\"sk-estimator-id-75\" type=\"checkbox\" ><label for=\"sk-estimator-id-75\" class=\"sk-toggleable__label sk-toggleable__label-arrow\">pipeline-2</label><div class=\"sk-toggleable__content\"><pre>Index([&#x27;Month&#x27;, &#x27;OperatingSystems&#x27;, &#x27;Browser&#x27;, &#x27;Region&#x27;, &#x27;TrafficType&#x27;,\n",
              "       &#x27;VisitorType&#x27;, &#x27;Weekend&#x27;],\n",
              "      dtype=&#x27;object&#x27;)</pre></div></div></div><div class=\"sk-serial\"><div class=\"sk-item\"><div class=\"sk-serial\"><div class=\"sk-item\"><div class=\"sk-estimator sk-toggleable\"><input class=\"sk-toggleable__control sk-hidden--visually\" id=\"sk-estimator-id-76\" type=\"checkbox\" ><label for=\"sk-estimator-id-76\" class=\"sk-toggleable__label sk-toggleable__label-arrow\">SimpleImputer</label><div class=\"sk-toggleable__content\"><pre>SimpleImputer(strategy=&#x27;most_frequent&#x27;)</pre></div></div></div><div class=\"sk-item\"><div class=\"sk-estimator sk-toggleable\"><input class=\"sk-toggleable__control sk-hidden--visually\" id=\"sk-estimator-id-77\" type=\"checkbox\" ><label for=\"sk-estimator-id-77\" class=\"sk-toggleable__label sk-toggleable__label-arrow\">OneHotEncoder</label><div class=\"sk-toggleable__content\"><pre>OneHotEncoder(handle_unknown=&#x27;ignore&#x27;)</pre></div></div></div></div></div></div></div></div></div></div><div class=\"sk-item\"><div class=\"sk-estimator sk-toggleable\"><input class=\"sk-toggleable__control sk-hidden--visually\" id=\"sk-estimator-id-78\" type=\"checkbox\" ><label for=\"sk-estimator-id-78\" class=\"sk-toggleable__label sk-toggleable__label-arrow\">StandardScaler</label><div class=\"sk-toggleable__content\"><pre>StandardScaler(with_mean=False)</pre></div></div></div></div></div><div class=\"sk-item\"><div class=\"sk-estimator sk-toggleable\"><input class=\"sk-toggleable__control sk-hidden--visually\" id=\"sk-estimator-id-79\" type=\"checkbox\" ><label for=\"sk-estimator-id-79\" class=\"sk-toggleable__label sk-toggleable__label-arrow\">SelectKBest</label><div class=\"sk-toggleable__content\"><pre>SelectKBest(k=7, score_func=&lt;function chi2 at 0x000002C15E037910&gt;)</pre></div></div></div><div class=\"sk-item\"><div class=\"sk-estimator sk-toggleable\"><input class=\"sk-toggleable__control sk-hidden--visually\" id=\"sk-estimator-id-80\" type=\"checkbox\" ><label for=\"sk-estimator-id-80\" class=\"sk-toggleable__label sk-toggleable__label-arrow\">MLPClassifier</label><div class=\"sk-toggleable__content\"><pre>MLPClassifier(alpha=100, hidden_layer_sizes=50, learning_rate_init=0.05,\n",
              "              max_iter=1000, random_state=0)</pre></div></div></div></div></div></div></div>"
            ],
            "text/plain": [
              "Pipeline(steps=[('preprocess',\n",
              "                 Pipeline(steps=[('coltransformer',\n",
              "                                  ColTransformer(columns_list=['Month',\n",
              "                                                               'OperatingSystems',\n",
              "                                                               'Browser',\n",
              "                                                               'Region',\n",
              "                                                               'TrafficType'],\n",
              "                                                 default=0,\n",
              "                                                 num_top_values_list=[10, 5, 8,\n",
              "                                                                      9, 11])),\n",
              "                                 ('columntransformer',\n",
              "                                  ColumnTransformer(transformers=[('pipeline-1',\n",
              "                                                                   Pipeline(steps=[('simpleimputer',\n",
              "                                                                                    SimpleImputer())]),\n",
              "                                                                   Index(['Administrative', 'Admini...\n",
              "                                                                   Index(['Month', 'OperatingSystems', 'Browser', 'Region', 'TrafficType',\n",
              "       'VisitorType', 'Weekend'],\n",
              "      dtype='object'))])),\n",
              "                                 ('standardscaler',\n",
              "                                  StandardScaler(with_mean=False))])),\n",
              "                ('selectkbest',\n",
              "                 SelectKBest(k=7,\n",
              "                             score_func=<function chi2 at 0x000002C15E037910>)),\n",
              "                ('mlpclassifier',\n",
              "                 MLPClassifier(alpha=100, hidden_layer_sizes=50,\n",
              "                               learning_rate_init=0.05, max_iter=1000,\n",
              "                               random_state=0))])"
            ]
          },
          "execution_count": 95,
          "metadata": {},
          "output_type": "execute_result"
        }
      ],
      "source": [
        "full_pipeline = Pipeline(steps=[\n",
        "    ('preprocess', preprocess_pipeline),\n",
        "    ('selectkbest', SelectKBest(chi2, k=7)),\n",
        "    ('mlpclassifier', MLPClassifier(hidden_layer_sizes=(50), activation='relu', solver='adam', random_state=0, learning_rate_init=0.05, alpha=100, max_iter=1000))\n",
        "])\n",
        "full_pipeline"
      ]
    },
    {
      "cell_type": "code",
      "execution_count": 96,
      "metadata": {},
      "outputs": [
        {
          "name": "stdout",
          "output_type": "stream",
          "text": [
            "With the above model pipeline we get the accuracy of train: 84.275 and validate: 86.981\n"
          ]
        }
      ],
      "source": [
        "full_pipeline.fit(train_X_df, train_y_sr)\n",
        "train_acc = full_pipeline.score(train_X_df, train_y_sr)*100\n",
        "val_acc = full_pipeline.score(val_X_df, val_y_sr)*100\n",
        "print(f'With the above model pipeline we get the accuracy of train: {train_acc.round(3)} and validate: {val_acc.round(3)}')"
      ]
    },
    {
      "attachments": {},
      "cell_type": "markdown",
      "metadata": {},
      "source": [
        "Due to the defined paramaters of Neural Network, in which include `hidden_layer_sizes=(50), activation='relu', solver='adam', random_state=0, learning_rate_init=0.05, alpha=100, max_iter=1000`, we got the final accuracy was: **84%**"
      ]
    },
    {
      "attachments": {},
      "cell_type": "markdown",
      "metadata": {},
      "source": [
        "After training the model we got the accuracy is 84%, this score still be pretty unacceptable so in next we tend to innovate our current model by using grid search method"
      ]
    },
    {
      "cell_type": "code",
      "execution_count": 97,
      "metadata": {},
      "outputs": [
        {
          "name": "stdout",
          "output_type": "stream",
          "text": [
            "Fitting 5 folds for each of 21 candidates, totalling 105 fits\n"
          ]
        },
        {
          "data": {
            "text/html": [
              "<style>#sk-container-id-8 {color: black;background-color: white;}#sk-container-id-8 pre{padding: 0;}#sk-container-id-8 div.sk-toggleable {background-color: white;}#sk-container-id-8 label.sk-toggleable__label {cursor: pointer;display: block;width: 100%;margin-bottom: 0;padding: 0.3em;box-sizing: border-box;text-align: center;}#sk-container-id-8 label.sk-toggleable__label-arrow:before {content: \"▸\";float: left;margin-right: 0.25em;color: #696969;}#sk-container-id-8 label.sk-toggleable__label-arrow:hover:before {color: black;}#sk-container-id-8 div.sk-estimator:hover label.sk-toggleable__label-arrow:before {color: black;}#sk-container-id-8 div.sk-toggleable__content {max-height: 0;max-width: 0;overflow: hidden;text-align: left;background-color: #f0f8ff;}#sk-container-id-8 div.sk-toggleable__content pre {margin: 0.2em;color: black;border-radius: 0.25em;background-color: #f0f8ff;}#sk-container-id-8 input.sk-toggleable__control:checked~div.sk-toggleable__content {max-height: 200px;max-width: 100%;overflow: auto;}#sk-container-id-8 input.sk-toggleable__control:checked~label.sk-toggleable__label-arrow:before {content: \"▾\";}#sk-container-id-8 div.sk-estimator input.sk-toggleable__control:checked~label.sk-toggleable__label {background-color: #d4ebff;}#sk-container-id-8 div.sk-label input.sk-toggleable__control:checked~label.sk-toggleable__label {background-color: #d4ebff;}#sk-container-id-8 input.sk-hidden--visually {border: 0;clip: rect(1px 1px 1px 1px);clip: rect(1px, 1px, 1px, 1px);height: 1px;margin: -1px;overflow: hidden;padding: 0;position: absolute;width: 1px;}#sk-container-id-8 div.sk-estimator {font-family: monospace;background-color: #f0f8ff;border: 1px dotted black;border-radius: 0.25em;box-sizing: border-box;margin-bottom: 0.5em;}#sk-container-id-8 div.sk-estimator:hover {background-color: #d4ebff;}#sk-container-id-8 div.sk-parallel-item::after {content: \"\";width: 100%;border-bottom: 1px solid gray;flex-grow: 1;}#sk-container-id-8 div.sk-label:hover label.sk-toggleable__label {background-color: #d4ebff;}#sk-container-id-8 div.sk-serial::before {content: \"\";position: absolute;border-left: 1px solid gray;box-sizing: border-box;top: 0;bottom: 0;left: 50%;z-index: 0;}#sk-container-id-8 div.sk-serial {display: flex;flex-direction: column;align-items: center;background-color: white;padding-right: 0.2em;padding-left: 0.2em;position: relative;}#sk-container-id-8 div.sk-item {position: relative;z-index: 1;}#sk-container-id-8 div.sk-parallel {display: flex;align-items: stretch;justify-content: center;background-color: white;position: relative;}#sk-container-id-8 div.sk-item::before, #sk-container-id-8 div.sk-parallel-item::before {content: \"\";position: absolute;border-left: 1px solid gray;box-sizing: border-box;top: 0;bottom: 0;left: 50%;z-index: -1;}#sk-container-id-8 div.sk-parallel-item {display: flex;flex-direction: column;z-index: 1;position: relative;background-color: white;}#sk-container-id-8 div.sk-parallel-item:first-child::after {align-self: flex-end;width: 50%;}#sk-container-id-8 div.sk-parallel-item:last-child::after {align-self: flex-start;width: 50%;}#sk-container-id-8 div.sk-parallel-item:only-child::after {width: 0;}#sk-container-id-8 div.sk-dashed-wrapped {border: 1px dashed gray;margin: 0 0.4em 0.5em 0.4em;box-sizing: border-box;padding-bottom: 0.4em;background-color: white;}#sk-container-id-8 div.sk-label label {font-family: monospace;font-weight: bold;display: inline-block;line-height: 1.2em;}#sk-container-id-8 div.sk-label-container {text-align: center;}#sk-container-id-8 div.sk-container {/* jupyter's `normalize.less` sets `[hidden] { display: none; }` but bootstrap.min.css set `[hidden] { display: none !important; }` so we also need the `!important` here to be able to override the default hidden behavior on the sphinx rendered scikit-learn.org. See: https://github.com/scikit-learn/scikit-learn/issues/21755 */display: inline-block !important;position: relative;}#sk-container-id-8 div.sk-text-repr-fallback {display: none;}</style><div id=\"sk-container-id-8\" class=\"sk-top-container\"><div class=\"sk-text-repr-fallback\"><pre>GridSearchCV(estimator=Pipeline(steps=[(&#x27;preprocess&#x27;,\n",
              "                                        Pipeline(steps=[(&#x27;coltransformer&#x27;,\n",
              "                                                         ColTransformer(columns_list=[&#x27;Month&#x27;,\n",
              "                                                                                      &#x27;OperatingSystems&#x27;,\n",
              "                                                                                      &#x27;Browser&#x27;,\n",
              "                                                                                      &#x27;Region&#x27;,\n",
              "                                                                                      &#x27;TrafficType&#x27;],\n",
              "                                                                        default=0,\n",
              "                                                                        num_top_values_list=[10,\n",
              "                                                                                             5,\n",
              "                                                                                             8,\n",
              "                                                                                             9,\n",
              "                                                                                             11])),\n",
              "                                                        (&#x27;columntransformer&#x27;,\n",
              "                                                         ColumnTransformer(transformers=[(&#x27;pipeline-1&#x27;,\n",
              "                                                                                          Pipeline(steps=[(&#x27;simpleimputer&#x27;,\n",
              "                                                                                                           SimpleImputer())]),\n",
              "                                                                                          Index([&#x27;...\n",
              "                                                        (&#x27;standardscaler&#x27;,\n",
              "                                                         StandardScaler(with_mean=False))])),\n",
              "                                       (&#x27;selectkbest&#x27;,\n",
              "                                        SelectKBest(score_func=&lt;function chi2 at 0x000002C15E037910&gt;)),\n",
              "                                       (&#x27;mlpclassifier&#x27;,\n",
              "                                        MLPClassifier(hidden_layer_sizes=50,\n",
              "                                                      learning_rate_init=0.05,\n",
              "                                                      max_iter=1000,\n",
              "                                                      random_state=0))]),\n",
              "             param_grid={&#x27;mlpclassifier__activation&#x27;: [&#x27;logistic&#x27;, &#x27;relu&#x27;,\n",
              "                                                       &#x27;tanh&#x27;],\n",
              "                         &#x27;selectkbest__k&#x27;: [3, 5, 7, 9, 11, 14, &#x27;all&#x27;]},\n",
              "             verbose=True)</pre><b>In a Jupyter environment, please rerun this cell to show the HTML representation or trust the notebook. <br />On GitHub, the HTML representation is unable to render, please try loading this page with nbviewer.org.</b></div><div class=\"sk-container\" hidden><div class=\"sk-item sk-dashed-wrapped\"><div class=\"sk-label-container\"><div class=\"sk-label sk-toggleable\"><input class=\"sk-toggleable__control sk-hidden--visually\" id=\"sk-estimator-id-81\" type=\"checkbox\" ><label for=\"sk-estimator-id-81\" class=\"sk-toggleable__label sk-toggleable__label-arrow\">GridSearchCV</label><div class=\"sk-toggleable__content\"><pre>GridSearchCV(estimator=Pipeline(steps=[(&#x27;preprocess&#x27;,\n",
              "                                        Pipeline(steps=[(&#x27;coltransformer&#x27;,\n",
              "                                                         ColTransformer(columns_list=[&#x27;Month&#x27;,\n",
              "                                                                                      &#x27;OperatingSystems&#x27;,\n",
              "                                                                                      &#x27;Browser&#x27;,\n",
              "                                                                                      &#x27;Region&#x27;,\n",
              "                                                                                      &#x27;TrafficType&#x27;],\n",
              "                                                                        default=0,\n",
              "                                                                        num_top_values_list=[10,\n",
              "                                                                                             5,\n",
              "                                                                                             8,\n",
              "                                                                                             9,\n",
              "                                                                                             11])),\n",
              "                                                        (&#x27;columntransformer&#x27;,\n",
              "                                                         ColumnTransformer(transformers=[(&#x27;pipeline-1&#x27;,\n",
              "                                                                                          Pipeline(steps=[(&#x27;simpleimputer&#x27;,\n",
              "                                                                                                           SimpleImputer())]),\n",
              "                                                                                          Index([&#x27;...\n",
              "                                                        (&#x27;standardscaler&#x27;,\n",
              "                                                         StandardScaler(with_mean=False))])),\n",
              "                                       (&#x27;selectkbest&#x27;,\n",
              "                                        SelectKBest(score_func=&lt;function chi2 at 0x000002C15E037910&gt;)),\n",
              "                                       (&#x27;mlpclassifier&#x27;,\n",
              "                                        MLPClassifier(hidden_layer_sizes=50,\n",
              "                                                      learning_rate_init=0.05,\n",
              "                                                      max_iter=1000,\n",
              "                                                      random_state=0))]),\n",
              "             param_grid={&#x27;mlpclassifier__activation&#x27;: [&#x27;logistic&#x27;, &#x27;relu&#x27;,\n",
              "                                                       &#x27;tanh&#x27;],\n",
              "                         &#x27;selectkbest__k&#x27;: [3, 5, 7, 9, 11, 14, &#x27;all&#x27;]},\n",
              "             verbose=True)</pre></div></div></div><div class=\"sk-parallel\"><div class=\"sk-parallel-item\"><div class=\"sk-item\"><div class=\"sk-label-container\"><div class=\"sk-label sk-toggleable\"><input class=\"sk-toggleable__control sk-hidden--visually\" id=\"sk-estimator-id-82\" type=\"checkbox\" ><label for=\"sk-estimator-id-82\" class=\"sk-toggleable__label sk-toggleable__label-arrow\">estimator: Pipeline</label><div class=\"sk-toggleable__content\"><pre>Pipeline(steps=[(&#x27;preprocess&#x27;,\n",
              "                 Pipeline(steps=[(&#x27;coltransformer&#x27;,\n",
              "                                  ColTransformer(columns_list=[&#x27;Month&#x27;,\n",
              "                                                               &#x27;OperatingSystems&#x27;,\n",
              "                                                               &#x27;Browser&#x27;,\n",
              "                                                               &#x27;Region&#x27;,\n",
              "                                                               &#x27;TrafficType&#x27;],\n",
              "                                                 default=0,\n",
              "                                                 num_top_values_list=[10, 5, 8,\n",
              "                                                                      9, 11])),\n",
              "                                 (&#x27;columntransformer&#x27;,\n",
              "                                  ColumnTransformer(transformers=[(&#x27;pipeline-1&#x27;,\n",
              "                                                                   Pipeline(steps=[(&#x27;simpleimputer&#x27;,\n",
              "                                                                                    SimpleImputer())]),\n",
              "                                                                   Index([&#x27;Administrative&#x27;, &#x27;Admini...\n",
              "                                                                   Index([&#x27;Month&#x27;, &#x27;OperatingSystems&#x27;, &#x27;Browser&#x27;, &#x27;Region&#x27;, &#x27;TrafficType&#x27;,\n",
              "       &#x27;VisitorType&#x27;, &#x27;Weekend&#x27;],\n",
              "      dtype=&#x27;object&#x27;))])),\n",
              "                                 (&#x27;standardscaler&#x27;,\n",
              "                                  StandardScaler(with_mean=False))])),\n",
              "                (&#x27;selectkbest&#x27;,\n",
              "                 SelectKBest(score_func=&lt;function chi2 at 0x000002C15E037910&gt;)),\n",
              "                (&#x27;mlpclassifier&#x27;,\n",
              "                 MLPClassifier(hidden_layer_sizes=50, learning_rate_init=0.05,\n",
              "                               max_iter=1000, random_state=0))])</pre></div></div></div><div class=\"sk-serial\"><div class=\"sk-item\"><div class=\"sk-serial\"><div class=\"sk-item\"><div class=\"sk-label-container\"><div class=\"sk-label sk-toggleable\"><input class=\"sk-toggleable__control sk-hidden--visually\" id=\"sk-estimator-id-83\" type=\"checkbox\" ><label for=\"sk-estimator-id-83\" class=\"sk-toggleable__label sk-toggleable__label-arrow\">preprocess: Pipeline</label><div class=\"sk-toggleable__content\"><pre>Pipeline(steps=[(&#x27;coltransformer&#x27;,\n",
              "                 ColTransformer(columns_list=[&#x27;Month&#x27;, &#x27;OperatingSystems&#x27;,\n",
              "                                              &#x27;Browser&#x27;, &#x27;Region&#x27;,\n",
              "                                              &#x27;TrafficType&#x27;],\n",
              "                                default=0,\n",
              "                                num_top_values_list=[10, 5, 8, 9, 11])),\n",
              "                (&#x27;columntransformer&#x27;,\n",
              "                 ColumnTransformer(transformers=[(&#x27;pipeline-1&#x27;,\n",
              "                                                  Pipeline(steps=[(&#x27;simpleimputer&#x27;,\n",
              "                                                                   SimpleImputer())]),\n",
              "                                                  Index([&#x27;Administrative&#x27;, &#x27;Administrative_Duration&#x27;, &#x27;Informatio...\n",
              "       &#x27;BounceRates&#x27;, &#x27;ExitRates&#x27;, &#x27;PageValues&#x27;, &#x27;SpecialDay&#x27;],\n",
              "      dtype=&#x27;object&#x27;)),\n",
              "                                                 (&#x27;pipeline-2&#x27;,\n",
              "                                                  Pipeline(steps=[(&#x27;simpleimputer&#x27;,\n",
              "                                                                   SimpleImputer(strategy=&#x27;most_frequent&#x27;)),\n",
              "                                                                  (&#x27;onehotencoder&#x27;,\n",
              "                                                                   OneHotEncoder(handle_unknown=&#x27;ignore&#x27;))]),\n",
              "                                                  Index([&#x27;Month&#x27;, &#x27;OperatingSystems&#x27;, &#x27;Browser&#x27;, &#x27;Region&#x27;, &#x27;TrafficType&#x27;,\n",
              "       &#x27;VisitorType&#x27;, &#x27;Weekend&#x27;],\n",
              "      dtype=&#x27;object&#x27;))])),\n",
              "                (&#x27;standardscaler&#x27;, StandardScaler(with_mean=False))])</pre></div></div></div><div class=\"sk-serial\"><div class=\"sk-item\"><div class=\"sk-estimator sk-toggleable\"><input class=\"sk-toggleable__control sk-hidden--visually\" id=\"sk-estimator-id-84\" type=\"checkbox\" ><label for=\"sk-estimator-id-84\" class=\"sk-toggleable__label sk-toggleable__label-arrow\">ColTransformer</label><div class=\"sk-toggleable__content\"><pre>ColTransformer(columns_list=[&#x27;Month&#x27;, &#x27;OperatingSystems&#x27;, &#x27;Browser&#x27;, &#x27;Region&#x27;,\n",
              "                             &#x27;TrafficType&#x27;],\n",
              "               default=0, num_top_values_list=[10, 5, 8, 9, 11])</pre></div></div></div><div class=\"sk-item sk-dashed-wrapped\"><div class=\"sk-label-container\"><div class=\"sk-label sk-toggleable\"><input class=\"sk-toggleable__control sk-hidden--visually\" id=\"sk-estimator-id-85\" type=\"checkbox\" ><label for=\"sk-estimator-id-85\" class=\"sk-toggleable__label sk-toggleable__label-arrow\">columntransformer: ColumnTransformer</label><div class=\"sk-toggleable__content\"><pre>ColumnTransformer(transformers=[(&#x27;pipeline-1&#x27;,\n",
              "                                 Pipeline(steps=[(&#x27;simpleimputer&#x27;,\n",
              "                                                  SimpleImputer())]),\n",
              "                                 Index([&#x27;Administrative&#x27;, &#x27;Administrative_Duration&#x27;, &#x27;Informational&#x27;,\n",
              "       &#x27;Informational_Duration&#x27;, &#x27;ProductRelated&#x27;, &#x27;ProductRelated_Duration&#x27;,\n",
              "       &#x27;BounceRates&#x27;, &#x27;ExitRates&#x27;, &#x27;PageValues&#x27;, &#x27;SpecialDay&#x27;],\n",
              "      dtype=&#x27;object&#x27;)),\n",
              "                                (&#x27;pipeline-2&#x27;,\n",
              "                                 Pipeline(steps=[(&#x27;simpleimputer&#x27;,\n",
              "                                                  SimpleImputer(strategy=&#x27;most_frequent&#x27;)),\n",
              "                                                 (&#x27;onehotencoder&#x27;,\n",
              "                                                  OneHotEncoder(handle_unknown=&#x27;ignore&#x27;))]),\n",
              "                                 Index([&#x27;Month&#x27;, &#x27;OperatingSystems&#x27;, &#x27;Browser&#x27;, &#x27;Region&#x27;, &#x27;TrafficType&#x27;,\n",
              "       &#x27;VisitorType&#x27;, &#x27;Weekend&#x27;],\n",
              "      dtype=&#x27;object&#x27;))])</pre></div></div></div><div class=\"sk-parallel\"><div class=\"sk-parallel-item\"><div class=\"sk-item\"><div class=\"sk-label-container\"><div class=\"sk-label sk-toggleable\"><input class=\"sk-toggleable__control sk-hidden--visually\" id=\"sk-estimator-id-86\" type=\"checkbox\" ><label for=\"sk-estimator-id-86\" class=\"sk-toggleable__label sk-toggleable__label-arrow\">pipeline-1</label><div class=\"sk-toggleable__content\"><pre>Index([&#x27;Administrative&#x27;, &#x27;Administrative_Duration&#x27;, &#x27;Informational&#x27;,\n",
              "       &#x27;Informational_Duration&#x27;, &#x27;ProductRelated&#x27;, &#x27;ProductRelated_Duration&#x27;,\n",
              "       &#x27;BounceRates&#x27;, &#x27;ExitRates&#x27;, &#x27;PageValues&#x27;, &#x27;SpecialDay&#x27;],\n",
              "      dtype=&#x27;object&#x27;)</pre></div></div></div><div class=\"sk-serial\"><div class=\"sk-item\"><div class=\"sk-serial\"><div class=\"sk-item\"><div class=\"sk-estimator sk-toggleable\"><input class=\"sk-toggleable__control sk-hidden--visually\" id=\"sk-estimator-id-87\" type=\"checkbox\" ><label for=\"sk-estimator-id-87\" class=\"sk-toggleable__label sk-toggleable__label-arrow\">SimpleImputer</label><div class=\"sk-toggleable__content\"><pre>SimpleImputer()</pre></div></div></div></div></div></div></div></div><div class=\"sk-parallel-item\"><div class=\"sk-item\"><div class=\"sk-label-container\"><div class=\"sk-label sk-toggleable\"><input class=\"sk-toggleable__control sk-hidden--visually\" id=\"sk-estimator-id-88\" type=\"checkbox\" ><label for=\"sk-estimator-id-88\" class=\"sk-toggleable__label sk-toggleable__label-arrow\">pipeline-2</label><div class=\"sk-toggleable__content\"><pre>Index([&#x27;Month&#x27;, &#x27;OperatingSystems&#x27;, &#x27;Browser&#x27;, &#x27;Region&#x27;, &#x27;TrafficType&#x27;,\n",
              "       &#x27;VisitorType&#x27;, &#x27;Weekend&#x27;],\n",
              "      dtype=&#x27;object&#x27;)</pre></div></div></div><div class=\"sk-serial\"><div class=\"sk-item\"><div class=\"sk-serial\"><div class=\"sk-item\"><div class=\"sk-estimator sk-toggleable\"><input class=\"sk-toggleable__control sk-hidden--visually\" id=\"sk-estimator-id-89\" type=\"checkbox\" ><label for=\"sk-estimator-id-89\" class=\"sk-toggleable__label sk-toggleable__label-arrow\">SimpleImputer</label><div class=\"sk-toggleable__content\"><pre>SimpleImputer(strategy=&#x27;most_frequent&#x27;)</pre></div></div></div><div class=\"sk-item\"><div class=\"sk-estimator sk-toggleable\"><input class=\"sk-toggleable__control sk-hidden--visually\" id=\"sk-estimator-id-90\" type=\"checkbox\" ><label for=\"sk-estimator-id-90\" class=\"sk-toggleable__label sk-toggleable__label-arrow\">OneHotEncoder</label><div class=\"sk-toggleable__content\"><pre>OneHotEncoder(handle_unknown=&#x27;ignore&#x27;)</pre></div></div></div></div></div></div></div></div></div></div><div class=\"sk-item\"><div class=\"sk-estimator sk-toggleable\"><input class=\"sk-toggleable__control sk-hidden--visually\" id=\"sk-estimator-id-91\" type=\"checkbox\" ><label for=\"sk-estimator-id-91\" class=\"sk-toggleable__label sk-toggleable__label-arrow\">StandardScaler</label><div class=\"sk-toggleable__content\"><pre>StandardScaler(with_mean=False)</pre></div></div></div></div></div><div class=\"sk-item\"><div class=\"sk-estimator sk-toggleable\"><input class=\"sk-toggleable__control sk-hidden--visually\" id=\"sk-estimator-id-92\" type=\"checkbox\" ><label for=\"sk-estimator-id-92\" class=\"sk-toggleable__label sk-toggleable__label-arrow\">SelectKBest</label><div class=\"sk-toggleable__content\"><pre>SelectKBest(score_func=&lt;function chi2 at 0x000002C15E037910&gt;)</pre></div></div></div><div class=\"sk-item\"><div class=\"sk-estimator sk-toggleable\"><input class=\"sk-toggleable__control sk-hidden--visually\" id=\"sk-estimator-id-93\" type=\"checkbox\" ><label for=\"sk-estimator-id-93\" class=\"sk-toggleable__label sk-toggleable__label-arrow\">MLPClassifier</label><div class=\"sk-toggleable__content\"><pre>MLPClassifier(hidden_layer_sizes=50, learning_rate_init=0.05, max_iter=1000,\n",
              "              random_state=0)</pre></div></div></div></div></div></div></div></div></div></div></div></div>"
            ],
            "text/plain": [
              "GridSearchCV(estimator=Pipeline(steps=[('preprocess',\n",
              "                                        Pipeline(steps=[('coltransformer',\n",
              "                                                         ColTransformer(columns_list=['Month',\n",
              "                                                                                      'OperatingSystems',\n",
              "                                                                                      'Browser',\n",
              "                                                                                      'Region',\n",
              "                                                                                      'TrafficType'],\n",
              "                                                                        default=0,\n",
              "                                                                        num_top_values_list=[10,\n",
              "                                                                                             5,\n",
              "                                                                                             8,\n",
              "                                                                                             9,\n",
              "                                                                                             11])),\n",
              "                                                        ('columntransformer',\n",
              "                                                         ColumnTransformer(transformers=[('pipeline-1',\n",
              "                                                                                          Pipeline(steps=[('simpleimputer',\n",
              "                                                                                                           SimpleImputer())]),\n",
              "                                                                                          Index(['...\n",
              "                                                        ('standardscaler',\n",
              "                                                         StandardScaler(with_mean=False))])),\n",
              "                                       ('selectkbest',\n",
              "                                        SelectKBest(score_func=<function chi2 at 0x000002C15E037910>)),\n",
              "                                       ('mlpclassifier',\n",
              "                                        MLPClassifier(hidden_layer_sizes=50,\n",
              "                                                      learning_rate_init=0.05,\n",
              "                                                      max_iter=1000,\n",
              "                                                      random_state=0))]),\n",
              "             param_grid={'mlpclassifier__activation': ['logistic', 'relu',\n",
              "                                                       'tanh'],\n",
              "                         'selectkbest__k': [3, 5, 7, 9, 11, 14, 'all']},\n",
              "             verbose=True)"
            ]
          },
          "execution_count": 97,
          "metadata": {},
          "output_type": "execute_result"
        }
      ],
      "source": [
        "optimize_pipeline = Pipeline(steps=[\n",
        "    ('preprocess', preprocess_pipeline),\n",
        "    ('selectkbest', SelectKBest(chi2)),\n",
        "    ('mlpclassifier', MLPClassifier(hidden_layer_sizes=(50), solver='adam', activation='relu', random_state=0, learning_rate_init=0.05, max_iter=1000))\n",
        "])\n",
        "\n",
        "param_grid_mlp = {'mlpclassifier__activation': ['logistic', 'relu', 'tanh'],\n",
        "            'selectkbest__k': [3, 5, 7, 9, 11, 14, 'all']}\n",
        "\n",
        "grid_search_mlp = GridSearchCV(optimize_pipeline, param_grid_mlp, verbose=True)\n",
        "grid_search_mlp.fit(train_X_df, train_y_sr)"
      ]
    },
    {
      "cell_type": "code",
      "execution_count": 98,
      "metadata": {},
      "outputs": [
        {
          "data": {
            "image/png": "[encoded data removed]",
            "text/plain": [
              "<Figure size 720x360 with 2 Axes>"
            ]
          },
          "metadata": {
            "needs_background": "light"
          },
          "output_type": "display_data"
        }
      ],
      "source": [
        "def plot_grid_search(grid_search, grid_params, attribute='mean_test_score', title='None'):\n",
        "    scores = np.array(grid_search.cv_results_[attribute]).reshape(len(grid_params[list(grid_params.keys())[0]]), len(grid_params[list(grid_params.keys())[1]]))\n",
        "    for score, param in zip(scores, grid_params[list(grid_params.keys())[0]]):\n",
        "        plt.plot(grid_params[list(grid_params.keys())[1]], score, '-o', label=param)\n",
        "    plt.legend(loc='lower left')\n",
        "    plt.xlabel(list(grid_params.keys())[1])\n",
        "    plt.ylabel('Accuracy')\n",
        "    plt.title(title)\n",
        "\n",
        "plt.figure(figsize=(10, 5))\n",
        "plt.subplot(1, 2, 1)  \n",
        "plot_grid_search(grid_search_mlp, param_grid_mlp, title='Accuracies of training set')\n",
        "plt.subplot(1, 2, 2)\n",
        "plot_grid_search(grid_search_mlp, param_grid_mlp, attribute='split3_test_score', title='Accuracies of validation set')"
      ]
    },
    {
      "attachments": {},
      "cell_type": "markdown",
      "metadata": {},
      "source": [
        "After using grid search for innovating model, we defined that the best activation was RELU and the number of features should be kept was 5 features. In which the accuracy was converging at **90.9%**"
      ]
    },
    {
      "cell_type": "code",
      "execution_count": 113,
      "metadata": {},
      "outputs": [
        {
          "name": "stdout",
          "output_type": "stream",
          "text": [
            "With the grid searching, we found a better validate accuracy for the model with 91.263%\n",
            "In conclusion, along with paramas of {'mlpclassifier__activation': 'relu', 'selectkbest__k': 5} we get the final test score in model be 88.615% in practical\n"
          ]
        }
      ],
      "source": [
        "val_acc = grid_search_mlp.score(val_X_df, val_y_sr)*100\n",
        "final_score = accuracy_score(grid_search_mlp.predict(test_X_df), test_y_sr, normalize=True)*100\n",
        "print(f'With the grid searching, we found a better validate accuracy for the model with {val_acc.round(3)}%')\n",
        "print(f'In conclusion, along with paramas of {grid_search_mlp.best_params_} we get the final test score in model be {final_score.round(3)}% in practical')"
      ]
    },
    {
      "attachments": {},
      "cell_type": "markdown",
      "metadata": {},
      "source": [
        "<h3>2nd Model: Classification using decision tree</h3>"
      ]
    },
    {
      "attachments": {},
      "cell_type": "markdown",
      "metadata": {},
      "source": [
        "Pipline architecture: Along including Preprocessing Pipeline, there are 2 more:\n",
        "- `Selecting Best Features`: in this step, data would filtered in order to reduce the dimension of data by using `Chi2-Algorithms`. The number of features kept would be defined by manually or by grid search later.\n",
        "- `DecisionTreeClassifier`: using Decision Tree method for classifying data into TRUE and FALSE in the Revenue."
      ]
    },
    {
      "cell_type": "code",
      "execution_count": 100,
      "metadata": {},
      "outputs": [
        {
          "data": {
            "text/html": [
              "<style>#sk-container-id-9 {color: black;background-color: white;}#sk-container-id-9 pre{padding: 0;}#sk-container-id-9 div.sk-toggleable {background-color: white;}#sk-container-id-9 label.sk-toggleable__label {cursor: pointer;display: block;width: 100%;margin-bottom: 0;padding: 0.3em;box-sizing: border-box;text-align: center;}#sk-container-id-9 label.sk-toggleable__label-arrow:before {content: \"▸\";float: left;margin-right: 0.25em;color: #696969;}#sk-container-id-9 label.sk-toggleable__label-arrow:hover:before {color: black;}#sk-container-id-9 div.sk-estimator:hover label.sk-toggleable__label-arrow:before {color: black;}#sk-container-id-9 div.sk-toggleable__content {max-height: 0;max-width: 0;overflow: hidden;text-align: left;background-color: #f0f8ff;}#sk-container-id-9 div.sk-toggleable__content pre {margin: 0.2em;color: black;border-radius: 0.25em;background-color: #f0f8ff;}#sk-container-id-9 input.sk-toggleable__control:checked~div.sk-toggleable__content {max-height: 200px;max-width: 100%;overflow: auto;}#sk-container-id-9 input.sk-toggleable__control:checked~label.sk-toggleable__label-arrow:before {content: \"▾\";}#sk-container-id-9 div.sk-estimator input.sk-toggleable__control:checked~label.sk-toggleable__label {background-color: #d4ebff;}#sk-container-id-9 div.sk-label input.sk-toggleable__control:checked~label.sk-toggleable__label {background-color: #d4ebff;}#sk-container-id-9 input.sk-hidden--visually {border: 0;clip: rect(1px 1px 1px 1px);clip: rect(1px, 1px, 1px, 1px);height: 1px;margin: -1px;overflow: hidden;padding: 0;position: absolute;width: 1px;}#sk-container-id-9 div.sk-estimator {font-family: monospace;background-color: #f0f8ff;border: 1px dotted black;border-radius: 0.25em;box-sizing: border-box;margin-bottom: 0.5em;}#sk-container-id-9 div.sk-estimator:hover {background-color: #d4ebff;}#sk-container-id-9 div.sk-parallel-item::after {content: \"\";width: 100%;border-bottom: 1px solid gray;flex-grow: 1;}#sk-container-id-9 div.sk-label:hover label.sk-toggleable__label {background-color: #d4ebff;}#sk-container-id-9 div.sk-serial::before {content: \"\";position: absolute;border-left: 1px solid gray;box-sizing: border-box;top: 0;bottom: 0;left: 50%;z-index: 0;}#sk-container-id-9 div.sk-serial {display: flex;flex-direction: column;align-items: center;background-color: white;padding-right: 0.2em;padding-left: 0.2em;position: relative;}#sk-container-id-9 div.sk-item {position: relative;z-index: 1;}#sk-container-id-9 div.sk-parallel {display: flex;align-items: stretch;justify-content: center;background-color: white;position: relative;}#sk-container-id-9 div.sk-item::before, #sk-container-id-9 div.sk-parallel-item::before {content: \"\";position: absolute;border-left: 1px solid gray;box-sizing: border-box;top: 0;bottom: 0;left: 50%;z-index: -1;}#sk-container-id-9 div.sk-parallel-item {display: flex;flex-direction: column;z-index: 1;position: relative;background-color: white;}#sk-container-id-9 div.sk-parallel-item:first-child::after {align-self: flex-end;width: 50%;}#sk-container-id-9 div.sk-parallel-item:last-child::after {align-self: flex-start;width: 50%;}#sk-container-id-9 div.sk-parallel-item:only-child::after {width: 0;}#sk-container-id-9 div.sk-dashed-wrapped {border: 1px dashed gray;margin: 0 0.4em 0.5em 0.4em;box-sizing: border-box;padding-bottom: 0.4em;background-color: white;}#sk-container-id-9 div.sk-label label {font-family: monospace;font-weight: bold;display: inline-block;line-height: 1.2em;}#sk-container-id-9 div.sk-label-container {text-align: center;}#sk-container-id-9 div.sk-container {/* jupyter's `normalize.less` sets `[hidden] { display: none; }` but bootstrap.min.css set `[hidden] { display: none !important; }` so we also need the `!important` here to be able to override the default hidden behavior on the sphinx rendered scikit-learn.org. See: https://github.com/scikit-learn/scikit-learn/issues/21755 */display: inline-block !important;position: relative;}#sk-container-id-9 div.sk-text-repr-fallback {display: none;}</style><div id=\"sk-container-id-9\" class=\"sk-top-container\"><div class=\"sk-text-repr-fallback\"><pre>Pipeline(steps=[(&#x27;preprocess&#x27;,\n",
              "                 Pipeline(steps=[(&#x27;coltransformer&#x27;,\n",
              "                                  ColTransformer(columns_list=[&#x27;Month&#x27;,\n",
              "                                                               &#x27;OperatingSystems&#x27;,\n",
              "                                                               &#x27;Browser&#x27;,\n",
              "                                                               &#x27;Region&#x27;,\n",
              "                                                               &#x27;TrafficType&#x27;],\n",
              "                                                 default=0,\n",
              "                                                 num_top_values_list=[10, 5, 8,\n",
              "                                                                      9, 11])),\n",
              "                                 (&#x27;columntransformer&#x27;,\n",
              "                                  ColumnTransformer(transformers=[(&#x27;pipeline-1&#x27;,\n",
              "                                                                   Pipeline(steps=[(&#x27;simpleimputer&#x27;,\n",
              "                                                                                    SimpleImputer())]),\n",
              "                                                                   Index([&#x27;Administrative&#x27;, &#x27;Admini...\n",
              "                                                                                    OneHotEncoder(handle_unknown=&#x27;ignore&#x27;))]),\n",
              "                                                                   Index([&#x27;Month&#x27;, &#x27;OperatingSystems&#x27;, &#x27;Browser&#x27;, &#x27;Region&#x27;, &#x27;TrafficType&#x27;,\n",
              "       &#x27;VisitorType&#x27;, &#x27;Weekend&#x27;],\n",
              "      dtype=&#x27;object&#x27;))])),\n",
              "                                 (&#x27;standardscaler&#x27;,\n",
              "                                  StandardScaler(with_mean=False))])),\n",
              "                (&#x27;selectkbest&#x27;,\n",
              "                 SelectKBest(score_func=&lt;function chi2 at 0x000002C15E037910&gt;)),\n",
              "                (&#x27;decisiontree&#x27;,\n",
              "                 DecisionTreeClassifier(max_depth=10, random_state=0))])</pre><b>In a Jupyter environment, please rerun this cell to show the HTML representation or trust the notebook. <br />On GitHub, the HTML representation is unable to render, please try loading this page with nbviewer.org.</b></div><div class=\"sk-container\" hidden><div class=\"sk-item sk-dashed-wrapped\"><div class=\"sk-label-container\"><div class=\"sk-label sk-toggleable\"><input class=\"sk-toggleable__control sk-hidden--visually\" id=\"sk-estimator-id-94\" type=\"checkbox\" ><label for=\"sk-estimator-id-94\" class=\"sk-toggleable__label sk-toggleable__label-arrow\">Pipeline</label><div class=\"sk-toggleable__content\"><pre>Pipeline(steps=[(&#x27;preprocess&#x27;,\n",
              "                 Pipeline(steps=[(&#x27;coltransformer&#x27;,\n",
              "                                  ColTransformer(columns_list=[&#x27;Month&#x27;,\n",
              "                                                               &#x27;OperatingSystems&#x27;,\n",
              "                                                               &#x27;Browser&#x27;,\n",
              "                                                               &#x27;Region&#x27;,\n",
              "                                                               &#x27;TrafficType&#x27;],\n",
              "                                                 default=0,\n",
              "                                                 num_top_values_list=[10, 5, 8,\n",
              "                                                                      9, 11])),\n",
              "                                 (&#x27;columntransformer&#x27;,\n",
              "                                  ColumnTransformer(transformers=[(&#x27;pipeline-1&#x27;,\n",
              "                                                                   Pipeline(steps=[(&#x27;simpleimputer&#x27;,\n",
              "                                                                                    SimpleImputer())]),\n",
              "                                                                   Index([&#x27;Administrative&#x27;, &#x27;Admini...\n",
              "                                                                                    OneHotEncoder(handle_unknown=&#x27;ignore&#x27;))]),\n",
              "                                                                   Index([&#x27;Month&#x27;, &#x27;OperatingSystems&#x27;, &#x27;Browser&#x27;, &#x27;Region&#x27;, &#x27;TrafficType&#x27;,\n",
              "       &#x27;VisitorType&#x27;, &#x27;Weekend&#x27;],\n",
              "      dtype=&#x27;object&#x27;))])),\n",
              "                                 (&#x27;standardscaler&#x27;,\n",
              "                                  StandardScaler(with_mean=False))])),\n",
              "                (&#x27;selectkbest&#x27;,\n",
              "                 SelectKBest(score_func=&lt;function chi2 at 0x000002C15E037910&gt;)),\n",
              "                (&#x27;decisiontree&#x27;,\n",
              "                 DecisionTreeClassifier(max_depth=10, random_state=0))])</pre></div></div></div><div class=\"sk-serial\"><div class=\"sk-item\"><div class=\"sk-label-container\"><div class=\"sk-label sk-toggleable\"><input class=\"sk-toggleable__control sk-hidden--visually\" id=\"sk-estimator-id-95\" type=\"checkbox\" ><label for=\"sk-estimator-id-95\" class=\"sk-toggleable__label sk-toggleable__label-arrow\">preprocess: Pipeline</label><div class=\"sk-toggleable__content\"><pre>Pipeline(steps=[(&#x27;coltransformer&#x27;,\n",
              "                 ColTransformer(columns_list=[&#x27;Month&#x27;, &#x27;OperatingSystems&#x27;,\n",
              "                                              &#x27;Browser&#x27;, &#x27;Region&#x27;,\n",
              "                                              &#x27;TrafficType&#x27;],\n",
              "                                default=0,\n",
              "                                num_top_values_list=[10, 5, 8, 9, 11])),\n",
              "                (&#x27;columntransformer&#x27;,\n",
              "                 ColumnTransformer(transformers=[(&#x27;pipeline-1&#x27;,\n",
              "                                                  Pipeline(steps=[(&#x27;simpleimputer&#x27;,\n",
              "                                                                   SimpleImputer())]),\n",
              "                                                  Index([&#x27;Administrative&#x27;, &#x27;Administrative_Duration&#x27;, &#x27;Informatio...\n",
              "       &#x27;BounceRates&#x27;, &#x27;ExitRates&#x27;, &#x27;PageValues&#x27;, &#x27;SpecialDay&#x27;],\n",
              "      dtype=&#x27;object&#x27;)),\n",
              "                                                 (&#x27;pipeline-2&#x27;,\n",
              "                                                  Pipeline(steps=[(&#x27;simpleimputer&#x27;,\n",
              "                                                                   SimpleImputer(strategy=&#x27;most_frequent&#x27;)),\n",
              "                                                                  (&#x27;onehotencoder&#x27;,\n",
              "                                                                   OneHotEncoder(handle_unknown=&#x27;ignore&#x27;))]),\n",
              "                                                  Index([&#x27;Month&#x27;, &#x27;OperatingSystems&#x27;, &#x27;Browser&#x27;, &#x27;Region&#x27;, &#x27;TrafficType&#x27;,\n",
              "       &#x27;VisitorType&#x27;, &#x27;Weekend&#x27;],\n",
              "      dtype=&#x27;object&#x27;))])),\n",
              "                (&#x27;standardscaler&#x27;, StandardScaler(with_mean=False))])</pre></div></div></div><div class=\"sk-serial\"><div class=\"sk-item\"><div class=\"sk-estimator sk-toggleable\"><input class=\"sk-toggleable__control sk-hidden--visually\" id=\"sk-estimator-id-96\" type=\"checkbox\" ><label for=\"sk-estimator-id-96\" class=\"sk-toggleable__label sk-toggleable__label-arrow\">ColTransformer</label><div class=\"sk-toggleable__content\"><pre>ColTransformer(columns_list=[&#x27;Month&#x27;, &#x27;OperatingSystems&#x27;, &#x27;Browser&#x27;, &#x27;Region&#x27;,\n",
              "                             &#x27;TrafficType&#x27;],\n",
              "               default=0, num_top_values_list=[10, 5, 8, 9, 11])</pre></div></div></div><div class=\"sk-item sk-dashed-wrapped\"><div class=\"sk-label-container\"><div class=\"sk-label sk-toggleable\"><input class=\"sk-toggleable__control sk-hidden--visually\" id=\"sk-estimator-id-97\" type=\"checkbox\" ><label for=\"sk-estimator-id-97\" class=\"sk-toggleable__label sk-toggleable__label-arrow\">columntransformer: ColumnTransformer</label><div class=\"sk-toggleable__content\"><pre>ColumnTransformer(transformers=[(&#x27;pipeline-1&#x27;,\n",
              "                                 Pipeline(steps=[(&#x27;simpleimputer&#x27;,\n",
              "                                                  SimpleImputer())]),\n",
              "                                 Index([&#x27;Administrative&#x27;, &#x27;Administrative_Duration&#x27;, &#x27;Informational&#x27;,\n",
              "       &#x27;Informational_Duration&#x27;, &#x27;ProductRelated&#x27;, &#x27;ProductRelated_Duration&#x27;,\n",
              "       &#x27;BounceRates&#x27;, &#x27;ExitRates&#x27;, &#x27;PageValues&#x27;, &#x27;SpecialDay&#x27;],\n",
              "      dtype=&#x27;object&#x27;)),\n",
              "                                (&#x27;pipeline-2&#x27;,\n",
              "                                 Pipeline(steps=[(&#x27;simpleimputer&#x27;,\n",
              "                                                  SimpleImputer(strategy=&#x27;most_frequent&#x27;)),\n",
              "                                                 (&#x27;onehotencoder&#x27;,\n",
              "                                                  OneHotEncoder(handle_unknown=&#x27;ignore&#x27;))]),\n",
              "                                 Index([&#x27;Month&#x27;, &#x27;OperatingSystems&#x27;, &#x27;Browser&#x27;, &#x27;Region&#x27;, &#x27;TrafficType&#x27;,\n",
              "       &#x27;VisitorType&#x27;, &#x27;Weekend&#x27;],\n",
              "      dtype=&#x27;object&#x27;))])</pre></div></div></div><div class=\"sk-parallel\"><div class=\"sk-parallel-item\"><div class=\"sk-item\"><div class=\"sk-label-container\"><div class=\"sk-label sk-toggleable\"><input class=\"sk-toggleable__control sk-hidden--visually\" id=\"sk-estimator-id-98\" type=\"checkbox\" ><label for=\"sk-estimator-id-98\" class=\"sk-toggleable__label sk-toggleable__label-arrow\">pipeline-1</label><div class=\"sk-toggleable__content\"><pre>Index([&#x27;Administrative&#x27;, &#x27;Administrative_Duration&#x27;, &#x27;Informational&#x27;,\n",
              "       &#x27;Informational_Duration&#x27;, &#x27;ProductRelated&#x27;, &#x27;ProductRelated_Duration&#x27;,\n",
              "       &#x27;BounceRates&#x27;, &#x27;ExitRates&#x27;, &#x27;PageValues&#x27;, &#x27;SpecialDay&#x27;],\n",
              "      dtype=&#x27;object&#x27;)</pre></div></div></div><div class=\"sk-serial\"><div class=\"sk-item\"><div class=\"sk-serial\"><div class=\"sk-item\"><div class=\"sk-estimator sk-toggleable\"><input class=\"sk-toggleable__control sk-hidden--visually\" id=\"sk-estimator-id-99\" type=\"checkbox\" ><label for=\"sk-estimator-id-99\" class=\"sk-toggleable__label sk-toggleable__label-arrow\">SimpleImputer</label><div class=\"sk-toggleable__content\"><pre>SimpleImputer()</pre></div></div></div></div></div></div></div></div><div class=\"sk-parallel-item\"><div class=\"sk-item\"><div class=\"sk-label-container\"><div class=\"sk-label sk-toggleable\"><input class=\"sk-toggleable__control sk-hidden--visually\" id=\"sk-estimator-id-100\" type=\"checkbox\" ><label for=\"sk-estimator-id-100\" class=\"sk-toggleable__label sk-toggleable__label-arrow\">pipeline-2</label><div class=\"sk-toggleable__content\"><pre>Index([&#x27;Month&#x27;, &#x27;OperatingSystems&#x27;, &#x27;Browser&#x27;, &#x27;Region&#x27;, &#x27;TrafficType&#x27;,\n",
              "       &#x27;VisitorType&#x27;, &#x27;Weekend&#x27;],\n",
              "      dtype=&#x27;object&#x27;)</pre></div></div></div><div class=\"sk-serial\"><div class=\"sk-item\"><div class=\"sk-serial\"><div class=\"sk-item\"><div class=\"sk-estimator sk-toggleable\"><input class=\"sk-toggleable__control sk-hidden--visually\" id=\"sk-estimator-id-101\" type=\"checkbox\" ><label for=\"sk-estimator-id-101\" class=\"sk-toggleable__label sk-toggleable__label-arrow\">SimpleImputer</label><div class=\"sk-toggleable__content\"><pre>SimpleImputer(strategy=&#x27;most_frequent&#x27;)</pre></div></div></div><div class=\"sk-item\"><div class=\"sk-estimator sk-toggleable\"><input class=\"sk-toggleable__control sk-hidden--visually\" id=\"sk-estimator-id-102\" type=\"checkbox\" ><label for=\"sk-estimator-id-102\" class=\"sk-toggleable__label sk-toggleable__label-arrow\">OneHotEncoder</label><div class=\"sk-toggleable__content\"><pre>OneHotEncoder(handle_unknown=&#x27;ignore&#x27;)</pre></div></div></div></div></div></div></div></div></div></div><div class=\"sk-item\"><div class=\"sk-estimator sk-toggleable\"><input class=\"sk-toggleable__control sk-hidden--visually\" id=\"sk-estimator-id-103\" type=\"checkbox\" ><label for=\"sk-estimator-id-103\" class=\"sk-toggleable__label sk-toggleable__label-arrow\">StandardScaler</label><div class=\"sk-toggleable__content\"><pre>StandardScaler(with_mean=False)</pre></div></div></div></div></div><div class=\"sk-item\"><div class=\"sk-estimator sk-toggleable\"><input class=\"sk-toggleable__control sk-hidden--visually\" id=\"sk-estimator-id-104\" type=\"checkbox\" ><label for=\"sk-estimator-id-104\" class=\"sk-toggleable__label sk-toggleable__label-arrow\">SelectKBest</label><div class=\"sk-toggleable__content\"><pre>SelectKBest(score_func=&lt;function chi2 at 0x000002C15E037910&gt;)</pre></div></div></div><div class=\"sk-item\"><div class=\"sk-estimator sk-toggleable\"><input class=\"sk-toggleable__control sk-hidden--visually\" id=\"sk-estimator-id-105\" type=\"checkbox\" ><label for=\"sk-estimator-id-105\" class=\"sk-toggleable__label sk-toggleable__label-arrow\">DecisionTreeClassifier</label><div class=\"sk-toggleable__content\"><pre>DecisionTreeClassifier(max_depth=10, random_state=0)</pre></div></div></div></div></div></div></div>"
            ],
            "text/plain": [
              "Pipeline(steps=[('preprocess',\n",
              "                 Pipeline(steps=[('coltransformer',\n",
              "                                  ColTransformer(columns_list=['Month',\n",
              "                                                               'OperatingSystems',\n",
              "                                                               'Browser',\n",
              "                                                               'Region',\n",
              "                                                               'TrafficType'],\n",
              "                                                 default=0,\n",
              "                                                 num_top_values_list=[10, 5, 8,\n",
              "                                                                      9, 11])),\n",
              "                                 ('columntransformer',\n",
              "                                  ColumnTransformer(transformers=[('pipeline-1',\n",
              "                                                                   Pipeline(steps=[('simpleimputer',\n",
              "                                                                                    SimpleImputer())]),\n",
              "                                                                   Index(['Administrative', 'Admini...\n",
              "                                                                                    OneHotEncoder(handle_unknown='ignore'))]),\n",
              "                                                                   Index(['Month', 'OperatingSystems', 'Browser', 'Region', 'TrafficType',\n",
              "       'VisitorType', 'Weekend'],\n",
              "      dtype='object'))])),\n",
              "                                 ('standardscaler',\n",
              "                                  StandardScaler(with_mean=False))])),\n",
              "                ('selectkbest',\n",
              "                 SelectKBest(score_func=<function chi2 at 0x000002C15E037910>)),\n",
              "                ('decisiontree',\n",
              "                 DecisionTreeClassifier(max_depth=10, random_state=0))])"
            ]
          },
          "execution_count": 100,
          "metadata": {},
          "output_type": "execute_result"
        }
      ],
      "source": [
        "tree_pipeline = Pipeline(steps=[\n",
        "    ('preprocess', preprocess_pipeline),\n",
        "    ('selectkbest', SelectKBest(chi2, k=10)),\n",
        "    ('decisiontree', DecisionTreeClassifier(random_state=0, max_depth=10))\n",
        "])\n",
        "tree_pipeline"
      ]
    },
    {
      "cell_type": "code",
      "execution_count": 101,
      "metadata": {},
      "outputs": [
        {
          "name": "stdout",
          "output_type": "stream",
          "text": [
            "Train accuracy: 95.86176854944097, Validation accuracy: 90.44117647058823\n"
          ]
        }
      ],
      "source": [
        "tree_pipeline.fit(train_X_df, train_y_sr)\n",
        "val_score = tree_pipeline.score(val_X_df, val_y_sr)*100\n",
        "train_score = tree_pipeline.score(train_X_df, train_y_sr)*100\n",
        "print(f'Train accuracy: {train_score}, Validation accuracy: {val_score}')"
      ]
    },
    {
      "attachments": {},
      "cell_type": "markdown",
      "metadata": {},
      "source": [
        "From the defined parameters of decision model, which including `max_depth` is 10 and `number of k feautre kept` is 7, we receive ACCURACY is **96%** for train and **90%** for validation, which is quite overfit on train."
      ]
    },
    {
      "cell_type": "code",
      "execution_count": 102,
      "metadata": {},
      "outputs": [
        {
          "name": "stdout",
          "output_type": "stream",
          "text": [
            "Fitting 5 folds for each of 36 candidates, totalling 180 fits\n"
          ]
        },
        {
          "data": {
            "text/html": [
              "<style>#sk-container-id-10 {color: black;background-color: white;}#sk-container-id-10 pre{padding: 0;}#sk-container-id-10 div.sk-toggleable {background-color: white;}#sk-container-id-10 label.sk-toggleable__label {cursor: pointer;display: block;width: 100%;margin-bottom: 0;padding: 0.3em;box-sizing: border-box;text-align: center;}#sk-container-id-10 label.sk-toggleable__label-arrow:before {content: \"▸\";float: left;margin-right: 0.25em;color: #696969;}#sk-container-id-10 label.sk-toggleable__label-arrow:hover:before {color: black;}#sk-container-id-10 div.sk-estimator:hover label.sk-toggleable__label-arrow:before {color: black;}#sk-container-id-10 div.sk-toggleable__content {max-height: 0;max-width: 0;overflow: hidden;text-align: left;background-color: #f0f8ff;}#sk-container-id-10 div.sk-toggleable__content pre {margin: 0.2em;color: black;border-radius: 0.25em;background-color: #f0f8ff;}#sk-container-id-10 input.sk-toggleable__control:checked~div.sk-toggleable__content {max-height: 200px;max-width: 100%;overflow: auto;}#sk-container-id-10 input.sk-toggleable__control:checked~label.sk-toggleable__label-arrow:before {content: \"▾\";}#sk-container-id-10 div.sk-estimator input.sk-toggleable__control:checked~label.sk-toggleable__label {background-color: #d4ebff;}#sk-container-id-10 div.sk-label input.sk-toggleable__control:checked~label.sk-toggleable__label {background-color: #d4ebff;}#sk-container-id-10 input.sk-hidden--visually {border: 0;clip: rect(1px 1px 1px 1px);clip: rect(1px, 1px, 1px, 1px);height: 1px;margin: -1px;overflow: hidden;padding: 0;position: absolute;width: 1px;}#sk-container-id-10 div.sk-estimator {font-family: monospace;background-color: #f0f8ff;border: 1px dotted black;border-radius: 0.25em;box-sizing: border-box;margin-bottom: 0.5em;}#sk-container-id-10 div.sk-estimator:hover {background-color: #d4ebff;}#sk-container-id-10 div.sk-parallel-item::after {content: \"\";width: 100%;border-bottom: 1px solid gray;flex-grow: 1;}#sk-container-id-10 div.sk-label:hover label.sk-toggleable__label {background-color: #d4ebff;}#sk-container-id-10 div.sk-serial::before {content: \"\";position: absolute;border-left: 1px solid gray;box-sizing: border-box;top: 0;bottom: 0;left: 50%;z-index: 0;}#sk-container-id-10 div.sk-serial {display: flex;flex-direction: column;align-items: center;background-color: white;padding-right: 0.2em;padding-left: 0.2em;position: relative;}#sk-container-id-10 div.sk-item {position: relative;z-index: 1;}#sk-container-id-10 div.sk-parallel {display: flex;align-items: stretch;justify-content: center;background-color: white;position: relative;}#sk-container-id-10 div.sk-item::before, #sk-container-id-10 div.sk-parallel-item::before {content: \"\";position: absolute;border-left: 1px solid gray;box-sizing: border-box;top: 0;bottom: 0;left: 50%;z-index: -1;}#sk-container-id-10 div.sk-parallel-item {display: flex;flex-direction: column;z-index: 1;position: relative;background-color: white;}#sk-container-id-10 div.sk-parallel-item:first-child::after {align-self: flex-end;width: 50%;}#sk-container-id-10 div.sk-parallel-item:last-child::after {align-self: flex-start;width: 50%;}#sk-container-id-10 div.sk-parallel-item:only-child::after {width: 0;}#sk-container-id-10 div.sk-dashed-wrapped {border: 1px dashed gray;margin: 0 0.4em 0.5em 0.4em;box-sizing: border-box;padding-bottom: 0.4em;background-color: white;}#sk-container-id-10 div.sk-label label {font-family: monospace;font-weight: bold;display: inline-block;line-height: 1.2em;}#sk-container-id-10 div.sk-label-container {text-align: center;}#sk-container-id-10 div.sk-container {/* jupyter's `normalize.less` sets `[hidden] { display: none; }` but bootstrap.min.css set `[hidden] { display: none !important; }` so we also need the `!important` here to be able to override the default hidden behavior on the sphinx rendered scikit-learn.org. See: https://github.com/scikit-learn/scikit-learn/issues/21755 */display: inline-block !important;position: relative;}#sk-container-id-10 div.sk-text-repr-fallback {display: none;}</style><div id=\"sk-container-id-10\" class=\"sk-top-container\"><div class=\"sk-text-repr-fallback\"><pre>GridSearchCV(estimator=Pipeline(steps=[(&#x27;preprocess&#x27;,\n",
              "                                        Pipeline(steps=[(&#x27;coltransformer&#x27;,\n",
              "                                                         ColTransformer(columns_list=[&#x27;Month&#x27;,\n",
              "                                                                                      &#x27;OperatingSystems&#x27;,\n",
              "                                                                                      &#x27;Browser&#x27;,\n",
              "                                                                                      &#x27;Region&#x27;,\n",
              "                                                                                      &#x27;TrafficType&#x27;],\n",
              "                                                                        default=0,\n",
              "                                                                        num_top_values_list=[10,\n",
              "                                                                                             5,\n",
              "                                                                                             8,\n",
              "                                                                                             9,\n",
              "                                                                                             11])),\n",
              "                                                        (&#x27;columntransformer&#x27;,\n",
              "                                                         ColumnTransformer(transformers=[(&#x27;pipeline-1&#x27;,\n",
              "                                                                                          Pipeline(steps=[(&#x27;simpleimputer&#x27;,\n",
              "                                                                                                           SimpleImputer())]),\n",
              "                                                                                          Index([&#x27;...\n",
              "       &#x27;VisitorType&#x27;, &#x27;Weekend&#x27;],\n",
              "      dtype=&#x27;object&#x27;))])),\n",
              "                                                        (&#x27;standardscaler&#x27;,\n",
              "                                                         StandardScaler(with_mean=False))])),\n",
              "                                       (&#x27;selectkbest&#x27;,\n",
              "                                        SelectKBest(score_func=&lt;function chi2 at 0x000002C15E037910&gt;)),\n",
              "                                       (&#x27;decisiontree&#x27;,\n",
              "                                        DecisionTreeClassifier(max_depth=10,\n",
              "                                                               random_state=0))]),\n",
              "             param_grid={&#x27;decisiontree__max_depth&#x27;: [5, 8, 10, 12, 15, 17],\n",
              "                         &#x27;decisiontree__min_samples_split&#x27;: [2, 5, 7, 10, 14,\n",
              "                                                             16]},\n",
              "             verbose=True)</pre><b>In a Jupyter environment, please rerun this cell to show the HTML representation or trust the notebook. <br />On GitHub, the HTML representation is unable to render, please try loading this page with nbviewer.org.</b></div><div class=\"sk-container\" hidden><div class=\"sk-item sk-dashed-wrapped\"><div class=\"sk-label-container\"><div class=\"sk-label sk-toggleable\"><input class=\"sk-toggleable__control sk-hidden--visually\" id=\"sk-estimator-id-106\" type=\"checkbox\" ><label for=\"sk-estimator-id-106\" class=\"sk-toggleable__label sk-toggleable__label-arrow\">GridSearchCV</label><div class=\"sk-toggleable__content\"><pre>GridSearchCV(estimator=Pipeline(steps=[(&#x27;preprocess&#x27;,\n",
              "                                        Pipeline(steps=[(&#x27;coltransformer&#x27;,\n",
              "                                                         ColTransformer(columns_list=[&#x27;Month&#x27;,\n",
              "                                                                                      &#x27;OperatingSystems&#x27;,\n",
              "                                                                                      &#x27;Browser&#x27;,\n",
              "                                                                                      &#x27;Region&#x27;,\n",
              "                                                                                      &#x27;TrafficType&#x27;],\n",
              "                                                                        default=0,\n",
              "                                                                        num_top_values_list=[10,\n",
              "                                                                                             5,\n",
              "                                                                                             8,\n",
              "                                                                                             9,\n",
              "                                                                                             11])),\n",
              "                                                        (&#x27;columntransformer&#x27;,\n",
              "                                                         ColumnTransformer(transformers=[(&#x27;pipeline-1&#x27;,\n",
              "                                                                                          Pipeline(steps=[(&#x27;simpleimputer&#x27;,\n",
              "                                                                                                           SimpleImputer())]),\n",
              "                                                                                          Index([&#x27;...\n",
              "       &#x27;VisitorType&#x27;, &#x27;Weekend&#x27;],\n",
              "      dtype=&#x27;object&#x27;))])),\n",
              "                                                        (&#x27;standardscaler&#x27;,\n",
              "                                                         StandardScaler(with_mean=False))])),\n",
              "                                       (&#x27;selectkbest&#x27;,\n",
              "                                        SelectKBest(score_func=&lt;function chi2 at 0x000002C15E037910&gt;)),\n",
              "                                       (&#x27;decisiontree&#x27;,\n",
              "                                        DecisionTreeClassifier(max_depth=10,\n",
              "                                                               random_state=0))]),\n",
              "             param_grid={&#x27;decisiontree__max_depth&#x27;: [5, 8, 10, 12, 15, 17],\n",
              "                         &#x27;decisiontree__min_samples_split&#x27;: [2, 5, 7, 10, 14,\n",
              "                                                             16]},\n",
              "             verbose=True)</pre></div></div></div><div class=\"sk-parallel\"><div class=\"sk-parallel-item\"><div class=\"sk-item\"><div class=\"sk-label-container\"><div class=\"sk-label sk-toggleable\"><input class=\"sk-toggleable__control sk-hidden--visually\" id=\"sk-estimator-id-107\" type=\"checkbox\" ><label for=\"sk-estimator-id-107\" class=\"sk-toggleable__label sk-toggleable__label-arrow\">estimator: Pipeline</label><div class=\"sk-toggleable__content\"><pre>Pipeline(steps=[(&#x27;preprocess&#x27;,\n",
              "                 Pipeline(steps=[(&#x27;coltransformer&#x27;,\n",
              "                                  ColTransformer(columns_list=[&#x27;Month&#x27;,\n",
              "                                                               &#x27;OperatingSystems&#x27;,\n",
              "                                                               &#x27;Browser&#x27;,\n",
              "                                                               &#x27;Region&#x27;,\n",
              "                                                               &#x27;TrafficType&#x27;],\n",
              "                                                 default=0,\n",
              "                                                 num_top_values_list=[10, 5, 8,\n",
              "                                                                      9, 11])),\n",
              "                                 (&#x27;columntransformer&#x27;,\n",
              "                                  ColumnTransformer(transformers=[(&#x27;pipeline-1&#x27;,\n",
              "                                                                   Pipeline(steps=[(&#x27;simpleimputer&#x27;,\n",
              "                                                                                    SimpleImputer())]),\n",
              "                                                                   Index([&#x27;Administrative&#x27;, &#x27;Admini...\n",
              "                                                                                    OneHotEncoder(handle_unknown=&#x27;ignore&#x27;))]),\n",
              "                                                                   Index([&#x27;Month&#x27;, &#x27;OperatingSystems&#x27;, &#x27;Browser&#x27;, &#x27;Region&#x27;, &#x27;TrafficType&#x27;,\n",
              "       &#x27;VisitorType&#x27;, &#x27;Weekend&#x27;],\n",
              "      dtype=&#x27;object&#x27;))])),\n",
              "                                 (&#x27;standardscaler&#x27;,\n",
              "                                  StandardScaler(with_mean=False))])),\n",
              "                (&#x27;selectkbest&#x27;,\n",
              "                 SelectKBest(score_func=&lt;function chi2 at 0x000002C15E037910&gt;)),\n",
              "                (&#x27;decisiontree&#x27;,\n",
              "                 DecisionTreeClassifier(max_depth=10, random_state=0))])</pre></div></div></div><div class=\"sk-serial\"><div class=\"sk-item\"><div class=\"sk-serial\"><div class=\"sk-item\"><div class=\"sk-label-container\"><div class=\"sk-label sk-toggleable\"><input class=\"sk-toggleable__control sk-hidden--visually\" id=\"sk-estimator-id-108\" type=\"checkbox\" ><label for=\"sk-estimator-id-108\" class=\"sk-toggleable__label sk-toggleable__label-arrow\">preprocess: Pipeline</label><div class=\"sk-toggleable__content\"><pre>Pipeline(steps=[(&#x27;coltransformer&#x27;,\n",
              "                 ColTransformer(columns_list=[&#x27;Month&#x27;, &#x27;OperatingSystems&#x27;,\n",
              "                                              &#x27;Browser&#x27;, &#x27;Region&#x27;,\n",
              "                                              &#x27;TrafficType&#x27;],\n",
              "                                default=0,\n",
              "                                num_top_values_list=[10, 5, 8, 9, 11])),\n",
              "                (&#x27;columntransformer&#x27;,\n",
              "                 ColumnTransformer(transformers=[(&#x27;pipeline-1&#x27;,\n",
              "                                                  Pipeline(steps=[(&#x27;simpleimputer&#x27;,\n",
              "                                                                   SimpleImputer())]),\n",
              "                                                  Index([&#x27;Administrative&#x27;, &#x27;Administrative_Duration&#x27;, &#x27;Informatio...\n",
              "       &#x27;BounceRates&#x27;, &#x27;ExitRates&#x27;, &#x27;PageValues&#x27;, &#x27;SpecialDay&#x27;],\n",
              "      dtype=&#x27;object&#x27;)),\n",
              "                                                 (&#x27;pipeline-2&#x27;,\n",
              "                                                  Pipeline(steps=[(&#x27;simpleimputer&#x27;,\n",
              "                                                                   SimpleImputer(strategy=&#x27;most_frequent&#x27;)),\n",
              "                                                                  (&#x27;onehotencoder&#x27;,\n",
              "                                                                   OneHotEncoder(handle_unknown=&#x27;ignore&#x27;))]),\n",
              "                                                  Index([&#x27;Month&#x27;, &#x27;OperatingSystems&#x27;, &#x27;Browser&#x27;, &#x27;Region&#x27;, &#x27;TrafficType&#x27;,\n",
              "       &#x27;VisitorType&#x27;, &#x27;Weekend&#x27;],\n",
              "      dtype=&#x27;object&#x27;))])),\n",
              "                (&#x27;standardscaler&#x27;, StandardScaler(with_mean=False))])</pre></div></div></div><div class=\"sk-serial\"><div class=\"sk-item\"><div class=\"sk-estimator sk-toggleable\"><input class=\"sk-toggleable__control sk-hidden--visually\" id=\"sk-estimator-id-109\" type=\"checkbox\" ><label for=\"sk-estimator-id-109\" class=\"sk-toggleable__label sk-toggleable__label-arrow\">ColTransformer</label><div class=\"sk-toggleable__content\"><pre>ColTransformer(columns_list=[&#x27;Month&#x27;, &#x27;OperatingSystems&#x27;, &#x27;Browser&#x27;, &#x27;Region&#x27;,\n",
              "                             &#x27;TrafficType&#x27;],\n",
              "               default=0, num_top_values_list=[10, 5, 8, 9, 11])</pre></div></div></div><div class=\"sk-item sk-dashed-wrapped\"><div class=\"sk-label-container\"><div class=\"sk-label sk-toggleable\"><input class=\"sk-toggleable__control sk-hidden--visually\" id=\"sk-estimator-id-110\" type=\"checkbox\" ><label for=\"sk-estimator-id-110\" class=\"sk-toggleable__label sk-toggleable__label-arrow\">columntransformer: ColumnTransformer</label><div class=\"sk-toggleable__content\"><pre>ColumnTransformer(transformers=[(&#x27;pipeline-1&#x27;,\n",
              "                                 Pipeline(steps=[(&#x27;simpleimputer&#x27;,\n",
              "                                                  SimpleImputer())]),\n",
              "                                 Index([&#x27;Administrative&#x27;, &#x27;Administrative_Duration&#x27;, &#x27;Informational&#x27;,\n",
              "       &#x27;Informational_Duration&#x27;, &#x27;ProductRelated&#x27;, &#x27;ProductRelated_Duration&#x27;,\n",
              "       &#x27;BounceRates&#x27;, &#x27;ExitRates&#x27;, &#x27;PageValues&#x27;, &#x27;SpecialDay&#x27;],\n",
              "      dtype=&#x27;object&#x27;)),\n",
              "                                (&#x27;pipeline-2&#x27;,\n",
              "                                 Pipeline(steps=[(&#x27;simpleimputer&#x27;,\n",
              "                                                  SimpleImputer(strategy=&#x27;most_frequent&#x27;)),\n",
              "                                                 (&#x27;onehotencoder&#x27;,\n",
              "                                                  OneHotEncoder(handle_unknown=&#x27;ignore&#x27;))]),\n",
              "                                 Index([&#x27;Month&#x27;, &#x27;OperatingSystems&#x27;, &#x27;Browser&#x27;, &#x27;Region&#x27;, &#x27;TrafficType&#x27;,\n",
              "       &#x27;VisitorType&#x27;, &#x27;Weekend&#x27;],\n",
              "      dtype=&#x27;object&#x27;))])</pre></div></div></div><div class=\"sk-parallel\"><div class=\"sk-parallel-item\"><div class=\"sk-item\"><div class=\"sk-label-container\"><div class=\"sk-label sk-toggleable\"><input class=\"sk-toggleable__control sk-hidden--visually\" id=\"sk-estimator-id-111\" type=\"checkbox\" ><label for=\"sk-estimator-id-111\" class=\"sk-toggleable__label sk-toggleable__label-arrow\">pipeline-1</label><div class=\"sk-toggleable__content\"><pre>Index([&#x27;Administrative&#x27;, &#x27;Administrative_Duration&#x27;, &#x27;Informational&#x27;,\n",
              "       &#x27;Informational_Duration&#x27;, &#x27;ProductRelated&#x27;, &#x27;ProductRelated_Duration&#x27;,\n",
              "       &#x27;BounceRates&#x27;, &#x27;ExitRates&#x27;, &#x27;PageValues&#x27;, &#x27;SpecialDay&#x27;],\n",
              "      dtype=&#x27;object&#x27;)</pre></div></div></div><div class=\"sk-serial\"><div class=\"sk-item\"><div class=\"sk-serial\"><div class=\"sk-item\"><div class=\"sk-estimator sk-toggleable\"><input class=\"sk-toggleable__control sk-hidden--visually\" id=\"sk-estimator-id-112\" type=\"checkbox\" ><label for=\"sk-estimator-id-112\" class=\"sk-toggleable__label sk-toggleable__label-arrow\">SimpleImputer</label><div class=\"sk-toggleable__content\"><pre>SimpleImputer()</pre></div></div></div></div></div></div></div></div><div class=\"sk-parallel-item\"><div class=\"sk-item\"><div class=\"sk-label-container\"><div class=\"sk-label sk-toggleable\"><input class=\"sk-toggleable__control sk-hidden--visually\" id=\"sk-estimator-id-113\" type=\"checkbox\" ><label for=\"sk-estimator-id-113\" class=\"sk-toggleable__label sk-toggleable__label-arrow\">pipeline-2</label><div class=\"sk-toggleable__content\"><pre>Index([&#x27;Month&#x27;, &#x27;OperatingSystems&#x27;, &#x27;Browser&#x27;, &#x27;Region&#x27;, &#x27;TrafficType&#x27;,\n",
              "       &#x27;VisitorType&#x27;, &#x27;Weekend&#x27;],\n",
              "      dtype=&#x27;object&#x27;)</pre></div></div></div><div class=\"sk-serial\"><div class=\"sk-item\"><div class=\"sk-serial\"><div class=\"sk-item\"><div class=\"sk-estimator sk-toggleable\"><input class=\"sk-toggleable__control sk-hidden--visually\" id=\"sk-estimator-id-114\" type=\"checkbox\" ><label for=\"sk-estimator-id-114\" class=\"sk-toggleable__label sk-toggleable__label-arrow\">SimpleImputer</label><div class=\"sk-toggleable__content\"><pre>SimpleImputer(strategy=&#x27;most_frequent&#x27;)</pre></div></div></div><div class=\"sk-item\"><div class=\"sk-estimator sk-toggleable\"><input class=\"sk-toggleable__control sk-hidden--visually\" id=\"sk-estimator-id-115\" type=\"checkbox\" ><label for=\"sk-estimator-id-115\" class=\"sk-toggleable__label sk-toggleable__label-arrow\">OneHotEncoder</label><div class=\"sk-toggleable__content\"><pre>OneHotEncoder(handle_unknown=&#x27;ignore&#x27;)</pre></div></div></div></div></div></div></div></div></div></div><div class=\"sk-item\"><div class=\"sk-estimator sk-toggleable\"><input class=\"sk-toggleable__control sk-hidden--visually\" id=\"sk-estimator-id-116\" type=\"checkbox\" ><label for=\"sk-estimator-id-116\" class=\"sk-toggleable__label sk-toggleable__label-arrow\">StandardScaler</label><div class=\"sk-toggleable__content\"><pre>StandardScaler(with_mean=False)</pre></div></div></div></div></div><div class=\"sk-item\"><div class=\"sk-estimator sk-toggleable\"><input class=\"sk-toggleable__control sk-hidden--visually\" id=\"sk-estimator-id-117\" type=\"checkbox\" ><label for=\"sk-estimator-id-117\" class=\"sk-toggleable__label sk-toggleable__label-arrow\">SelectKBest</label><div class=\"sk-toggleable__content\"><pre>SelectKBest(score_func=&lt;function chi2 at 0x000002C15E037910&gt;)</pre></div></div></div><div class=\"sk-item\"><div class=\"sk-estimator sk-toggleable\"><input class=\"sk-toggleable__control sk-hidden--visually\" id=\"sk-estimator-id-118\" type=\"checkbox\" ><label for=\"sk-estimator-id-118\" class=\"sk-toggleable__label sk-toggleable__label-arrow\">DecisionTreeClassifier</label><div class=\"sk-toggleable__content\"><pre>DecisionTreeClassifier(max_depth=10, random_state=0)</pre></div></div></div></div></div></div></div></div></div></div></div></div>"
            ],
            "text/plain": [
              "GridSearchCV(estimator=Pipeline(steps=[('preprocess',\n",
              "                                        Pipeline(steps=[('coltransformer',\n",
              "                                                         ColTransformer(columns_list=['Month',\n",
              "                                                                                      'OperatingSystems',\n",
              "                                                                                      'Browser',\n",
              "                                                                                      'Region',\n",
              "                                                                                      'TrafficType'],\n",
              "                                                                        default=0,\n",
              "                                                                        num_top_values_list=[10,\n",
              "                                                                                             5,\n",
              "                                                                                             8,\n",
              "                                                                                             9,\n",
              "                                                                                             11])),\n",
              "                                                        ('columntransformer',\n",
              "                                                         ColumnTransformer(transformers=[('pipeline-1',\n",
              "                                                                                          Pipeline(steps=[('simpleimputer',\n",
              "                                                                                                           SimpleImputer())]),\n",
              "                                                                                          Index(['...\n",
              "       'VisitorType', 'Weekend'],\n",
              "      dtype='object'))])),\n",
              "                                                        ('standardscaler',\n",
              "                                                         StandardScaler(with_mean=False))])),\n",
              "                                       ('selectkbest',\n",
              "                                        SelectKBest(score_func=<function chi2 at 0x000002C15E037910>)),\n",
              "                                       ('decisiontree',\n",
              "                                        DecisionTreeClassifier(max_depth=10,\n",
              "                                                               random_state=0))]),\n",
              "             param_grid={'decisiontree__max_depth': [5, 8, 10, 12, 15, 17],\n",
              "                         'decisiontree__min_samples_split': [2, 5, 7, 10, 14,\n",
              "                                                             16]},\n",
              "             verbose=True)"
            ]
          },
          "execution_count": 102,
          "metadata": {},
          "output_type": "execute_result"
        }
      ],
      "source": [
        "optimize_pipeline = Pipeline(steps=[\n",
        "    ('preprocess', preprocess_pipeline),\n",
        "    ('selectkbest', SelectKBest(chi2, k=7)),\n",
        "    ('decisiontree', DecisionTreeClassifier(random_state=0))\n",
        "])\n",
        "\n",
        "param_grid_tree = {'decisiontree__min_samples_split': [2, 5, 7, 10, 14, 16],\n",
        "                'decisiontree__max_depth': [5, 8, 10, 12, 15, 17]}\n",
        "\n",
        "grid_search_tree = GridSearchCV(tree_pipeline, param_grid_tree, verbose=True)\n",
        "grid_search_tree.fit(train_X_df, train_y_sr)"
      ]
    },
    {
      "cell_type": "code",
      "execution_count": 115,
      "metadata": {},
      "outputs": [
        {
          "name": "stdout",
          "output_type": "stream",
          "text": [
            "Traininig accuracy: 91.1427326847684\n",
            "Validation accuracy: 90.52768166089965\n"
          ]
        }
      ],
      "source": [
        "val_score = grid_search_tree.score(val_X_df, val_y_sr)*100\n",
        "train_score = grid_search_tree.score(train_X_df, train_y_sr)*100\n",
        "print(f'Traininig accuracy: {train_score}')\n",
        "print(f'Validation accuracy: {val_score}')"
      ]
    },
    {
      "attachments": {},
      "cell_type": "markdown",
      "metadata": {},
      "source": [
        "After grid searching in the fields of `min sample split` and `max depth`, we figure out the new better ACCURACY was ~ **91%** for **BOTH** train and val, adress the problem of overfit above."
      ]
    },
    {
      "cell_type": "code",
      "execution_count": 104,
      "metadata": {},
      "outputs": [
        {
          "data": {
            "image/png": "[encoded data removed]",
            "text/plain": [
              "<Figure size 720x360 with 2 Axes>"
            ]
          },
          "metadata": {
            "needs_background": "light"
          },
          "output_type": "display_data"
        }
      ],
      "source": [
        "def plot_grid_search_heatmap(grid_search, grid_params, attribute='mean_test_score', title='None'):\n",
        "    scores = np.array(grid_search.cv_results_[attribute]*100).reshape(6,6)\n",
        "    df_heatmap = pd.DataFrame(scores, columns=grid_params[list(grid_params.keys())[0]], index=param_grid_tree[list(param_grid_tree.keys())[1]])\n",
        "    sns.heatmap(df_heatmap, square=True, annot=True, cbar=False, fmt='.2f', cmap='Reds')\n",
        "    plt.title(title)\n",
        "    plt.xlabel(list(grid_params.keys())[0])\n",
        "    plt.ylabel(list(grid_params.keys())[1])\n",
        "\n",
        "plt.figure(figsize=(10, 5))\n",
        "plt.subplot(1, 2, 1) \n",
        "plot_grid_search_heatmap(grid_search_tree, param_grid_tree, title='Accuracies of training set')\n",
        "plt.subplot(1, 2, 2)\n",
        "plot_grid_search_heatmap(grid_search_tree, param_grid_tree, attribute='split0_test_score', title='Accuracies of validation set')"
      ]
    },
    {
      "attachments": {},
      "cell_type": "markdown",
      "metadata": {},
      "source": [
        "After grid searching, we obtain tables heatmap of training and validate accuracies. From the heatmap, it is clear that with the depth of 5 and only 2 for minimum sample split could result in a better accuracy. In which, the train and validate accuracies are quite approximating, the overfit problem has been solved with a final score ~91%. *[6]"
      ]
    },
    {
      "cell_type": "code",
      "execution_count": 105,
      "metadata": {},
      "outputs": [
        {
          "name": "stdout",
          "output_type": "stream",
          "text": [
            "Appying above model for the final test set and we get the accuracy: 87.87%\n"
          ]
        }
      ],
      "source": [
        "test_acc = accuracy_score(grid_search_tree.predict(test_X_df), test_y_sr)*100\n",
        "print(f'Appying above model for the final test set and we get the accuracy: {test_acc.round(2)}%')"
      ]
    },
    {
      "attachments": {},
      "cell_type": "markdown",
      "metadata": {},
      "source": [
        "### Comparing and Recommendation"
      ]
    },
    {
      "attachments": {},
      "cell_type": "markdown",
      "metadata": {},
      "source": [
        "After building up models of classification, using MLBClassifier and DecisionTreeClassifier, we have to conclude that this type of data is more suitable with the later model. Particularly, due to the small number of features and small number of samples, Decision takes less time for modeling the functions although it leads to a nearly same accuracy with MLBClassifier."
      ]
    },
    {
      "cell_type": "code",
      "execution_count": 116,
      "metadata": {},
      "outputs": [
        {
          "name": "stdout",
          "output_type": "stream",
          "text": [
            "The precision of Tree is 38.211 and recall is 70.492\n"
          ]
        }
      ],
      "source": [
        "tree_recall = recall_score(grid_search_tree.predict(test_X_df), test_y_sr)*100\n",
        "tree_precision = average_precision_score(grid_search_tree.predict(test_X_df), test_y_sr)*100\n",
        "print(f'The precision of Tree is {tree_precision.round(3)} and recall is {tree_recall.round(3)}')"
      ]
    },
    {
      "cell_type": "code",
      "execution_count": 107,
      "metadata": {},
      "outputs": [
        {
          "name": "stdout",
          "output_type": "stream",
          "text": [
            "The precision of Tree is 39.896 and recall is 75.072\n"
          ]
        }
      ],
      "source": [
        "mlp_recall = recall_score(grid_search_mlp.predict(test_X_df), test_y_sr)*100\n",
        "mlp_precision = average_precision_score(grid_search_mlp.predict(test_X_df), test_y_sr)*100\n",
        "print(f'The precision of Tree is {mlp_precision.round(3)} and recall is {mlp_recall.round(3)}')"
      ]
    },
    {
      "attachments": {},
      "cell_type": "markdown",
      "metadata": {},
      "source": [
        "In contrast, a model with high precision but low recall produces very few results, yet most of its projected labels match the training labels. A perfect system with great precision and recall will provide a large number of outcomes, all of which will be correctly categorized."
      ]
    },
    {
      "attachments": {},
      "cell_type": "markdown",
      "metadata": {},
      "source": [
        "### 3rd Model: Clustering using K-Means"
      ]
    },
    {
      "attachments": {},
      "cell_type": "markdown",
      "metadata": {},
      "source": [
        "Problem: From here, we will use Clustering model for defined each group of customer segment in particular features *[7][9] <br>\n",
        "With the selected features above, we will handle on `Informational_Duration` and `PageValues`"
      ]
    },
    {
      "cell_type": "code",
      "execution_count": 108,
      "metadata": {},
      "outputs": [
        {
          "data": {
            "text/plain": [
              "<AxesSubplot:xlabel='Informational_Duration', ylabel='PageValues'>"
            ]
          },
          "execution_count": 108,
          "metadata": {},
          "output_type": "execute_result"
        },
        {
          "data": {
            "image/png": "[encoded data removed]",
            "text/plain": [
              "<Figure size 432x288 with 1 Axes>"
            ]
          },
          "metadata": {
            "needs_background": "light"
          },
          "output_type": "display_data"
        }
      ],
      "source": [
        "clustering_features = ['Informational_Duration', 'PageValues']\n",
        "sns.scatterplot(data=train_df, x='Informational_Duration', y='PageValues')"
      ]
    },
    {
      "cell_type": "code",
      "execution_count": 172,
      "metadata": {},
      "outputs": [
        {
          "name": "stdout",
          "output_type": "stream",
          "text": [
            "For n_clusters = 2, and n_init = 2, the average silhouette_score is: 92.82834\n",
            "For n_clusters = 3, and n_init = 2, the average silhouette_score is: 89.40618\n",
            "For n_clusters = 4, and n_init = 8, the average silhouette_score is: 88.24454\n",
            "For n_clusters = 5, and n_init = 2, the average silhouette_score is: 84.76031\n",
            "For n_clusters = 6, and n_init = 4, the average silhouette_score is: 81.35599\n",
            "For n_clusters = 7, and n_init = 2, the average silhouette_score is: 79.76115\n"
          ]
        }
      ],
      "source": [
        "matrix = train_X_df[['Informational_Duration', 'PageValues']].copy()\n",
        "matrix_test = test_X_df[['Informational_Duration', 'PageValues']].copy()\n",
        "test_scores = []\n",
        "train_scores = []\n",
        "clusters_size, init_size = range(2, 8), range(2, 12, 2)\n",
        "for n_clusters in clusters_size:\n",
        "    best_score, best_init = 0 , 0\n",
        "    for n_init in init_size:\n",
        "        kmeans = KMeans(n_clusters = n_clusters, n_init=n_init)\n",
        "        kmeans.fit(matrix)\n",
        "        silhouette_avg = silhouette_score(matrix_test, kmeans.predict(matrix_test))*100\n",
        "        train_avg =  silhouette_score(matrix, kmeans.predict(matrix))*100\n",
        "        test_scores.append(silhouette_avg)\n",
        "        train_scores.append(train_avg)\n",
        "        if (silhouette_avg>best_score):\n",
        "            best_score, best_init = silhouette_avg, n_init\n",
        "    print(f'For n_clusters = {n_clusters}, and n_init = {best_init}, the average silhouette_score is: {round(silhouette_avg, 5)}')"
      ]
    },
    {
      "cell_type": "code",
      "execution_count": 173,
      "metadata": {},
      "outputs": [
        {
          "data": {
            "text/plain": [
              "Text(373.36363636363626, 0.5, 'Number of init')"
            ]
          },
          "execution_count": 173,
          "metadata": {},
          "output_type": "execute_result"
        },
        {
          "data": {
            "image/png": "[encoded data removed]",
            "text/plain": [
              "<Figure size 720x360 with 2 Axes>"
            ]
          },
          "metadata": {
            "needs_background": "light"
          },
          "output_type": "display_data"
        }
      ],
      "source": [
        "plt.figure(figsize=(10, 5))\n",
        "plt.subplot(1, 2, 1) \n",
        "scores = np.array(train_scores).reshape(len(init_size), len(clusters_size))\n",
        "df_heatmap = pd.DataFrame(scores, columns=clusters_size, index=init_size)\n",
        "sns.heatmap(df_heatmap, square=True, annot=True, cbar=False, fmt='.2f', cmap='viridis')\n",
        "plt.title('Accuracies of Train')\n",
        "plt.xlabel('Number of cluster')\n",
        "plt.ylabel('Number of init')\n",
        "\n",
        "plt.subplot(1, 2, 2) \n",
        "scores = np.array(test_scores).reshape(len(init_size), len(clusters_size))\n",
        "df_heatmap = pd.DataFrame(scores, columns=clusters_size, index=init_size)\n",
        "sns.heatmap(df_heatmap, square=True, annot=True, cbar=False, fmt='.2f', cmap='viridis')\n",
        "plt.title('Accuracies of Test')\n",
        "plt.xlabel('Number of cluster')\n",
        "plt.ylabel('Number of init')"
      ]
    },
    {
      "attachments": {},
      "cell_type": "markdown",
      "metadata": {},
      "source": [
        "The higher average silhouette_score, the more efficient clustering. To verify this, we create the scatter plot showing labelled data points*[8]"
      ]
    },
    {
      "cell_type": "code",
      "execution_count": 174,
      "metadata": {},
      "outputs": [
        {
          "data": {
            "text/plain": [
              "<AxesSubplot:xlabel='Informational_Duration', ylabel='PageValues'>"
            ]
          },
          "execution_count": 174,
          "metadata": {},
          "output_type": "execute_result"
        },
        {
          "data": {
            "image/png": "[encoded data removed]",
            "text/plain": [
              "<Figure size 432x288 with 1 Axes>"
            ]
          },
          "metadata": {
            "needs_background": "light"
          },
          "output_type": "display_data"
        }
      ],
      "source": [
        "kmeans = KMeans(n_clusters=2, n_init=2)\n",
        "kmeans.fit(matrix)\n",
        "label = kmeans.predict(matrix)\n",
        "label = ['Group 2' if val==1 else 'Group 1' for val in label]\n",
        "sns.scatterplot(data=matrix, x='Informational_Duration', y='PageValues', hue=label)"
      ]
    },
    {
      "attachments": {},
      "cell_type": "markdown",
      "metadata": {},
      "source": [
        "### 4th Model: Clustering using Hierarchical"
      ]
    },
    {
      "cell_type": "code",
      "execution_count": 190,
      "metadata": {},
      "outputs": [
        {
          "name": "stdout",
          "output_type": "stream",
          "text": [
            "For n_clusters = 2, the average silhouette_score is : 0.94\n",
            "For n_clusters = 3, the average silhouette_score is : 0.885\n",
            "For n_clusters = 4, the average silhouette_score is : 0.887\n",
            "For n_clusters = 5, the average silhouette_score is : 0.822\n",
            "For n_clusters = 6, the average silhouette_score is : 0.826\n",
            "For n_clusters = 7, the average silhouette_score is : 0.827\n"
          ]
        }
      ],
      "source": [
        "matrix = train_X_df[['Informational_Duration', 'PageValues']].copy()\n",
        "for n_clusters in range(2,8):\n",
        "    model = AgglomerativeClustering(n_clusters = n_clusters)\n",
        "    clusters = model.fit_predict(matrix)\n",
        "    silhouette_avg = silhouette_score(matrix, clusters)*100\n",
        "    print(f'For n_clusters = {n_clusters}, the average silhouette_score is : {silhouette_avg.round(3)}')"
      ]
    },
    {
      "attachments": {},
      "cell_type": "markdown",
      "metadata": {},
      "source": [
        "The highest score is at n_clusters = 2 too, we need to visualize so as to have a better view"
      ]
    },
    {
      "cell_type": "code",
      "execution_count": 112,
      "metadata": {},
      "outputs": [
        {
          "data": {
            "text/plain": [
              "<AxesSubplot:xlabel='Informational_Duration', ylabel='PageValues'>"
            ]
          },
          "execution_count": 112,
          "metadata": {},
          "output_type": "execute_result"
        },
        {
          "data": {
            "image/png": "[encoded data removed]",
            "text/plain": [
              "<Figure size 432x288 with 1 Axes>"
            ]
          },
          "metadata": {
            "needs_background": "light"
          },
          "output_type": "display_data"
        }
      ],
      "source": [
        "model = AgglomerativeClustering(n_clusters=2)\n",
        "label = model.fit_predict(matrix)\n",
        "label = ['Group 2' if val==1 else 'Group 1' for val in label]\n",
        "sns.scatterplot(data=matrix, x='Informational_Duration', y='PageValues', hue=label)"
      ]
    },
    {
      "attachments": {},
      "cell_type": "markdown",
      "metadata": {},
      "source": [
        "It can be seen clearly in the above 2 figures that each cluster is well apart from each other. There are 2 main customer segments in this part:\n",
        "- First one is the customers who have less belief in the Information Page and have a tendency to research more information about the products but finally lead to the not to buy answer. \n",
        "\n",
        "- Instead of that, the part of users who tend to stay in the shopping website after it is derived from the Information page, have more of their belief in the products and tend to pay for it."
      ]
    },
    {
      "attachments": {},
      "cell_type": "markdown",
      "metadata": {},
      "source": [
        "### Comparision and Recommendation"
      ]
    },
    {
      "attachments": {},
      "cell_type": "markdown",
      "metadata": {},
      "source": [
        "Overall, it can be seen clearly in the above 2 figures that each cluster is well apart from each other. There are 2 main customer segments in this part:\n",
        "- First one is the customers who have less belief in the Information Page and have a tendency to research more information about the products but finally lead to the not to buy answer. \n",
        "\n",
        "- Instead of that, the part of users who tend to stay in the shopping website after it is derived from the Information page, have more of their belief in the products and tend to pay for it."
      ]
    },
    {
      "attachments": {},
      "cell_type": "markdown",
      "metadata": {},
      "source": [
        "K-means requires the clusters are convex and isotropic, which is not always the case. It responds poorly to elongated clusters, or manifolds with irregular shapes so we recommend using `Hierarchical clustering` which has more options to handle"
      ]
    },
    {
      "attachments": {},
      "cell_type": "markdown",
      "metadata": {},
      "source": [
        "# References"
      ]
    },
    {
      "attachments": {},
      "cell_type": "markdown",
      "metadata": {},
      "source": [
        "[1] Statistic Correlation: https://machinelearningmastery.com/how-to-use-statistics-to-identify-outliers-in-data/ <br>\n",
        "[2] Transform Target: https://scikit-learn.org/stable/modules/compose.html#transforming-target-in-regression <br>\n",
        "[3] Scaling Method: https://ndquy.github.io/posts/cac-phuong-phap-scaling/ <br>\n",
        "[4] Wiki_Chi2: https://en.wikipedia.org/wiki/Chi-squared_test <br>\n",
        "[5] Wiki_PersonalChi2: https://en.wikipedia.org/wiki/Pearson%27s_chi-squared_test <br>\n",
        "[6] Overfitting Confronting: https://towardsdatascience.com/3-techniques-to-avoid-overfitting-of-decision-trees-1e7d3d985a09<br>\n",
        "[7] Unsuppervised Learning Research: https://towardsdatascience.com/unsupervised-learning-and-data-clustering-eeecb78b422a <br>\n",
        "[8] Clustering Coefficient: https://towardsdatascience.com/silhouette-coefficient-validating-clustering-techniques-e976bb81d10c <br>\n",
        "[9] KMean Clustering: https://towardsdatascience.com/kmeans-clustering-for-classification-74b992405d0a <br>"
      ]
    }
  ],
  "metadata": {
    "colab": {
      "provenance": []
    },
    "kernelspec": {
      "display_name": "Python 3",
      "language": "python",
      "name": "python3"
    },
    "language_info": {
      "codemirror_mode": {
        "name": "ipython",
        "version": 3
      },
      "file_extension": ".py",
      "mimetype": "text/x-python",
      "name": "python",
      "nbconvert_exporter": "python",
      "pygments_lexer": "ipython3",
      "version": "3.10.2"
    },
    "vscode": {
      "interpreter": {
        "hash": "92ea70cb9331c87a6e87e6ba829f55a3cff66e051583a0c31932cac77bd3dc7a"
      }
    }
  },
  "nbformat": 4,
  "nbformat_minor": 0
}
